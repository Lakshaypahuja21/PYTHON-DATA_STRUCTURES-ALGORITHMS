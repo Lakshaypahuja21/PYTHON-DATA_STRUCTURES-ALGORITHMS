{
  "nbformat": 4,
  "nbformat_minor": 0,
  "metadata": {
    "colab": {
      "name": "linear search",
      "provenance": [],
      "authorship_tag": "ABX9TyNYGFB3qGzN18Jr3e4xXD9F"
    },
    "kernelspec": {
      "name": "python3",
      "display_name": "Python 3"
    }
  },
  "cells": [
    {
      "cell_type": "code",
      "metadata": {
        "id": "lsaM-Cj_r0bV"
      },
      "source": [
        "def linsearch(arr,x):\n",
        "  for i in range(len(arr)):\n",
        "    if arr[i] == x:\n",
        "      return i\n",
        "  return -1"
      ],
      "execution_count": 20,
      "outputs": []
    },
    {
      "cell_type": "code",
      "metadata": {
        "id": "Tzvfkq4PsJdo"
      },
      "source": [
        "arr = ['q','w','e','r','t','y','u','i','o','p','a','s','d','f','g','h','j','k','l','z','x','c','v','b','n']\n",
        "x = 's'"
      ],
      "execution_count": 26,
      "outputs": []
    },
    {
      "cell_type": "code",
      "metadata": {
        "id": "hsyN0JL4sdoa",
        "outputId": "1542a38d-3b71-4bd4-d56b-9f8e7ddfbd98",
        "colab": {
          "base_uri": "https://localhost:8080/"
        }
      },
      "source": [
        "print(\"element found at \" +str(linsearch(arr,x)))"
      ],
      "execution_count": 30,
      "outputs": [
        {
          "output_type": "stream",
          "text": [
            "element found at -1\n"
          ],
          "name": "stdout"
        }
      ]
    },
    {
      "cell_type": "code",
      "metadata": {
        "id": "keGs5sNZtXNR",
        "outputId": "c7c433e7-75a9-465c-da4d-f134b80c03f2",
        "colab": {
          "base_uri": "https://localhost:8080/"
        }
      },
      "source": [
        "x = 'm'\n",
        "print(\"element found at \" +str(linsearch(arr,x)))"
      ],
      "execution_count": 31,
      "outputs": [
        {
          "output_type": "stream",
          "text": [
            "element found at -1\n"
          ],
          "name": "stdout"
        }
      ]
    }
  ]
}