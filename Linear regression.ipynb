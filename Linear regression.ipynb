{
 "cells": [
  {
   "cell_type": "code",
   "execution_count": 18,
   "source": [
    "import numpy as np"
   ],
   "outputs": [],
   "metadata": {}
  },
  {
   "cell_type": "code",
   "execution_count": 19,
   "source": [
    "data = np.loadtxt(\"data.csv\",delimiter=\",\")"
   ],
   "outputs": [],
   "metadata": {}
  },
  {
   "cell_type": "code",
   "execution_count": 20,
   "source": [
    "data.shape"
   ],
   "outputs": [
    {
     "output_type": "execute_result",
     "data": {
      "text/plain": [
       "(100, 2)"
      ]
     },
     "metadata": {},
     "execution_count": 20
    }
   ],
   "metadata": {}
  },
  {
   "cell_type": "code",
   "execution_count": 21,
   "source": [
    "x = data[:,0].reshape(-1,1)\r\n",
    "y = data[:,1]\r\n",
    "x.shape"
   ],
   "outputs": [
    {
     "output_type": "execute_result",
     "data": {
      "text/plain": [
       "(100, 1)"
      ]
     },
     "metadata": {},
     "execution_count": 21
    }
   ],
   "metadata": {}
  },
  {
   "cell_type": "code",
   "execution_count": 29,
   "source": [
    "from sklearn import model_selection\r\n",
    "x_train, x_test, y_train, y_test = model_selection.train_test_split(x,y)\r\n"
   ],
   "outputs": [],
   "metadata": {}
  },
  {
   "cell_type": "code",
   "execution_count": 23,
   "source": [
    "from sklearn.linear_model import LinearRegression\r\n",
    "classifier = LinearRegression()\r\n",
    "classifier.fit(x_train,y_train)"
   ],
   "outputs": [
    {
     "output_type": "execute_result",
     "data": {
      "text/plain": [
       "LinearRegression()"
      ]
     },
     "metadata": {},
     "execution_count": 23
    }
   ],
   "metadata": {}
  },
  {
   "cell_type": "code",
   "execution_count": 24,
   "source": [
    "classifier.coef_"
   ],
   "outputs": [
    {
     "output_type": "execute_result",
     "data": {
      "text/plain": [
       "array([1.4092529])"
      ]
     },
     "metadata": {},
     "execution_count": 24
    }
   ],
   "metadata": {}
  },
  {
   "cell_type": "code",
   "execution_count": 25,
   "source": [
    "classifier.intercept_"
   ],
   "outputs": [
    {
     "output_type": "execute_result",
     "data": {
      "text/plain": [
       "3.708173655695049"
      ]
     },
     "metadata": {},
     "execution_count": 25
    }
   ],
   "metadata": {}
  },
  {
   "cell_type": "code",
   "execution_count": 26,
   "source": [
    "import matplotlib.pyplot as plt  \r\n",
    "# y = mx+c\r\n",
    "m = classifier.coef_[0]\r\n",
    "c = classifier.intercept_\r\n",
    "\r\n",
    "x_line = np.arange(0,70,0.1)\r\n",
    "y_line = m * x_line + c\r\n",
    "plt.plot(x_line,y_line,\"r\")\r\n",
    "train_1d = x_train.reshape(75)\r\n",
    "plt.scatter(x_train,y_train)\r\n",
    "plt.show()"
   ],
   "outputs": [
    {
     "output_type": "display_data",
     "data": {
      "image/png": "[encoded data removed]",
      "text/plain": [
       "<Figure size 432x288 with 1 Axes>"
      ]
     },
     "metadata": {
      "needs_background": "light"
     }
    }
   ],
   "metadata": {}
  },
  {
   "cell_type": "code",
   "execution_count": 27,
   "source": [
    "import matplotlib.pyplot as plt  \r\n",
    "# y = mx+c\r\n",
    "m = classifier.coef_[0]\r\n",
    "c = classifier.intercept_\r\n",
    "\r\n",
    "x_line = np.arange(0,70,0.1)\r\n",
    "y_line = m * x_line + c\r\n",
    "plt.plot(x_line,y_line,\"r\")\r\n",
    "train_1d = x_test.reshape(25)\r\n",
    "plt.scatter(x_test,y_test)\r\n",
    "plt.show()"
   ],
   "outputs": [
    {
     "output_type": "display_data",
     "data": {
      "image/png": "[encoded data removed]",
      "text/plain": [
       "<Figure size 432x288 with 1 Axes>"
      ]
     },
     "metadata": {
      "needs_background": "light"
     }
    }
   ],
   "metadata": {}
  },
  {
   "cell_type": "code",
   "execution_count": 30,
   "source": [
    "X = data[:,0]\r\n",
    "Y = data[:,1]\r\n",
    "X.shape"
   ],
   "outputs": [
    {
     "output_type": "execute_result",
     "data": {
      "text/plain": [
       "(100,)"
      ]
     },
     "metadata": {},
     "execution_count": 30
    }
   ],
   "metadata": {}
  },
  {
   "cell_type": "code",
   "execution_count": 31,
   "source": [
    "from sklearn import model_selection\r\n",
    "X_train, X_test, Y_train, Y_test = model_selection.train_test_split(X,Y)\r\n",
    "X_train.shape"
   ],
   "outputs": [
    {
     "output_type": "execute_result",
     "data": {
      "text/plain": [
       "(75,)"
      ]
     },
     "metadata": {},
     "execution_count": 31
    }
   ],
   "metadata": {}
  },
  {
   "cell_type": "code",
   "execution_count": 32,
   "source": [
    "def fit(X_train,Y_train):\r\n",
    "    num = (X_train*Y_train).mean() - X_train.mean()*Y_train.mean()\r\n",
    "    den = (X_train**2).mean() - X_train.mean()**2\r\n",
    "    m = num/den\r\n",
    "    c = Y_train.mean() - m* X_train.mean()\r\n",
    "    return m,c"
   ],
   "outputs": [],
   "metadata": {}
  },
  {
   "cell_type": "code",
   "execution_count": 34,
   "source": [
    "def predict(x,m,c):\r\n",
    "    return m*x + c"
   ],
   "outputs": [],
   "metadata": {}
  },
  {
   "cell_type": "code",
   "execution_count": 37,
   "source": [
    "def score(Y_truth,Y_pred):\r\n",
    "    u = ((Y_truth - Y_pred)**2).sum()\r\n",
    "    v = ((Y_truth - Y_truth.mean())**2).sum()\r\n",
    "    return 1- u/v"
   ],
   "outputs": [],
   "metadata": {}
  },
  {
   "cell_type": "code",
   "execution_count": 43,
   "source": [
    "m,c = fit(X_train, Y_train)\r\n",
    "# test data\r\n",
    "Y_test_pred = predict(X_test,m,c)\r\n",
    "print(score(Y_test,Y_test_pred))"
   ],
   "outputs": [
    {
     "output_type": "stream",
     "name": "stdout",
     "text": [
      "0.5886421823415441\n"
     ]
    }
   ],
   "metadata": {}
  },
  {
   "cell_type": "code",
   "execution_count": 42,
   "source": [
    "# train data\r\n",
    "Y_train_pred = predict(X_train,m,c)\r\n",
    "print(score(Y_train,Y_train_pred))"
   ],
   "outputs": [
    {
     "output_type": "stream",
     "name": "stdout",
     "text": [
      "0.5845445402606153\n"
     ]
    }
   ],
   "metadata": {}
  },
  {
   "cell_type": "code",
   "execution_count": 44,
   "source": [
    "print(m,c)"
   ],
   "outputs": [
    {
     "output_type": "stream",
     "name": "stdout",
     "text": [
      "1.2530722726863828 10.50176410657167\n"
     ]
    }
   ],
   "metadata": {}
  },
  {
   "cell_type": "code",
   "execution_count": null,
   "source": [
    " "
   ],
   "outputs": [],
   "metadata": {}
  }
 ],
 "metadata": {
  "orig_nbformat": 4,
  "language_info": {
   "name": "python",
   "version": "3.8.5",
   "mimetype": "text/x-python",
   "codemirror_mode": {
    "name": "ipython",
    "version": 3
   },
   "pygments_lexer": "ipython3",
   "nbconvert_exporter": "python",
   "file_extension": ".py"
  },
  "kernelspec": {
   "name": "python3",
   "display_name": "Python 3.8.5 64-bit ('base': conda)"
  },
  "interpreter": {
   "hash": "8ee6a9f79e3968c81d3ea249f500a9eb1e921d52d0ba845e149129818afae5ec"
  }
 },
 "nbformat": 4,
 "nbformat_minor": 2
}