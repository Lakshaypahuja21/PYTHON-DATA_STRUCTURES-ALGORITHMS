{
 "cells": [
  {
   "cell_type": "markdown",
   "source": [
    "# gradient descent algo"
   ],
   "metadata": {}
  },
  {
   "cell_type": "code",
   "execution_count": 1,
   "source": [
    "import numpy as np"
   ],
   "outputs": [],
   "metadata": {}
  },
  {
   "cell_type": "code",
   "execution_count": 2,
   "source": [
    "data = np.loadtxt(\"data.csv\",delimiter=\",\")\r\n",
    "data.shape"
   ],
   "outputs": [
    {
     "output_type": "execute_result",
     "data": {
      "text/plain": [
       "(100, 2)"
      ]
     },
     "metadata": {},
     "execution_count": 2
    }
   ],
   "metadata": {}
  },
  {
   "cell_type": "code",
   "execution_count": 3,
   "source": [
    "def step_gradient(points,learning_rate,m,c):\r\n",
    "    m_slope = 0\r\n",
    "    c_slope = 0\r\n",
    "    N = len(points)\r\n",
    "    for i in range(N):\r\n",
    "        x = points[i,0]\r\n",
    "        y = points[i,1]\r\n",
    "        m_slope += (-2/N)* (y-m*x-c)*x\r\n",
    "        c_slope += (-2/N)* (y-m*x-c)\r\n",
    "    new_m = m-learning_rate * m_slope\r\n",
    "    new_c = c-learning_rate * c_slope\r\n",
    "    return new_m,new_c\r\n"
   ],
   "outputs": [],
   "metadata": {}
  },
  {
   "cell_type": "code",
   "execution_count": 5,
   "source": [
    "def cost(points,m,c):\r\n",
    "    total_cost = 0\r\n",
    "    N = len(points)\r\n",
    "    for i in range(N):\r\n",
    "        x = points[i,0]\r\n",
    "        y = points[i,1]\r\n",
    "        total_cost += (1/N)*((y-m*x-c)**2)\r\n",
    "    return total_cost\r\n",
    "    "
   ],
   "outputs": [],
   "metadata": {}
  },
  {
   "cell_type": "code",
   "execution_count": 4,
   "source": [
    "def gd(points,learning_rate,num_iterations):\r\n",
    "    m = 0\r\n",
    "    c = 0\r\n",
    "    for i in range(num_iterations):\r\n",
    "        m,c = step_gradient(points,learning_rate,m,c)\r\n",
    "        print(i, \"cost:\",cost(points,m,c))\r\n",
    "    return m,c"
   ],
   "outputs": [],
   "metadata": {}
  },
  {
   "cell_type": "code",
   "execution_count": 6,
   "source": [
    "def run():\r\n",
    "    data = np.loadtxt(\"data.csv\",delimiter=\",\")\r\n",
    "    learning_rate = 0.0001\r\n",
    "    num_iterations = 10\r\n",
    "    m,c = gd(data,learning_rate,num_iterations)\r\n",
    "    print(m,c)"
   ],
   "outputs": [],
   "metadata": {}
  },
  {
   "cell_type": "code",
   "execution_count": 7,
   "source": [
    "run()"
   ],
   "outputs": [
    {
     "output_type": "stream",
     "name": "stdout",
     "text": [
      "0 cost: 1484.5865574086486\n",
      "1 cost: 457.8542575737672\n",
      "2 cost: 199.5099857255389\n",
      "3 cost: 134.50591058200533\n",
      "4 cost: 118.1496934223995\n",
      "5 cost: 114.0341490603815\n",
      "6 cost: 112.99857731713657\n",
      "7 cost: 112.73798187568467\n",
      "8 cost: 112.6723843590911\n",
      "9 cost: 112.65585181499745\n",
      "1.47741737554838 0.029639347874732384\n"
     ]
    }
   ],
   "metadata": {}
  },
  {
   "cell_type": "markdown",
   "source": [
    "# generic gradient descent (mXn) matirx"
   ],
   "metadata": {}
  },
  {
   "cell_type": "code",
   "execution_count": null,
   "source": [],
   "outputs": [],
   "metadata": {}
  }
 ],
 "metadata": {
  "orig_nbformat": 4,
  "language_info": {
   "name": "python",
   "version": "3.8.5",
   "mimetype": "text/x-python",
   "codemirror_mode": {
    "name": "ipython",
    "version": 3
   },
   "pygments_lexer": "ipython3",
   "nbconvert_exporter": "python",
   "file_extension": ".py"
  },
  "kernelspec": {
   "name": "python3",
   "display_name": "Python 3.8.5 64-bit ('base': conda)"
  },
  "interpreter": {
   "hash": "8ee6a9f79e3968c81d3ea249f500a9eb1e921d52d0ba845e149129818afae5ec"
  }
 },
 "nbformat": 4,
 "nbformat_minor": 2
}