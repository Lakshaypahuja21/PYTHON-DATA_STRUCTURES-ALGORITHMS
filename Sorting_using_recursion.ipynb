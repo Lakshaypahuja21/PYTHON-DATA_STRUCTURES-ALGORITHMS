{
  "nbformat": 4,
  "nbformat_minor": 0,
  "metadata": {
    "colab": {
      "name": "Sorting using recursion",
      "provenance": [],
      "authorship_tag": "ABX9TyNirL+ubjcAtlqagxy1JfJk"
    },
    "kernelspec": {
      "name": "python3",
      "display_name": "Python 3"
    }
  },
  "cells": [
    {
      "cell_type": "markdown",
      "metadata": {
        "id": "rDVNR1Sh58c6"
      },
      "source": [
        "#Binary Search"
      ]
    },
    {
      "cell_type": "markdown",
      "metadata": {
        "id": "3us0deLz6BH8"
      },
      "source": [
        "we know recursion works on pmi"
      ]
    },
    {
      "cell_type": "markdown",
      "metadata": {
        "id": "faN_rF4F6GP0"
      },
      "source": [
        "* we have base case when list is empty and its not si == ei instead when si crosses ei i.e si>ei\r\n",
        "* then we assume for mid  \r\n"
      ]
    },
    {
      "cell_type": "code",
      "metadata": {
        "id": "R0muuxBmHe9k",
        "colab": {
          "base_uri": "https://localhost:8080/"
        },
        "outputId": "0ec5e9f1-5d50-4c22-bf02-bba9c7132943"
      },
      "source": [
        "def binarySearch(a,x,si,ei):\r\n",
        "  if si > ei:\r\n",
        "    return -1\r\n",
        "  mid = (si+ei)//2\r\n",
        "  if a[mid] == x:\r\n",
        "    return mid\r\n",
        "  elif a[mid]>x:\r\n",
        "    return binarySearch(a,x,si,mid-1)\r\n",
        "  else:\r\n",
        "    return binarySearch(a,x,mid+1,ei)\r\n",
        "a = [1,2,3,4,5,6,7,7,8,9,11,12,14,15,16]\r\n",
        "x = 12\r\n",
        "l = len(a)\r\n",
        "si = 0\r\n",
        "ei = l-1\r\n",
        "binarySearch(a,x,si,ei)"
      ],
      "execution_count": null,
      "outputs": [
        {
          "output_type": "execute_result",
          "data": {
            "text/plain": [
              "11"
            ]
          },
          "metadata": {
            "tags": []
          },
          "execution_count": 6
        }
      ]
    },
    {
      "cell_type": "markdown",
      "metadata": {
        "id": "-wDWzeZoBvfc"
      },
      "source": [
        "#merge sort"
      ]
    },
    {
      "cell_type": "markdown",
      "metadata": {
        "id": "hkTpOtJnJWCD"
      },
      "source": [
        "* L0 L1 base case"
      ]
    },
    {
      "cell_type": "markdown",
      "metadata": {
        "id": "za7igp-1Jbcc"
      },
      "source": [
        "* <=l-1 sorted is taken\r\n"
      ]
    },
    {
      "cell_type": "code",
      "metadata": {
        "id": "lPXyk3zQA9l0"
      },
      "source": [
        "def merge(a1,a2,a):\r\n",
        "  i = 0\r\n",
        "  j = 0\r\n",
        "  k = 0\r\n",
        "  while i < len(a1) and j < len(a2):\r\n",
        "    if (a1[i]<a2[j]):\r\n",
        "      a[k] = a1[i]\r\n",
        "      k = k+1\r\n",
        "      i = i+1\r\n",
        "    else:\r\n",
        "      a[k] = a2[j]\r\n",
        "      k = k+1\r\n",
        "      j = j+1\r\n",
        "  while i < len(a1):\r\n",
        "    a[k] = a1[i]\r\n",
        "    k = k+1\r\n",
        "    i = i+1\r\n",
        "  while j < len(a2):\r\n",
        "    a[k] = a2[j]\r\n",
        "    k = k+1\r\n",
        "    j = j+1\r\n",
        "def mergesort(a):\r\n",
        "  if len(a) == 0 or len(a) == 1:\r\n",
        "    return \r\n",
        "  mid = len(a)//2\r\n",
        "  a1 = a[0:mid]\r\n",
        "  a2 = a[mid:]\r\n",
        "  mergesort(a1)\r\n",
        "  mergesort(a2)\r\n",
        "  merge(a1,a2,a)"
      ],
      "execution_count": null,
      "outputs": []
    },
    {
      "cell_type": "code",
      "metadata": {
        "colab": {
          "base_uri": "https://localhost:8080/"
        },
        "id": "CS3yynjcMLR9",
        "outputId": "84648041-9f9a-47fb-c0a4-651179a689db"
      },
      "source": [
        "a = [10,5,3,4,7,9,2]\r\n",
        "mergesort(a)\r\n",
        "a"
      ],
      "execution_count": null,
      "outputs": [
        {
          "output_type": "execute_result",
          "data": {
            "text/plain": [
              "[2, 3, 4, 5, 7, 9, 10]"
            ]
          },
          "metadata": {
            "tags": []
          },
          "execution_count": 2
        }
      ]
    },
    {
      "cell_type": "markdown",
      "metadata": {
        "id": "TIK-M8GvMULq"
      },
      "source": [
        "7 len input so middle is 7//2 = 3 so [10,5,3] and [4,7,9,2] then we divide it again 10 and [5,3] then again divide 5 and 3 then we merge it will become 3,5 and then merge 10 3,5,10 same goes with the right side"
      ]
    },
    {
      "cell_type": "markdown",
      "metadata": {
        "id": "84XH1XvXNq-q"
      },
      "source": [
        "#quick sort"
      ]
    },
    {
      "cell_type": "code",
      "metadata": {
        "id": "rUoe3tFNMSWZ"
      },
      "source": [
        ""
      ],
      "execution_count": null,
      "outputs": []
    }
  ]
}