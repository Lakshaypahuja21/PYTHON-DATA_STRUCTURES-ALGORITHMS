{
  "nbformat": 4,
  "nbformat_minor": 0,
  "metadata": {
    "colab": {
      "name": "Second largest in array",
      "provenance": [],
      "authorship_tag": "ABX9TyMc/WlTd03/mXRGqXpbvB7J"
    },
    "kernelspec": {
      "name": "python3",
      "display_name": "Python 3"
    }
  },
  "cells": [
    {
      "cell_type": "markdown",
      "metadata": {
        "id": "PYIdLEhqbb9t"
      },
      "source": [
        "You have been given a random integer array/list(ARR) of size N. You are required to find and return the second largest element present in the array/list.\r\n",
        "\r\n",
        "If N <= 1 or all the elements are same in the array/list then return -2147483648 or -2 ^ 31(It is the smallest value for the range of Integer)\r\n",
        "\r\n",
        "Input format :\r\n",
        "\r\n",
        "The first line contains an Integer 't' which denotes the number of test cases or queries to be run. Then the test cases follow.\r\n",
        "\r\n",
        "The first line of each test case or query contains an integer 'N' representing the size of the array/list.\r\n",
        "\r\n",
        "The second line contains 'N' single space separated integers representing the elements in the array/list.\r\n",
        "\r\n",
        "Output Format :\r\n",
        "\r\n",
        "For each test case, print the second largest in the array/list if exists, -2147483648 otherwise.\r\n",
        "\r\n",
        "Output for every test case will be printed in a separate line."
      ]
    },
    {
      "cell_type": "markdown",
      "metadata": {
        "id": "Vdngv0XWbf-x"
      },
      "source": [
        "Constraints :\r\n",
        "\r\n",
        "1 <= t <= 10^2\r\n",
        "\r\n",
        "0 <= N <= 10^5\r\n",
        "\r\n",
        "Time Limit: 1 sec"
      ]
    },
    {
      "cell_type": "markdown",
      "metadata": {
        "id": "lFOati-ibmWp"
      },
      "source": [
        "Sample Input 1:\r\n",
        "\r\n",
        "1\r\n",
        "\r\n",
        "7\r\n",
        "\r\n",
        "2 13 4 1 3 6 28\r\n",
        "\r\n",
        "Sample Output 1:\r\n",
        "\r\n",
        "13\r\n",
        "\r\n",
        "\r\n",
        "Sample Input 2:\r\n",
        "\r\n",
        "1\r\n",
        "\r\n",
        "5\r\n",
        "\r\n",
        "\r\n",
        "\r\n",
        "\r\n",
        "9 3 6 2 9\r\n",
        "\r\n",
        "Sample Output 2:\r\n",
        "\r\n",
        "6\r\n",
        "\r\n",
        "Sample Input 3:\r\n",
        "\r\n",
        "2\r\n",
        "\r\n",
        "2\r\n",
        "\r\n",
        "6 6\r\n",
        "\r\n",
        "4\r\n",
        "\r\n",
        "90 8 90 5\r\n",
        "\r\n",
        "Sample Output 3:\r\n",
        "\r\n",
        "-2147483648\r\n",
        "\r\n",
        "8"
      ]
    },
    {
      "cell_type": "markdown",
      "metadata": {
        "id": "ATngbVvcXvfQ"
      },
      "source": [
        "method- Selection sort #you can actually use any sorting technique to solve it"
      ]
    },
    {
      "cell_type": "code",
      "metadata": {
        "colab": {
          "base_uri": "https://localhost:8080/"
        },
        "id": "txv2jbBjXxSy",
        "outputId": "dca9901e-9726-4e19-d9a7-413f4a00728a"
      },
      "source": [
        "def SecondLargest(arr):\r\n",
        "  length = len(arr)\r\n",
        "  for i in range(length - 1):\r\n",
        "    minIndex = i\r\n",
        "    for j in range(i+1,length):\r\n",
        "      if(arr[j]<arr[minIndex]):\r\n",
        "        minIndex = j\r\n",
        "    arr[i],arr[minIndex] = arr[minIndex],arr[i]\r\n",
        "  return arr[-2]\r\n",
        "arr = [11,3,44,36,56,5,16,4]\r\n",
        "SecondLargest(arr)"
      ],
      "execution_count": 2,
      "outputs": [
        {
          "output_type": "execute_result",
          "data": {
            "text/plain": [
              "44"
            ]
          },
          "metadata": {
            "tags": []
          },
          "execution_count": 2
        }
      ]
    },
    {
      "cell_type": "code",
      "metadata": {
        "id": "ZXEE9u6xbWvZ",
        "colab": {
          "base_uri": "https://localhost:8080/"
        },
        "outputId": "9cc19ddf-6e61-46ac-c268-2892d3a58160"
      },
      "source": [
        "from sys import stdin\r\n",
        "\r\n",
        "\r\n",
        "def secondLargestElement(arr, n):\r\n",
        "    #Your code goes here\r\n",
        "    length = len(arr)\r\n",
        "    for i in range(length - 1):\r\n",
        "      minIndex = i\r\n",
        "      for j in range(i+1,length):\r\n",
        "        if(arr[j]<arr[minIndex]):\r\n",
        "          minIndex = j\r\n",
        "      arr[i],arr[minIndex] = arr[minIndex],arr[i]\r\n",
        "    return arr[-2]\r\n",
        "#Taking Input Using Fast I/O\r\n",
        "def takeInput() :\r\n",
        "    n = int(input())\r\n",
        "    if n != 0:\r\n",
        "        arr = list(map(int, input().rstrip().split(\" \")))\r\n",
        "        return arr, n\r\n",
        "\r\n",
        "    return list(), 0\r\n",
        "#main\r\n",
        "t = int(input())\r\n",
        "\r\n",
        "while t > 0 : \r\n",
        "    \r\n",
        "    arr, n = takeInput()\r\n",
        "    print(secondLargestElement(arr, n))\r\n",
        "\r\n",
        "    t -= 1"
      ],
      "execution_count": 4,
      "outputs": [
        {
          "output_type": "stream",
          "text": [
            "1\n",
            "5\n",
            "78 54 98 45 88\n",
            "88\n"
          ],
          "name": "stdout"
        }
      ]
    }
  ]
}