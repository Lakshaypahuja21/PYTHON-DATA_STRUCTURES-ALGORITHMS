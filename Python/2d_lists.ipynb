{
  "nbformat": 4,
  "nbformat_minor": 0,
  "metadata": {
    "colab": {
      "name": "2d lists",
      "provenance": [],
      "authorship_tag": "ABX9TyPrM/gpVfmIVQErux5xUMYU"
    },
    "kernelspec": {
      "name": "python3",
      "display_name": "Python 3"
    }
  },
  "cells": [
    {
      "cell_type": "code",
      "metadata": {
        "id": "zFnsQEj4IyX7"
      },
      "source": [
        "li = [[1,2,3,4],[5,6,7,8],[9,10,11,12],[13,14,15,16]]"
      ],
      "execution_count": 1,
      "outputs": []
    },
    {
      "cell_type": "code",
      "metadata": {
        "colab": {
          "base_uri": "https://localhost:8080/"
        },
        "id": "vy9C6D8jS67I",
        "outputId": "7accf9df-382e-474c-d574-2df145450d1e"
      },
      "source": [
        "li[2][3]"
      ],
      "execution_count": 3,
      "outputs": [
        {
          "output_type": "execute_result",
          "data": {
            "text/plain": [
              "12"
            ]
          },
          "metadata": {
            "tags": []
          },
          "execution_count": 3
        }
      ]
    },
    {
      "cell_type": "markdown",
      "metadata": {
        "id": "l_bFvTr3ZfMs"
      },
      "source": [
        "list comprehension"
      ]
    },
    {
      "cell_type": "code",
      "metadata": {
        "colab": {
          "base_uri": "https://localhost:8080/"
        },
        "id": "e4SoZE2HS7ec",
        "outputId": "f70355ff-9fa9-43a1-dd8d-39326768f7e6"
      },
      "source": [
        "li = [1,2,3,4]\r\n",
        "new = []\r\n",
        "for i in li:\r\n",
        "  new.append(i**2)\r\n",
        "print(new)"
      ],
      "execution_count": 4,
      "outputs": [
        {
          "output_type": "stream",
          "text": [
            "[1, 4, 9, 16]\n"
          ],
          "name": "stdout"
        }
      ]
    },
    {
      "cell_type": "code",
      "metadata": {
        "id": "l7AkdVUXZp4w"
      },
      "source": [
        "neww = [i**2 for i in li]"
      ],
      "execution_count": 5,
      "outputs": []
    },
    {
      "cell_type": "code",
      "metadata": {
        "colab": {
          "base_uri": "https://localhost:8080/"
        },
        "id": "PMX4KC_HZvfH",
        "outputId": "41ae9c6b-bcb0-4884-a8bb-fc125c2dd84f"
      },
      "source": [
        "print(neww)"
      ],
      "execution_count": 6,
      "outputs": [
        {
          "output_type": "stream",
          "text": [
            "[1, 4, 9, 16]\n"
          ],
          "name": "stdout"
        }
      ]
    },
    {
      "cell_type": "markdown",
      "metadata": {
        "id": "lDg3RnXvZy9M"
      },
      "source": [
        "syntax is --"
      ]
    },
    {
      "cell_type": "code",
      "metadata": {
        "id": "8uI1Yoa3Zw_e"
      },
      "source": [
        "#  [output   for expression   condition] (any number of condions)"
      ],
      "execution_count": 7,
      "outputs": []
    },
    {
      "cell_type": "code",
      "metadata": {
        "id": "iM7RwJPtZ5ga"
      },
      "source": [
        "newww = [ele**2 for ele in li if ele %2 == 0]"
      ],
      "execution_count": 10,
      "outputs": []
    },
    {
      "cell_type": "code",
      "metadata": {
        "colab": {
          "base_uri": "https://localhost:8080/"
        },
        "id": "eFCaPkWpaGh2",
        "outputId": "c8653884-b97f-424f-b45d-cae76d1254a0"
      },
      "source": [
        "newww"
      ],
      "execution_count": 12,
      "outputs": [
        {
          "output_type": "execute_result",
          "data": {
            "text/plain": [
              "[4, 16]"
            ]
          },
          "metadata": {
            "tags": []
          },
          "execution_count": 12
        }
      ]
    },
    {
      "cell_type": "markdown",
      "metadata": {
        "id": "kz50saiYbSB3"
      },
      "source": [
        "also we can have multiple for loops"
      ]
    },
    {
      "cell_type": "code",
      "metadata": {
        "colab": {
          "base_uri": "https://localhost:8080/"
        },
        "id": "GEUc8a5eaHIA",
        "outputId": "8e853584-ce4c-4d06-fe69-e4da8ed61ed7"
      },
      "source": [
        "li1 = [1,2,3,4]\r\n",
        "li2 = [2,4,6,8]\r\n",
        "li3 = []\r\n",
        "for ele1 in li1:\r\n",
        "  for ele2 in li2:\r\n",
        "    if ele1 == ele2:\r\n",
        "      li3.append(ele1)\r\n",
        "print(li3)\r\n"
      ],
      "execution_count": 13,
      "outputs": [
        {
          "output_type": "stream",
          "text": [
            "[2, 4]\n"
          ],
          "name": "stdout"
        }
      ]
    },
    {
      "cell_type": "code",
      "metadata": {
        "id": "JIEHF6B6btA7"
      },
      "source": [
        "li4 = [ele1 for ele1 in li1 for ele2 in li2 if ele1==ele2]"
      ],
      "execution_count": 14,
      "outputs": []
    },
    {
      "cell_type": "code",
      "metadata": {
        "colab": {
          "base_uri": "https://localhost:8080/"
        },
        "id": "OxSzkpw7cBQ0",
        "outputId": "72d3ad5c-7280-445a-f0cf-20e5674de657"
      },
      "source": [
        "li4"
      ],
      "execution_count": 15,
      "outputs": [
        {
          "output_type": "execute_result",
          "data": {
            "text/plain": [
              "[2, 4]"
            ]
          },
          "metadata": {
            "tags": []
          },
          "execution_count": 15
        }
      ]
    },
    {
      "cell_type": "markdown",
      "metadata": {
        "id": "m-JBg_r9cNIl"
      },
      "source": [
        "if else condition in list comprehension"
      ]
    },
    {
      "cell_type": "code",
      "metadata": {
        "colab": {
          "base_uri": "https://localhost:8080/"
        },
        "id": "tvxRLy7jcBri",
        "outputId": "7275956f-a697-4e91-deb1-98f2d1ff5712"
      },
      "source": [
        "li = [1,2,3,4,5,6,7]\r\n",
        "li2 = [ele**2 if ele%2==0 else ele for ele in li]\r\n",
        "print(li2)"
      ],
      "execution_count": 16,
      "outputs": [
        {
          "output_type": "stream",
          "text": [
            "[1, 4, 3, 16, 5, 36, 7]\n"
          ],
          "name": "stdout"
        }
      ]
    },
    {
      "cell_type": "markdown",
      "metadata": {
        "id": "ZfdvUbSJc-Wk"
      },
      "source": [
        "can work for strings as well"
      ]
    },
    {
      "cell_type": "code",
      "metadata": {
        "id": "LXgCN4-3ceET"
      },
      "source": [
        "s = \"lakshay\"\r\n",
        "li = [char for char in s]"
      ],
      "execution_count": 17,
      "outputs": []
    },
    {
      "cell_type": "code",
      "metadata": {
        "colab": {
          "base_uri": "https://localhost:8080/"
        },
        "id": "5Mkuxy18cx6l",
        "outputId": "f40144d8-27fc-448e-9de6-7056bb7afcd4"
      },
      "source": [
        "li"
      ],
      "execution_count": 19,
      "outputs": [
        {
          "output_type": "execute_result",
          "data": {
            "text/plain": [
              "['l', 'a', 'k', 's', 'h', 'a', 'y']"
            ]
          },
          "metadata": {
            "tags": []
          },
          "execution_count": 19
        }
      ]
    },
    {
      "cell_type": "markdown",
      "metadata": {
        "id": "qQCKjZXvdCDP"
      },
      "source": [
        "can generate lists of lists"
      ]
    },
    {
      "cell_type": "markdown",
      "metadata": {
        "id": "DaBrQzTedjjO"
      },
      "source": [
        "2d list"
      ]
    },
    {
      "cell_type": "code",
      "metadata": {
        "colab": {
          "base_uri": "https://localhost:8080/"
        },
        "id": "jbtIlc6ncyLw",
        "outputId": "117b5957-a248-4e0c-dedc-9940131c6bc0"
      },
      "source": [
        "li = [\"lakshay\",\"jai\",\"shivam\"]\r\n",
        "li_2d = [[char for char in ele]for ele in li]\r\n",
        "li_2d"
      ],
      "execution_count": 20,
      "outputs": [
        {
          "output_type": "execute_result",
          "data": {
            "text/plain": [
              "[['l', 'a', 'k', 's', 'h', 'a', 'y'],\n",
              " ['j', 'a', 'i'],\n",
              " ['s', 'h', 'i', 'v', 'a', 'm']]"
            ]
          },
          "metadata": {
            "tags": []
          },
          "execution_count": 20
        }
      ]
    },
    {
      "cell_type": "markdown",
      "metadata": {
        "id": "ne2Ejm5kgip7"
      },
      "source": [
        "taking inputs"
      ]
    },
    {
      "cell_type": "code",
      "metadata": {
        "colab": {
          "base_uri": "https://localhost:8080/"
        },
        "id": "y0sEPKiKdgpl",
        "outputId": "8864d69f-ed9b-4ff6-cd22-f9a7c497f8f7"
      },
      "source": [
        "str = input().split()\r\n",
        "n,m = int(str[0]), int(str[1])\r\n",
        "li = [[int(j) for j in input().split()] for i in range(n)]"
      ],
      "execution_count": 21,
      "outputs": [
        {
          "output_type": "stream",
          "text": [
            "3 4\n",
            "1 2 3 4\n",
            "5 6 7 8\n",
            "11 12 14 15\n"
          ],
          "name": "stdout"
        }
      ]
    },
    {
      "cell_type": "code",
      "metadata": {
        "colab": {
          "base_uri": "https://localhost:8080/"
        },
        "id": "oXX2TN8sjwZm",
        "outputId": "82b65907-6518-4ea0-d7de-0e6eedd95ede"
      },
      "source": [
        "li"
      ],
      "execution_count": 22,
      "outputs": [
        {
          "output_type": "execute_result",
          "data": {
            "text/plain": [
              "[[1, 2, 3, 4], [5, 6, 7, 8], [11, 12, 14, 15]]"
            ]
          },
          "metadata": {
            "tags": []
          },
          "execution_count": 22
        }
      ]
    },
    {
      "cell_type": "markdown",
      "metadata": {
        "id": "BIVBUZm4j4fe"
      },
      "source": [
        "taking inputs for jaggig lists"
      ]
    },
    {
      "cell_type": "markdown",
      "metadata": {
        "id": "haDc_HwNlVnx"
      },
      "source": [
        "format 1"
      ]
    },
    {
      "cell_type": "code",
      "metadata": {
        "colab": {
          "base_uri": "https://localhost:8080/"
        },
        "id": "a1GfxGrsj0fn",
        "outputId": "2a747d48-7fa3-4c03-d8f5-cf59bbf8c925"
      },
      "source": [
        "n = int(input())\r\n",
        "li = [[int(j) for j in input().split()] for i in range(n)]"
      ],
      "execution_count": 23,
      "outputs": [
        {
          "output_type": "stream",
          "text": [
            "3\n",
            "1 2 3\n",
            "23 \n",
            "5 6 7 8 9 0\n"
          ],
          "name": "stdout"
        }
      ]
    },
    {
      "cell_type": "code",
      "metadata": {
        "colab": {
          "base_uri": "https://localhost:8080/"
        },
        "id": "zvbNTKXqkF0w",
        "outputId": "df7e6d10-a7e7-45b9-bf76-a8a687ba115b"
      },
      "source": [
        "li"
      ],
      "execution_count": 24,
      "outputs": [
        {
          "output_type": "execute_result",
          "data": {
            "text/plain": [
              "[[1, 2, 3], [23], [5, 6, 7, 8, 9, 0]]"
            ]
          },
          "metadata": {
            "tags": []
          },
          "execution_count": 24
        }
      ]
    },
    {
      "cell_type": "markdown",
      "metadata": {
        "id": "biHfVhNVlW_6"
      },
      "source": [
        "format 2"
      ]
    },
    {
      "cell_type": "code",
      "metadata": {
        "colab": {
          "base_uri": "https://localhost:8080/"
        },
        "id": "0Iy-9tp2kJqu",
        "outputId": "8927614f-7530-4342-c1ac-9a101e96a58d"
      },
      "source": [
        "str = input().split()\r\n",
        "n,m = int(str[0]), int(str[1])\r\n",
        "b = input().split()\r\n",
        "arr = [[int(b[m*i+j])for j in range(m)]for i in range(n)]"
      ],
      "execution_count": 2,
      "outputs": [
        {
          "output_type": "stream",
          "text": [
            "3 4\n",
            "1 2 3 4 5 6 7 8 9 99 88 77 66 55\n"
          ],
          "name": "stdout"
        }
      ]
    },
    {
      "cell_type": "code",
      "metadata": {
        "colab": {
          "base_uri": "https://localhost:8080/"
        },
        "id": "mPT32_mJl4dd",
        "outputId": "8a4effce-bb7f-421e-b8c0-471d135c1a91"
      },
      "source": [
        "arr"
      ],
      "execution_count": 3,
      "outputs": [
        {
          "output_type": "execute_result",
          "data": {
            "text/plain": [
              "[[1, 2, 3, 4], [5, 6, 7, 8], [9, 99, 88, 77]]"
            ]
          },
          "metadata": {
            "tags": []
          },
          "execution_count": 3
        }
      ]
    },
    {
      "cell_type": "code",
      "metadata": {
        "colab": {
          "base_uri": "https://localhost:8080/"
        },
        "id": "ttkCFbxQmAMe",
        "outputId": "c42653a5-e34b-4889-c03b-f62b3496ae29"
      },
      "source": [
        "str = input().split()\r\n",
        "n,m = int(str[0]), int(str[1])\r\n",
        "b = str[2:]\r\n",
        "arr = [[int(b[m*i+j])for j in range(m)]for i in range(n)]"
      ],
      "execution_count": 4,
      "outputs": [
        {
          "output_type": "stream",
          "text": [
            "3 4 1 2 3 4 5 6 7 8 9 10 11 12\n"
          ],
          "name": "stdout"
        }
      ]
    },
    {
      "cell_type": "code",
      "metadata": {
        "colab": {
          "base_uri": "https://localhost:8080/"
        },
        "id": "GiR9naUr0FM8",
        "outputId": "8b3e4810-309f-4e59-c371-bc007219e44b"
      },
      "source": [
        "arr"
      ],
      "execution_count": 5,
      "outputs": [
        {
          "output_type": "execute_result",
          "data": {
            "text/plain": [
              "[[1, 2, 3, 4], [5, 6, 7, 8], [9, 10, 11, 12]]"
            ]
          },
          "metadata": {
            "tags": []
          },
          "execution_count": 5
        }
      ]
    },
    {
      "cell_type": "code",
      "metadata": {
        "id": "0FDEfEsYCk26"
      },
      "source": [
        "str = input().split()\r\n",
        "n,m = int(str[0]), int(str[1])\r\n",
        "li = [[int(j) for j in input().split()] for i in range(n)]\r\n",
        "sum = \r\n",
        "print(sum)"
      ],
      "execution_count": null,
      "outputs": []
    }
  ]
}