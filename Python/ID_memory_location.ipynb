{
  "nbformat": 4,
  "nbformat_minor": 0,
  "metadata": {
    "colab": {
      "name": "ID memory location",
      "provenance": [],
      "authorship_tag": "ABX9TyM4bluhIxSuZIoUyMbAOpH1"
    },
    "kernelspec": {
      "name": "python3",
      "display_name": "Python 3"
    }
  },
  "cells": [
    {
      "cell_type": "code",
      "metadata": {
        "colab": {
          "base_uri": "https://localhost:8080/"
        },
        "id": "lTk1PdeJ8bQy",
        "outputId": "da755763-c991-455f-cba0-42a12285a3db"
      },
      "source": [
        "print(\"hello\")\n",
        "print(\"lakshay\")"
      ],
      "execution_count": 22,
      "outputs": [
        {
          "output_type": "stream",
          "text": [
            "hello\n",
            "lakshay\n"
          ],
          "name": "stdout"
        }
      ]
    },
    {
      "cell_type": "code",
      "metadata": {
        "id": "h5ku2vE48ftv"
      },
      "source": [
        "_var = 10"
      ],
      "execution_count": 23,
      "outputs": []
    },
    {
      "cell_type": "code",
      "metadata": {
        "id": "nQQF5U92_AhF"
      },
      "source": [
        "a = 4 + 6j"
      ],
      "execution_count": 24,
      "outputs": []
    },
    {
      "cell_type": "code",
      "metadata": {
        "colab": {
          "base_uri": "https://localhost:8080/"
        },
        "id": "vSOaW5v0AcHF",
        "outputId": "c57589fc-c890-42db-daa6-a496a180f713"
      },
      "source": [
        "print(type(a))"
      ],
      "execution_count": 25,
      "outputs": [
        {
          "output_type": "stream",
          "text": [
            "<class 'complex'>\n"
          ],
          "name": "stdout"
        }
      ]
    },
    {
      "cell_type": "code",
      "metadata": {
        "id": "Kocj1CFcAevo"
      },
      "source": [
        "b = 9 + 9j"
      ],
      "execution_count": 26,
      "outputs": []
    },
    {
      "cell_type": "code",
      "metadata": {
        "colab": {
          "base_uri": "https://localhost:8080/"
        },
        "id": "p1cI6WKQAiBY",
        "outputId": "066ce7bb-2e8b-42ce-d7ac-157cacc83bcf"
      },
      "source": [
        "print(a+b)"
      ],
      "execution_count": 27,
      "outputs": [
        {
          "output_type": "stream",
          "text": [
            "(13+15j)\n"
          ],
          "name": "stdout"
        }
      ]
    },
    {
      "cell_type": "code",
      "metadata": {
        "colab": {
          "base_uri": "https://localhost:8080/"
        },
        "id": "YKBf2dg2Ai-D",
        "outputId": "198586b0-b00b-4dec-e410-3470df55317c"
      },
      "source": [
        "c = 10\n",
        "print(id(c))\n",
        "c = c+1\n",
        "print(id(c))"
      ],
      "execution_count": 28,
      "outputs": [
        {
          "output_type": "stream",
          "text": [
            "10914784\n",
            "10914816\n"
          ],
          "name": "stdout"
        }
      ]
    },
    {
      "cell_type": "markdown",
      "metadata": {
        "id": "EjeflkhsBqoY"
      },
      "source": [
        "Different location bcoz they pointing out to diff locations"
      ]
    },
    {
      "cell_type": "code",
      "metadata": {
        "colab": {
          "base_uri": "https://localhost:8080/"
        },
        "id": "lpI3Ft9oBc26",
        "outputId": "18d19119-fdbd-4cc3-e3f6-360f13d07245"
      },
      "source": [
        "d = 10\n",
        "e = 10\n",
        "print(id(d))\n",
        "print(id(e))"
      ],
      "execution_count": 29,
      "outputs": [
        {
          "output_type": "stream",
          "text": [
            "10914784\n",
            "10914784\n"
          ],
          "name": "stdout"
        }
      ]
    },
    {
      "cell_type": "markdown",
      "metadata": {
        "id": "3JCn7rizBlFe"
      },
      "source": [
        "Same id bcoz they pointing at same location\n",
        "Same storage for 10"
      ]
    },
    {
      "cell_type": "code",
      "metadata": {
        "colab": {
          "base_uri": "https://localhost:8080/"
        },
        "id": "Fk6fPhltBiTx",
        "outputId": "9e1ee4ca-c953-47e1-8701-447e604a1b96"
      },
      "source": [
        "f = 1000\n",
        "g = 1000\n",
        "print(id(f))\n",
        "print(id(g))"
      ],
      "execution_count": 30,
      "outputs": [
        {
          "output_type": "stream",
          "text": [
            "140180083909744\n",
            "140180083909424\n"
          ],
          "name": "stdout"
        }
      ]
    },
    {
      "cell_type": "markdown",
      "metadata": {
        "id": "JoevQShbCRgF"
      },
      "source": [
        "Bcoz there is a range from -5 to 256 to actualy have same storage"
      ]
    },
    {
      "cell_type": "code",
      "metadata": {
        "id": "bgsXvDTBCQEy"
      },
      "source": [
        "a = 10\n",
        "id1 = id(a)\n",
        "b = a + 2-2\n",
        "id2 = id(b)"
      ],
      "execution_count": 31,
      "outputs": []
    },
    {
      "cell_type": "code",
      "metadata": {
        "colab": {
          "base_uri": "https://localhost:8080/"
        },
        "id": "n9olUSyzCn5v",
        "outputId": "fbe740ff-1568-4c3b-a613-be176f1858ba"
      },
      "source": [
        "print(id(a))\n",
        "print(id(b))"
      ],
      "execution_count": 32,
      "outputs": [
        {
          "output_type": "stream",
          "text": [
            "10914784\n",
            "10914784\n"
          ],
          "name": "stdout"
        }
      ]
    }
  ]
}