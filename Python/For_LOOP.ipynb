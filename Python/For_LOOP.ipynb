{
  "nbformat": 4,
  "nbformat_minor": 0,
  "metadata": {
    "colab": {
      "name": "For LOOP",
      "provenance": [],
      "authorship_tag": "ABX9TyNU9RL+DknJDRQQAHo0+be1"
    },
    "kernelspec": {
      "name": "python3",
      "display_name": "Python 3"
    }
  },
  "cells": [
    {
      "cell_type": "code",
      "metadata": {
        "colab": {
          "base_uri": "https://localhost:8080/"
        },
        "id": "X0KmhWJaP345",
        "outputId": "13e3c3b2-7741-4892-8367-0b846af705ce"
      },
      "source": [
        "for i in range(1,5,2):\n",
        "    print(i,end=' ')"
      ],
      "execution_count": null,
      "outputs": [
        {
          "output_type": "stream",
          "text": [
            "1 3 "
          ],
          "name": "stdout"
        }
      ]
    },
    {
      "cell_type": "markdown",
      "metadata": {
        "id": "xjIMbE78uiCh"
      },
      "source": [
        "Prime numbers using while loop #Revision\n"
      ]
    },
    {
      "cell_type": "code",
      "metadata": {
        "colab": {
          "base_uri": "https://localhost:8080/"
        },
        "id": "f-BJCnscxwLI",
        "outputId": "89bea407-9d3f-4ec3-d188-79d3ebe6a9da"
      },
      "source": [
        "n = int(input())\n",
        "flag = False\n",
        "d = 2\n",
        "while d<n:\n",
        "  if n % d ==0:\n",
        "    flag = True\n",
        "  d = d+1\n",
        "if flag:\n",
        "  print(\"not prime\")\n",
        "else:\n",
        "  print(\"prime\")\n"
      ],
      "execution_count": null,
      "outputs": [
        {
          "output_type": "stream",
          "text": [
            "10\n",
            "not prime\n"
          ],
          "name": "stdout"
        }
      ]
    },
    {
      "cell_type": "markdown",
      "metadata": {
        "id": "9v-fTL2gvrLr"
      },
      "source": [
        "Prime number using for loop"
      ]
    },
    {
      "cell_type": "code",
      "metadata": {
        "colab": {
          "base_uri": "https://localhost:8080/"
        },
        "id": "Ino96zUtvtlh",
        "outputId": "8a28d0ab-d125-4c55-da7b-07ca88059f10"
      },
      "source": [
        "n = int(input())\n",
        "flag = False\n",
        "for d in range(2,n,1):\n",
        "  if n % d == 0:\n",
        "    flag = True\n",
        "if flag:\n",
        "  print(\"not prime\")\n",
        "else:\n",
        "  print(\"prime\")"
      ],
      "execution_count": null,
      "outputs": [
        {
          "output_type": "stream",
          "text": [
            "10\n",
            "not prime\n"
          ],
          "name": "stdout"
        }
      ]
    },
    {
      "cell_type": "markdown",
      "metadata": {
        "id": "yULYS6lbzVS5"
      },
      "source": [
        "Pattern"
      ]
    },
    {
      "cell_type": "code",
      "metadata": {
        "colab": {
          "base_uri": "https://localhost:8080/"
        },
        "id": "PFOjBpqaw-f-",
        "outputId": "1e6dd132-913c-4b8c-c179-9985076ce776"
      },
      "source": [
        "n = int(input())\n",
        "for i in range(1,n+1,1):\n",
        "  for s in range(n-i):\n",
        "    print(\" \",end=\"\")\n",
        "  for j in range(i,2*i,1):\n",
        "    print(j,end=\"\")\n",
        "  for j in range(2*i-2,i-1,-1):\n",
        "    print(j,end=\"\")\n",
        "  print()"
      ],
      "execution_count": null,
      "outputs": [
        {
          "output_type": "stream",
          "text": [
            "4\n",
            "   1\n",
            "  232\n",
            " 34543\n",
            "4567654\n"
          ],
          "name": "stdout"
        }
      ]
    },
    {
      "cell_type": "markdown",
      "metadata": {
        "id": "-YqHwGWu8Gq3"
      },
      "source": [
        "Prime with break"
      ]
    },
    {
      "cell_type": "code",
      "metadata": {
        "id": "ZrVORroo0dOb"
      },
      "source": [
        "n = int(input())\n",
        "flag = False\n",
        "for d in range(2,n,1):\n",
        "  if n % d == 0:\n",
        "    flag = True\n",
        "    break\n",
        "if flag:\n",
        "  print(\"not prime\")\n",
        "else:\n",
        "  print(\"prime\")"
      ],
      "execution_count": null,
      "outputs": []
    },
    {
      "cell_type": "markdown",
      "metadata": {
        "id": "5nskpJ4h83cp"
      },
      "source": [
        "Print prime numbers 2 to n"
      ]
    },
    {
      "cell_type": "code",
      "metadata": {
        "colab": {
          "base_uri": "https://localhost:8080/"
        },
        "id": "ghYP0I409k6d",
        "outputId": "5681232f-12c1-4d20-e75d-e0bd60ba0fa3"
      },
      "source": [
        "n = int(input())\n",
        "k = 2\n",
        "while k <= n:\n",
        "  d = 2\n",
        "  flag = False\n",
        "  while d < k:\n",
        "    if k % d == 0:\n",
        "      flag == True\n",
        "      break\n",
        "    d = d + 1\n",
        "  if (not(flag)):\n",
        "    print(k)\n",
        "  k = k+1"
      ],
      "execution_count": null,
      "outputs": [
        {
          "output_type": "stream",
          "text": [
            "11\n",
            "2\n",
            "3\n",
            "4\n",
            "5\n",
            "6\n",
            "7\n",
            "8\n",
            "9\n",
            "10\n",
            "11\n"
          ],
          "name": "stdout"
        }
      ]
    },
    {
      "cell_type": "code",
      "metadata": {
        "colab": {
          "base_uri": "https://localhost:8080/"
        },
        "id": "LhVd2LYTKn1z",
        "outputId": "a779b19c-7eb3-45a4-d094-4ec2271cd114"
      },
      "source": [
        "n = int(input())\n",
        "i = 1\n",
        "while i<=n:\n",
        "  j = 1\n",
        "  while j<=n-i+1:\n",
        "    if i % 2 == 0:\n",
        "      print(\"0\",end=\"\")\n",
        "      j = j+1\n",
        "    else:\n",
        "      print(\"1\",end=\"\")\n",
        "      j = j+1\n",
        "  print()\n",
        "  i = i+1"
      ],
      "execution_count": null,
      "outputs": [
        {
          "output_type": "stream",
          "text": [
            "5\n",
            "11111\n",
            "0000\n",
            "111\n",
            "00\n",
            "1\n"
          ],
          "name": "stdout"
        }
      ]
    },
    {
      "cell_type": "code",
      "metadata": {
        "colab": {
          "base_uri": "https://localhost:8080/"
        },
        "id": "zcP-Me73LDA8",
        "outputId": "17248a2b-52fa-435f-a466-6d3ee03d3821"
      },
      "source": [
        "n = int(input())\n",
        "\n",
        "for i in range(1, n+1 , 1):\n",
        "    for j in range(1, n-i+2, 1):\n",
        "        if i%2 == 1:\n",
        "            print(1, end = '')\n",
        "        else:\n",
        "            print(0, end = '')            \n",
        "        k = k + 1        \n",
        "    print()"
      ],
      "execution_count": null,
      "outputs": [
        {
          "output_type": "stream",
          "text": [
            "5\n",
            "11111\n",
            "0000\n",
            "111\n",
            "00\n",
            "1\n"
          ],
          "name": "stdout"
        }
      ]
    },
    {
      "cell_type": "code",
      "metadata": {
        "colab": {
          "base_uri": "https://localhost:8080/"
        },
        "id": "qOKWLy8RLYuF",
        "outputId": "5db530a9-393a-4a58-fb39-14a42d8ddcbb"
      },
      "source": [
        "n = int(input())\n",
        "for i in range(1,n+1,1):\n",
        "    for spaces in range(1, i, 1):\n",
        "        print(\" \", end ='')\n",
        "    for j in range(i, n+1, 1):\n",
        "        print(j, end = '')\n",
        "    print()\n",
        "for i in range(n, 2*n - 1, 1):\n",
        "    for spaces in range(2*n-i-1, 1, -1):\n",
        "        print(\" \", end = '')\n",
        "    for k in range(2*n-i-1 ,n+1, 1):\n",
        "        print(k, end = '')    \n",
        "    print()"
      ],
      "execution_count": null,
      "outputs": [
        {
          "output_type": "stream",
          "text": [
            "5\n",
            "12345\n",
            " 2345\n",
            "  345\n",
            "   45\n",
            "    5\n",
            "   45\n",
            "  345\n",
            " 2345\n",
            "12345\n"
          ],
          "name": "stdout"
        }
      ]
    }
  ]
}