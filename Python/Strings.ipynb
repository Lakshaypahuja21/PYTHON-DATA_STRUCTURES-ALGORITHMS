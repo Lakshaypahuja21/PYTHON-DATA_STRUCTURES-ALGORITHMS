{
  "nbformat": 4,
  "nbformat_minor": 0,
  "metadata": {
    "colab": {
      "name": "Strings",
      "provenance": [],
      "authorship_tag": "ABX9TyMvBIl7PPC3PV10tv4pkIr5"
    },
    "kernelspec": {
      "name": "python3",
      "display_name": "Python 3"
    }
  },
  "cells": [
    {
      "cell_type": "code",
      "metadata": {
        "colab": {
          "base_uri": "https://localhost:8080/"
        },
        "id": "xP73CVi-78va",
        "outputId": "58158ca5-b484-4f52-d4a1-38385b54f366"
      },
      "source": [
        "a = 'lakshay'\r\n",
        "id(a)"
      ],
      "execution_count": 1,
      "outputs": [
        {
          "output_type": "execute_result",
          "data": {
            "text/plain": [
              "139910724306120"
            ]
          },
          "metadata": {
            "tags": []
          },
          "execution_count": 1
        }
      ]
    },
    {
      "cell_type": "code",
      "metadata": {
        "colab": {
          "base_uri": "https://localhost:8080/"
        },
        "id": "Z11ZZWUj8B14",
        "outputId": "2ac13686-dac2-4681-e0ad-ac395c53aafa"
      },
      "source": [
        "a = 'pahuja'\r\n",
        "id(a)"
      ],
      "execution_count": 2,
      "outputs": [
        {
          "output_type": "execute_result",
          "data": {
            "text/plain": [
              "139910966203256"
            ]
          },
          "metadata": {
            "tags": []
          },
          "execution_count": 2
        }
      ]
    },
    {
      "cell_type": "markdown",
      "metadata": {
        "id": "WjU1dOkd8I8H"
      },
      "source": [
        "same var will have diff id bcox they refering to diff words"
      ]
    },
    {
      "cell_type": "markdown",
      "metadata": {
        "id": "Zsnct7Xz4Awa"
      },
      "source": [
        "Strings are immutable --> cant change"
      ]
    },
    {
      "cell_type": "code",
      "metadata": {
        "id": "cv3Lwhz58EdQ"
      },
      "source": [
        "l = 'lakshay'"
      ],
      "execution_count": 1,
      "outputs": []
    },
    {
      "cell_type": "code",
      "metadata": {
        "colab": {
          "base_uri": "https://localhost:8080/",
          "height": 35
        },
        "id": "PCDxKnOa4Qfr",
        "outputId": "6c1f087f-ecd6-4a37-a9c2-1c07e145eea9"
      },
      "source": [
        "l[1]"
      ],
      "execution_count": 4,
      "outputs": [
        {
          "output_type": "execute_result",
          "data": {
            "application/vnd.google.colaboratory.intrinsic+json": {
              "type": "string"
            },
            "text/plain": [
              "'a'"
            ]
          },
          "metadata": {
            "tags": []
          },
          "execution_count": 4
        }
      ]
    },
    {
      "cell_type": "markdown",
      "metadata": {
        "id": "bZOQhNLB4WHx"
      },
      "source": [
        "you can print the part of string but you cant change"
      ]
    },
    {
      "cell_type": "code",
      "metadata": {
        "colab": {
          "base_uri": "https://localhost:8080/",
          "height": 162
        },
        "id": "riFDSyam4Gkl",
        "outputId": "f5347e85-7be7-44b5-e6a2-f5d956c5510c"
      },
      "source": [
        "l[1] = 'p'"
      ],
      "execution_count": 3,
      "outputs": [
        {
          "output_type": "error",
          "ename": "TypeError",
          "evalue": "ignored",
          "traceback": [
            "\u001b[0;31m---------------------------------------------------------------------------\u001b[0m",
            "\u001b[0;31mTypeError\u001b[0m                                 Traceback (most recent call last)",
            "\u001b[0;32m<ipython-input-3-d43e33e9608c>\u001b[0m in \u001b[0;36m<module>\u001b[0;34m()\u001b[0m\n\u001b[0;32m----> 1\u001b[0;31m \u001b[0ml\u001b[0m\u001b[0;34m[\u001b[0m\u001b[0;36m1\u001b[0m\u001b[0;34m]\u001b[0m \u001b[0;34m=\u001b[0m \u001b[0;34m'p'\u001b[0m\u001b[0;34m\u001b[0m\u001b[0;34m\u001b[0m\u001b[0m\n\u001b[0m",
            "\u001b[0;31mTypeError\u001b[0m: 'str' object does not support item assignment"
          ]
        }
      ]
    },
    {
      "cell_type": "markdown",
      "metadata": {
        "id": "TP977a8p4zpd"
      },
      "source": [
        "concatanation of stings"
      ]
    },
    {
      "cell_type": "code",
      "metadata": {
        "id": "ux7QDdZ14IBT"
      },
      "source": [
        "a = 'red'"
      ],
      "execution_count": 8,
      "outputs": []
    },
    {
      "cell_type": "code",
      "metadata": {
        "id": "f5gviWl64_F8"
      },
      "source": [
        "b = a + 'blue'"
      ],
      "execution_count": 9,
      "outputs": []
    },
    {
      "cell_type": "code",
      "metadata": {
        "colab": {
          "base_uri": "https://localhost:8080/",
          "height": 35
        },
        "id": "12tCp6Ty5BLj",
        "outputId": "0f29b2a6-7eba-4373-b6c7-dae7c26d9595"
      },
      "source": [
        "b"
      ],
      "execution_count": 10,
      "outputs": [
        {
          "output_type": "execute_result",
          "data": {
            "application/vnd.google.colaboratory.intrinsic+json": {
              "type": "string"
            },
            "text/plain": [
              "'redblue'"
            ]
          },
          "metadata": {
            "tags": []
          },
          "execution_count": 10
        }
      ]
    },
    {
      "cell_type": "code",
      "metadata": {
        "id": "RMcZhknV5Baa"
      },
      "source": [
        "b+='red'"
      ],
      "execution_count": 13,
      "outputs": []
    },
    {
      "cell_type": "code",
      "metadata": {
        "colab": {
          "base_uri": "https://localhost:8080/",
          "height": 35
        },
        "id": "hHanTAd25TaC",
        "outputId": "b6300093-082d-43be-ccb7-acc47f0c947e"
      },
      "source": [
        "b"
      ],
      "execution_count": 15,
      "outputs": [
        {
          "output_type": "execute_result",
          "data": {
            "application/vnd.google.colaboratory.intrinsic+json": {
              "type": "string"
            },
            "text/plain": [
              "'redbluered'"
            ]
          },
          "metadata": {
            "tags": []
          },
          "execution_count": 15
        }
      ]
    },
    {
      "cell_type": "code",
      "metadata": {
        "colab": {
          "base_uri": "https://localhost:8080/"
        },
        "id": "aJtKAiSo5UHA",
        "outputId": "6f649ca7-a77f-4b88-d253-0757070fbbbd"
      },
      "source": [
        "id(b)"
      ],
      "execution_count": 16,
      "outputs": [
        {
          "output_type": "execute_result",
          "data": {
            "text/plain": [
              "140158143834544"
            ]
          },
          "metadata": {
            "tags": []
          },
          "execution_count": 16
        }
      ]
    },
    {
      "cell_type": "code",
      "metadata": {
        "id": "rZnFlAe65aVm"
      },
      "source": [
        "b+='yellow'"
      ],
      "execution_count": 17,
      "outputs": []
    },
    {
      "cell_type": "code",
      "metadata": {
        "colab": {
          "base_uri": "https://localhost:8080/",
          "height": 35
        },
        "id": "l85EquyB5dIC",
        "outputId": "2ff22f5d-6bbf-478c-8619-85f948080a01"
      },
      "source": [
        "b"
      ],
      "execution_count": 18,
      "outputs": [
        {
          "output_type": "execute_result",
          "data": {
            "application/vnd.google.colaboratory.intrinsic+json": {
              "type": "string"
            },
            "text/plain": [
              "'redblueredyellow'"
            ]
          },
          "metadata": {
            "tags": []
          },
          "execution_count": 18
        }
      ]
    },
    {
      "cell_type": "code",
      "metadata": {
        "colab": {
          "base_uri": "https://localhost:8080/"
        },
        "id": "CsDU0wFZ5dYI",
        "outputId": "505deb6a-2467-44b5-d8b7-23bb47a20f2f"
      },
      "source": [
        "id(b)"
      ],
      "execution_count": 19,
      "outputs": [
        {
          "output_type": "execute_result",
          "data": {
            "text/plain": [
              "140158011623224"
            ]
          },
          "metadata": {
            "tags": []
          },
          "execution_count": 19
        }
      ]
    },
    {
      "cell_type": "markdown",
      "metadata": {
        "id": "Nc2_71qy5f8x"
      },
      "source": [
        "id different bcoz new refference getting created"
      ]
    },
    {
      "cell_type": "markdown",
      "metadata": {
        "id": "G6f0XWXa5v08"
      },
      "source": [
        "another way of concatanation"
      ]
    },
    {
      "cell_type": "code",
      "metadata": {
        "id": "ZoapC1ez5eML"
      },
      "source": [
        "b = b*3"
      ],
      "execution_count": 23,
      "outputs": []
    },
    {
      "cell_type": "code",
      "metadata": {
        "colab": {
          "base_uri": "https://localhost:8080/",
          "height": 35
        },
        "id": "yB2a6cSi5txK",
        "outputId": "50b397f9-8b87-494f-e341-445b3d036ca0"
      },
      "source": [
        "b"
      ],
      "execution_count": 24,
      "outputs": [
        {
          "output_type": "execute_result",
          "data": {
            "application/vnd.google.colaboratory.intrinsic+json": {
              "type": "string"
            },
            "text/plain": [
              "'redblueredyellowredblueredyellowredblueredyellow'"
            ]
          },
          "metadata": {
            "tags": []
          },
          "execution_count": 24
        }
      ]
    },
    {
      "cell_type": "code",
      "metadata": {
        "colab": {
          "base_uri": "https://localhost:8080/",
          "height": 36
        },
        "id": "GwqOhbZ05t9t",
        "outputId": "c5eca699-c7df-4d69-af4e-f82b2f7a143e"
      },
      "source": [
        "b*1"
      ],
      "execution_count": 25,
      "outputs": [
        {
          "output_type": "execute_result",
          "data": {
            "application/vnd.google.colaboratory.intrinsic+json": {
              "type": "string"
            },
            "text/plain": [
              "'redblueredyellowredblueredyellowredblueredyellow'"
            ]
          },
          "metadata": {
            "tags": []
          },
          "execution_count": 25
        }
      ]
    },
    {
      "cell_type": "code",
      "metadata": {
        "colab": {
          "base_uri": "https://localhost:8080/"
        },
        "id": "_8c1haZ05118",
        "outputId": "c42507b4-3109-40e6-d8f0-b0f68b7c8aba"
      },
      "source": [
        "id(b)"
      ],
      "execution_count": 26,
      "outputs": [
        {
          "output_type": "execute_result",
          "data": {
            "text/plain": [
              "140158011791024"
            ]
          },
          "metadata": {
            "tags": []
          },
          "execution_count": 26
        }
      ]
    },
    {
      "cell_type": "code",
      "metadata": {
        "colab": {
          "base_uri": "https://localhost:8080/",
          "height": 162
        },
        "id": "--iXibEL57i4",
        "outputId": "a84d93d3-09f8-41cc-ddfb-7409e09884c1"
      },
      "source": [
        "b = b + 3"
      ],
      "execution_count": 27,
      "outputs": [
        {
          "output_type": "error",
          "ename": "TypeError",
          "evalue": "ignored",
          "traceback": [
            "\u001b[0;31m---------------------------------------------------------------------------\u001b[0m",
            "\u001b[0;31mTypeError\u001b[0m                                 Traceback (most recent call last)",
            "\u001b[0;32m<ipython-input-27-f8e8401c2a25>\u001b[0m in \u001b[0;36m<module>\u001b[0;34m()\u001b[0m\n\u001b[0;32m----> 1\u001b[0;31m \u001b[0mb\u001b[0m \u001b[0;34m=\u001b[0m \u001b[0mb\u001b[0m \u001b[0;34m+\u001b[0m \u001b[0;36m3\u001b[0m\u001b[0;34m\u001b[0m\u001b[0;34m\u001b[0m\u001b[0m\n\u001b[0m",
            "\u001b[0;31mTypeError\u001b[0m: must be str, not int"
          ]
        }
      ]
    },
    {
      "cell_type": "code",
      "metadata": {
        "id": "fUblOsVL5-AL"
      },
      "source": [
        "b = b + str(3)"
      ],
      "execution_count": 28,
      "outputs": []
    },
    {
      "cell_type": "code",
      "metadata": {
        "colab": {
          "base_uri": "https://localhost:8080/",
          "height": 35
        },
        "id": "C6v79zno6CDT",
        "outputId": "d261c72e-a8d4-4151-b9a2-2ddb975b30f2"
      },
      "source": [
        "b"
      ],
      "execution_count": 29,
      "outputs": [
        {
          "output_type": "execute_result",
          "data": {
            "application/vnd.google.colaboratory.intrinsic+json": {
              "type": "string"
            },
            "text/plain": [
              "'redblueredyellowredblueredyellowredblueredyellow3'"
            ]
          },
          "metadata": {
            "tags": []
          },
          "execution_count": 29
        }
      ]
    },
    {
      "cell_type": "markdown",
      "metadata": {
        "id": "WIELlthTMIgx"
      },
      "source": [
        "slicing is same as that of list"
      ]
    },
    {
      "cell_type": "code",
      "metadata": {
        "colab": {
          "base_uri": "https://localhost:8080/"
        },
        "id": "GOQQQJ5C6Cv6",
        "outputId": "f435e10f-4222-4af3-9e60-f24d8e72d8cc"
      },
      "source": [
        "s = \"abcdef\"\r\n",
        "print (s[4:2:-1])"
      ],
      "execution_count": 30,
      "outputs": [
        {
          "output_type": "stream",
          "text": [
            "ed\n"
          ],
          "name": "stdout"
        }
      ]
    },
    {
      "cell_type": "markdown",
      "metadata": {
        "id": "EQgO8dAtM0Qr"
      },
      "source": [
        "iterating in list"
      ]
    },
    {
      "cell_type": "markdown",
      "metadata": {
        "id": "pDvjuNHGM3OV"
      },
      "source": [
        "method 1 - working on letters "
      ]
    },
    {
      "cell_type": "code",
      "metadata": {
        "colab": {
          "base_uri": "https://localhost:8080/"
        },
        "id": "pCFBbK-iMGla",
        "outputId": "6310f1d9-e949-4219-81b7-5683822e8266"
      },
      "source": [
        "str = 'hello world'\r\n",
        "count = 0\r\n",
        "for letter in str:\r\n",
        "  if (letter =='l'):\r\n",
        "    count += 1\r\n",
        "\r\n",
        "print(count)"
      ],
      "execution_count": 31,
      "outputs": [
        {
          "output_type": "stream",
          "text": [
            "3\n"
          ],
          "name": "stdout"
        }
      ]
    },
    {
      "cell_type": "markdown",
      "metadata": {
        "id": "r-4cSgbvNJiT"
      },
      "source": [
        "method2 - working with indices"
      ]
    },
    {
      "cell_type": "code",
      "metadata": {
        "colab": {
          "base_uri": "https://localhost:8080/"
        },
        "id": "G_NsSTUWNHTw",
        "outputId": "c5cac412-c0b8-4b37-ec05-a8ac1a525b18"
      },
      "source": [
        "str = 'hello world'\r\n",
        "length = len(str)\r\n",
        "count = 0\r\n",
        "for i in range(length):\r\n",
        "  if (str[i] =='l'):\r\n",
        "    count += 1\r\n",
        "\r\n",
        "print(count)"
      ],
      "execution_count": 34,
      "outputs": [
        {
          "output_type": "stream",
          "text": [
            "3\n"
          ],
          "name": "stdout"
        }
      ]
    },
    {
      "cell_type": "markdown",
      "metadata": {
        "id": "32sSVa3VRVbS"
      },
      "source": [
        "# String Palindrome"
      ]
    },
    {
      "cell_type": "markdown",
      "metadata": {
        "id": "EzyiuUlaRZzJ"
      },
      "source": [
        "Given a string, determine if it is a palindrome, considering only alphanumeric characters.\r\n",
        "Palindrome\r\n",
        "\r\n",
        "A palindrome is a word, number, phrase, or other sequences of characters which read the same backwards and forwards.\r\n",
        "\r\n",
        "Example:\r\n",
        "\r\n",
        "If the input string happens to be, \"malayalam\" then as we see that this word can be read the same as forward and backwards, it is said to be a valid palindrome.\r\n",
        "\r\n",
        "The expected output for this example will print, 'true'.\r\n",
        "From that being said, you are required to return a boolean value from the function that has been asked to implement.\r\n",
        "\r\n",
        "Input Format:\r\n",
        "\r\n",
        "The first and only line of input contains a string without any leading and trailing spaces. All the characters in the string would be in lower case.\r\n",
        "\r\n",
        "Output Format:\r\n",
        "\r\n",
        "The only line of output prints either 'true' or 'false'.\r\n",
        "\r\n",
        "Note:\r\n",
        "\r\n",
        "You are not required to print anything. It has already been taken care of.\r\n",
        "\r\n",
        "Constraints:\r\n",
        "\r\n",
        "* 0 <= N <= 10^6\r\n",
        "\r\n",
        "Where N is the length of the input string.\r\n",
        "\r\n",
        "Time Limit: 1 second\r\n",
        "\r\n",
        "Sample Input 1 :\r\n",
        "\r\n",
        "* abcdcba\r\n",
        "\r\n",
        "Sample Output 1 :\r\n",
        "\r\n",
        "* true \r\n",
        "\r\n",
        "Sample Input 2:\r\n",
        "\r\n",
        "* coding\r\n",
        "\r\n",
        "Sample Output 2:\r\n",
        "\r\n",
        "* false"
      ]
    },
    {
      "cell_type": "markdown",
      "metadata": {
        "id": "leYpDwEQV8HU"
      },
      "source": [
        "method 1"
      ]
    },
    {
      "cell_type": "code",
      "metadata": {
        "colab": {
          "base_uri": "https://localhost:8080/"
        },
        "id": "WxgPUmv1SB76",
        "outputId": "3950aa16-303a-4411-86f9-3a35577e7b1c"
      },
      "source": [
        "def isPalindrome(string) :\r\n",
        "\t# Your code goes here\r\n",
        "  if (string[:] == string[::-1]):\r\n",
        "    print(\"ys\")\r\n",
        "  else:\r\n",
        "    print(\"no\")\r\n",
        "\r\n",
        "\r\n",
        "string = 'jahaj'\r\n",
        "isPalindrome(string)"
      ],
      "execution_count": 45,
      "outputs": [
        {
          "output_type": "stream",
          "text": [
            "ys\n"
          ],
          "name": "stdout"
        }
      ]
    },
    {
      "cell_type": "code",
      "metadata": {
        "colab": {
          "base_uri": "https://localhost:8080/"
        },
        "id": "BYDRVNuJNVSv",
        "outputId": "ae35e662-eb72-4cdd-b433-f98eb60a4a68"
      },
      "source": [
        "from sys import stdin\r\n",
        "def isPalindrome(string) :\r\n",
        "  bool = ans\r\n",
        "\t# Your code goes here\r\n",
        "  if (string[:] == string[::-1]):\r\n",
        "    ans\r\n",
        "    \r\n",
        "#main\r\n",
        "string = input().strip();\r\n",
        "ans = isPalindrome(string)\r\n",
        "\r\n",
        "if ans :\r\n",
        "    print('true')\r\n",
        "else :\r\n",
        "    print('false')\r\n",
        "\r\n"
      ],
      "execution_count": 49,
      "outputs": [
        {
          "output_type": "stream",
          "text": [
            "abcba\n",
            "false\n"
          ],
          "name": "stdout"
        }
      ]
    },
    {
      "cell_type": "code",
      "metadata": {
        "colab": {
          "base_uri": "https://localhost:8080/"
        },
        "id": "Lxr_vJN6VU07",
        "outputId": "95a3c57e-27c3-4515-b911-853c77b152a6"
      },
      "source": [
        "a = \"abcdef\" == \"abcd\"\r\n",
        "print(a)"
      ],
      "execution_count": 50,
      "outputs": [
        {
          "output_type": "stream",
          "text": [
            "False\n"
          ],
          "name": "stdout"
        }
      ]
    },
    {
      "cell_type": "code",
      "metadata": {
        "colab": {
          "base_uri": "https://localhost:8080/"
        },
        "id": "U5VYkWNKWIsH",
        "outputId": "9c9f3108-45dd-4cdb-8ae1-ead3bfb755c9"
      },
      "source": [
        "a = \"abcdef\" >= \"abcd\"\r\n",
        "print(a)"
      ],
      "execution_count": 51,
      "outputs": [
        {
          "output_type": "stream",
          "text": [
            "True\n"
          ],
          "name": "stdout"
        }
      ]
    },
    {
      "cell_type": "code",
      "metadata": {
        "colab": {
          "base_uri": "https://localhost:8080/"
        },
        "id": "sVw0K47NWLtf",
        "outputId": "a4880801-6975-419a-85d0-04adce4b0e66"
      },
      "source": [
        "a = \"abce\" >= \"abcdef\"\r\n",
        "print(a)"
      ],
      "execution_count": 52,
      "outputs": [
        {
          "output_type": "stream",
          "text": [
            "True\n"
          ],
          "name": "stdout"
        }
      ]
    },
    {
      "cell_type": "markdown",
      "metadata": {
        "id": "0gL5GOuOoKL9"
      },
      "source": [
        "split funciton"
      ]
    },
    {
      "cell_type": "code",
      "metadata": {
        "colab": {
          "base_uri": "https://localhost:8080/"
        },
        "id": "4wkYX0R8WQdm",
        "outputId": "1a521605-f9c1-4257-cdda-1017116a13ff"
      },
      "source": [
        "str = \"My,name,is,lakshay\"\r\n",
        "li = str.split(',',2)\r\n",
        "print(li)"
      ],
      "execution_count": 58,
      "outputs": [
        {
          "output_type": "stream",
          "text": [
            "['My', 'name', 'is,lakshay']\n"
          ],
          "name": "stdout"
        }
      ]
    },
    {
      "cell_type": "markdown",
      "metadata": {
        "id": "r7Qk6kLXpunR"
      },
      "source": [
        "replace function"
      ]
    },
    {
      "cell_type": "code",
      "metadata": {
        "colab": {
          "base_uri": "https://localhost:8080/"
        },
        "id": "lHvgg1V-oVYY",
        "outputId": "9c1c6e32-88f0-49ea-dc2e-d4afb026b1df"
      },
      "source": [
        "str = \"My name is lakshay\"\r\n",
        "str.replace(\"lakshay\",\"jai\")\r\n",
        "print(str)"
      ],
      "execution_count": 59,
      "outputs": [
        {
          "output_type": "stream",
          "text": [
            "My name is lakshay\n"
          ],
          "name": "stdout"
        }
      ]
    },
    {
      "cell_type": "markdown",
      "metadata": {
        "id": "aQz8k9fiouPi"
      },
      "source": [
        "bcoz strings are immutable so create a new"
      ]
    },
    {
      "cell_type": "code",
      "metadata": {
        "colab": {
          "base_uri": "https://localhost:8080/"
        },
        "id": "O7dLoYPKoiNX",
        "outputId": "2231f450-1a98-42c3-c8d3-afd15d8fea5e"
      },
      "source": [
        "str = \"My name is lakshay\"\r\n",
        "str = str.replace(\"lakshay\",\"jai\")\r\n",
        "print(str)"
      ],
      "execution_count": 60,
      "outputs": [
        {
          "output_type": "stream",
          "text": [
            "My name is jai\n"
          ],
          "name": "stdout"
        }
      ]
    },
    {
      "cell_type": "markdown",
      "metadata": {
        "id": "k4XRoFXWoyor"
      },
      "source": [
        "also"
      ]
    },
    {
      "cell_type": "code",
      "metadata": {
        "colab": {
          "base_uri": "https://localhost:8080/"
        },
        "id": "YzLrk2zeosRk",
        "outputId": "3dcdb52b-95d4-4be5-dfe6-3140d3afaaee"
      },
      "source": [
        "str = \"My name is lakshay lakshay lakshay\"\r\n",
        "str = str.replace(\"lakshay\",\"jai\")\r\n",
        "print(str)"
      ],
      "execution_count": 61,
      "outputs": [
        {
          "output_type": "stream",
          "text": [
            "My name is jai jai jai\n"
          ],
          "name": "stdout"
        }
      ]
    },
    {
      "cell_type": "markdown",
      "metadata": {
        "id": "ej_FCQnKo490"
      },
      "source": [
        "also"
      ]
    },
    {
      "cell_type": "code",
      "metadata": {
        "colab": {
          "base_uri": "https://localhost:8080/"
        },
        "id": "mFKHR38Po3Ih",
        "outputId": "84a42ab2-3fa3-4a78-95cd-a1bd3b60ea5a"
      },
      "source": [
        "str = \"My name is lakshay lakshay lakshay\"\r\n",
        "str = str.replace(\"lakshay\",\"jai\",1)\r\n",
        "print(str)"
      ],
      "execution_count": 62,
      "outputs": [
        {
          "output_type": "stream",
          "text": [
            "My name is jai lakshay lakshay\n"
          ],
          "name": "stdout"
        }
      ]
    },
    {
      "cell_type": "markdown",
      "metadata": {
        "id": "313XwiZlpwdg"
      },
      "source": [
        "find function"
      ]
    },
    {
      "cell_type": "code",
      "metadata": {
        "colab": {
          "base_uri": "https://localhost:8080/"
        },
        "id": "PPsetLk7o6VS",
        "outputId": "79c3afaf-2f09-4700-b076-24620e09924e"
      },
      "source": [
        "str = \"my home is in gurgaon gurgon\"\r\n",
        "index = str.find(\"ho\")\r\n",
        "index2 = str.find(\"gur\") #whoso ever comes first, it will return the index of that\r\n",
        "index3 = str.find(\"gur\",16,27)#also we can specify the range for out find function\r\n",
        "print(index) #it returns the index of starting\r\n",
        "print(index2)\r\n",
        "print(index3)"
      ],
      "execution_count": 68,
      "outputs": [
        {
          "output_type": "stream",
          "text": [
            "3\n",
            "14\n",
            "22\n"
          ],
          "name": "stdout"
        }
      ]
    },
    {
      "cell_type": "markdown",
      "metadata": {
        "id": "yDYjGfWeq5jL"
      },
      "source": [
        "lower & upper functions"
      ]
    },
    {
      "cell_type": "code",
      "metadata": {
        "colab": {
          "base_uri": "https://localhost:8080/"
        },
        "id": "Gk_d1ocup9v9",
        "outputId": "f3266c88-3f88-42a4-baff-2da052c25ccc"
      },
      "source": [
        "str = \"My Name Is Lakshay\"\r\n",
        "str = str.lower() #sly use .upper()\r\n",
        "print(str)\r\n",
        "str = str.upper()\r\n",
        "print(str)"
      ],
      "execution_count": 72,
      "outputs": [
        {
          "output_type": "stream",
          "text": [
            "my name is lakshay\n",
            "MY NAME IS LAKSHAY\n"
          ],
          "name": "stdout"
        }
      ]
    },
    {
      "cell_type": "markdown",
      "metadata": {
        "id": "a1DNjwPBrUpz"
      },
      "source": [
        "starts with function"
      ]
    },
    {
      "cell_type": "code",
      "metadata": {
        "colab": {
          "base_uri": "https://localhost:8080/"
        },
        "id": "efLogcuSq_Cd",
        "outputId": "01f74d9b-2c5f-4a4c-aa92-9b4890cc0ec4"
      },
      "source": [
        "str = \"My Name Is Lakshay\"\r\n",
        "ans = str.startswith(\"La\",11)\r\n",
        "print(ans)"
      ],
      "execution_count": 78,
      "outputs": [
        {
          "output_type": "stream",
          "text": [
            "True\n"
          ],
          "name": "stdout"
        }
      ]
    },
    {
      "cell_type": "markdown",
      "metadata": {
        "id": "H6ab0TOLyc8C"
      },
      "source": [
        "replace character"
      ]
    },
    {
      "cell_type": "code",
      "metadata": {
        "colab": {
          "base_uri": "https://localhost:8080/"
        },
        "id": "NMdNl-6ArhAd",
        "outputId": "bd0b0388-8b6b-42e4-bb6a-23f451347bd4"
      },
      "source": [
        "def replacechar(str,char1,char2):\r\n",
        "  newStr = \"\"\r\n",
        "  for char in str:\r\n",
        "    if (char == char1):\r\n",
        "      newStr += char2\r\n",
        "    else:\r\n",
        "      newStr +=char\r\n",
        "  return newStr\r\n",
        "str = \"lakshaypahuja\"\r\n",
        "str = replacechar(str,'a','d')\r\n",
        "print(str)"
      ],
      "execution_count": 81,
      "outputs": [
        {
          "output_type": "stream",
          "text": [
            "ldkshdypdhujd\n"
          ],
          "name": "stdout"
        }
      ]
    }
  ]
}