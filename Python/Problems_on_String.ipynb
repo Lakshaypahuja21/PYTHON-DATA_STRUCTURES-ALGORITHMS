{
  "nbformat": 4,
  "nbformat_minor": 0,
  "metadata": {
    "colab": {
      "name": "Problems on String",
      "provenance": [],
      "authorship_tag": "ABX9TyNOekHvWLXuDzx9ngrQWI44"
    },
    "kernelspec": {
      "name": "python3",
      "display_name": "Python 3"
    }
  },
  "cells": [
    {
      "cell_type": "markdown",
      "metadata": {
        "id": "d9be-vnUBhMV"
      },
      "source": [
        "# Reverse Each Word\r\n",
        "\r\n",
        "Aadil has been provided with a sentence in the form of a string as a function parameter. The task is to implement a function so as to print the sentence such that each word in the sentence is reversed.\r\n",
        "\r\n",
        "Example:\r\n",
        "\r\n",
        "Input Sentence: \"Hello, I am Aadil!\"\r\n",
        "The expected output will print, \",olleH I ma !lidaA\".\r\n",
        "\r\n",
        "Input Format:\r\n",
        "\r\n",
        "The first and only line of input contains a string without any leading and trailing spaces. The input string represents the sentence given to Aadil.\r\n",
        "\r\n",
        "Output Format:\r\n",
        "\r\n",
        "The only line of output prints the sentence(string) such that each word in the sentence is reversed. \r\n",
        "\r\n",
        "Constraints:\r\n",
        "* 0 <= N <= 10^6\r\n",
        "* Where N is the length of the input string.\r\n",
        "\r\n",
        "Time Limit: 1 second\r\n",
        "\r\n",
        "Sample Input 1:\r\n",
        "* Welcome to Coding pahujas\r\n",
        "\r\n",
        "Sample Output 1:\r\n",
        "* emocleW ot gnidoC sajniN\r\n",
        "\r\n",
        "Sample Input 2:\r\n",
        "* Always indent your code\r\n",
        "\r\n",
        "Sample Output 2:\r\n",
        "* syawlA tnedni ruoy edoc"
      ]
    },
    {
      "cell_type": "code",
      "metadata": {
        "colab": {
          "base_uri": "https://localhost:8080/"
        },
        "id": "ROZL7S-DBsEE",
        "outputId": "c993b561-2b42-46a4-e6d6-2957f053c907"
      },
      "source": [
        "def reverseEachWord(string):\r\n",
        "  li = [string.split()]\r\n",
        "  li2 = []\r\n",
        "  str = \"\"\r\n",
        "  for char in li:\r\n",
        "    for i in char:\r\n",
        "      li2.append(i[::-1])\r\n",
        "  for ele in li2:\r\n",
        "    str += ele\r\n",
        "    str += \" \"\r\n",
        "  print(str)\r\n",
        "    \r\n",
        "#main\r\n",
        "string = input().strip()\r\n",
        "ans = reverseEachWord(string)\r\n"
      ],
      "execution_count": null,
      "outputs": [
        {
          "output_type": "stream",
          "text": [
            "my name is lakshay\n",
            "ym eman si yahskal \n"
          ],
          "name": "stdout"
        }
      ]
    },
    {
      "cell_type": "markdown",
      "metadata": {
        "id": "2r6dbHl1MHdQ"
      },
      "source": [
        "method 2- same just a change in representation"
      ]
    },
    {
      "cell_type": "code",
      "metadata": {
        "colab": {
          "base_uri": "https://localhost:8080/"
        },
        "id": "Om_JB6wqGVWd",
        "outputId": "aa2e3d55-c538-4948-d513-4d82fefab427"
      },
      "source": [
        "def reverseword(s): \r\n",
        "   \r\n",
        "   w = s.split(\" \")        \r\n",
        "                           \r\n",
        "   nw= [i[::-1] for i in w]\r\n",
        "                          \r\n",
        "   ns = \" \".join(nw)\r\n",
        "   return ns\r\n",
        "# Driver's Code \r\n",
        "s = input()\r\n",
        "print(reverseword(s))"
      ],
      "execution_count": null,
      "outputs": [
        {
          "output_type": "stream",
          "text": [
            "welcome to coding pahujas\n",
            "emoclew ot gnidoc sajuhap\n"
          ],
          "name": "stdout"
        }
      ]
    },
    {
      "cell_type": "markdown",
      "metadata": {
        "id": "hSfOpInxMmwj"
      },
      "source": [
        "# Remove Consecutive Duplicates\r\n",
        "\r\n",
        "For a given string(str), remove all the consecutive duplicate characters.\r\n",
        "\r\n",
        "Example:\r\n",
        "\r\n",
        "Input String: \"aaaa\"\r\n",
        "\r\n",
        "Expected Output: \"a\"\r\n",
        "\r\n",
        "Input String: \"aabbbcc\"\r\n",
        "\r\n",
        "Expected Output: \"abc\"\r\n",
        "\r\n",
        "Input Format:\r\n",
        "\r\n",
        "The first and only line of input contains a string without any leading and trailing spaces. All the characters in the string would be in lower case.\r\n",
        "\r\n",
        "Output Format:\r\n",
        "\r\n",
        "The only line of output prints the updated string.\r\n",
        "\r\n",
        "Note:\r\n",
        "\r\n",
        "You are not required to print anything. It has already been taken care of.\r\n",
        "\r\n",
        "Constraints:\r\n",
        "* 0 <= N <= 10^6\r\n",
        "* Where N is the length of the input string.\r\n",
        "\r\n",
        "* Time Limit: 1 second\r\n",
        "\r\n",
        "Sample Input 1:\r\n",
        "* aabccbaa\r\n",
        "\r\n",
        "Sample Output 1:\r\n",
        "* abcba\r\n",
        "\r\n",
        "Sample Input 2:\r\n",
        "* xxyyzxx\r\n",
        "\r\n",
        "Sample Output 2:\r\n",
        "* xyzx"
      ]
    },
    {
      "cell_type": "code",
      "metadata": {
        "colab": {
          "base_uri": "https://localhost:8080/"
        },
        "id": "csbDG2gKM3wt",
        "outputId": "735c6141-c68d-420a-c2ee-76ba6b746835"
      },
      "source": [
        "def duplicate(s1):\r\n",
        "    str1=s1[0]\r\n",
        "    for i in range(1,len(s1)):\r\n",
        "        # for j in range(1,len(s1)):\r\n",
        "        if (s1[i]==str1[-1]):\r\n",
        "            continue\r\n",
        "        else:\r\n",
        "            str1+=s1[i]\r\n",
        "    return str1\r\n",
        "str=input()\r\n",
        "print(duplicate(str))\r\n",
        "from sys import stdin\r\n",
        "def removeConsecutiveDuplicates(string) :\r\n",
        "    chars=list(string)\r\n",
        "    prev= None\r\n",
        "    k=0\r\n",
        "    for char in string:\r\n",
        "        if prev!=char:\r\n",
        "            chars[k]=char\r\n",
        "            prev=char\r\n",
        "            k+=1\r\n",
        "    return ''.join(chars[:k])\r\n",
        "#main\r\n",
        "string = stdin.readline().strip()\r\n",
        "\r\n",
        "ans = removeConsecutiveDuplicates(string)\r\n",
        "\r\n",
        "print(ans)"
      ],
      "execution_count": null,
      "outputs": [
        {
          "output_type": "stream",
          "text": [
            "aaabbccaab\n",
            "abcab\n",
            "\n"
          ],
          "name": "stdout"
        }
      ]
    },
    {
      "cell_type": "markdown",
      "metadata": {
        "id": "xSGs73sYN7yU"
      },
      "source": [
        ""
      ]
    },
    {
      "cell_type": "code",
      "metadata": {
        "id": "Ou_9zhA1fkB6"
      },
      "source": [
        "def duplicate(s1):\r\n",
        "    str1=s1[0]\r\n",
        "    for i in range(1,len(s1)):\r\n",
        "        # for j in range(1,len(s1)):\r\n",
        "        if (s1[i]==str1[-1]):\r\n",
        "            continue\r\n",
        "        else:\r\n",
        "            str1+=s1[i]\r\n",
        "    return str1\r\n",
        "str=input()\r\n",
        "print(duplicate(str))\r\n",
        "from sys import stdin\r\n",
        "def removeConsecutiveDuplicates(string) :\r\n",
        "    chars=list(string)\r\n",
        "    prev= None\r\n",
        "    k=0\r\n",
        "    for char in string:\r\n",
        "        if prev!=char:\r\n",
        "            chars[k]=char\r\n",
        "            prev=char\r\n",
        "            k+=1\r\n",
        "    return ''.join(chars[:k])\r\n",
        "#main\r\n",
        "string = stdin.readline().strip()\r\n",
        "\r\n",
        "ans = removeConsecutiveDuplicates(string)\r\n",
        "\r\n",
        "print(ans)"
      ],
      "execution_count": null,
      "outputs": []
    },
    {
      "cell_type": "markdown",
      "metadata": {
        "id": "NtauHUCCGhB-"
      },
      "source": [
        "#Check Permutation\r\n",
        "For a given two strings, 'str1' and 'str2', check whether they are a permutation of each other or not.\r\n",
        "\r\n",
        "Permutations of each other:\r\n",
        "\r\n",
        "Two strings are said to be a permutation of each other when either of the string's characters can be rearranged so that it becomes identical to the other one.\r\n",
        "\r\n",
        "Example: \r\n",
        "\r\n",
        "str1= \"sinrtg\" \r\n",
        "\r\n",
        "str2 = \"string\"\r\n",
        "\r\n",
        "The character of the first string(str1) can be rearranged to form str2 and hence we can say that the given strings are a permutation of each other.\r\n",
        "\r\n",
        "Input Format:\r\n",
        "\r\n",
        "The first line of input contains a string without any leading and trailing spaces, representing the first string 'str1'.\r\n",
        "\r\n",
        "The second line of input contains a string without any leading and trailing spaces, representing the second string 'str2'.\r\n",
        "\r\n",
        "Note:\r\n",
        "\r\n",
        "All the characters in the input strings would be in lower case.\r\n",
        "\r\n",
        "Output Format:\r\n",
        "\r\n",
        "The only line of output prints either 'true' or 'false', denoting whether the two strings are a permutation of each other or not.\r\n",
        "\r\n",
        "You are not required to print anything. It has already been taken care of. Just implement the function. \r\n",
        "\r\n",
        "Constraints:\r\n",
        "\r\n",
        "* 0 <= N <= 10^6\r\n",
        "* Where N is the length of the input string.\r\n",
        "* Time Limit: 1 second\r\n",
        "\r\n",
        "Sample Input 1:\r\n",
        "* abcde\r\n",
        "* baedc\r\n",
        "\r\n",
        "Sample Output 1:\r\n",
        "* true\r\n",
        "\r\n",
        "Sample Input 2:\r\n",
        "* abc\r\n",
        "* cbd\r\n",
        "\r\n",
        "Sample Output 2:\r\n",
        "* false"
      ]
    },
    {
      "cell_type": "code",
      "metadata": {
        "colab": {
          "base_uri": "https://localhost:8080/"
        },
        "id": "x1PbG8CeCcGN",
        "outputId": "7bd79ad4-ad7b-4954-d9ee-513190208d89"
      },
      "source": [
        "def isPermutation(string1, string2) :\r\n",
        "    n1 = len(string1)\r\n",
        "    n2 = len(string2)\r\n",
        "    if n1 != n2:\r\n",
        "      return False\r\n",
        "    a = sorted(string1)\r\n",
        "    string1 = \"\".join(a)\r\n",
        "    b = sorted(string2)\r\n",
        "    string2 = \"\".join(b)\r\n",
        "    for i in range(n1):\r\n",
        "      if(string1[i]!=string2[i]):\r\n",
        "        return False\r\n",
        "    return True\r\n",
        "        \r\n",
        "\r\n",
        "string1 = \"string\"\r\n",
        "string2 = \"trngis\"\r\n",
        "\r\n",
        "isPermutation(string1, string2)"
      ],
      "execution_count": null,
      "outputs": [
        {
          "output_type": "execute_result",
          "data": {
            "text/plain": [
              "True"
            ]
          },
          "metadata": {
            "tags": []
          },
          "execution_count": 4
        }
      ]
    },
    {
      "cell_type": "markdown",
      "metadata": {
        "id": "J9pYnu8FG1ZH"
      },
      "source": [
        "# Remove character\r\n",
        "\r\n",
        "For a given a string(str) and a character X, write a function to remove all the occurrences of X from the given string.\r\n",
        "The input string will remain unchanged if the given character(X) doesn't exist in the input string.\r\n",
        "\r\n",
        "Input Format:\r\n",
        "\r\n",
        "The first line of input contains a string without any leading and trailing spaces.\r\n",
        "\r\n",
        "The second line of input contains a character(X) without any leading and trailing spaces.\r\n",
        "\r\n",
        "Output Format:\r\n",
        "\r\n",
        "The only line of output prints the updated string. \r\n",
        "\r\n",
        "Note:\r\n",
        "\r\n",
        "You are not required to print anything explicitly. It has already been taken care of.\r\n",
        "\r\n",
        "Constraints:\r\n",
        "* 0 <= N <= 10^6\r\n",
        "* Where N is the length of the input string.\r\n",
        "* Time Limit: 1 second\r\n",
        "\r\n",
        "Sample Input 1:\r\n",
        "* aabccbaa\r\n",
        "* a\r\n",
        "\r\n",
        "Sample Output 1:\r\n",
        "* bccb\r\n",
        "\r\n",
        "Sample Input 2:\r\n",
        "* xxyyzxx\r\n",
        "* y\r\n",
        "\r\n",
        "Sample Output 2:\r\n",
        "* xxzxx"
      ]
    },
    {
      "cell_type": "markdown",
      "metadata": {
        "id": "o22WkVVEHs63"
      },
      "source": [
        "method"
      ]
    },
    {
      "cell_type": "code",
      "metadata": {
        "colab": {
          "base_uri": "https://localhost:8080/"
        },
        "id": "A1PJW4_0Fq8M",
        "outputId": "de042a0b-0add-4df4-977d-591db852fd7f"
      },
      "source": [
        "def removechar(str,char):\r\n",
        "  n = len(str)\r\n",
        "  str2 = \"\"\r\n",
        "  for i in range(n):\r\n",
        "    if str[i]!= char:\r\n",
        "      str2 += str[i]\r\n",
        "  print(str2)\r\n",
        "str = \"aabccbaa\"\r\n",
        "char = \"a\"\r\n",
        "removechar(str,char)"
      ],
      "execution_count": null,
      "outputs": [
        {
          "output_type": "stream",
          "text": [
            "bccb\n"
          ],
          "name": "stdout"
        }
      ]
    },
    {
      "cell_type": "code",
      "metadata": {
        "colab": {
          "base_uri": "https://localhost:8080/"
        },
        "id": "vlr4xOGLHf2-",
        "outputId": "93a187ca-8564-4372-f0ca-cd224dad3b16"
      },
      "source": [
        "def removeAllOccurrencesOfChar(string, ch) :\r\n",
        "\t# Your code goes here\r\n",
        "  n = len(string)\r\n",
        "  str2 = \"\"\r\n",
        "  for i in range(n):\r\n",
        "    if string[i]!= ch:\r\n",
        "      str2 += string[i]\r\n",
        "  return str2\r\n",
        "#main\r\n",
        "string =input().strip()\r\n",
        "ch = input().strip()[0]\r\n",
        "\r\n",
        "ans = removeAllOccurrencesOfChar(string, ch)\r\n",
        "\r\n",
        "print(ans)"
      ],
      "execution_count": null,
      "outputs": [
        {
          "output_type": "stream",
          "text": [
            "aabbccba\n",
            "a\n",
            "bbccb\n"
          ],
          "name": "stdout"
        }
      ]
    },
    {
      "cell_type": "code",
      "metadata": {
        "id": "YVlNHSmRIAWm"
      },
      "source": [
        "def highest(str):\r\n",
        "  n = len(str)\r\n",
        "  for i in range(n):\r\n",
        "    \r\n",
        "\r\n",
        "str = \"abcabaabcaba\"\r\n",
        "highest(str)"
      ],
      "execution_count": null,
      "outputs": []
    }
  ]
}