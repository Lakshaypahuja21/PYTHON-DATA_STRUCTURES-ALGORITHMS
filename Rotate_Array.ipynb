{
  "nbformat": 4,
  "nbformat_minor": 0,
  "metadata": {
    "colab": {
      "name": "Rotate Array",
      "provenance": [],
      "authorship_tag": "ABX9TyN2P5DBkfT/q7ugTiyfUcO7"
    },
    "kernelspec": {
      "name": "python3",
      "display_name": "Python 3"
    }
  },
  "cells": [
    {
      "cell_type": "markdown",
      "metadata": {
        "id": "Vq8Jr7W3a_il"
      },
      "source": [
        "You have been given a random integer array/list(ARR) of size N. Write a function that rotates the given array/list by D elements(towards the left).\r\n",
        "\r\n",
        "Note:\r\n",
        "\r\n",
        "Change in the input array/list itself. You don't need to return or print the elements.\r\n",
        "\r\n",
        "Input format :\r\n",
        "\r\n",
        "The first line contains an Integer 't' which denotes the number of test cases or queries to be run. Then the test cases follow.\r\n",
        "\r\n",
        "First line of each test case or query contains an integer 'N' representing the size of the array/list.\r\n",
        "\r\n",
        "Second line contains 'N' single space separated integers representing the elements in the array/list.\r\n",
        "\r\n",
        "Third line contains the value of 'D' by which the array/list needs to be rotated.\r\n",
        "\r\n",
        "Output Format :\r\n",
        "\r\n",
        "For each test case, print the rotated array/list in a row separated by a single space.\r\n",
        "\r\n",
        "Output for every test case will be printed in a separate line."
      ]
    },
    {
      "cell_type": "markdown",
      "metadata": {
        "id": "EUn5DUwobGPx"
      },
      "source": [
        "Constraints :\r\n",
        "\r\n",
        "1 <= t <= 10^4\r\n",
        "\r\n",
        "0 <= N <= 10^6\r\n",
        "\r\n",
        "0 <= D <= N\r\n",
        "\r\n",
        "Time Limit: 1 sec"
      ]
    },
    {
      "cell_type": "markdown",
      "metadata": {
        "id": "WT1U02dzbJ8_"
      },
      "source": [
        "Sample Input 1:\r\n",
        "\r\n",
        "1\r\n",
        "\r\n",
        "7\r\n",
        "\r\n",
        "1 2 3 4 5 6 7\r\n",
        "\r\n",
        "2\r\n",
        "\r\n",
        "Sample Output 1:\r\n",
        "\r\n",
        "3 4 5 6 7 1 2\r\n",
        "\r\n",
        "Sample Input 2:\r\n",
        "\r\n",
        "2\r\n",
        "\r\n",
        "7\r\n",
        "\r\n",
        "1 2 3 4 5 6 7\r\n",
        "\r\n",
        "0\r\n",
        "\r\n",
        "4\r\n",
        "\r\n",
        "1 2 3 4\r\n",
        "\r\n",
        "2\r\n",
        "\r\n",
        "Sample Output 2:\r\n",
        "\r\n",
        "1 2 3 4 5 6 7\r\n",
        "\r\n",
        "3 4 1 2"
      ]
    },
    {
      "cell_type": "markdown",
      "metadata": {
        "id": "nuHPNHR8UYxT"
      },
      "source": [
        "method 1"
      ]
    },
    {
      "cell_type": "code",
      "metadata": {
        "colab": {
          "base_uri": "https://localhost:8080/"
        },
        "id": "6978Gs5QU80F",
        "outputId": "7814028d-5381-461f-8b27-ceeb01db8981"
      },
      "source": [
        "def RotateArray(arr,d):\r\n",
        "  length = len(arr)\r\n",
        "  a = []\r\n",
        "  b = []\r\n",
        "  for i in range(length):\r\n",
        "    if i<d:\r\n",
        "      b.append(arr[i])\r\n",
        "    else:\r\n",
        "      a.append(arr[i])\r\n",
        "  return a+b\r\n",
        "  \r\n",
        "arr = [1,2,3,4]\r\n",
        "RotateArray(arr,3)"
      ],
      "execution_count": 18,
      "outputs": [
        {
          "output_type": "execute_result",
          "data": {
            "text/plain": [
              "[4, 1, 2, 3]"
            ]
          },
          "metadata": {
            "tags": []
          },
          "execution_count": 18
        }
      ]
    },
    {
      "cell_type": "markdown",
      "metadata": {
        "id": "7WbsPgurXAGA"
      },
      "source": [
        "method 2"
      ]
    },
    {
      "cell_type": "code",
      "metadata": {
        "id": "J7z37Qjxa7Hc",
        "colab": {
          "base_uri": "https://localhost:8080/"
        },
        "outputId": "c2acd902-aef0-49c8-b089-d0620fa4f74e"
      },
      "source": [
        "\r\n",
        "from sys import stdin \r\n",
        "def swapElements(arr, start, end) :\r\n",
        "    arr[start], arr[end] = arr[end], arr[start] \r\n",
        "    \r\n",
        "def reverse(arr, start, end): \r\n",
        "    while(start < end):\r\n",
        "        swapElements(arr, start, end)\r\n",
        "        start += 1\r\n",
        "        end -= 1 \r\n",
        "def rotate(arr, n, d): \r\n",
        "    if n == 0 :\r\n",
        "        return\r\n",
        "    if d >= n and n != 0 :\r\n",
        "        d = d % n\r\n",
        "    reverse(arr, 0, n - 1) \r\n",
        "    reverse(arr, 0, n - d - 1) \r\n",
        "    reverse(arr, n - d, n - 1) \r\n",
        "def takeInput() :\r\n",
        "    n = int(input())\r\n",
        "    if n == 0:\r\n",
        "        return list(), 0 \r\n",
        "    arr = list(map(int, input().rstrip().split(\" \")))\r\n",
        "    return arr, n \r\n",
        "def printList(arr, n) :\r\n",
        "    for i in range(n) : \r\n",
        "        print(arr[i], end = \" \")\r\n",
        "    print()\r\n",
        "\r\n",
        "t = int(input())\r\n",
        "while t > 0 :\r\n",
        "    arr, n = takeInput()\r\n",
        "    d = int(input()) \r\n",
        "    rotate(arr, n, d)\r\n",
        "    printList(arr, n)\r\n",
        "    \r\n",
        "    t -= 1"
      ],
      "execution_count": 20,
      "outputs": [
        {
          "output_type": "stream",
          "text": [
            "1\n",
            "7\n",
            "1 2 3 4 5 6 7\n",
            "2\n",
            "3 4 5 6 7 1 2 \n"
          ],
          "name": "stdout"
        }
      ]
    }
  ]
}