{
  "nbformat": 4,
  "nbformat_minor": 0,
  "metadata": {
    "colab": {
      "name": "Push 0 to END",
      "provenance": [],
      "authorship_tag": "ABX9TyO/d0QRL3+cGFhwF567wOVG"
    },
    "kernelspec": {
      "name": "python3",
      "display_name": "Python 3"
    }
  },
  "cells": [
    {
      "cell_type": "markdown",
      "metadata": {
        "id": "rr_WBm0Cad9a"
      },
      "source": [
        "You have been given a random integer array/list(ARR) of size N. You have been required to push all the zeros that are present in the array/list to the end of it. Also, make sure to maintain the relative order of the non-zero elements.\r\n",
        "\r\n",
        "Note:\r\n",
        "\r\n",
        "Change in the input array/list itself. You don't need to return or print the elements.\r\n",
        "\r\n",
        "You need to do this in one scan of array only. Don't use extra space.\r\n",
        "\r\n",
        "\r\n",
        "Input format :\r\n",
        "\r\n",
        "The first line contains an Integer 't' which denotes the number of test cases or queries to be run. Then the test cases follow.\r\n",
        "\r\n",
        "First line of each test case or query contains an integer 'N' representing the size of the array/list.\r\n",
        "\r\n",
        "Second line contains 'N' single space separated integers representing the elements in the array/list.\r\n",
        "\r\n",
        "Output Format :\r\n",
        "\r\n",
        "For each test case, print the elements of the array/list in the desired order separated by a single space.\r\n",
        "\r\n",
        "Output for every test case will be printed in a separate line."
      ]
    },
    {
      "cell_type": "markdown",
      "metadata": {
        "id": "aixQxE0kaj-g"
      },
      "source": [
        "Constraints :\r\n",
        "\r\n",
        "1 <= t <= 10^2\r\n",
        "\r\n",
        "0 <= N <= 10^5\r\n",
        "\r\n",
        "Time Limit: 1 sec"
      ]
    },
    {
      "cell_type": "markdown",
      "metadata": {
        "id": "6O7heE9HaopA"
      },
      "source": [
        "Sample Input 1:\r\n",
        "\r\n",
        "1\r\n",
        "\r\n",
        "7\r\n",
        "\r\n",
        "2 0 0 1 3 0 0\r\n",
        "\r\n",
        "Sample Output 1:\r\n",
        "\r\n",
        "2 1 3 0 0 0 0\r\n",
        "\r\n",
        " Explanation for the Sample Input 1 :\r\n",
        "\r\n",
        "All the zeros have been pushed towards the end of the array/list. Another important fact is that the order of the non-zero elements have been maintained as they appear in the input array/list.\r\n",
        "\r\n",
        "Sample Input 2:\r\n",
        "\r\n",
        "2\r\n",
        "\r\n",
        "5\r\n",
        "\r\n",
        "0 3 0 2 0\r\n",
        "\r\n",
        "4\r\n",
        "\r\n",
        "9 0 0 8 2\r\n",
        "\r\n",
        "Sample Output 2:\r\n",
        "\r\n",
        "3 2 0 0 0\r\n",
        "\r\n",
        "9 8 2 0 0 "
      ]
    },
    {
      "cell_type": "markdown",
      "metadata": {
        "id": "_VuIRVTGAcQq"
      },
      "source": [
        "Method 1"
      ]
    },
    {
      "cell_type": "code",
      "metadata": {
        "colab": {
          "base_uri": "https://localhost:8080/"
        },
        "id": "KljRVkzcro3M",
        "outputId": "7855f086-274a-4c68-a8ca-d3f338fe6a5c"
      },
      "source": [
        "def pushZerosAtEnd(arr):\r\n",
        "  length = len(arr)\r\n",
        "  l = []\r\n",
        "  m = []\r\n",
        "  for i in range(length):\r\n",
        "    if arr[i] !=0:\r\n",
        "      l.append(arr[i])\r\n",
        "    else:\r\n",
        "      m.append(arr[i])\r\n",
        "  return l+m \r\n",
        "\r\n",
        "\r\n",
        "arr = [3,0,0,2,5,0,1]\r\n",
        "pushZerosAtEnd(arr)"
      ],
      "execution_count": 1,
      "outputs": [
        {
          "output_type": "execute_result",
          "data": {
            "text/plain": [
              "[3, 2, 5, 1, 0, 0, 0]"
            ]
          },
          "metadata": {
            "tags": []
          },
          "execution_count": 1
        }
      ]
    },
    {
      "cell_type": "markdown",
      "metadata": {
        "id": "HhZIwyANAe2l"
      },
      "source": [
        "method 2"
      ]
    },
    {
      "cell_type": "code",
      "metadata": {
        "colab": {
          "base_uri": "https://localhost:8080/"
        },
        "id": "7VroIF2sAQMw",
        "outputId": "80f8b08b-6ede-45c7-dc82-12dc9610ff84"
      },
      "source": [
        "def pushZerosAtEnd(arr) :\r\n",
        "    k = 0 \r\n",
        "    for i in range(len(arr)):\r\n",
        "        if arr[i] != 0 :\r\n",
        "            temp = arr[i] \r\n",
        "            arr[i] = arr[k] \r\n",
        "            arr[k] = temp \r\n",
        "            k=k+1\r\n",
        "    return arr\r\n",
        "arr = [3,0,0,2,5,0,1]\r\n",
        "pushZerosAtEnd(arr)"
      ],
      "execution_count": 4,
      "outputs": [
        {
          "output_type": "execute_result",
          "data": {
            "text/plain": [
              "[3, 2, 5, 1, 0, 0, 0]"
            ]
          },
          "metadata": {
            "tags": []
          },
          "execution_count": 4
        }
      ]
    },
    {
      "cell_type": "code",
      "metadata": {
        "colab": {
          "base_uri": "https://localhost:8080/"
        },
        "id": "ITkWt1jyYE0m",
        "outputId": "881aed2f-b284-42d6-8aba-73ea28e0bb7a"
      },
      "source": [
        "from sys import stdin\r\n",
        "\r\n",
        "def pushZerosAtEnd(arr, n) :\r\n",
        "  nonZero = 0 \r\n",
        "  for i in range(n):\r\n",
        "    if arr[i] != 0 :\r\n",
        "      temp = arr[i] \r\n",
        "      arr[i] = arr[nonZero] \r\n",
        "      arr[nonZero] = temp \r\n",
        "      nonZero += 1\r\n",
        "#Taking Input Using Fast I/O\r\n",
        "def takeInput() :\r\n",
        "    n = int(input())\r\n",
        "\r\n",
        "    if n == 0:\r\n",
        "        return list(), 0\r\n",
        "    \r\n",
        "    arr = list(map(int, input().rstrip().split()))\r\n",
        "    return arr, n\r\n",
        "  \r\n",
        "\r\n",
        "#to print the array/list\r\n",
        "def printList(arr, n) : \r\n",
        "    for i in range(n) :\r\n",
        "        print(arr[i], end = \" \")\r\n",
        "\r\n",
        "    print()\r\n",
        "\r\n",
        "\r\n",
        "#main\r\n",
        "t = int(input())\r\n",
        "\r\n",
        "while t > 0 :\r\n",
        "\r\n",
        "    arr, n = takeInput()\r\n",
        "\r\n",
        "    pushZerosAtEnd(arr, n)\r\n",
        "    printList(arr, n)\r\n",
        "\r\n",
        "    t -= 1"
      ],
      "execution_count": 3,
      "outputs": [
        {
          "output_type": "stream",
          "text": [
            "1\n",
            "7\n",
            "1 0 2 0 1 2 0\n",
            "1 2 1 2 0 0 0 \n"
          ],
          "name": "stdout"
        }
      ]
    }
  ]
}