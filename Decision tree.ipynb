{
  "nbformat": 4,
  "nbformat_minor": 2,
  "metadata": {
    "orig_nbformat": 4,
    "language_info": {
      "name": "python",
      "version": "3.8.5",
      "mimetype": "text/x-python",
      "codemirror_mode": {
        "name": "ipython",
        "version": 3
      },
      "pygments_lexer": "ipython3",
      "nbconvert_exporter": "python",
      "file_extension": ".py"
    },
    "kernelspec": {
      "name": "python3",
      "display_name": "Python 3.8.5 64-bit ('base': conda)"
    },
    "interpreter": {
      "hash": "8ee6a9f79e3968c81d3ea249f500a9eb1e921d52d0ba845e149129818afae5ec"
    },
    "colab": {
      "name": "Decision tree.ipynb",
      "provenance": []
    }
  },
  "cells": [
    {
      "cell_type": "code",
      "execution_count": 1,
      "source": [
        "from sklearn import datasets\r\n",
        "from sklearn.tree import DecisionTreeClassifier\r\n",
        "from sklearn.tree import export_graphviz\r\n",
        "from sklearn.model_selection import train_test_split"
      ],
      "outputs": [],
      "metadata": {
        "id": "a7KriX4_qrRA"
      }
    },
    {
      "cell_type": "code",
      "execution_count": 2,
      "source": [
        "iris = datasets.load_iris()\r\n",
        "x_train, x_test, y_train, y_test = train_test_split(iris.data,iris.target,random_state = 1)"
      ],
      "outputs": [],
      "metadata": {
        "id": "9d17SnXgqrRE"
      }
    },
    {
      "cell_type": "code",
      "execution_count": 3,
      "source": [
        "clf = DecisionTreeClassifier()\r\n",
        "clf.fit(x_train,y_train)"
      ],
      "outputs": [
        {
          "output_type": "execute_result",
          "data": {
            "text/plain": [
              "DecisionTreeClassifier(ccp_alpha=0.0, class_weight=None, criterion='gini',\n",
              "                       max_depth=None, max_features=None, max_leaf_nodes=None,\n",
              "                       min_impurity_decrease=0.0, min_impurity_split=None,\n",
              "                       min_samples_leaf=1, min_samples_split=2,\n",
              "                       min_weight_fraction_leaf=0.0, presort='deprecated',\n",
              "                       random_state=None, splitter='best')"
            ]
          },
          "metadata": {},
          "execution_count": 3
        }
      ],
      "metadata": {
        "colab": {
          "base_uri": "https://localhost:8080/"
        },
        "id": "Fq0qhFD4qrRG",
        "outputId": "e31aa01a-6346-40c1-d8d3-806ba1d8183a"
      }
    },
    {
      "cell_type": "code",
      "execution_count": 9,
      "source": [
        "import pydotplus\n",
        "dot_data = export_graphviz(clf,out_file=None,feature_names=iris.feature_names,class_names=iris.target_names)\n",
        "graph = pydotplus.graph_from_dot_data(dot_data)\n",
        "graph.write_pdf(\"iris.pdf\")"
      ],
      "outputs": [
        {
          "output_type": "execute_result",
          "data": {
            "text/plain": [
              "True"
            ]
          },
          "metadata": {},
          "execution_count": 9
        }
      ],
      "metadata": {
        "colab": {
          "base_uri": "https://localhost:8080/"
        },
        "id": "tSzG9Vc6qrRK",
        "outputId": "79416bb5-cf44-4978-a0d2-54f607733a82"
      }
    },
    {
      "cell_type": "code",
      "execution_count": 5,
      "source": [
        "y_train_pred = clf.predict(x_train)\n",
        "y_test_pred = clf.predict(x_test)"
      ],
      "outputs": [],
      "metadata": {
        "id": "3ph19n2EqrRL"
      }
    },
    {
      "cell_type": "code",
      "execution_count": 6,
      "source": [
        "from sklearn.metrics import confusion_matrix"
      ],
      "outputs": [],
      "metadata": {
        "id": "2oXJat_DqrRL"
      }
    },
    {
      "cell_type": "code",
      "execution_count": 7,
      "source": [
        "confusion_matrix(y_train,y_train_pred)"
      ],
      "outputs": [
        {
          "output_type": "execute_result",
          "data": {
            "text/plain": [
              "array([[37,  0,  0],\n",
              "       [ 0, 34,  0],\n",
              "       [ 0,  0, 41]])"
            ]
          },
          "metadata": {},
          "execution_count": 7
        }
      ],
      "metadata": {
        "colab": {
          "base_uri": "https://localhost:8080/"
        },
        "id": "OVYEc22kqrRM",
        "outputId": "baa20cf5-f388-48a0-b90a-823bcb0f7d2d"
      }
    },
    {
      "cell_type": "code",
      "execution_count": 8,
      "source": [
        "confusion_matrix(y_test,y_test_pred)"
      ],
      "outputs": [
        {
          "output_type": "execute_result",
          "data": {
            "text/plain": [
              "array([[13,  0,  0],\n",
              "       [ 0, 15,  1],\n",
              "       [ 0,  0,  9]])"
            ]
          },
          "metadata": {},
          "execution_count": 8
        }
      ],
      "metadata": {
        "colab": {
          "base_uri": "https://localhost:8080/"
        },
        "id": "n-aWVZFvqrRN",
        "outputId": "fe837bc0-39a1-4223-fc46-6b41eebdd3dc"
      }
    },
    {
      "cell_type": "code",
      "execution_count": null,
      "source": [],
      "outputs": [],
      "metadata": {
        "id": "v8AQ3jCFqrRP"
      }
    }
  ]
}