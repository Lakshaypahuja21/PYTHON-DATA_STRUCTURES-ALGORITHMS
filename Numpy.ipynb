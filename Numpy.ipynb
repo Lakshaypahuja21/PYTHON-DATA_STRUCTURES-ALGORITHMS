{
  "nbformat": 4,
  "nbformat_minor": 0,
  "metadata": {
    "colab": {
      "name": "Lakshay_Pahuja_1800231C203_Numpy.ipynb",
      "provenance": []
    },
    "kernelspec": {
      "name": "python3",
      "display_name": "Python 3"
    }
  },
  "cells": [
    {
      "cell_type": "code",
      "metadata": {
        "id": "STkO4SsAw9F8"
      },
      "source": [
        "import numpy as np\n",
        "from PIL import Image"
      ],
      "execution_count": null,
      "outputs": []
    },
    {
      "cell_type": "markdown",
      "metadata": {
        "id": "Tids_IfoD3Oe"
      },
      "source": [
        "1. Remove those elements from one array that exist in another array? (without loop)"
      ]
    },
    {
      "cell_type": "code",
      "metadata": {
        "id": "7RERbNQiv_cq",
        "colab": {
          "base_uri": "https://localhost:8080/",
          "height": 50
        },
        "outputId": "588d0a4b-a023-45d8-c1e7-2d6000ee5fd8"
      },
      "source": [
        "a = np.array([1,2,3,4,5])\n",
        "b = np.array([5,6,7,8,9])\n",
        "\n",
        "c1 = np.array(list(filter(lambda x: x not in a, b)))\n",
        "c2 = np.array(list(filter(lambda x: x not in a, b)))\n",
        "print(c1)\n",
        "print(c2)"
      ],
      "execution_count": null,
      "outputs": [
        {
          "output_type": "stream",
          "text": [
            "[6 7 8 9]\n",
            "[6 7 8 9]\n"
          ],
          "name": "stdout"
        }
      ]
    },
    {
      "cell_type": "markdown",
      "metadata": {
        "id": "R7TkhiK2D98A"
      },
      "source": [
        "2. Get the positions where elements of 2 arrays match? (Without Loop)\n"
      ]
    },
    {
      "cell_type": "code",
      "metadata": {
        "id": "56C9rov0w9Yj",
        "colab": {
          "base_uri": "https://localhost:8080/",
          "height": 34
        },
        "outputId": "aaa11799-fe41-48c6-b96b-ae2dc2b3047f"
      },
      "source": [
        "a = np.array([1,2,3,2,3,4,3,4,5,6])\n",
        "b = np.array([7,2,10,2,7,4,9,4,9,8])\n",
        "\n",
        "print(np.where(a==b))"
      ],
      "execution_count": null,
      "outputs": [
        {
          "output_type": "stream",
          "text": [
            "(array([1, 3, 5, 7]),)\n"
          ],
          "name": "stdout"
        }
      ]
    },
    {
      "cell_type": "markdown",
      "metadata": {
        "id": "MnZbc8BEEB-3"
      },
      "source": [
        "3. Reverse the rows of the nxn array? (Without Loop)\n"
      ]
    },
    {
      "cell_type": "code",
      "metadata": {
        "id": "OkRQ5X-6yMpx",
        "colab": {
          "base_uri": "https://localhost:8080/",
          "height": 84
        },
        "outputId": "e658a69b-4a9a-41fa-d70a-faed6b135eda"
      },
      "source": [
        "a = np.array([[1,2,3,4], \n",
        "              [2,3,4,5], \n",
        "              [3,4,5,6], \n",
        "              [4,5,6,7]])\n",
        "\n",
        "print(np.flip(a, axis=1))"
      ],
      "execution_count": null,
      "outputs": [
        {
          "output_type": "stream",
          "text": [
            "[[4 3 2 1]\n",
            " [5 4 3 2]\n",
            " [6 5 4 3]\n",
            " [7 6 5 4]]\n"
          ],
          "name": "stdout"
        }
      ]
    },
    {
      "cell_type": "markdown",
      "metadata": {
        "id": "5lGm9VAIEE6h"
      },
      "source": [
        "4. Normalize the values of the numpy array (i.e it means each element should be between 0 & 1 ) ? (without loop)"
      ]
    },
    {
      "cell_type": "code",
      "metadata": {
        "id": "QYAhTGGX3jzD",
        "colab": {
          "base_uri": "https://localhost:8080/",
          "height": 34
        },
        "outputId": "fbb7ddc0-485b-43fa-b34a-787b109481e5"
      },
      "source": [
        "a = np.array([26,34,32,16,33,27])\n",
        "a = (a - a.min()) / (a.max() - a.min())\n",
        "print(a)"
      ],
      "execution_count": null,
      "outputs": [
        {
          "output_type": "stream",
          "text": [
            "[0.55555556 1.         0.88888889 0.         0.94444444 0.61111111]\n"
          ],
          "name": "stdout"
        }
      ]
    },
    {
      "cell_type": "markdown",
      "metadata": {
        "id": "6QDupZ3REITi"
      },
      "source": [
        "5. Replace all the missing values of the numpy array with 0? (without loop)\n"
      ]
    },
    {
      "cell_type": "code",
      "metadata": {
        "id": "Qs4g7oex33r7",
        "colab": {
          "base_uri": "https://localhost:8080/",
          "height": 34
        },
        "outputId": "6c64db0d-f8bd-4216-c48e-f140d438fc61"
      },
      "source": [
        "a = np.array([1,2,np.nan, 3,4,5, np.nan, 7, np.nan])\n",
        "a[np.isnan(a)] = 0\n",
        "print(a)"
      ],
      "execution_count": null,
      "outputs": [
        {
          "output_type": "stream",
          "text": [
            "[1. 2. 0. 3. 4. 5. 0. 7. 0.]\n"
          ],
          "name": "stdout"
        }
      ]
    },
    {
      "cell_type": "markdown",
      "metadata": {
        "id": "LVngvKDpEMoP"
      },
      "source": [
        "6. Convert an Array of arrays to flat 1D array? (with loop and without loop)\n"
      ]
    },
    {
      "cell_type": "code",
      "metadata": {
        "id": "HY3dvWl16KJ1",
        "colab": {
          "base_uri": "https://localhost:8080/",
          "height": 34
        },
        "outputId": "e5ffb08f-3933-4c7b-c86c-60f19aa9357b"
      },
      "source": [
        "array_of_arrays = np.array([[0,1,2], [3,4,5], [6,7,8]])\n",
        "array_of_arrays.reshape(-1)"
      ],
      "execution_count": null,
      "outputs": [
        {
          "output_type": "execute_result",
          "data": {
            "text/plain": [
              "array([0, 1, 2, 3, 4, 5, 6, 7, 8])"
            ]
          },
          "metadata": {
            "tags": []
          },
          "execution_count": 78
        }
      ]
    },
    {
      "cell_type": "markdown",
      "metadata": {
        "id": "ho_YEi0_ESoB"
      },
      "source": [
        "7. Convert PIL Image to Numpy Array and Vice versa? (Important question and Do try it)"
      ]
    },
    {
      "cell_type": "code",
      "metadata": {
        "id": "hVPJ9o0R9Nx9",
        "colab": {
          "base_uri": "https://localhost:8080/",
          "height": 67
        },
        "outputId": "86ea129d-be20-48b5-c728-41bd98245d42"
      },
      "source": [
        "a = Image.open('/BalloonImage.png')\n",
        "print(type(a))\n",
        "\n",
        "a = np.asarray(a)\n",
        "print(type(a))\n",
        "\n",
        "a = Image.fromarray(a.astype('uint8'), 'RGB')\n",
        "print(type(a))"
      ],
      "execution_count": null,
      "outputs": [
        {
          "output_type": "stream",
          "text": [
            "<class 'PIL.PngImagePlugin.PngImageFile'>\n",
            "<class 'numpy.ndarray'>\n",
            "<class 'PIL.Image.Image'>\n"
          ],
          "name": "stdout"
        }
      ]
    },
    {
      "cell_type": "markdown",
      "metadata": {
        "id": "eB06gq2AEUuJ"
      },
      "source": [
        "8. Compute Euclidean Distance bw 2 arrays ? (without using inbuilt function i.e do not use np.linalg.norm)"
      ]
    },
    {
      "cell_type": "code",
      "metadata": {
        "id": "kmrOwXNzCLBO",
        "colab": {
          "base_uri": "https://localhost:8080/",
          "height": 34
        },
        "outputId": "959a9a31-b61f-4c28-9720-26bd10cefd74"
      },
      "source": [
        "a = np.array([1, 0, 5])\n",
        "b = np.array([0, 1, 5])\n",
        "\n",
        "c = np.sqrt(np.sum(((a - b) ** 2)))\n",
        "print(c)"
      ],
      "execution_count": null,
      "outputs": [
        {
          "output_type": "stream",
          "text": [
            "1.4142135623730951\n"
          ],
          "name": "stdout"
        }
      ]
    },
    {
      "cell_type": "code",
      "metadata": {
        "id": "9rvu6ekaDo6u"
      },
      "source": [
        ""
      ],
      "execution_count": null,
      "outputs": []
    }
  ]
}