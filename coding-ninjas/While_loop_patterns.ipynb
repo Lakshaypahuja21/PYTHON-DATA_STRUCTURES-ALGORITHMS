{
  "nbformat": 4,
  "nbformat_minor": 0,
  "metadata": {
    "colab": {
      "name": "While loop patterns",
      "provenance": [],
      "authorship_tag": "ABX9TyN+dygeEcYKQiGJNZd9PDat"
    },
    "kernelspec": {
      "name": "python3",
      "display_name": "Python 3"
    }
  },
  "cells": [
    {
      "cell_type": "markdown",
      "metadata": {
        "id": "VkOoO-sIvkMj"
      },
      "source": [
        "Square patterns"
      ]
    },
    {
      "cell_type": "code",
      "metadata": {
        "colab": {
          "base_uri": "https://localhost:8080/"
        },
        "id": "J0Bc8dm2h4Ef",
        "outputId": "ed63004c-699f-4b23-fdc9-be7aa27c5f50"
      },
      "source": [
        "n = int(input())\n",
        "i = 1\n",
        "while i<=n:\n",
        "    j = 1\n",
        "    while j<=n:\n",
        "        print(n, end='')\n",
        "        j = j+1\n",
        "    print()\n",
        "    i = i+1"
      ],
      "execution_count": null,
      "outputs": [
        {
          "output_type": "stream",
          "text": [
            "7\n",
            "7777777\n",
            "7777777\n",
            "7777777\n",
            "7777777\n",
            "7777777\n",
            "7777777\n",
            "7777777\n"
          ],
          "name": "stdout"
        }
      ]
    },
    {
      "cell_type": "code",
      "metadata": {
        "colab": {
          "base_uri": "https://localhost:8080/"
        },
        "id": "IxFMhsjeiBV_",
        "outputId": "e6b54178-500b-4fff-937e-d6d36d88a899"
      },
      "source": [
        "n = int(input())\n",
        "i = 1\n",
        "while i<=n:\n",
        "  j=1\n",
        "  while j<=n:\n",
        "    print(j,end='')\n",
        "    j=j+1\n",
        "  print()\n",
        "  i=i+1\n"
      ],
      "execution_count": null,
      "outputs": [
        {
          "output_type": "stream",
          "text": [
            "4\n",
            "1234\n",
            "1234\n",
            "1234\n",
            "1234\n"
          ],
          "name": "stdout"
        }
      ]
    },
    {
      "cell_type": "code",
      "metadata": {
        "colab": {
          "base_uri": "https://localhost:8080/"
        },
        "id": "sNULKgMpn355",
        "outputId": "1cceb837-df09-4ebe-f369-6edb1607f1fb"
      },
      "source": [
        "n = int(input())\n",
        "i = 1\n",
        "while i<=n:\n",
        "  j=1\n",
        "  while j<=n:\n",
        "    print(i,end='')\n",
        "    j=j+1\n",
        "  print()\n",
        "  i=i+1"
      ],
      "execution_count": null,
      "outputs": [
        {
          "output_type": "stream",
          "text": [
            "4\n",
            "1111\n",
            "2222\n",
            "3333\n",
            "4444\n"
          ],
          "name": "stdout"
        }
      ]
    },
    {
      "cell_type": "code",
      "metadata": {
        "colab": {
          "base_uri": "https://localhost:8080/"
        },
        "id": "e-4o_dWmu4wM",
        "outputId": "08d06e5f-26f3-4318-d7a6-9576279c5bd6"
      },
      "source": [
        "n = int(input())\n",
        "i = 1\n",
        "while i<=n:\n",
        "  j=1\n",
        "  while j<=n:\n",
        "    print(n-j+1,end='')\n",
        "    j=j+1\n",
        "  print()\n",
        "  i=i+1"
      ],
      "execution_count": null,
      "outputs": [
        {
          "output_type": "stream",
          "text": [
            "4\n",
            "4321\n",
            "4321\n",
            "4321\n",
            "4321\n"
          ],
          "name": "stdout"
        }
      ]
    },
    {
      "cell_type": "markdown",
      "metadata": {
        "id": "luJRleu4voKq"
      },
      "source": [
        "Triangle patterns"
      ]
    },
    {
      "cell_type": "code",
      "metadata": {
        "colab": {
          "base_uri": "https://localhost:8080/"
        },
        "id": "3oP9rpTju5zW",
        "outputId": "17715508-3c0a-4890-fc69-dd8826adca5c"
      },
      "source": [
        "n = int(input())\n",
        "i = 1\n",
        "while i<=n:\n",
        "  j = 1\n",
        "  while j<=i:\n",
        "    print(j,end=\"\")\n",
        "    j=j+1\n",
        "  print()\n",
        "  i = i+1"
      ],
      "execution_count": null,
      "outputs": [
        {
          "output_type": "stream",
          "text": [
            "4\n",
            "1\n",
            "12\n",
            "123\n",
            "1234\n"
          ],
          "name": "stdout"
        }
      ]
    },
    {
      "cell_type": "code",
      "metadata": {
        "colab": {
          "base_uri": "https://localhost:8080/"
        },
        "id": "jAR0dwARxFrM",
        "outputId": "f77500c8-711b-46fe-ad92-9ba183dbb1ac"
      },
      "source": [
        "n = int(input())\n",
        "i = 1\n",
        "while i<=n:\n",
        "  j = 1\n",
        "  p = i\n",
        "  while j<=i:\n",
        "    print(p,end=\"\")\n",
        "    j=j+1\n",
        "    p=p+1\n",
        "  print()\n",
        "  i = i+1"
      ],
      "execution_count": null,
      "outputs": [
        {
          "output_type": "stream",
          "text": [
            "5\n",
            "1\n",
            "23\n",
            "345\n",
            "4567\n",
            "56789\n"
          ],
          "name": "stdout"
        }
      ]
    },
    {
      "cell_type": "code",
      "metadata": {
        "colab": {
          "base_uri": "https://localhost:8080/"
        },
        "id": "5GrF9Ecj00Jr",
        "outputId": "fee2b7a7-60a4-4686-fa93-30bce19f3150"
      },
      "source": [
        "n = int(input())\n",
        "i = 1\n",
        "p = 1\n",
        "while i<=n:\n",
        "  j = 1\n",
        "  while j<=i:\n",
        "    j = j+1\n",
        "    print(p,end=\"\")\n",
        "    p = p+1\n",
        "    j=j+1\n",
        "  print()\n",
        "  i = i+1"
      ],
      "execution_count": null,
      "outputs": [
        {
          "output_type": "stream",
          "text": [
            "5\n",
            "1\n",
            "2\n",
            "34\n",
            "56\n",
            "789\n"
          ],
          "name": "stdout"
        }
      ]
    },
    {
      "cell_type": "code",
      "metadata": {
        "colab": {
          "base_uri": "https://localhost:8080/"
        },
        "id": "fUvzdmIA1kCq",
        "outputId": "4485371e-bc2d-4561-e999-9e0a9e207f53"
      },
      "source": [
        "n = int(input())\n",
        "i = 1\n",
        "while i<=n:\n",
        "  j = 1\n",
        "  while j<=i:\n",
        "    print(\"*\",end=\"\")\n",
        "    j = j+1\n",
        "  print()\n",
        "  i = i+1"
      ],
      "execution_count": null,
      "outputs": [
        {
          "output_type": "stream",
          "text": [
            "4\n",
            "*\n",
            "**\n",
            "***\n",
            "****\n"
          ],
          "name": "stdout"
        }
      ]
    },
    {
      "cell_type": "code",
      "metadata": {
        "colab": {
          "base_uri": "https://localhost:8080/"
        },
        "id": "xBAdiPpRKQE3",
        "outputId": "92b3ca77-35eb-4dae-a292-48eeaca362da"
      },
      "source": [
        "n = int(input())\n",
        "i = 1\n",
        "while i<=n:\n",
        "  j = 1\n",
        "  while j<=i:\n",
        "    print(\"1\",end=\"\")\n",
        "    j = j+1\n",
        "  print()\n",
        "  i = i+1"
      ],
      "execution_count": null,
      "outputs": [
        {
          "output_type": "stream",
          "text": [
            "4\n",
            "1\n",
            "11\n",
            "111\n",
            "1111\n"
          ],
          "name": "stdout"
        }
      ]
    },
    {
      "cell_type": "code",
      "metadata": {
        "colab": {
          "base_uri": "https://localhost:8080/"
        },
        "id": "W_neE1QX2krj",
        "outputId": "cfc24ae5-b5a1-4289-970e-80e1595e91d9"
      },
      "source": [
        "n = int(input())\n",
        "i = 1\n",
        "while i<=n:\n",
        "  j = 1\n",
        "  while j<=i:\n",
        "    print(i,end=\"\")\n",
        "    j = j+1\n",
        "  print()\n",
        "  i = i+1"
      ],
      "execution_count": null,
      "outputs": [
        {
          "output_type": "stream",
          "text": [
            "4\n",
            "1\n",
            "22\n",
            "333\n",
            "4444\n"
          ],
          "name": "stdout"
        }
      ]
    },
    {
      "cell_type": "code",
      "metadata": {
        "colab": {
          "base_uri": "https://localhost:8080/"
        },
        "id": "uSzChBO087FU",
        "outputId": "304f67b4-eef9-41f5-f3cc-43c01a29458a"
      },
      "source": [
        "n = int(input())\n",
        "i = 1\n",
        "while i<=n:\n",
        "  j = 1\n",
        "  while j<=i:\n",
        "    print(i-j+1,end=\"\")\n",
        "    j = j+1\n",
        "  print()\n",
        "  i = i+1"
      ],
      "execution_count": null,
      "outputs": [
        {
          "output_type": "stream",
          "text": [
            "5\n",
            "1\n",
            "21\n",
            "321\n",
            "4321\n",
            "54321\n"
          ],
          "name": "stdout"
        }
      ]
    },
    {
      "cell_type": "code",
      "metadata": {
        "colab": {
          "base_uri": "https://localhost:8080/"
        },
        "id": "IsnttnLvK38F",
        "outputId": "001baf44-380b-49bd-f03a-53cf72177434"
      },
      "source": [
        "n = int(input())\n",
        "i = 1\n",
        "while i<=n:\n",
        "  j = 1\n",
        "  while j<=i:\n",
        "    if i==1 and j==1:\n",
        "      print(1, end=\"\")\n",
        "    elif j==1:\n",
        "      print(j+i-2,end=\"\")\n",
        "    elif j==i:\n",
        "      print(j-1,end=\"\")\n",
        "    else:\n",
        "      print(0,end=\"\")\n",
        "\n",
        "    \n",
        "    j = j+1\n",
        "  print()\n",
        "  i = i+1"
      ],
      "execution_count": null,
      "outputs": [
        {
          "output_type": "stream",
          "text": [
            "10\n",
            "1\n",
            "11\n",
            "202\n",
            "3003\n",
            "40004\n",
            "500005\n",
            "6000006\n",
            "70000007\n",
            "800000008\n",
            "9000000009\n"
          ],
          "name": "stdout"
        }
      ]
    },
    {
      "cell_type": "code",
      "metadata": {
        "colab": {
          "base_uri": "https://localhost:8080/"
        },
        "id": "-yk-e_CMNiaf",
        "outputId": "e016e8d6-f4af-4e8b-fc69-b52954ae771e"
      },
      "source": [
        "n = int(input())\n",
        "i = 1\n",
        "while i<=n:\n",
        "  j = 1\n",
        "  while j<=i:\n",
        "    if i==1 and j==i:\n",
        "      print(1, end=\"\")\n",
        "    elif j==1 or j==i:\n",
        "      print(1,end=\"\")\n",
        "    #elif j==i:\n",
        "      #print(j-1,end=\"\")\n",
        "    else:\n",
        "      print(2, end=\"\")\n",
        "\n",
        "    \n",
        "    j = j+1\n",
        "  print()\n",
        "  i = i+1"
      ],
      "execution_count": null,
      "outputs": [
        {
          "output_type": "stream",
          "text": [
            "10\n",
            "1\n",
            "11\n",
            "121\n",
            "1221\n",
            "12221\n",
            "122221\n",
            "1222221\n",
            "12222221\n",
            "122222221\n",
            "1222222221\n"
          ],
          "name": "stdout"
        }
      ]
    },
    {
      "cell_type": "code",
      "metadata": {
        "colab": {
          "base_uri": "https://localhost:8080/"
        },
        "id": "reaxed12XFpB",
        "outputId": "f9ba3187-28f5-43c6-ebc1-5103196897d9"
      },
      "source": [
        "n = int(input())\n",
        "i = 1\n",
        "while i<=n:\n",
        "  j = 1\n",
        "  while j<=n-i+1:\n",
        "    print(\"*\",end=\"\")\n",
        "    j = j+1\n",
        "  print()\n",
        "  i = i+1"
      ],
      "execution_count": null,
      "outputs": [
        {
          "output_type": "stream",
          "text": [
            "4\n",
            "****\n",
            "***\n",
            "**\n",
            "*\n"
          ],
          "name": "stdout"
        }
      ]
    },
    {
      "cell_type": "code",
      "metadata": {
        "colab": {
          "base_uri": "https://localhost:8080/"
        },
        "id": "kbj7S5pzYMtj",
        "outputId": "e047505c-1b3d-42b1-baa5-45c970e4b5fa"
      },
      "source": [
        "n = int(input())\n",
        "i = 1\n",
        "p = n\n",
        "while i<=n:\n",
        "  j = 1\n",
        "  \n",
        "  while j<=n-i+1:\n",
        "    print(p,end=\"\")\n",
        "    j = j+1\n",
        "   \n",
        "  print()\n",
        "  p = p-1\n",
        "  i = i+1"
      ],
      "execution_count": null,
      "outputs": [
        {
          "output_type": "stream",
          "text": [
            "4\n",
            "4444\n",
            "333\n",
            "22\n",
            "1\n"
          ],
          "name": "stdout"
        }
      ]
    },
    {
      "cell_type": "code",
      "metadata": {
        "colab": {
          "base_uri": "https://localhost:8080/"
        },
        "id": "jCMdJt0y9kT6",
        "outputId": "5fe8ed8d-5bf3-4733-9538-e009f1c3b7a4"
      },
      "source": [
        "n = int(input())\n",
        "i = 1\n",
        "while i<=n:\n",
        "  spaces = 1\n",
        "  while spaces <=n-i:\n",
        "    print(\" \", end=\"\")\n",
        "    spaces = spaces+1\n",
        "  j = 1\n",
        "  while j<=i:\n",
        "    print(\"*\", end=\"\")\n",
        "    j = j+1\n",
        "  print()\n",
        "  i = i+1"
      ],
      "execution_count": null,
      "outputs": [
        {
          "output_type": "stream",
          "text": [
            "4\n",
            "   *\n",
            "  **\n",
            " ***\n",
            "****\n"
          ],
          "name": "stdout"
        }
      ]
    },
    {
      "cell_type": "code",
      "metadata": {
        "colab": {
          "base_uri": "https://localhost:8080/"
        },
        "id": "LbCCg9ZRNRv2",
        "outputId": "666f23e0-8ecc-4442-8311-8e4cace73217"
      },
      "source": [
        "n = int(input())\n",
        "i = 1\n",
        "while i<=n:\n",
        "  space = 1\n",
        "  while space <= n-i:\n",
        "    print(\" \", end=\"\")\n",
        "    space = space + 1\n",
        "  j = 1\n",
        "  while j<=i:\n",
        "    print(j,end=\"\")\n",
        "    j=j+1\n",
        "  print()\n",
        "  i = i+1"
      ],
      "execution_count": null,
      "outputs": [
        {
          "output_type": "stream",
          "text": [
            "4\n",
            "   1\n",
            "  12\n",
            " 123\n",
            "1234\n"
          ],
          "name": "stdout"
        }
      ]
    },
    {
      "cell_type": "markdown",
      "metadata": {
        "id": "-AZOqJZz3gs8"
      },
      "source": [
        "Pyramid Patterns"
      ]
    },
    {
      "cell_type": "code",
      "metadata": {
        "colab": {
          "base_uri": "https://localhost:8080/"
        },
        "id": "jEt0h_oFUpMa",
        "outputId": "ed140c98-e5be-4fe9-d2ca-316e95d48364"
      },
      "source": [
        "n = int(input())\n",
        "i = 1\n",
        "while i<=n:\n",
        "  space = 1\n",
        "  while space <= n-i:\n",
        "    print(\" \", end=\"\")\n",
        "    space = space + 1\n",
        "  j = 1\n",
        "  while j<=i:\n",
        "    print(j,end=\"\")\n",
        "    j=j+1\n",
        "  p = i-1\n",
        "  while p>=1:\n",
        "    print(p,end=\"\")\n",
        "    p = p - 1\n",
        "  print()\n",
        "  i = i+1"
      ],
      "execution_count": null,
      "outputs": [
        {
          "output_type": "stream",
          "text": [
            "4\n",
            "   1\n",
            "  121\n",
            " 12321\n",
            "1234321\n"
          ],
          "name": "stdout"
        }
      ]
    },
    {
      "cell_type": "code",
      "metadata": {
        "colab": {
          "base_uri": "https://localhost:8080/"
        },
        "id": "wMwtbULdifMj",
        "outputId": "c1a1a81f-5d48-457a-8a1b-b41333808dec"
      },
      "source": [
        "n = int(input())\n",
        "i = 1\n",
        "while i<=n:\n",
        "  spaces = 1\n",
        "  while spaces <=n-i:\n",
        "    print(\" \", end=\"\")\n",
        "    spaces = spaces+1\n",
        "  j = 1\n",
        "  while j<=i:\n",
        "    print(\"*\", end=\"\")\n",
        "    j = j+1\n",
        "  p = i-1\n",
        "  while p>=1:\n",
        "    print(\"*\",end=\"\")\n",
        "    p = p-1\n",
        "  print()\n",
        "  i = i+1"
      ],
      "execution_count": null,
      "outputs": [
        {
          "output_type": "stream",
          "text": [
            "4\n",
            "   *\n",
            "  ***\n",
            " *****\n",
            "*******\n"
          ],
          "name": "stdout"
        }
      ]
    },
    {
      "cell_type": "code",
      "metadata": {
        "colab": {
          "base_uri": "https://localhost:8080/"
        },
        "id": "oiUUD3AGjB3T",
        "outputId": "4091cb4c-1c66-4cec-baea-38b7cf176bc9"
      },
      "source": [
        "n = int(input())\n",
        "i = 1\n",
        "while i<=n:\n",
        "  spaces = 1\n",
        "  while spaces <=n-i:\n",
        "    print(\" \", end=\"\")\n",
        "    spaces = spaces+1\n",
        "  j = 1\n",
        "  p = i\n",
        "  while j<=i:\n",
        "    print(p,end=\"\")\n",
        "    j=j+1\n",
        "    p=p+1\n",
        "    m = i-1\n",
        "  while m>=1:\n",
        "    print(m+i-1,end=\"\")\n",
        "    m = m - 1\n",
        "  print()\n",
        "  i = i+1"
      ],
      "execution_count": null,
      "outputs": [
        {
          "output_type": "stream",
          "text": [
            "5\n",
            "    1\n",
            "   232\n",
            "  34543\n",
            " 4567654\n",
            "567898765\n"
          ],
          "name": "stdout"
        }
      ]
    },
    {
      "cell_type": "markdown",
      "metadata": {
        "id": "-Wp7g4Sa3mQd"
      },
      "source": [
        "Diamond Patterns"
      ]
    },
    {
      "cell_type": "code",
      "metadata": {
        "colab": {
          "base_uri": "https://localhost:8080/"
        },
        "id": "hTXtCGAp0x9U",
        "outputId": "1a9c5786-f2d8-4e22-dcc2-ab3cb708e3e5"
      },
      "source": [
        "  n = int(input())\n",
        "n1 = (n+1)/2\n",
        "n2 = n/2\n",
        "i = 1\n",
        "while i<=n1:\n",
        "  spaces = 1\n",
        "  while spaces <=n-i:\n",
        "    print(\" \", end=\"\")\n",
        "    spaces = spaces+1\n",
        "  j = 1\n",
        "  while j<=i:\n",
        "    print(\"*\", end=\"\")\n",
        "    j = j+1\n",
        "  p = i-1\n",
        "  while p>=1:\n",
        "    print(\"*\",end=\"\")\n",
        "    p = p-1\n",
        "    j = j+1\n",
        "  print()\n",
        "  i = i+1\n",
        "  "
      ],
      "execution_count": null,
      "outputs": [
        {
          "output_type": "stream",
          "text": [
            "7\n",
            "      *\n",
            "     ***\n",
            "    *****\n",
            "   *******\n"
          ],
          "name": "stdout"
        }
      ]
    },
    {
      "cell_type": "code",
      "metadata": {
        "id": "_cvlbECU5HKs"
      },
      "source": [
        ""
      ],
      "execution_count": null,
      "outputs": []
    },
    {
      "cell_type": "code",
      "metadata": {
        "colab": {
          "base_uri": "https://localhost:8080/"
        },
        "id": "_yrVzlox5GxA",
        "outputId": "3591e614-2ba4-45a7-b0c0-f00b94e6cf86"
      },
      "source": [
        "n = int(input())\n",
        "i = 1\n",
        "while i<=n:\n",
        "  j = 1\n",
        "  while j<=i:\n",
        "    print(j,end=\"\")\n",
        "    j=j+1\n",
        "  spaces = 1\n",
        "  while spaces <=((2*n)-(2*i)):\n",
        "    print(\" \", end=\"\")\n",
        "    spaces=spaces+1\n",
        "  p = i\n",
        "  while p>0:\n",
        "    print(p,end=\"\")\n",
        "    p = p-1\n",
        "  print()\n",
        "  i = i+1"
      ],
      "execution_count": null,
      "outputs": [
        {
          "output_type": "stream",
          "text": [
            "5\n",
            "1        1\n",
            "12      21\n",
            "123    321\n",
            "1234  4321\n",
            "1234554321\n"
          ],
          "name": "stdout"
        }
      ]
    },
    {
      "cell_type": "code",
      "metadata": {
        "colab": {
          "base_uri": "https://localhost:8080/"
        },
        "id": "2Ishojr65WVl",
        "outputId": "6eb333df-a7f6-4e37-8612-18a720a009c7"
      },
      "source": [
        "n = int(input())\n",
        "i = 1\n",
        "while i<=n:\n",
        "  j = 1\n",
        "  while j<=i:\n",
        "    print(\"*\",end=\"\")\n",
        "    j=j+1\n",
        "  spaces = 1\n",
        "  while spaces <=((2*n)-(2*i)):\n",
        "    print(\"0\", end=\"\")\n",
        "    spaces=spaces+1\n",
        "  p = i\n",
        "  while p>0:\n",
        "    print(\"*\",end=\"\")\n",
        "    p = p-1\n",
        "  print()\n",
        "  i = i+1"
      ],
      "execution_count": null,
      "outputs": [
        {
          "output_type": "stream",
          "text": [
            "5\n",
            "*00000000*\n",
            "**000000**\n",
            "***0000***\n",
            "****00****\n",
            "**********\n"
          ],
          "name": "stdout"
        }
      ]
    },
    {
      "cell_type": "code",
      "metadata": {
        "colab": {
          "base_uri": "https://localhost:8080/"
        },
        "id": "8zY1sRm65q0M",
        "outputId": "1e3a0e53-2e22-4629-c37a-eabcb7ef8869"
      },
      "source": [
        "\n",
        "n = int(input())\n",
        "i = 1\n",
        "star = 1\n",
        "while i<=n:\n",
        "    j = 1\n",
        "    while j <= 2*n + 1:\n",
        "        if star == i and star == j:\n",
        "            print('*', end = \"\")\n",
        "            star = star + 1\n",
        "        elif j == n + 1 or j == 2*n+2 - i:\n",
        "            print('*', end = \"\")\n",
        "        else:\n",
        "            print(0, end = \"\")\n",
        "        j = j + 1\n",
        "    print()\n",
        "    i = i + 1"
      ],
      "execution_count": null,
      "outputs": [
        {
          "output_type": "stream",
          "text": [
            "5\n",
            "*0000*0000*\n",
            "0*000*000*0\n",
            "00*00*00*00\n",
            "000*0*0*000\n",
            "0000***0000\n"
          ],
          "name": "stdout"
        }
      ]
    },
    {
      "cell_type": "markdown",
      "metadata": {
        "id": "hfOb88EN9QLg"
      },
      "source": [
        "  Character Patterns"
      ]
    },
    {
      "cell_type": "code",
      "metadata": {
        "colab": {
          "base_uri": "https://localhost:8080/"
        },
        "id": "0D6w96b4_JnX",
        "outputId": "25435a48-7fd7-4654-afd8-edbd4e65153d"
      },
      "source": [
        "n = int(input())\n",
        "i = 1\n",
        "while i<=n:\n",
        "  j=1\n",
        "  while j<=n:\n",
        "    charP = chr(ord('A')+j-1)\n",
        "    print(charP,end=\"\")\n",
        "    j = j+1\n",
        "  print()\n",
        "  i=i+1\n"
      ],
      "execution_count": null,
      "outputs": [
        {
          "output_type": "stream",
          "text": [
            "4\n",
            "ABCD\n",
            "ABCD\n",
            "ABCD\n",
            "ABCD\n"
          ],
          "name": "stdout"
        }
      ]
    },
    {
      "cell_type": "code",
      "metadata": {
        "colab": {
          "base_uri": "https://localhost:8080/"
        },
        "id": "4VME2dgnFREW",
        "outputId": "dde6e874-2b46-4840-8fb1-fffc8188c63d"
      },
      "source": [
        "n = int(input())\n",
        "i = 1\n",
        "while i<=n:\n",
        "  j=1\n",
        "  start_char = chr(ord('A') + i - 1)\n",
        "  while j<=n:\n",
        "    charP = chr(ord(start_char)+j-1)\n",
        "    print(charP,end=\"\")\n",
        "    j = j+1\n",
        "  print()\n",
        "  i=i+1\n"
      ],
      "execution_count": null,
      "outputs": [
        {
          "output_type": "stream",
          "text": [
            "4\n",
            "ABCD\n",
            "BCDE\n",
            "CDEF\n",
            "DEFG\n"
          ],
          "name": "stdout"
        }
      ]
    },
    {
      "cell_type": "code",
      "metadata": {
        "colab": {
          "base_uri": "https://localhost:8080/"
        },
        "id": "HMeM4aK3GcDq",
        "outputId": "18389866-eeae-40e5-828f-dfc4c89b37c1"
      },
      "source": [
        "n = int(input())\n",
        "i = 1\n",
        "while i<=n:\n",
        "  j=1\n",
        "  start_char = chr(ord('A') + i - 1)\n",
        "  while j<=i:\n",
        "    charP = chr(ord(start_char)+j-1)\n",
        "    print(charP,end=\"\")\n",
        "    j = j+1\n",
        "  print()\n",
        "  i=i+1"
      ],
      "execution_count": null,
      "outputs": [
        {
          "output_type": "stream",
          "text": [
            "4\n",
            "A\n",
            "BC\n",
            "CDE\n",
            "DEFG\n"
          ],
          "name": "stdout"
        }
      ]
    }
  ]
}