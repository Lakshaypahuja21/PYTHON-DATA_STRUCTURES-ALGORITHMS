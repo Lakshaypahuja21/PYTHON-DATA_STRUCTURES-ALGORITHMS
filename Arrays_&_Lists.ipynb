{
  "nbformat": 4,
  "nbformat_minor": 0,
  "metadata": {
    "colab": {
      "name": "Arrays & Lists",
      "provenance": [],
      "authorship_tag": "ABX9TyPvdrAbfcUEWhYkVbysdp5n"
    },
    "kernelspec": {
      "name": "python3",
      "display_name": "Python 3"
    }
  },
  "cells": [
    {
      "cell_type": "markdown",
      "metadata": {
        "id": "LWEgFd18OiB4"
      },
      "source": [
        "Arrays are homogenous while lists are heterogenous\r\n",
        "\r\n",
        "lists can contain different data but arrays should contain same type of data"
      ]
    },
    {
      "cell_type": "code",
      "metadata": {
        "colab": {
          "base_uri": "https://localhost:8080/"
        },
        "id": "T_cp5shxKdnw",
        "outputId": "7879948f-9b92-4b0e-ec20-307350175d8a"
      },
      "source": [
        "li =['fdfd','tfhg']\r\n",
        "li.insert(4,5)\r\n",
        "print(li)"
      ],
      "execution_count": null,
      "outputs": [
        {
          "output_type": "stream",
          "text": [
            "['fdfd', 'tfhg', 5]\n"
          ],
          "name": "stdout"
        }
      ]
    },
    {
      "cell_type": "code",
      "metadata": {
        "colab": {
          "base_uri": "https://localhost:8080/"
        },
        "id": "TK3cj5BpcwRM",
        "outputId": "3ac7141e-3260-4658-8eb2-a57dcc8c9c64"
      },
      "source": [
        "li = ['abcd',5,'def',5]\r\n",
        "li.remove(5)\r\n",
        "print(li)"
      ],
      "execution_count": null,
      "outputs": [
        {
          "output_type": "stream",
          "text": [
            "['abcd', 'def', 5]\n"
          ],
          "name": "stdout"
        }
      ]
    },
    {
      "cell_type": "code",
      "metadata": {
        "colab": {
          "base_uri": "https://localhost:8080/"
        },
        "id": "Xr0gWK7zc7HH",
        "outputId": "58f24600-ae5d-4619-ce4d-08ff2f759507"
      },
      "source": [
        "li = [5,2,6,8]\r\n",
        "li.pop(2)\r\n",
        "print(li)"
      ],
      "execution_count": null,
      "outputs": [
        {
          "output_type": "stream",
          "text": [
            "[5, 2, 8]\n"
          ],
          "name": "stdout"
        }
      ]
    },
    {
      "cell_type": "markdown",
      "metadata": {
        "id": "AavNXrfEUSIQ"
      },
      "source": [
        "List follow the rule of resizing. Everytime we append to a full list a new list is made and refferences are copied from the previous one\r\n"
      ]
    },
    {
      "cell_type": "markdown",
      "metadata": {
        "id": "nnrCQssDUfZH"
      },
      "source": [
        "Iteration on lists:\r\n"
      ]
    },
    {
      "cell_type": "code",
      "metadata": {
        "id": "HCsENGnRdGbp",
        "colab": {
          "base_uri": "https://localhost:8080/"
        },
        "outputId": "dcbf5a68-a266-4807-bea3-555bb3e7b0b3"
      },
      "source": [
        "li = [1,2,'lakshay',3,4,5,'jai']\r\n",
        "for i in range(len(li)):\r\n",
        "  print(li[i])"
      ],
      "execution_count": null,
      "outputs": [
        {
          "output_type": "stream",
          "text": [
            "1\n",
            "2\n",
            "lakshay\n",
            "3\n",
            "4\n",
            "5\n",
            "jai\n"
          ],
          "name": "stdout"
        }
      ]
    },
    {
      "cell_type": "code",
      "metadata": {
        "colab": {
          "base_uri": "https://localhost:8080/"
        },
        "id": "iRXrIgEiUv2Y",
        "outputId": "92970f6d-cb4d-4c5a-e8a7-b2d9b0c7a7a9"
      },
      "source": [
        "li = [1,2,'lakshay',3,4,5,'jai']\r\n",
        "for i in range(2,len(li)):\r\n",
        "  print(li[i])"
      ],
      "execution_count": null,
      "outputs": [
        {
          "output_type": "stream",
          "text": [
            "lakshay\n",
            "3\n",
            "4\n",
            "5\n",
            "jai\n"
          ],
          "name": "stdout"
        }
      ]
    },
    {
      "cell_type": "code",
      "metadata": {
        "colab": {
          "base_uri": "https://localhost:8080/"
        },
        "id": "Snmalh2GVEiI",
        "outputId": "23ffcd17-7243-42e6-aca2-86d40673254f"
      },
      "source": [
        "li = [1,2,'lakshay',3,4,5,'jai']\r\n",
        "for i in li:\r\n",
        "  print(i)"
      ],
      "execution_count": null,
      "outputs": [
        {
          "output_type": "stream",
          "text": [
            "1\n",
            "2\n",
            "lakshay\n",
            "3\n",
            "4\n",
            "5\n",
            "jai\n"
          ],
          "name": "stdout"
        }
      ]
    },
    {
      "cell_type": "code",
      "metadata": {
        "colab": {
          "base_uri": "https://localhost:8080/"
        },
        "id": "7_jkoV1NU2WP",
        "outputId": "fa26df10-10b3-4398-80ae-85230582a28c"
      },
      "source": [
        "li = [1,2,'lakshay',3,4,5,'jai']\r\n",
        "for i in li:\r\n",
        "  print(li)"
      ],
      "execution_count": null,
      "outputs": [
        {
          "output_type": "stream",
          "text": [
            "[1, 2, 'lakshay', 3, 4, 5, 'jai']\n",
            "[1, 2, 'lakshay', 3, 4, 5, 'jai']\n",
            "[1, 2, 'lakshay', 3, 4, 5, 'jai']\n",
            "[1, 2, 'lakshay', 3, 4, 5, 'jai']\n",
            "[1, 2, 'lakshay', 3, 4, 5, 'jai']\n",
            "[1, 2, 'lakshay', 3, 4, 5, 'jai']\n",
            "[1, 2, 'lakshay', 3, 4, 5, 'jai']\n"
          ],
          "name": "stdout"
        }
      ]
    },
    {
      "cell_type": "markdown",
      "metadata": {
        "id": "vdL72O3uXWLc"
      },
      "source": [
        "Negative indexing & Sequencing"
      ]
    },
    {
      "cell_type": "code",
      "metadata": {
        "colab": {
          "base_uri": "https://localhost:8080/",
          "height": 36
        },
        "id": "6Do-RUwBXa43",
        "outputId": "4f07f775-57d5-4330-8174-e637135e0919"
      },
      "source": [
        "li = [1,2,'lakshay',3,4,5,'jai']\r\n",
        "li[-1]"
      ],
      "execution_count": null,
      "outputs": [
        {
          "output_type": "execute_result",
          "data": {
            "application/vnd.google.colaboratory.intrinsic+json": {
              "type": "string"
            },
            "text/plain": [
              "'jai'"
            ]
          },
          "metadata": {
            "tags": []
          },
          "execution_count": 18
        }
      ]
    },
    {
      "cell_type": "code",
      "metadata": {
        "colab": {
          "base_uri": "https://localhost:8080/"
        },
        "id": "Zm8V-bKEXa2V",
        "outputId": "cd8fa524-4578-4f9b-9db0-ccabd4bf4e1e"
      },
      "source": [
        "# list[start:end:step]\r\n",
        "li[1:5:1]"
      ],
      "execution_count": null,
      "outputs": [
        {
          "output_type": "execute_result",
          "data": {
            "text/plain": [
              "[2, 'lakshay', 3, 4]"
            ]
          },
          "metadata": {
            "tags": []
          },
          "execution_count": 19
        }
      ]
    },
    {
      "cell_type": "code",
      "metadata": {
        "colab": {
          "base_uri": "https://localhost:8080/"
        },
        "id": "kQH0D_TPXazD",
        "outputId": "1907987f-4eba-42f4-fa12-2d53eda806a9"
      },
      "source": [
        "li[1:5:2]"
      ],
      "execution_count": null,
      "outputs": [
        {
          "output_type": "execute_result",
          "data": {
            "text/plain": [
              "[2, 3]"
            ]
          },
          "metadata": {
            "tags": []
          },
          "execution_count": 20
        }
      ]
    },
    {
      "cell_type": "code",
      "metadata": {
        "colab": {
          "base_uri": "https://localhost:8080/"
        },
        "id": "kRxXdi13Xawl",
        "outputId": "6d85ad55-5c1e-4e10-b610-3af304967a07"
      },
      "source": [
        "li[1:] #step by default 1"
      ],
      "execution_count": null,
      "outputs": [
        {
          "output_type": "execute_result",
          "data": {
            "text/plain": [
              "[2, 'lakshay', 3, 4, 5, 'jai']"
            ]
          },
          "metadata": {
            "tags": []
          },
          "execution_count": 21
        }
      ]
    },
    {
      "cell_type": "code",
      "metadata": {
        "colab": {
          "base_uri": "https://localhost:8080/"
        },
        "id": "HlyWbXs8Xats",
        "outputId": "a1b3ded9-18f1-4bd5-b18a-3d3336b3f2f0"
      },
      "source": [
        "li[:-1]"
      ],
      "execution_count": null,
      "outputs": [
        {
          "output_type": "execute_result",
          "data": {
            "text/plain": [
              "[1, 2, 'lakshay', 3, 4, 5]"
            ]
          },
          "metadata": {
            "tags": []
          },
          "execution_count": 22
        }
      ]
    },
    {
      "cell_type": "code",
      "metadata": {
        "colab": {
          "base_uri": "https://localhost:8080/"
        },
        "id": "G6ujoQEBXaqr",
        "outputId": "21fe79bf-8a05-4720-90ad-4e4f6c0f4fa8"
      },
      "source": [
        "li[1::2] # start :: steps -> end is default"
      ],
      "execution_count": null,
      "outputs": [
        {
          "output_type": "execute_result",
          "data": {
            "text/plain": [
              "[2, 3, 5]"
            ]
          },
          "metadata": {
            "tags": []
          },
          "execution_count": 23
        }
      ]
    },
    {
      "cell_type": "code",
      "metadata": {
        "colab": {
          "base_uri": "https://localhost:8080/"
        },
        "id": "NE6XYi16XaoI",
        "outputId": "23748f1e-16e7-46d2-c7ae-7fc183e65685"
      },
      "source": [
        "li[-1:]"
      ],
      "execution_count": null,
      "outputs": [
        {
          "output_type": "execute_result",
          "data": {
            "text/plain": [
              "['jai']"
            ]
          },
          "metadata": {
            "tags": []
          },
          "execution_count": 24
        }
      ]
    },
    {
      "cell_type": "markdown",
      "metadata": {
        "id": "BcmIrzfEg-nm"
      },
      "source": [
        "Line seperated inputs"
      ]
    },
    {
      "cell_type": "code",
      "metadata": {
        "colab": {
          "base_uri": "https://localhost:8080/"
        },
        "id": "ErlQxtmgXacP",
        "outputId": "5d0be8fb-2fd7-4a69-85c6-8c706313b0ab"
      },
      "source": [
        "n = int(input())\r\n",
        "lii = []\r\n",
        "for i in range(n):\r\n",
        "  curr = int(input())\r\n",
        "  lii.append(curr)"
      ],
      "execution_count": null,
      "outputs": [
        {
          "output_type": "stream",
          "text": [
            "4\n",
            "1\n",
            "2\n",
            "3\n",
            "5\n"
          ],
          "name": "stdout"
        }
      ]
    },
    {
      "cell_type": "code",
      "metadata": {
        "colab": {
          "base_uri": "https://localhost:8080/"
        },
        "id": "LPr3KVDzhYxo",
        "outputId": "011ae985-43d2-4d8d-d574-5566c4299538"
      },
      "source": [
        "lii"
      ],
      "execution_count": null,
      "outputs": [
        {
          "output_type": "execute_result",
          "data": {
            "text/plain": [
              "[1, 2, 3, 5]"
            ]
          },
          "metadata": {
            "tags": []
          },
          "execution_count": 30
        }
      ]
    },
    {
      "cell_type": "code",
      "metadata": {
        "colab": {
          "base_uri": "https://localhost:8080/"
        },
        "id": "eEOtymiIhcUz",
        "outputId": "06c84816-527f-4037-cd8b-56806fdea94a"
      },
      "source": [
        "for ele in lii:\r\n",
        "  print(ele)"
      ],
      "execution_count": null,
      "outputs": [
        {
          "output_type": "stream",
          "text": [
            "1\n",
            "2\n",
            "3\n",
            "5\n"
          ],
          "name": "stdout"
        }
      ]
    },
    {
      "cell_type": "markdown",
      "metadata": {
        "id": "sxsbQ1lvh9Um"
      },
      "source": [
        "Space seperated inputs"
      ]
    },
    {
      "cell_type": "code",
      "metadata": {
        "colab": {
          "base_uri": "https://localhost:8080/"
        },
        "id": "517e0Zu5iHAM",
        "outputId": "9f1f76cf-9975-478a-e6d6-1f45340ce82a"
      },
      "source": [
        "str = input()"
      ],
      "execution_count": null,
      "outputs": [
        {
          "output_type": "stream",
          "text": [
            "1 2 3 4 5 6\n"
          ],
          "name": "stdout"
        }
      ]
    },
    {
      "cell_type": "code",
      "metadata": {
        "id": "nJ9Y8YrploJz"
      },
      "source": [
        "str_split = str.split()"
      ],
      "execution_count": null,
      "outputs": []
    },
    {
      "cell_type": "code",
      "metadata": {
        "colab": {
          "base_uri": "https://localhost:8080/"
        },
        "id": "NXgSAZqultnW",
        "outputId": "7e0c949f-c39a-46a0-901a-d138bad72f5c"
      },
      "source": [
        "str_split"
      ],
      "execution_count": null,
      "outputs": [
        {
          "output_type": "execute_result",
          "data": {
            "text/plain": [
              "['1', '2', '3', '4', '5', '6']"
            ]
          },
          "metadata": {
            "tags": []
          },
          "execution_count": 36
        }
      ]
    },
    {
      "cell_type": "code",
      "metadata": {
        "id": "COwjienWlwXv"
      },
      "source": [
        "li = []\r\n",
        "for ele in str_split:\r\n",
        "  li.append(int(ele))"
      ],
      "execution_count": null,
      "outputs": []
    },
    {
      "cell_type": "code",
      "metadata": {
        "colab": {
          "base_uri": "https://localhost:8080/"
        },
        "id": "wTx0Kg_Vl-jH",
        "outputId": "dd489905-a685-4dca-c47f-5fe70d6436a9"
      },
      "source": [
        "li"
      ],
      "execution_count": null,
      "outputs": [
        {
          "output_type": "execute_result",
          "data": {
            "text/plain": [
              "[1, 2, 3, 4, 5, 6]"
            ]
          },
          "metadata": {
            "tags": []
          },
          "execution_count": 38
        }
      ]
    },
    {
      "cell_type": "markdown",
      "metadata": {
        "id": "4D1N-NDDmA3m"
      },
      "source": [
        "using one line "
      ]
    },
    {
      "cell_type": "code",
      "metadata": {
        "colab": {
          "base_uri": "https://localhost:8080/"
        },
        "id": "KTeG4Sajl_fX",
        "outputId": "52afde0f-2146-4d6e-9218-ea5db6b2f2e1"
      },
      "source": [
        "li = [int(x) for x in input().split()]"
      ],
      "execution_count": null,
      "outputs": [
        {
          "output_type": "stream",
          "text": [
            "1 2 3  5\n"
          ],
          "name": "stdout"
        }
      ]
    },
    {
      "cell_type": "code",
      "metadata": {
        "colab": {
          "base_uri": "https://localhost:8080/"
        },
        "id": "DnpB6dNemKLH",
        "outputId": "10fb0d2c-b844-4114-f600-35c5f6d446bb"
      },
      "source": [
        "li\r\n"
      ],
      "execution_count": null,
      "outputs": [
        {
          "output_type": "execute_result",
          "data": {
            "text/plain": [
              "[1, 2, 3, 5]"
            ]
          },
          "metadata": {
            "tags": []
          },
          "execution_count": 41
        }
      ]
    },
    {
      "cell_type": "code",
      "metadata": {
        "colab": {
          "base_uri": "https://localhost:8080/"
        },
        "id": "bSOYTsyqmOD7",
        "outputId": "34ecea9f-4680-428d-8535-7112812c13da"
      },
      "source": [
        "for ele in li:\r\n",
        "  print(ele)"
      ],
      "execution_count": null,
      "outputs": [
        {
          "output_type": "stream",
          "text": [
            "1\n",
            "2\n",
            "3\n",
            "5\n"
          ],
          "name": "stdout"
        }
      ]
    },
    {
      "cell_type": "code",
      "metadata": {
        "colab": {
          "base_uri": "https://localhost:8080/"
        },
        "id": "Srq_KEU9mhhz",
        "outputId": "adbb4f39-a7c2-4d21-cbaa-b9ac0abd89c2"
      },
      "source": [
        "n = int(input())\r\n",
        "li = [int(x) for x in input().split()]\r\n",
        "for ele in li:\r\n",
        "  print(ele)"
      ],
      "execution_count": null,
      "outputs": [
        {
          "output_type": "stream",
          "text": [
            "5\n",
            "1 2 3 4 5 6\n",
            "1\n",
            "2\n",
            "3\n",
            "4\n",
            "5\n",
            "6\n"
          ],
          "name": "stdout"
        }
      ]
    },
    {
      "cell_type": "code",
      "metadata": {
        "colab": {
          "base_uri": "https://localhost:8080/"
        },
        "id": "8SvzfjnTpDfq",
        "outputId": "0b9477cb-7d94-4a97-8410-9446acb8b470"
      },
      "source": [
        "\r\n",
        "li = [x for x in input().split()]\r\n",
        "print(li)"
      ],
      "execution_count": null,
      "outputs": [
        {
          "output_type": "stream",
          "text": [
            "1 3 6 8 9 \n",
            "['1', '3', '6', '8', '9']\n"
          ],
          "name": "stdout"
        }
      ]
    },
    {
      "cell_type": "markdown",
      "metadata": {
        "id": "_q4PVqKppaRD"
      },
      "source": [
        "Linear Search"
      ]
    },
    {
      "cell_type": "code",
      "metadata": {
        "id": "eH2WbjYXpPHq",
        "colab": {
          "base_uri": "https://localhost:8080/"
        },
        "outputId": "acb194d3-b0c1-4335-e786-357432b0f77f"
      },
      "source": [
        "n = int(input())\r\n",
        "li = [int(x) for x in input().split()]\r\n"
      ],
      "execution_count": 2,
      "outputs": [
        {
          "output_type": "stream",
          "text": [
            "4\n",
            "1 2 3 4\n"
          ],
          "name": "stdout"
        }
      ]
    },
    {
      "cell_type": "code",
      "metadata": {
        "colab": {
          "base_uri": "https://localhost:8080/"
        },
        "id": "Ejl9a6dSVGO9",
        "outputId": "ad6c0a4c-b230-42f0-c0ce-b6c2c6d6c1b7"
      },
      "source": [
        "li"
      ],
      "execution_count": 3,
      "outputs": [
        {
          "output_type": "execute_result",
          "data": {
            "text/plain": [
              "[1, 2, 3, 4]"
            ]
          },
          "metadata": {
            "tags": []
          },
          "execution_count": 3
        }
      ]
    },
    {
      "cell_type": "code",
      "metadata": {
        "colab": {
          "base_uri": "https://localhost:8080/"
        },
        "id": "dJh2hHMbVFda",
        "outputId": "7a51f9d6-f234-407e-c648-3052c399ddb1"
      },
      "source": [
        "ele = int(input())"
      ],
      "execution_count": 4,
      "outputs": [
        {
          "output_type": "stream",
          "text": [
            "2\n"
          ],
          "name": "stdout"
        }
      ]
    },
    {
      "cell_type": "code",
      "metadata": {
        "colab": {
          "base_uri": "https://localhost:8080/"
        },
        "id": "of-WRYe5Uycb",
        "outputId": "a490cd67-f6f5-448f-9513-ddcf465dccad"
      },
      "source": [
        "isfound = False\r\n",
        "for i in range(len(li)):\r\n",
        "  if li[i] == ele:\r\n",
        "    print(i)\r\n",
        "    isfound = True\r\n",
        "    break\r\n",
        "if isfound is not True:\r\n",
        "  print(-1)"
      ],
      "execution_count": 6,
      "outputs": [
        {
          "output_type": "stream",
          "text": [
            "1\n"
          ],
          "name": "stdout"
        }
      ]
    },
    {
      "cell_type": "markdown",
      "metadata": {
        "id": "54WfnTMtVTCd"
      },
      "source": [
        "Linear Search Through fucntions"
      ]
    },
    {
      "cell_type": "code",
      "metadata": {
        "colab": {
          "base_uri": "https://localhost:8080/"
        },
        "id": "wApraJl3ccm3",
        "outputId": "87cd9bd3-a38e-466d-945a-99d47b08a932"
      },
      "source": [
        "def linear_search(li,ele):\r\n",
        "  for i in range(len(li)):\r\n",
        "    if li[i] == ele:\r\n",
        "      return i\r\n",
        "  return -1\r\n",
        "\r\n",
        "\r\n",
        "li = [1,2,3,4,5,6]\r\n",
        "index = linear_search(li,3)\r\n",
        "print(index)"
      ],
      "execution_count": 12,
      "outputs": [
        {
          "output_type": "stream",
          "text": [
            "2\n"
          ],
          "name": "stdout"
        }
      ]
    },
    {
      "cell_type": "code",
      "metadata": {
        "colab": {
          "base_uri": "https://localhost:8080/"
        },
        "id": "4M-k_LLGVKpr",
        "outputId": "f6a8e829-7ea7-46cc-db1c-3e536ac7733b"
      },
      "source": [
        "def linear_search(li,ele):\r\n",
        "  \r\n",
        "  for i in range(len(li)):\r\n",
        "    if li[i] == ele:\r\n",
        "      return 1\r\n",
        "  return -1\r\n",
        "\r\n",
        "n = int(input())\r\n",
        "li = [int(x) for x in input().split()]\r\n",
        "ele = int(input())\r\n",
        "linear_search(li,5)"
      ],
      "execution_count": 13,
      "outputs": [
        {
          "output_type": "stream",
          "text": [
            "5 \n",
            "1 2 3 4 5\n",
            "2\n"
          ],
          "name": "stdout"
        },
        {
          "output_type": "execute_result",
          "data": {
            "text/plain": [
              "1"
            ]
          },
          "metadata": {
            "tags": []
          },
          "execution_count": 13
        }
      ]
    },
    {
      "cell_type": "markdown",
      "metadata": {
        "id": "N1ZTVluzz37p"
      },
      "source": [
        "Immutables vs mutablesd"
      ]
    },
    {
      "cell_type": "markdown",
      "metadata": {
        "id": "hFR-wtrvx1Qd"
      },
      "source": [
        "variables are immutable -> memory stored is not chnaged, instead refernce is changed"
      ]
    },
    {
      "cell_type": "markdown",
      "metadata": {
        "id": "GjiEMZRpyK9l"
      },
      "source": [
        "But lists are mutable bcoz they are immutable as they have same refernce"
      ]
    },
    {
      "cell_type": "markdown",
      "metadata": {
        "id": "UkF-yI-myqug"
      },
      "source": [
        "ImMutable"
      ]
    },
    {
      "cell_type": "code",
      "metadata": {
        "colab": {
          "base_uri": "https://localhost:8080/"
        },
        "id": "Hl7YOCaEcxZQ",
        "outputId": "d34e531d-7e4c-41d6-d4df-49f336a57d1a"
      },
      "source": [
        "x = 3\r\n",
        "a = 3\r\n",
        "print(x)"
      ],
      "execution_count": 14,
      "outputs": [
        {
          "output_type": "stream",
          "text": [
            "3\n"
          ],
          "name": "stdout"
        }
      ]
    },
    {
      "cell_type": "code",
      "metadata": {
        "colab": {
          "base_uri": "https://localhost:8080/"
        },
        "id": "P9-hti-OyvmK",
        "outputId": "00724135-790c-4599-8431-105a1a7cb98c"
      },
      "source": [
        "id(x)"
      ],
      "execution_count": 15,
      "outputs": [
        {
          "output_type": "execute_result",
          "data": {
            "text/plain": [
              "10914560"
            ]
          },
          "metadata": {
            "tags": []
          },
          "execution_count": 15
        }
      ]
    },
    {
      "cell_type": "code",
      "metadata": {
        "colab": {
          "base_uri": "https://localhost:8080/"
        },
        "id": "5E4c7kwcywMS",
        "outputId": "543df021-46ba-44b7-8aef-3b8710e4c291"
      },
      "source": [
        "id(a)"
      ],
      "execution_count": 16,
      "outputs": [
        {
          "output_type": "execute_result",
          "data": {
            "text/plain": [
              "10914560"
            ]
          },
          "metadata": {
            "tags": []
          },
          "execution_count": 16
        }
      ]
    },
    {
      "cell_type": "code",
      "metadata": {
        "colab": {
          "base_uri": "https://localhost:8080/"
        },
        "id": "RbK3hEwsyw41",
        "outputId": "c786f553-ff2b-475b-bc30-b9298538ff2c"
      },
      "source": [
        "a = 4\r\n",
        "id(a)"
      ],
      "execution_count": 17,
      "outputs": [
        {
          "output_type": "execute_result",
          "data": {
            "text/plain": [
              "10914592"
            ]
          },
          "metadata": {
            "tags": []
          },
          "execution_count": 17
        }
      ]
    },
    {
      "cell_type": "code",
      "metadata": {
        "colab": {
          "base_uri": "https://localhost:8080/"
        },
        "id": "L3iXOKTTyzsS",
        "outputId": "bd9dce25-bd7c-4126-d8c4-c593bc9eb3fd"
      },
      "source": [
        "id(x)"
      ],
      "execution_count": 18,
      "outputs": [
        {
          "output_type": "execute_result",
          "data": {
            "text/plain": [
              "10914560"
            ]
          },
          "metadata": {
            "tags": []
          },
          "execution_count": 18
        }
      ]
    },
    {
      "cell_type": "code",
      "metadata": {
        "colab": {
          "base_uri": "https://localhost:8080/"
        },
        "id": "nXDIWO__y1jU",
        "outputId": "b1b2388b-3b3a-450f-cc04-e2cc663d6c81"
      },
      "source": [
        "a"
      ],
      "execution_count": 19,
      "outputs": [
        {
          "output_type": "execute_result",
          "data": {
            "text/plain": [
              "4"
            ]
          },
          "metadata": {
            "tags": []
          },
          "execution_count": 19
        }
      ]
    },
    {
      "cell_type": "code",
      "metadata": {
        "colab": {
          "base_uri": "https://localhost:8080/"
        },
        "id": "MK_VdZxey2tS",
        "outputId": "5705d799-a2f2-4b37-d207-fdc38a32d59c"
      },
      "source": [
        "x"
      ],
      "execution_count": 20,
      "outputs": [
        {
          "output_type": "execute_result",
          "data": {
            "text/plain": [
              "3"
            ]
          },
          "metadata": {
            "tags": []
          },
          "execution_count": 20
        }
      ]
    },
    {
      "cell_type": "markdown",
      "metadata": {
        "id": "BMY5pfGuy4Rp"
      },
      "source": [
        "Mutable"
      ]
    },
    {
      "cell_type": "code",
      "metadata": {
        "id": "_ObyKr5Xy3Jc"
      },
      "source": [
        "x = [1,2,3,4]\r\n",
        "a = x\r\n",
        "a[1] = 5"
      ],
      "execution_count": 21,
      "outputs": []
    },
    {
      "cell_type": "code",
      "metadata": {
        "colab": {
          "base_uri": "https://localhost:8080/"
        },
        "id": "rew0VGowza4D",
        "outputId": "8bc67fd6-bd67-4b14-8ff8-e03fed0ddeb0"
      },
      "source": [
        "print(a)"
      ],
      "execution_count": 22,
      "outputs": [
        {
          "output_type": "stream",
          "text": [
            "[1, 5, 3, 4]\n"
          ],
          "name": "stdout"
        }
      ]
    },
    {
      "cell_type": "code",
      "metadata": {
        "colab": {
          "base_uri": "https://localhost:8080/"
        },
        "id": "HDIimdpXzbc5",
        "outputId": "5e8997fa-3c6b-47d6-c7cd-633eb075029f"
      },
      "source": [
        "print(x)"
      ],
      "execution_count": 23,
      "outputs": [
        {
          "output_type": "stream",
          "text": [
            "[1, 5, 3, 4]\n"
          ],
          "name": "stdout"
        }
      ]
    },
    {
      "cell_type": "markdown",
      "metadata": {
        "id": "qpsVx1YuzkjY"
      },
      "source": [
        "but if reference is changed -->"
      ]
    },
    {
      "cell_type": "code",
      "metadata": {
        "id": "iqrTQkabzdBZ"
      },
      "source": [
        "x = [1,2,3,4]\r\n",
        "a = x\r\n",
        "a = [4,3,2,1]\r\n",
        "a[1] = 5"
      ],
      "execution_count": 24,
      "outputs": []
    },
    {
      "cell_type": "code",
      "metadata": {
        "colab": {
          "base_uri": "https://localhost:8080/"
        },
        "id": "laPQiiY5zsCw",
        "outputId": "5cf46761-cb93-48eb-d073-f2e830cf37c7"
      },
      "source": [
        "print(a)"
      ],
      "execution_count": 25,
      "outputs": [
        {
          "output_type": "stream",
          "text": [
            "[4, 5, 2, 1]\n"
          ],
          "name": "stdout"
        }
      ]
    },
    {
      "cell_type": "code",
      "metadata": {
        "colab": {
          "base_uri": "https://localhost:8080/"
        },
        "id": "PCA_NfudztLk",
        "outputId": "153b1be6-c59a-4695-f7b2-9e7d2d4e6637"
      },
      "source": [
        "print(x)"
      ],
      "execution_count": 26,
      "outputs": [
        {
          "output_type": "stream",
          "text": [
            "[1, 2, 3, 4]\n"
          ],
          "name": "stdout"
        }
      ]
    },
    {
      "cell_type": "code",
      "metadata": {
        "colab": {
          "base_uri": "https://localhost:8080/"
        },
        "id": "r8cyNkDzCvqQ",
        "outputId": "117d29e5-e922-4db6-f8df-0dfe564cd007"
      },
      "source": [
        "n = int(input())\r\n",
        "li = [int(x) for x in input().split()]\r\n",
        "count = 0\r\n",
        "for ele in li:\r\n",
        "    count = count + ele\r\n",
        "print(count)"
      ],
      "execution_count": 33,
      "outputs": [
        {
          "output_type": "stream",
          "text": [
            "5 \n",
            "1 2 3 4 5 \n",
            "15\n"
          ],
          "name": "stdout"
        }
      ]
    },
    {
      "cell_type": "markdown",
      "metadata": {
        "id": "U2UUjxbm0BUQ"
      },
      "source": [
        "Passing through functions/\r\n"
      ]
    },
    {
      "cell_type": "code",
      "metadata": {
        "colab": {
          "base_uri": "https://localhost:8080/"
        },
        "id": "6TwJEN7bS0-f",
        "outputId": "3b8a8def-3806-45d7-ff6b-6005513ca953"
      },
      "source": [
        "def change(li):\r\n",
        "    li[1] = li[1] + 2\r\n",
        "li = [1,2,3,4,5]\r\n",
        "change(li)\r\n",
        "print(li)"
      ],
      "execution_count": 34,
      "outputs": [
        {
          "output_type": "stream",
          "text": [
            "[1, 4, 3, 4, 5]\n"
          ],
          "name": "stdout"
        }
      ]
    },
    {
      "cell_type": "code",
      "metadata": {
        "colab": {
          "base_uri": "https://localhost:8080/"
        },
        "id": "8Iug7yyAVjkl",
        "outputId": "98b2ce31-899a-4477-a6a9-b5512aa2ce90"
      },
      "source": [
        "def change(li):\r\n",
        "    li[1] = li[1] + 2\r\n",
        "    li = [3,3,3,4,5]\r\n",
        "li = [1,2,3,4,5]\r\n",
        "change(li)\r\n",
        "print(li)"
      ],
      "execution_count": 35,
      "outputs": [
        {
          "output_type": "stream",
          "text": [
            "[1, 4, 3, 4, 5]\n"
          ],
          "name": "stdout"
        }
      ]
    },
    {
      "cell_type": "markdown",
      "metadata": {
        "id": "jHOV4xE3Vwg8"
      },
      "source": [
        "Reverse a list"
      ]
    },
    {
      "cell_type": "markdown",
      "metadata": {
        "id": "NUFrXrC2Xgta"
      },
      "source": [
        "method 1"
      ]
    },
    {
      "cell_type": "code",
      "metadata": {
        "colab": {
          "base_uri": "https://localhost:8080/"
        },
        "id": "WWaHQqWAVr11",
        "outputId": "7d7b1b61-0448-4304-90c9-d2a90e6cdb28"
      },
      "source": [
        "def reverse_li(li):\r\n",
        "  length = len(li)\r\n",
        "  for i in range(length//2):\r\n",
        "    li[i],li[length - i -1] = li[length - i -1],li[i]\r\n",
        "li = [1,2,3,4,5,6]\r\n",
        "reverse_li(li)\r\n",
        "print(li)"
      ],
      "execution_count": 37,
      "outputs": [
        {
          "output_type": "stream",
          "text": [
            "[6, 5, 4, 3, 2, 1]\n"
          ],
          "name": "stdout"
        }
      ]
    },
    {
      "cell_type": "markdown",
      "metadata": {
        "id": "t72Moe9uXjFA"
      },
      "source": [
        "method 2"
      ]
    },
    {
      "cell_type": "code",
      "metadata": {
        "colab": {
          "base_uri": "https://localhost:8080/"
        },
        "id": "uUL-c-5lW8vv",
        "outputId": "5beaadb8-ed9b-40ef-8de7-603e55cb4b6d"
      },
      "source": [
        "li[::-1] #start:end:step so here step is -1 that is it will run reverse also it is referencing to a new list"
      ],
      "execution_count": 47,
      "outputs": [
        {
          "output_type": "execute_result",
          "data": {
            "text/plain": [
              "[1, 2, 3, 4, 5, 6]"
            ]
          },
          "metadata": {
            "tags": []
          },
          "execution_count": 47
        }
      ]
    },
    {
      "cell_type": "code",
      "metadata": {
        "id": "4eDB38cwXJwp"
      },
      "source": [
        ""
      ],
      "execution_count": null,
      "outputs": []
    }
  ]
}