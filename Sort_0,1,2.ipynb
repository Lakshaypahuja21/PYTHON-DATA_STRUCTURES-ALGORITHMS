{
  "nbformat": 4,
  "nbformat_minor": 0,
  "metadata": {
    "colab": {
      "name": "Sort 0,1,2",
      "provenance": [],
      "authorship_tag": "ABX9TyN7u7nrb542bfkVxP4QuvHy"
    },
    "kernelspec": {
      "name": "python3",
      "display_name": "Python 3"
    }
  },
  "cells": [
    {
      "cell_type": "markdown",
      "metadata": {
        "id": "UqWuydQZcU3S"
      },
      "source": [
        "You are given an integer array/list(ARR) of size N. It contains only 0s, 1s and 2s. Write a solution to sort this array/list in a 'single scan'.\r\n",
        "'Single Scan' refers to iterating over the array/list just once or to put it in other words, you will be visiting each element in the array/list just once.\r\n",
        "\r\n",
        "Note:\r\n",
        "\r\n",
        "You need to change in the given array/list itself. Hence, no need to return or print anything. \r\n",
        "\r\n",
        "Input format :\r\n",
        "\r\n",
        "The first line contains an Integer 't' which denotes the number of test cases or queries to be run. Then the test cases follow.\r\n",
        "\r\n",
        "First line of each test case or query contains an integer 'N' representing the size of the array/list.\r\n",
        "\r\n",
        "Second line contains 'N' single space separated integers(all 0s, 1s and 2s) representing the elements in the array/list.\r\n",
        "\r\n",
        "Output Format :\r\n",
        "\r\n",
        "For each test case, print the sorted array/list elements in a row separated by a single space.\r\n",
        "\r\n",
        "Output for every test case will be printed in a separate line.\r\n",
        "\r\n",
        "Constraints :\r\n",
        "\r\n",
        "1 <= t <= 10^2\r\n",
        "\r\n",
        "0 <= N <= 10^5\r\n",
        "\r\n",
        "Time Limit: 1 sec\r\n",
        "\r\n",
        "Sample Input 1:\r\n",
        "\r\n",
        "1\r\n",
        "\r\n",
        "7\r\n",
        "\r\n",
        "0 1 2 0 2 0 1\r\n",
        "\r\n",
        "Sample Output 1:\r\n",
        "\r\n",
        "0 0 0 1 1 2 2 \r\n",
        "\r\n",
        "Sample Input 2:\r\n",
        "\r\n",
        "2\r\n",
        "\r\n",
        "5\r\n",
        "\r\n",
        "2 2 0 1 1\r\n",
        "\r\n",
        "7\r\n",
        "\r\n",
        "0 1 2 0 1 2 0\r\n",
        "\r\n",
        "\r\n",
        "Sample Output 2:\r\n",
        "\r\n",
        "0 1 1 2 2 \r\n",
        "\r\n",
        "0 0 0 1 1 2 2"
      ]
    },
    {
      "cell_type": "markdown",
      "metadata": {
        "id": "-odw6A_5uNFQ"
      },
      "source": [
        "method"
      ]
    },
    {
      "cell_type": "code",
      "metadata": {
        "colab": {
          "base_uri": "https://localhost:8080/"
        },
        "id": "2B7BD6QPuOaT",
        "outputId": "f2d58463-5d62-4717-e651-6e40cff4ea21"
      },
      "source": [
        "def Sort012(arr):\r\n",
        "  n = len(arr)\r\n",
        "  nextZero = 0\r\n",
        "  nextTwo = (n - 1) \r\n",
        "  i = 0 \r\n",
        "  while i <= nextTwo :\r\n",
        "    if arr[i] == 0 :\r\n",
        "      temp = arr[nextZero]\r\n",
        "      arr[nextZero] = arr[i] \r\n",
        "      arr[i] = temp\r\n",
        "      i += 1\r\n",
        "      nextZero += 1\r\n",
        "    elif arr[i] == 2 :\r\n",
        "      temp = arr[nextTwo] \r\n",
        "      arr[nextTwo] = arr[i] \r\n",
        "      arr[i] = temp\r\n",
        "      nextTwo -= 1\r\n",
        "    else : \r\n",
        "      i += 1\r\n",
        "\r\n",
        "arr = [2,1,2,0,2,1,0]\r\n",
        "Sort012(arr)\r\n",
        "print(arr)"
      ],
      "execution_count": 4,
      "outputs": [
        {
          "output_type": "stream",
          "text": [
            "[0, 0, 1, 1, 2, 2, 2]\n"
          ],
          "name": "stdout"
        }
      ]
    },
    {
      "cell_type": "code",
      "metadata": {
        "id": "AhmgiH1Xb77F",
        "colab": {
          "base_uri": "https://localhost:8080/"
        },
        "outputId": "4507840e-8da6-48eb-e5dd-4a57ff042316"
      },
      "source": [
        "from sys import stdin \r\n",
        "\r\n",
        "def sort012(arr, n) :\r\n",
        "    #Your code goes here\r\n",
        "\r\n",
        "  nextZero = 0\r\n",
        "  nextTwo = (n - 1) \r\n",
        "  i = 0 \r\n",
        "  while i <= nextTwo :\r\n",
        "    if arr[i] == 0 :\r\n",
        "      temp = arr[nextZero]\r\n",
        "      arr[nextZero] = arr[i] \r\n",
        "      arr[i] = temp\r\n",
        "      i += 1\r\n",
        "      nextZero += 1\r\n",
        "    elif arr[i] == 2 :\r\n",
        "      temp = arr[nextTwo] \r\n",
        "      arr[nextTwo] = arr[i] \r\n",
        "      arr[i] = temp\r\n",
        "      nextTwo -= 1\r\n",
        "    else : \r\n",
        "      i += 1\r\n",
        "#Taking Input Using Fast I/O\r\n",
        "def takeInput() :\r\n",
        "    n = int(input().rstrip())\r\n",
        "    if n == 0 :\r\n",
        "        return list(), 0\r\n",
        "\r\n",
        "    arr = list(map(int, input().rstrip().split(\" \")))\r\n",
        "    return arr, n\r\n",
        "\r\n",
        "\r\n",
        "#to print the array/list\r\n",
        "def printList(arr, n) :\r\n",
        "    for i in range(n) :\r\n",
        "        print(arr[i], end = \" \")\r\n",
        "\r\n",
        "    print()\r\n",
        "\r\n",
        "\r\n",
        "#main\r\n",
        "t = int(input().rstrip())\r\n",
        "\r\n",
        "while t > 0 :\r\n",
        "    \r\n",
        "    arr, n = takeInput()\r\n",
        "\r\n",
        "    sort012(arr, n)\r\n",
        "    printList(arr, n)\r\n",
        "    \r\n",
        "    t -= 1"
      ],
      "execution_count": 5,
      "outputs": [
        {
          "output_type": "stream",
          "text": [
            "1\n",
            "7\n",
            "1 0 2 1 0 1 0\n",
            "0 0 0 1 1 1 2 \n"
          ],
          "name": "stdout"
        }
      ]
    }
  ]
}