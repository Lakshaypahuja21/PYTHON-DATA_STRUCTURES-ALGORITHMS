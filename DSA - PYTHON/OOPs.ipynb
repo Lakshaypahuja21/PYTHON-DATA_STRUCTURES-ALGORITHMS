{
  "nbformat": 4,
  "nbformat_minor": 0,
  "metadata": {
    "colab": {
      "name": "OOPs",
      "provenance": [],
      "authorship_tag": "ABX9TyPD4KPiI4IJM1gMHaKzhLT2"
    },
    "kernelspec": {
      "name": "python3",
      "display_name": "Python 3"
    }
  },
  "cells": [
    {
      "cell_type": "markdown",
      "metadata": {
        "id": "NBHAGkDzQUn6"
      },
      "source": [
        "it becomes more oriented - readable. \r\n",
        "\r\n",
        "so we will study 2 main things - classes and objects\r\n",
        "\r\n",
        "class is a template which tells how our objects will look like\r\n",
        "\r\n",
        "Objects will have some functionality i.e they will be able to do a lot of work for us and and they will also have some data(attributes)\r\n",
        "\r\n",
        "object is an instance of that class\r\n"
      ]
    },
    {
      "cell_type": "markdown",
      "metadata": {
        "id": "CRFtN7FxqwZd"
      },
      "source": [
        "we will define classes so as to make it intuititive"
      ]
    },
    {
      "cell_type": "code",
      "metadata": {
        "id": "-uEH53mTQSh-"
      },
      "source": [
        "class Student:\r\n",
        "  pass # to create an empty class"
      ],
      "execution_count": 1,
      "outputs": []
    },
    {
      "cell_type": "markdown",
      "metadata": {
        "id": "lfd4i52ulHq1"
      },
      "source": [
        "creating an object"
      ]
    },
    {
      "cell_type": "code",
      "metadata": {
        "id": "HovEG18brVUe"
      },
      "source": [
        "s1 = Student()  #creates an object s1 for student class"
      ],
      "execution_count": 2,
      "outputs": []
    },
    {
      "cell_type": "code",
      "metadata": {
        "colab": {
          "base_uri": "https://localhost:8080/"
        },
        "id": "SJIne-QXkd-u",
        "outputId": "38967724-9ffe-4a1f-e7d1-d96fa5221288"
      },
      "source": [
        "print(s1)"
      ],
      "execution_count": 3,
      "outputs": [
        {
          "output_type": "stream",
          "text": [
            "<__main__.Student object at 0x7f4c04874470>\n"
          ],
          "name": "stdout"
        }
      ]
    },
    {
      "cell_type": "code",
      "metadata": {
        "colab": {
          "base_uri": "https://localhost:8080/"
        },
        "id": "kqDeT674rYdg",
        "outputId": "744c5b4d-f002-47d2-da87-c5de466accd7"
      },
      "source": [
        "print(type(s1))\r\n",
        "l = list()\r\n",
        "print(type(l))\r\n",
        "# see we have learned list, we were using list class but now we have created student class"
      ],
      "execution_count": 4,
      "outputs": [
        {
          "output_type": "stream",
          "text": [
            "<class '__main__.Student'>\n",
            "<class 'list'>\n"
          ],
          "name": "stdout"
        }
      ]
    },
    {
      "cell_type": "code",
      "metadata": {
        "colab": {
          "base_uri": "https://localhost:8080/"
        },
        "id": "IA0leo5drako",
        "outputId": "809fe917-fc03-4533-ed55-01d92ebd18e8"
      },
      "source": [
        "s2 = Student()\r\n",
        "s3 = Student()\r\n",
        "print(s2,s3)"
      ],
      "execution_count": null,
      "outputs": [
        {
          "output_type": "stream",
          "text": [
            "<__main__.Student object at 0x7f1f57c8f2e8> <__main__.Student object at 0x7f1f57c8f4e0>\n"
          ],
          "name": "stdout"
        }
      ]
    },
    {
      "cell_type": "markdown",
      "metadata": {
        "id": "nI2dIbr-ty4n"
      },
      "source": [
        "attributes --> how to add data in object i.e roll number to a student\r\n"
      ]
    },
    {
      "cell_type": "code",
      "metadata": {
        "id": "10L9Rrbyrptl"
      },
      "source": [
        "class Student:\r\n",
        "  #name = \"\"\r\n",
        "  #rollNo =              #this is how we do in java or cpp but in python we do different  \r\n",
        "  pass"
      ],
      "execution_count": null,
      "outputs": []
    },
    {
      "cell_type": "markdown",
      "metadata": {
        "id": "4jH2ki6Jup2_"
      },
      "source": [
        "how to add value to our objects in python \r\n",
        "\r\n",
        "we will learn how to add data to class later but now see how to add data to individual objects"
      ]
    },
    {
      "cell_type": "markdown",
      "metadata": {
        "id": "LBVRLFYKur-n"
      },
      "source": [
        "syntax --> object.key = value"
      ]
    },
    {
      "cell_type": "code",
      "metadata": {
        "id": "-qW1baHauKMr"
      },
      "source": [
        "s1.name = \"lakshay\" # so here s1 is an instance and therefor name is called an instance aatribute\r\n",
        "s2.rollNo = 12 #rollno is an attribute for s2 will not be there for s1\r\n",
        "s3.name = \"jai\"\r\n",
        "s3.rollNo = 13"
      ],
      "execution_count": null,
      "outputs": []
    },
    {
      "cell_type": "markdown",
      "metadata": {
        "id": "aVShan3Zueyl"
      },
      "source": [
        "how to see all atributes in s1"
      ]
    },
    {
      "cell_type": "code",
      "metadata": {
        "colab": {
          "base_uri": "https://localhost:8080/"
        },
        "id": "2k-6MPgzubR7",
        "outputId": "867bce5f-67e5-47e6-92c8-67fe49ab23c7"
      },
      "source": [
        "s1.__dict__"
      ],
      "execution_count": null,
      "outputs": [
        {
          "output_type": "execute_result",
          "data": {
            "text/plain": [
              "{'name': 'lakshay'}"
            ]
          },
          "metadata": {
            "tags": []
          },
          "execution_count": 30
        }
      ]
    },
    {
      "cell_type": "code",
      "metadata": {
        "colab": {
          "base_uri": "https://localhost:8080/"
        },
        "id": "Te8E6pbbuigN",
        "outputId": "942a79bd-55d1-49b8-a7ac-e5f1ece6dcd6"
      },
      "source": [
        "s2.__dict__"
      ],
      "execution_count": null,
      "outputs": [
        {
          "output_type": "execute_result",
          "data": {
            "text/plain": [
              "{'rollNo': 12}"
            ]
          },
          "metadata": {
            "tags": []
          },
          "execution_count": 31
        }
      ]
    },
    {
      "cell_type": "code",
      "metadata": {
        "colab": {
          "base_uri": "https://localhost:8080/"
        },
        "id": "PDfcSuJoul7w",
        "outputId": "7fa38e7e-d5b5-4d21-ddc2-d6f452d39b79"
      },
      "source": [
        "s3.__dict__"
      ],
      "execution_count": null,
      "outputs": [
        {
          "output_type": "execute_result",
          "data": {
            "text/plain": [
              "{'name': 'jai', 'rollNo': 13}"
            ]
          },
          "metadata": {
            "tags": []
          },
          "execution_count": 32
        }
      ]
    },
    {
      "cell_type": "code",
      "metadata": {
        "colab": {
          "base_uri": "https://localhost:8080/"
        },
        "id": "sbMjkbKXunRC",
        "outputId": "e3837918-077c-4ad5-9867-35a54b9fcf9b"
      },
      "source": [
        "hasattr(s1,\"name\")"
      ],
      "execution_count": null,
      "outputs": [
        {
          "output_type": "execute_result",
          "data": {
            "text/plain": [
              "True"
            ]
          },
          "metadata": {
            "tags": []
          },
          "execution_count": 33
        }
      ]
    },
    {
      "cell_type": "code",
      "metadata": {
        "colab": {
          "base_uri": "https://localhost:8080/"
        },
        "id": "LlIQn9T8u5xY",
        "outputId": "8ec158ab-b273-4651-f26c-140544552e53"
      },
      "source": [
        "hasattr(s2,\"name\")"
      ],
      "execution_count": null,
      "outputs": [
        {
          "output_type": "execute_result",
          "data": {
            "text/plain": [
              "False"
            ]
          },
          "metadata": {
            "tags": []
          },
          "execution_count": 34
        }
      ]
    },
    {
      "cell_type": "code",
      "metadata": {
        "colab": {
          "base_uri": "https://localhost:8080/",
          "height": 35
        },
        "id": "Wgx33Vl0u9G9",
        "outputId": "62f3f48d-cde1-469c-b78d-c9cc83e74154"
      },
      "source": [
        "getattr(s1,\"name\")"
      ],
      "execution_count": null,
      "outputs": [
        {
          "output_type": "execute_result",
          "data": {
            "application/vnd.google.colaboratory.intrinsic+json": {
              "type": "string"
            },
            "text/plain": [
              "'lakshay'"
            ]
          },
          "metadata": {
            "tags": []
          },
          "execution_count": 35
        }
      ]
    },
    {
      "cell_type": "code",
      "metadata": {
        "colab": {
          "base_uri": "https://localhost:8080/",
          "height": 161
        },
        "id": "sHTC0RQIu_xj",
        "outputId": "da7154c9-ce47-47fb-aac2-2ebf4a1674e3"
      },
      "source": [
        "getattr(s2,\"name\")"
      ],
      "execution_count": null,
      "outputs": [
        {
          "output_type": "error",
          "ename": "AttributeError",
          "evalue": "ignored",
          "traceback": [
            "\u001b[0;31m---------------------------------------------------------------------------\u001b[0m",
            "\u001b[0;31mAttributeError\u001b[0m                            Traceback (most recent call last)",
            "\u001b[0;32m<ipython-input-37-0910fab39558>\u001b[0m in \u001b[0;36m<module>\u001b[0;34m()\u001b[0m\n\u001b[0;32m----> 1\u001b[0;31m \u001b[0mgetattr\u001b[0m\u001b[0;34m(\u001b[0m\u001b[0ms2\u001b[0m\u001b[0;34m,\u001b[0m\u001b[0;34m\"name\"\u001b[0m\u001b[0;34m)\u001b[0m\u001b[0;34m\u001b[0m\u001b[0;34m\u001b[0m\u001b[0m\n\u001b[0m",
            "\u001b[0;31mAttributeError\u001b[0m: 'Student' object has no attribute 'name'"
          ]
        }
      ]
    },
    {
      "cell_type": "code",
      "metadata": {
        "colab": {
          "base_uri": "https://localhost:8080/",
          "height": 35
        },
        "id": "uVf_yID-vF_e",
        "outputId": "4e8d0345-69dc-41c4-eed0-cd77d48a8a3a"
      },
      "source": [
        "getattr(s2,\"name\",\"jai\")"
      ],
      "execution_count": null,
      "outputs": [
        {
          "output_type": "execute_result",
          "data": {
            "application/vnd.google.colaboratory.intrinsic+json": {
              "type": "string"
            },
            "text/plain": [
              "'jai'"
            ]
          },
          "metadata": {
            "tags": []
          },
          "execution_count": 38
        }
      ]
    },
    {
      "cell_type": "code",
      "metadata": {
        "id": "06WDj1IxvV3T"
      },
      "source": [
        "delattr(s1,\"name\")"
      ],
      "execution_count": null,
      "outputs": []
    },
    {
      "cell_type": "code",
      "metadata": {
        "colab": {
          "base_uri": "https://localhost:8080/"
        },
        "id": "hGMVti7pvkVT",
        "outputId": "e53ca503-e7c0-4df4-dbe4-053a7de42390"
      },
      "source": [
        "s1.__dict__"
      ],
      "execution_count": null,
      "outputs": [
        {
          "output_type": "execute_result",
          "data": {
            "text/plain": [
              "{}"
            ]
          },
          "metadata": {
            "tags": []
          },
          "execution_count": 41
        }
      ]
    },
    {
      "cell_type": "markdown",
      "metadata": {
        "id": "TM0toIahwJMY"
      },
      "source": [
        "class attributes are common while instance attributes belong to particular objects"
      ]
    },
    {
      "cell_type": "markdown",
      "metadata": {
        "id": "kvxZ-DtAw7sY"
      },
      "source": [
        "if same attribute is made as instance then instance attribute is given priority than class attribute"
      ]
    },
    {
      "cell_type": "markdown",
      "metadata": {
        "id": "5ZB1dXg1xT4g"
      },
      "source": [
        "Self parameter "
      ]
    },
    {
      "cell_type": "code",
      "metadata": {
        "colab": {
          "base_uri": "https://localhost:8080/"
        },
        "id": "jyJfUworv1Qx",
        "outputId": "4d58aa6f-ad96-4772-8a72-7034e0db1409"
      },
      "source": [
        "class Student:\r\n",
        "  passingmarks = 40\r\n",
        "\r\n",
        "  def student_details(self): # self is an object that means which ever object will be given will be stored in self\r\n",
        "    self.name = \"Lakshay\"    # self will now have instance attributes that is name and percentage\r\n",
        "    print(\"Name = \",self.name)\r\n",
        "    self.percentage = 80\r\n",
        "    print(\"percentage =\",self.percentage)\r\n",
        "    \r\n",
        "  def isPassed(self):\r\n",
        "    if self.percentage > Student.passingmarks:\r\n",
        "      print(\"passed\")\r\n",
        "    else:\r\n",
        "      print(\"fail\")\r\n",
        "s1 = Student()\r\n",
        "s1.student_details()\r\n",
        "Student.student_details(s1)\r\n",
        "#class_name.function(object_name)\r\n",
        "s1.isPassed()"
      ],
      "execution_count": null,
      "outputs": [
        {
          "output_type": "stream",
          "text": [
            "Name =  Lakshay\n",
            "percentage = 80\n",
            "Name =  Lakshay\n",
            "percentage = 80\n",
            "passed\n"
          ],
          "name": "stdout"
        }
      ]
    },
    {
      "cell_type": "markdown",
      "metadata": {
        "id": "j07RgWRk1UyO"
      },
      "source": [
        "Static method (earlier that was instance method i.e in which self will be passed)"
      ]
    },
    {
      "cell_type": "code",
      "metadata": {
        "colab": {
          "base_uri": "https://localhost:8080/"
        },
        "id": "GhQLee6D1HAk",
        "outputId": "27058283-5463-43db-81bf-cffbf102c2a5"
      },
      "source": [
        "class Student:\r\n",
        "  passingmarks = 40\r\n",
        "\r\n",
        "  def student_details(self):\r\n",
        "    self.name = \"Lakshay\"\r\n",
        "    print(\"Name = \",self.name)\r\n",
        "    self.percentage = 80\r\n",
        "    print(\"percentage =\",self.percentage)\r\n",
        "    \r\n",
        "  def isPassed(self):\r\n",
        "    if self.percentage > Student.passingmarks:\r\n",
        "      print(\"passed\")\r\n",
        "    else:\r\n",
        "      print(\"fail\")\r\n",
        "\r\n",
        "  @staticmethod    # it will ignore the first argument which is self, so we dont have to pass self here\r\n",
        "  def welcomeToSchool():\r\n",
        "    print(\"hey welcome to school\")\r\n",
        "\r\n",
        "s1 = Student()\r\n",
        "s1.student_details()\r\n",
        "Student.student_details(s1)\r\n",
        "#class_name.function(object_name)\r\n",
        "s1.isPassed()\r\n",
        "s1.welcomeToSchool()"
      ],
      "execution_count": null,
      "outputs": [
        {
          "output_type": "stream",
          "text": [
            "Name =  Lakshay\n",
            "percentage = 80\n",
            "Name =  Lakshay\n",
            "percentage = 80\n",
            "passed\n",
            "hey welcome to school\n"
          ],
          "name": "stdout"
        }
      ]
    },
    {
      "cell_type": "markdown",
      "metadata": {
        "id": "ogbE94mI2Swu"
      },
      "source": [
        "init method "
      ]
    },
    {
      "cell_type": "code",
      "metadata": {
        "id": "UcbaAAat1x4Q"
      },
      "source": [
        "class Student:\r\n",
        "  def __init__(self):\r\n",
        "    self.name = \"abc\"\r\n",
        "    self.roll = 12\r\n",
        "    "
      ],
      "execution_count": null,
      "outputs": []
    },
    {
      "cell_type": "code",
      "metadata": {
        "id": "SOCbfmlTrhxz"
      },
      "source": [
        "s9 = Student()"
      ],
      "execution_count": null,
      "outputs": []
    },
    {
      "cell_type": "code",
      "metadata": {
        "colab": {
          "base_uri": "https://localhost:8080/"
        },
        "id": "P45acBUqrlco",
        "outputId": "4dd267c7-7bcc-4cb3-8b83-d5b89cd657ae"
      },
      "source": [
        "s9.__dict__"
      ],
      "execution_count": null,
      "outputs": [
        {
          "output_type": "execute_result",
          "data": {
            "text/plain": [
              "{'name': 'abc', 'roll': 12}"
            ]
          },
          "metadata": {
            "tags": []
          },
          "execution_count": 4
        }
      ]
    },
    {
      "cell_type": "code",
      "metadata": {
        "id": "aSAKJYiyrpzs"
      },
      "source": [
        "s10 =  Student()\r\n",
        "s10.name = \"jai\"   # so whole pt of creating init method was we should not do thsi everytime we crete an object\r\n",
        "s10.roll = \"69\""
      ],
      "execution_count": 7,
      "outputs": []
    },
    {
      "cell_type": "code",
      "metadata": {
        "colab": {
          "base_uri": "https://localhost:8080/"
        },
        "id": "uy7IbyHlruKo",
        "outputId": "0f67f2d6-7a89-4a14-be68-4b0cc2af7188"
      },
      "source": [
        "s10.__dict__"
      ],
      "execution_count": 8,
      "outputs": [
        {
          "output_type": "execute_result",
          "data": {
            "text/plain": [
              "{'name': 'jai', 'roll': '69'}"
            ]
          },
          "metadata": {
            "tags": []
          },
          "execution_count": 8
        }
      ]
    },
    {
      "cell_type": "code",
      "metadata": {
        "colab": {
          "base_uri": "https://localhost:8080/"
        },
        "id": "pLtoAgHlrwPs",
        "outputId": "2f6f7231-5305-4574-eb7d-8bab1281e3fb"
      },
      "source": [
        "s9, s10"
      ],
      "execution_count": null,
      "outputs": [
        {
          "output_type": "execute_result",
          "data": {
            "text/plain": [
              "(<__main__.Student at 0x7f03b3165da0>, <__main__.Student at 0x7f03b3171588>)"
            ]
          },
          "metadata": {
            "tags": []
          },
          "execution_count": 7
        }
      ]
    },
    {
      "cell_type": "markdown",
      "metadata": {
        "id": "S4MjjOK3tEuh"
      },
      "source": [
        "this will again let you make object writing name and roll number again so whats the point of using class?"
      ]
    },
    {
      "cell_type": "markdown",
      "metadata": {
        "id": "coI26gLFtNAq"
      },
      "source": [
        "this is what we want"
      ]
    },
    {
      "cell_type": "code",
      "metadata": {
        "id": "vAxv-IP1rykq"
      },
      "source": [
        "class Student:\r\n",
        "  def __init__(self,name,rollNo):\r\n",
        "    self.name = name\r\n",
        "    self.rollNo = rollNo"
      ],
      "execution_count": null,
      "outputs": []
    },
    {
      "cell_type": "code",
      "metadata": {
        "id": "E00ekwGzugft"
      },
      "source": [
        "s1 = Student(\"lakshay\",12)"
      ],
      "execution_count": null,
      "outputs": []
    },
    {
      "cell_type": "code",
      "metadata": {
        "colab": {
          "base_uri": "https://localhost:8080/"
        },
        "id": "6oT0-hlBumzU",
        "outputId": "230acbce-b1ad-4ccf-c22e-24e7f5a1aecf"
      },
      "source": [
        "s1.__dict__"
      ],
      "execution_count": null,
      "outputs": [
        {
          "output_type": "execute_result",
          "data": {
            "text/plain": [
              "{'name': 'lakshay', 'rollNo': 12}"
            ]
          },
          "metadata": {
            "tags": []
          },
          "execution_count": 11
        }
      ]
    },
    {
      "cell_type": "markdown",
      "metadata": {
        "id": "3nTs9AZUz--7"
      },
      "source": [
        "class methods"
      ]
    },
    {
      "cell_type": "markdown",
      "metadata": {
        "id": "cY299-aaXJ7N"
      },
      "source": [
        "factory methods --> return object of a class  "
      ]
    },
    {
      "cell_type": "code",
      "metadata": {
        "id": "-1eC0xeAvJcJ",
        "colab": {
          "base_uri": "https://localhost:8080/"
        },
        "outputId": "82e4a699-8b77-4f11-a3d1-d687f24a86d8"
      },
      "source": [
        "from datetime import date\r\n",
        "class Student:\r\n",
        "  passingmarks = 40\r\n",
        "\r\n",
        "  #def student_details(self):\r\n",
        "   # self.name = \"Lakshay\"\r\n",
        "    #print(\"Name = \",self.name)\r\n",
        "    #self.percentage = 80\r\n",
        "    #print(\"percentage =\",self.percentage)\r\n",
        "  # so instead of above use this\r\n",
        "  def __init__(self,name,age=15,percentage = 80):\r\n",
        "    self.name = name\r\n",
        "    self.age = age\r\n",
        "    self.percentage = percentage\r\n",
        "  \r\n",
        "\r\n",
        "  @classmethod\r\n",
        "  def fromBirthYear(cls,name,year,percentage):\r\n",
        "    return cls(name, date.today().year-year, percentage)  #it is return am object from class that is why we say class emthod\r\n",
        "\r\n",
        "  def student_details(self):\r\n",
        "    print(\"Name = \",self.name)\r\n",
        "    print(\"age = \",self.age)\r\n",
        "    print(\"%age = \",self.percentage)\r\n",
        "\r\n",
        "  def isPassed(self):\r\n",
        "    if self.percentage > Student.passingmarks:\r\n",
        "      print(\"passed\")\r\n",
        "    else:\r\n",
        "      print(\"fail\")\r\n",
        "\r\n",
        "  @staticmethod    # it will ignore the first argument which is self, so we dont have to pass self here\r\n",
        "  def welcomeToSchool():\r\n",
        "    print(\"hey welcome to school\")\r\n",
        "\r\n",
        "s1 = Student(\"lakshay\")\r\n",
        "s1 = Student.fromBirthYear(\"lakshay\",1999,70)\r\n",
        "s1.student_details()\r\n",
        "Student.student_details(s1)\r\n",
        "#class_name.function(object_name)\r\n",
        "s1.isPassed()\r\n",
        "s1.welcomeToSchool()"
      ],
      "execution_count": 1,
      "outputs": [
        {
          "output_type": "stream",
          "text": [
            "Name =  lakshay\n",
            "age =  22\n",
            "%age =  70\n",
            "Name =  lakshay\n",
            "age =  22\n",
            "%age =  70\n",
            "passed\n",
            "hey welcome to school\n"
          ],
          "name": "stdout"
        }
      ]
    },
    {
      "cell_type": "markdown",
      "metadata": {
        "id": "PZenhYBuCdH0"
      },
      "source": [
        "public and pvt modifiers"
      ]
    },
    {
      "cell_type": "code",
      "metadata": {
        "colab": {
          "base_uri": "https://localhost:8080/"
        },
        "id": "fttpR-LKdV1N",
        "outputId": "37e29b76-a376-4975-e5b5-04a58b83a42f"
      },
      "source": [
        "print(s1.name)"
      ],
      "execution_count": 2,
      "outputs": [
        {
          "output_type": "stream",
          "text": [
            "lakshay\n"
          ],
          "name": "stdout"
        }
      ]
    },
    {
      "cell_type": "code",
      "metadata": {
        "colab": {
          "base_uri": "https://localhost:8080/"
        },
        "id": "G5_Je9OedaHF",
        "outputId": "c397442d-e4cd-4db2-9e1a-d9342322308e"
      },
      "source": [
        "s1.name = 'jai'\r\n",
        "print(s1.name)"
      ],
      "execution_count": 3,
      "outputs": [
        {
          "output_type": "stream",
          "text": [
            "jai\n"
          ],
          "name": "stdout"
        }
      ]
    },
    {
      "cell_type": "markdown",
      "metadata": {
        "id": "h3EVsADtdZyh"
      },
      "source": [
        "i was able to change it outside the class that means they are public "
      ]
    },
    {
      "cell_type": "markdown",
      "metadata": {
        "id": "a2yaWLWzCmlW"
      },
      "source": [
        "when we change name outside the class then it is public modifier"
      ]
    },
    {
      "cell_type": "markdown",
      "metadata": {
        "id": "62xAl8dZCr_r"
      },
      "source": [
        "but if we dont want to let a student change his name instead he should go via class, then we can make a pvt modifier "
      ]
    },
    {
      "cell_type": "markdown",
      "metadata": {
        "id": "rQawtJZRC8mn"
      },
      "source": [
        "self.name is public modifier whereas self.__name is now pvt modifier"
      ]
    },
    {
      "cell_type": "markdown",
      "metadata": {
        "id": "lyWOeycuDTGL"
      },
      "source": [
        "but then pvt modifier will only be accessed in class only "
      ]
    },
    {
      "cell_type": "code",
      "metadata": {
        "colab": {
          "base_uri": "https://localhost:8080/"
        },
        "id": "Z5wuP0Zyd3-U",
        "outputId": "7470704f-803f-44d3-bfa5-e10ebf2a3bcc"
      },
      "source": [
        "from datetime import date\r\n",
        "class Student:\r\n",
        "  passingmarks = 40\r\n",
        "\r\n",
        "  #def student_details(self):\r\n",
        "   # self.name = \"Lakshay\"\r\n",
        "    #print(\"Name = \",self.name)\r\n",
        "    #self.percentage = 80\r\n",
        "    #print(\"percentage =\",self.percentage)\r\n",
        "  # so instead of above use this\r\n",
        "  def __init__(self,name,age=15,percentage = 80):\r\n",
        "    self.__name = name\r\n",
        "    self.age = age\r\n",
        "    self.percentage = percentage\r\n",
        "  \r\n",
        "\r\n",
        "  @classmethod\r\n",
        "  def fromBirthYear(cls,name,year,percentage):\r\n",
        "    return cls(name, date.today().year-year, percentage)  #it is return am object from class that is why we say class emthod\r\n",
        "\r\n",
        "  def student_details(self):\r\n",
        "    print(\"Name = \",self.__name)\r\n",
        "    print(\"age = \",self.age)\r\n",
        "    print(\"%age = \",self.percentage)\r\n",
        "\r\n",
        "  def isPassed(self):\r\n",
        "    if self.percentage > Student.passingmarks:\r\n",
        "      print(\"passed\")\r\n",
        "    else:\r\n",
        "      print(\"fail\")\r\n",
        "\r\n",
        "  @staticmethod    # it will ignore the first argument which is self, so we dont have to pass self here\r\n",
        "  def welcomeToSchool():\r\n",
        "    print(\"hey welcome to school\")\r\n",
        "\r\n",
        "s1 = Student(\"lakshay\")\r\n",
        "s1 = Student.fromBirthYear(\"lakshay\",1999,70)\r\n",
        "s1.student_details()\r\n",
        "Student.student_details(s1)\r\n",
        "#class_name.function(object_name)\r\n",
        "s1.isPassed()\r\n",
        "s1.welcomeToSchool()"
      ],
      "execution_count": 5,
      "outputs": [
        {
          "output_type": "stream",
          "text": [
            "Name =  lakshay\n",
            "age =  22\n",
            "%age =  70\n",
            "Name =  lakshay\n",
            "age =  22\n",
            "%age =  70\n",
            "passed\n",
            "hey welcome to school\n"
          ],
          "name": "stdout"
        }
      ]
    },
    {
      "cell_type": "code",
      "metadata": {
        "colab": {
          "base_uri": "https://localhost:8080/",
          "height": 161
        },
        "id": "6qdJYsCCeJJ6",
        "outputId": "2a5ac059-d0cd-4d1d-fba4-72b2019d29d7"
      },
      "source": [
        "print(s1.__name)"
      ],
      "execution_count": 6,
      "outputs": [
        {
          "output_type": "error",
          "ename": "AttributeError",
          "evalue": "ignored",
          "traceback": [
            "\u001b[0;31m---------------------------------------------------------------------------\u001b[0m",
            "\u001b[0;31mAttributeError\u001b[0m                            Traceback (most recent call last)",
            "\u001b[0;32m<ipython-input-6-e40ce41521fe>\u001b[0m in \u001b[0;36m<module>\u001b[0;34m()\u001b[0m\n\u001b[0;32m----> 1\u001b[0;31m \u001b[0mprint\u001b[0m\u001b[0;34m(\u001b[0m\u001b[0ms1\u001b[0m\u001b[0;34m.\u001b[0m\u001b[0m__name\u001b[0m\u001b[0;34m)\u001b[0m\u001b[0;34m\u001b[0m\u001b[0;34m\u001b[0m\u001b[0m\n\u001b[0m",
            "\u001b[0;31mAttributeError\u001b[0m: 'Student' object has no attribute '__name'"
          ]
        }
      ]
    },
    {
      "cell_type": "markdown",
      "metadata": {
        "id": "WYCTf_cyeQVL"
      },
      "source": [
        "this error shows that when we called outside the class we were not able to but when run inside the class we were able to...."
      ]
    },
    {
      "cell_type": "markdown",
      "metadata": {
        "id": "ou7AV95CD7Rr"
      },
      "source": [
        "Inheritance"
      ]
    },
    {
      "cell_type": "markdown",
      "metadata": {
        "id": "pMZyY71bEAlN"
      },
      "source": [
        "concept of parent class and derived class/\r\n"
      ]
    },
    {
      "cell_type": "markdown",
      "metadata": {
        "id": "SVtLPErpE4_j"
      },
      "source": [
        "write properties in parent class and then use it in derived classes"
      ]
    },
    {
      "cell_type": "markdown",
      "metadata": {
        "id": "4l7U4SJgFB8Z"
      },
      "source": [
        "* base class or parent class\r\n",
        "* derived class or child class"
      ]
    },
    {
      "cell_type": "markdown",
      "metadata": {
        "id": "fFZVq2_dFx-F"
      },
      "source": [
        "we can use super keyword for parent class"
      ]
    },
    {
      "cell_type": "code",
      "metadata": {
        "colab": {
          "base_uri": "https://localhost:8080/"
        },
        "id": "BJEJz0P8D6-Y",
        "outputId": "19161dca-cc26-4ca8-8a7c-973be086a5c8"
      },
      "source": [
        "class Vehicle: #base class/ parent class\r\n",
        "  \r\n",
        "  def __init__(self,color,maxspeed):\r\n",
        "    \r\n",
        "    self.color = color \r\n",
        "    self.maxspeed = maxspeed\r\n",
        "\r\n",
        "class Car(Vehicle): #child class / derived class\r\n",
        "  \r\n",
        "  def __init__(self,color,maxspeed,gears,isConvertible):\r\n",
        "    \r\n",
        "    super().__init__(color,maxspeed)\r\n",
        "    self.gears = gears\r\n",
        "    self.isConvertible = isConvertible\r\n",
        "\r\n",
        "  def printCar(self):\r\n",
        "    \r\n",
        "    print(\"color:\", self.color)\r\n",
        "    print(\"maxspeed:\",self.maxspeed)\r\n",
        "    print(\"number of gears:\",self.gears)\r\n",
        "    print(\"is it convertible?\",self.isConvertible)\r\n",
        "c = Car(\"red\",15,6,False)\r\n",
        "c.printCar()"
      ],
      "execution_count": null,
      "outputs": [
        {
          "output_type": "stream",
          "text": [
            "color: red\n",
            "maxspeed: 15\n",
            "number of gears: 6\n",
            "is it convertible? False\n"
          ],
          "name": "stdout"
        }
      ]
    },
    {
      "cell_type": "markdown",
      "metadata": {
        "id": "3EvRVLYOGvvn"
      },
      "source": [
        "Polymorphism"
      ]
    },
    {
      "cell_type": "markdown",
      "metadata": {
        "id": "AyDVJapFVR8k"
      },
      "source": [
        "method overriding"
      ]
    },
    {
      "cell_type": "markdown",
      "metadata": {
        "id": "s3-ZsvImnjOe"
      },
      "source": [
        "say when a function is present in parent as well as child class then, if you call the function in child class will be called. if not present then will be called from parent class"
      ]
    },
    {
      "cell_type": "code",
      "metadata": {
        "colab": {
          "base_uri": "https://localhost:8080/"
        },
        "id": "Wjyc53g1ubDq",
        "outputId": "7524a6c0-b8ee-4f5f-bea2-178fe40f4c11"
      },
      "source": [
        "class Vehicle: #base class/ parent class\r\n",
        "  \r\n",
        "  def __init__(self,color,maxspeed):\r\n",
        "    \r\n",
        "    self.color = color \r\n",
        "    self.maxspeed = maxspeed\r\n",
        "  \r\n",
        "  def print(self):\r\n",
        "    print(\"color: \",self.color)\r\n",
        "    print(\"speed:\", self.maxspeed)\r\n",
        "\r\n",
        "class Car(Vehicle): #child class / derived class\r\n",
        "  \r\n",
        "  def __init__(self,color,maxspeed,gears,isConvertible):\r\n",
        "    \r\n",
        "    super().__init__(color,maxspeed)\r\n",
        "    self.gears = gears\r\n",
        "    self.isConvertible = isConvertible\r\n",
        "\r\n",
        "  def print(self):\r\n",
        "    super().print()\r\n",
        "    print(\"number of gears:\",self.gears)\r\n",
        "    print(\"is it convertible?\",self.isConvertible)\r\n",
        "c = Car(\"red\",15,6,False)\r\n",
        "c.print()"
      ],
      "execution_count": 8,
      "outputs": [
        {
          "output_type": "stream",
          "text": [
            "color:  red\n",
            "speed: 15\n",
            "number of gears: 6\n",
            "is it convertible? False\n"
          ],
          "name": "stdout"
        }
      ]
    },
    {
      "cell_type": "markdown",
      "metadata": {
        "id": "vQ2_rd_ppK9X"
      },
      "source": [
        "so here print funtion was in both classes but is called from car class"
      ]
    },
    {
      "cell_type": "markdown",
      "metadata": {
        "id": "tCDDe7JKpjiw"
      },
      "source": [
        "for protected members use single under score"
      ]
    },
    {
      "cell_type": "markdown",
      "metadata": {
        "id": "fr0O115vpyr1"
      },
      "source": [
        "object class"
      ]
    },
    {
      "cell_type": "markdown",
      "metadata": {
        "id": "ygxrRlIXp25Q"
      },
      "source": [
        "class circle(object):\r\n",
        "\r\n",
        "then there are 3 methods which an object class gives"
      ]
    },
    {
      "cell_type": "code",
      "metadata": {
        "colab": {
          "base_uri": "https://localhost:8080/"
        },
        "id": "lAV6EOZmpFIE",
        "outputId": "dd92fe3d-7630-408d-aa18-5dddbe626578"
      },
      "source": [
        "class Circle(object):\r\n",
        "\r\n",
        "  def __init__(self,radius):\r\n",
        "    self.__radius = radius\r\n",
        "  \r\n",
        "  def __str__(self):\r\n",
        "    return \"this is a circle which takes radius as an argument\"\r\n",
        "\r\n",
        "c = Circle(3)\r\n",
        "print(c)"
      ],
      "execution_count": 10,
      "outputs": [
        {
          "output_type": "stream",
          "text": [
            "this is a circle which takes radius as an argument\n"
          ],
          "name": "stdout"
        }
      ]
    },
    {
      "cell_type": "markdown",
      "metadata": {
        "id": "C-U7Y3LcrSrG"
      },
      "source": [
        "multiple inheritance"
      ]
    },
    {
      "cell_type": "code",
      "metadata": {
        "colab": {
          "base_uri": "https://localhost:8080/"
        },
        "id": "LzvrxTJ0q0-V",
        "outputId": "0c745ba8-d51b-44b3-a254-94120a064064"
      },
      "source": [
        "class Mother:\r\n",
        "\r\n",
        "  def print(self):\r\n",
        "    print(\"print of mother called\")\r\n",
        "\r\n",
        "class Father:\r\n",
        "  \r\n",
        "  def print(self):\r\n",
        "    print(\"print of father called\")\r\n",
        "\r\n",
        "class Child(Father,Mother):\r\n",
        "\r\n",
        "  def __init__(self,name):\r\n",
        "    self.name = name\r\n",
        "\r\n",
        "  def printChild(self):\r\n",
        "    print(\"print of child class \",self.name)\r\n",
        "c = Child(\"lakshay\")\r\n",
        "c.printChild()\r\n",
        "\r\n"
      ],
      "execution_count": 11,
      "outputs": [
        {
          "output_type": "stream",
          "text": [
            "print of child class  lakshay\n"
          ],
          "name": "stdout"
        }
      ]
    },
    {
      "cell_type": "markdown",
      "metadata": {
        "id": "w0FPiQtMszn5"
      },
      "source": [
        "also order of same function will be called in order that is here print of father will be called if not found in child"
      ]
    },
    {
      "cell_type": "markdown",
      "metadata": {
        "id": "A0QR8XK6tOE_"
      },
      "source": [
        "method resolution oder"
      ]
    },
    {
      "cell_type": "code",
      "metadata": {
        "colab": {
          "base_uri": "https://localhost:8080/"
        },
        "id": "MXTxwi5hsXQL",
        "outputId": "902e2ba6-9da3-4516-b687-351cf55570f1"
      },
      "source": [
        "print(Child.mro())"
      ],
      "execution_count": 12,
      "outputs": [
        {
          "output_type": "stream",
          "text": [
            "[<class '__main__.Child'>, <class '__main__.Father'>, <class '__main__.Mother'>, <class 'object'>]\n"
          ],
          "name": "stdout"
        }
      ]
    },
    {
      "cell_type": "markdown",
      "metadata": {
        "id": "5ur_9kai2Zm1"
      },
      "source": [
        "abstraction"
      ]
    },
    {
      "cell_type": "markdown",
      "metadata": {
        "id": "uZdLGSdC2bkj"
      },
      "source": [
        "abstract classes which have abstract methods that means they are declared but not implemented"
      ]
    },
    {
      "cell_type": "markdown",
      "metadata": {
        "id": "_LyGWCPD3AFr"
      },
      "source": [
        "in python we have module --> abc that is abstract base classes"
      ]
    },
    {
      "cell_type": "code",
      "metadata": {
        "colab": {
          "base_uri": "https://localhost:8080/"
        },
        "id": "KAwmhQ88tq5E",
        "outputId": "d032615c-4a92-4432-86de-50430cd477e2"
      },
      "source": [
        "from abc import ABC, abstractmethod\r\n",
        "\r\n",
        "class Automobile(ABC):\r\n",
        "\r\n",
        "  def __init__(self):\r\n",
        "    print(\"automobile created\")\r\n",
        "\r\n",
        "  @abstractmethod\r\n",
        "  def start(self):\r\n",
        "    pass\r\n",
        "\r\n",
        "  @abstractmethod\r\n",
        "  def stop(self):\r\n",
        "    pass\r\n",
        "  @abstractmethod\r\n",
        "  def drive(self):\r\n",
        "    pass\r\n",
        "class Car(Automobile):\r\n",
        "\r\n",
        "  def __init__(self,name):\r\n",
        "    print(\"car created\")\r\n",
        "    self.name = name\r\n",
        "\r\n",
        "  def start(self):\r\n",
        "    pass\r\n",
        "\r\n",
        "  def stop(self):\r\n",
        "    pass\r\n",
        "  def drive(self):\r\n",
        "    pass\r\n",
        "c = Car(\"honda\")\r\n"
      ],
      "execution_count": 15,
      "outputs": [
        {
          "output_type": "stream",
          "text": [
            "car created\n"
          ],
          "name": "stdout"
        }
      ]
    }
  ]
}