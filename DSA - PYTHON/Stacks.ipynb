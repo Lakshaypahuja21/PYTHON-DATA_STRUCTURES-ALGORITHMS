{
  "nbformat": 4,
  "nbformat_minor": 0,
  "metadata": {
    "colab": {
      "name": "Stacks",
      "provenance": [],
      "authorship_tag": "ABX9TyODp5Z1I3O92kv5j4haqSrA"
    },
    "kernelspec": {
      "name": "python3",
      "display_name": "Python 3"
    }
  },
  "cells": [
    {
      "cell_type": "markdown",
      "metadata": {
        "id": "F_hKJb2NH61u"
      },
      "source": [
        "#Last In First Out"
      ]
    },
    {
      "cell_type": "markdown",
      "metadata": {
        "id": "DXzIm7DGH_nF"
      },
      "source": [
        "Abstract datatype --> can not delete/add in between"
      ]
    },
    {
      "cell_type": "markdown",
      "metadata": {
        "id": "Xwpd9MSxIHCN"
      },
      "source": [
        "its all about Push , pop , top"
      ]
    },
    {
      "cell_type": "markdown",
      "metadata": {
        "id": "rpmygI08IdWU"
      },
      "source": [
        "#Stack using arrays\r\n",
        "\r\n"
      ]
    },
    {
      "cell_type": "code",
      "metadata": {
        "id": "5vJJRWzGDs0b"
      },
      "source": [
        "class Stack:\r\n",
        "  def __init__(self):\r\n",
        "    self.__data = []   # we used double underscore to make pvt that is array can not be accessed outside the class\r\n",
        "\r\n",
        "  def push(self,item):\r\n",
        "    self.__data.append(item)\r\n",
        "\r\n",
        "  def pop(self):\r\n",
        "    if self.isEmpty():\r\n",
        "      print(\"stack enpty\")\r\n",
        "      return\r\n",
        "    return self.__data.pop()\r\n",
        "\r\n",
        "  def top(self):\r\n",
        "    if self.isEmpty():\r\n",
        "      print(\"stack empty\")\r\n",
        "      return\r\n",
        "    return self.__data[len(self.__data) - 1]\r\n",
        "\r\n",
        "  def size(self):\r\n",
        "    return len(self.__data)\r\n",
        "\r\n",
        "  def isEmpty(self):\r\n",
        "    return self.size() == 0\r\n",
        "\r\n"
      ],
      "execution_count": null,
      "outputs": []
    },
    {
      "cell_type": "code",
      "metadata": {
        "colab": {
          "base_uri": "https://localhost:8080/"
        },
        "id": "A7cqvpaTLYl-",
        "outputId": "2af2c16c-ee44-42d0-9b26-7bb093f38a8b"
      },
      "source": [
        "s = Stack()\r\n",
        "s.push(12)\r\n",
        "s.push(13)\r\n",
        "s.push(15)\r\n",
        "\r\n",
        "while s.isEmpty () is False:\r\n",
        "  print(s.pop())\r\n"
      ],
      "execution_count": null,
      "outputs": [
        {
          "output_type": "stream",
          "text": [
            "15\n",
            "13\n",
            "12\n"
          ],
          "name": "stdout"
        }
      ]
    },
    {
      "cell_type": "code",
      "metadata": {
        "colab": {
          "base_uri": "https://localhost:8080/"
        },
        "id": "Q1KzaV1BMwe3",
        "outputId": "971a1d48-23d1-4c7f-9c6e-f237bb7393cd"
      },
      "source": [
        "s.top()"
      ],
      "execution_count": null,
      "outputs": [
        {
          "output_type": "stream",
          "text": [
            "stack empty\n"
          ],
          "name": "stdout"
        }
      ]
    },
    {
      "cell_type": "markdown",
      "metadata": {
        "id": "XSiTSyj0M5uU"
      },
      "source": [
        "#Stack using LL"
      ]
    },
    {
      "cell_type": "markdown",
      "metadata": {
        "id": "_lozNrkoTBz5"
      },
      "source": [
        "For push operation:\r\n",
        "\r\n",
        "    1) Create newNode\r\n",
        "\r\n",
        "    2) newNode.next = head\r\n",
        "\r\n",
        "    3) head = newNode\r\n",
        "\r\n",
        "\r\n",
        "---\r\n",
        "\r\n",
        "\r\n",
        "For Pop Operation:\r\n",
        "\r\n",
        "    1) head = head.next\r\n",
        "\r\n",
        "\r\n",
        "---\r\n",
        "\r\n",
        "\r\n",
        "For Size:\r\n",
        "\r\n",
        "    Maintain a count variable\r\n",
        "\r\n",
        "    i) Whenever you push element cnt += 1\r\n",
        "\r\n",
        "    ii) Whenever you pop element cnt -= 1\r\n",
        "\r\n",
        "\r\n",
        "---\r\n",
        "\r\n",
        "\r\n",
        "For Top:\r\n",
        "\r\n",
        "    head.data\r\n",
        "\r\n",
        "\r\n",
        "---\r\n",
        "\r\n",
        "\r\n",
        "For isEmpty() {Two ways}:\r\n",
        "\r\n",
        "    i) Call size()\r\n",
        "\r\n",
        "    ii) If cnt is = then True else False"
      ]
    },
    {
      "cell_type": "code",
      "metadata": {
        "id": "77W7_FfeM1Pe"
      },
      "source": [
        "class Node:\r\n",
        "  def __init__(self,data):\r\n",
        "    self.data = data                            #this is how we create LL and by now this should be by heart (learn)\r\n",
        "    self.next = None\r\n",
        "\r\n",
        "class Stack1:\r\n",
        "  def __init__(self):\r\n",
        "    self.__head = None  # we used double underscore to make pvt that is array can not be accessed outside the class\r\n",
        "    self.__count = 0\r\n",
        "\r\n",
        "\r\n",
        "  def push(self,item):\r\n",
        "    newNode = Node(item)\r\n",
        "    newNode.next = self.__head\r\n",
        "    self.__head = newNode\r\n",
        "    self.__count = self.__count + 1\r\n",
        "\r\n",
        "  def pop(self):\r\n",
        "    if self.isEmpty() is True:\r\n",
        "      print(\"stack enpty\")\r\n",
        "      return\r\n",
        "    data = self.__head.data\r\n",
        "    self.__head = self.__head.next \r\n",
        "    self.__count = self.__count - 1\r\n",
        "    return data\r\n",
        "\r\n",
        "\r\n",
        "  def top(self):\r\n",
        "    if self.isEmpty() is True:\r\n",
        "      print(\"stack empty\")\r\n",
        "      return\r\n",
        "    data = self.__head.data\r\n",
        "    return data\r\n",
        "\r\n",
        "\r\n",
        "  def size(self):\r\n",
        "    return self.__count\r\n",
        "\r\n",
        "  def isEmpty(self):\r\n",
        "    return self.size() == 0   #0r self.__head = None\r\n",
        "\r\n",
        "\r\n",
        "s = Stack1()\r\n",
        "s.push(2)\r\n",
        "s.push(3)\r\n",
        "s.push(4)\r\n"
      ],
      "execution_count": null,
      "outputs": []
    },
    {
      "cell_type": "code",
      "metadata": {
        "colab": {
          "base_uri": "https://localhost:8080/"
        },
        "id": "BbP9DJyKNbLa",
        "outputId": "7763280a-7c73-47f7-8888-b0597d8498bd"
      },
      "source": [
        "while s.isEmpty() is False:\r\n",
        "  print(s.pop())\r\n",
        "\r\n",
        "s.top()"
      ],
      "execution_count": null,
      "outputs": [
        {
          "output_type": "stream",
          "text": [
            "4\n",
            "3\n",
            "2\n",
            "stack empty\n"
          ],
          "name": "stdout"
        }
      ]
    },
    {
      "cell_type": "markdown",
      "metadata": {
        "id": "0aK0hJxTUAcn"
      },
      "source": [
        "#Inbuilt stacks"
      ]
    },
    {
      "cell_type": "code",
      "metadata": {
        "id": "hvmHyVTcOM2_"
      },
      "source": [
        ""
      ],
      "execution_count": null,
      "outputs": []
    },
    {
      "cell_type": "markdown",
      "metadata": {
        "id": "fXU25D77VvyD"
      },
      "source": [
        "#Balance parenthesis\r\n",
        "\r\n",
        "in terms of brackets"
      ]
    },
    {
      "cell_type": "code",
      "metadata": {
        "colab": {
          "base_uri": "https://localhost:8080/"
        },
        "id": "1__UOrOSVyW8",
        "outputId": "ddc8b2a8-5982-4783-ea3d-072511b49467"
      },
      "source": [
        "def isBalanced(string):\r\n",
        "  s = []\r\n",
        "  for char in string:\r\n",
        "    if char in '({[':\r\n",
        "      s.append(char)\r\n",
        "    elif char is ')':\r\n",
        "      if(not s or s[-1]!='('):\r\n",
        "        return False\r\n",
        "      s.pop()\r\n",
        "    elif char is '}':\r\n",
        "      if(not s or s[-1]!='{'):\r\n",
        "        return False\r\n",
        "      s.pop()\r\n",
        "    elif char is ']':\r\n",
        "      if(not s or s[-1]!=']'):\r\n",
        "        return False\r\n",
        "      s.pop()\r\n",
        "    \r\n",
        "  if(not s):\r\n",
        "    return True\r\n",
        "  return False\r\n",
        "\r\n",
        "string = input()\r\n",
        "ans = isBalanced(string)\r\n",
        "print(ans)"
      ],
      "execution_count": null,
      "outputs": [
        {
          "output_type": "stream",
          "text": [
            "{(a+b)}\n",
            "True\n"
          ],
          "name": "stdout"
        }
      ]
    },
    {
      "cell_type": "code",
      "metadata": {
        "colab": {
          "base_uri": "https://localhost:8080/"
        },
        "id": "KbRhjzondRIQ",
        "outputId": "a3569e08-4363-49cd-acde-9347e8e98839"
      },
      "source": [
        "string = input()\r\n",
        "ans = isBalanced(string)\r\n",
        "print(ans)"
      ],
      "execution_count": null,
      "outputs": [
        {
          "output_type": "stream",
          "text": [
            "{(a+b) + d}\n",
            "True\n"
          ],
          "name": "stdout"
        }
      ]
    },
    {
      "cell_type": "code",
      "metadata": {
        "colab": {
          "base_uri": "https://localhost:8080/"
        },
        "id": "LAXwDJ7rdXlM",
        "outputId": "2f6f6d8a-ac95-4f8b-d8df-375c3ef381c5"
      },
      "source": [
        "string = input()\r\n",
        "ans = isBalanced(string)\r\n",
        "print(ans)"
      ],
      "execution_count": null,
      "outputs": [
        {
          "output_type": "stream",
          "text": [
            "{a+d +(c ]}\n",
            "False\n"
          ],
          "name": "stdout"
        }
      ]
    },
    {
      "cell_type": "markdown",
      "metadata": {
        "id": "GV69r095fMAW"
      },
      "source": [
        "#Reverse Stack using another stack "
      ]
    },
    {
      "cell_type": "code",
      "metadata": {
        "colab": {
          "base_uri": "https://localhost:8080/"
        },
        "id": "LsVcz95J-DtW",
        "outputId": "e0b50544-fe1e-4f60-9c02-dc5aa9e5adca"
      },
      "source": [
        "def reverse(s1,s2):\r\n",
        "  if (len(s1)<=1):\r\n",
        "    return \r\n",
        "  while (len(s1)!=1):\r\n",
        "    ele = s1.pop()\r\n",
        "    s2.append(ele)\r\n",
        "\r\n",
        "  lastelement = s1.pop()\r\n",
        "  while (len(s2)!=0):\r\n",
        "    ele = s2.pop\r\n",
        "    s1.append(ele)\r\n",
        "\r\n",
        "  reverse(s1,s2)\r\n",
        "  s1.append(lastelement)\r\n",
        "\r\n",
        "\r\n",
        "from sys import setrecursionlimit\r\n",
        "setrecursionlimit(11000)\r\n",
        "n = int(input())\r\n",
        "s1 = [int(ele) for ele in input().split()]\r\n",
        "s2 = []\r\n",
        "reverse(s1,s2)\r\n",
        "while (len(s1)!=0):\r\n",
        "  print(s1.pop(),end=' ')"
      ],
      "execution_count": null,
      "outputs": [
        {
          "output_type": "stream",
          "text": [
            "4\n",
            "1 2 3 4\n"
          ],
          "name": "stdout"
        }
      ]
    },
    {
      "cell_type": "code",
      "metadata": {
        "id": "oRfwymUq-N2F"
      },
      "source": [
        ""
      ],
      "execution_count": null,
      "outputs": []
    }
  ]
}