{
  "nbformat": 4,
  "nbformat_minor": 0,
  "metadata": {
    "colab": {
      "name": "Queue",
      "provenance": [],
      "authorship_tag": "ABX9TyOL0gkgPyNsNp8x6PhDbmRm"
    },
    "kernelspec": {
      "name": "python3",
      "display_name": "Python 3"
    },
    "language_info": {
      "name": "python"
    }
  },
  "cells": [
    {
      "cell_type": "markdown",
      "metadata": {
        "id": "xMphVQqTZtPn"
      },
      "source": [
        "#First in first out"
      ]
    },
    {
      "cell_type": "markdown",
      "metadata": {
        "id": "97KNu_KYzvsx"
      },
      "source": [
        "* Elements from rear will be inserted \n",
        "* Elements from front will be removed\n"
      ]
    },
    {
      "cell_type": "markdown",
      "metadata": {
        "id": "0qsoLye2ZzUD"
      },
      "source": [
        "#Queue using Array"
      ]
    },
    {
      "cell_type": "code",
      "metadata": {
        "id": "LjAQ4ET6ZqFJ"
      },
      "source": [
        "class Queue:\n",
        "  def __init__(self):\n",
        "    self.__arr = []   # we used double underscore to make pvt that is array can not be accessed outside the class\n",
        "    self.__count = 0\n",
        "    self.__front = 0\n",
        "\n",
        "  def enqueue(self,item):\n",
        "    self.__arr.append(item)\n",
        "    self.__count +=1\n",
        "\n",
        "  def dequeue(self):\n",
        "    if self.__count == 0:\n",
        "      return -1\n",
        "\n",
        "    element = self.__arr[self.__front]\n",
        "    self.__front +=1\n",
        "    self.__count -=1\n",
        "    return element\n",
        "\n",
        "  def front(self):\n",
        "    if self.__count == 0:\n",
        "      return -1\n",
        "    return self.__arr[self.__front]\n",
        "\n",
        "  def size(self):\n",
        "    return self.__count\n",
        "\n",
        "  def isEmpty(self):\n",
        "    return self.size() == 0"
      ],
      "execution_count": null,
      "outputs": []
    },
    {
      "cell_type": "code",
      "metadata": {
        "colab": {
          "base_uri": "https://localhost:8080/"
        },
        "id": "n94BdljRbGCr",
        "outputId": "bcd1dca3-56a2-4954-f87c-e11454349cad"
      },
      "source": [
        "q = Queue()\n",
        "q.enqueue(1)\n",
        "q.enqueue(2)\n",
        "q.enqueue(3)\n",
        "\n",
        "while (q.isEmpty () is False):\n",
        "  print(q.front())\n",
        "  q.dequeue()\n",
        "print(q.dequeue())"
      ],
      "execution_count": null,
      "outputs": [
        {
          "output_type": "stream",
          "text": [
            "1\n",
            "2\n",
            "3\n",
            "-1\n"
          ],
          "name": "stdout"
        }
      ]
    },
    {
      "cell_type": "markdown",
      "metadata": {
        "id": "wK1d2MTYcA4h"
      },
      "source": [
        "#Queue using LL"
      ]
    },
    {
      "cell_type": "code",
      "metadata": {
        "id": "WVb7ER8Zbiz8"
      },
      "source": [
        "class Node:\n",
        "  def __init__(self,data):\n",
        "    self.data = data                            #this is how we create LL and by now this should be by heart (learn)\n",
        "    self.next = None\n",
        "\n",
        "class Queue1:\n",
        "  def __init__(self):\n",
        "    self.head = None                           \n",
        "    self.tail = None\n",
        "    self.count = 0\n",
        "\n",
        "  def enque(self,item):\n",
        "    newNode = Node(item)\n",
        "    if self.head is None:\n",
        "      self.head = newNode\n",
        "    else:\n",
        "      self.tail.next = newNode\n",
        "    self.tail = newNode\n",
        "    self.count = self.count + 1\n",
        "\n",
        "  def deque(self):\n",
        "    if self.head is None:\n",
        "      return -1\n",
        "    data = self.head.data\n",
        "    self.head = self.head.next\n",
        "    self.count = self.count -1\n",
        "    return data\n",
        "\n",
        "  def isEmpty(self):\n",
        "    return self.size() == 0\n",
        "\n",
        "  def size(self):\n",
        "    return self.count\n",
        "  \n",
        "\n",
        "  def front(self):\n",
        "    if self.head is None:\n",
        "      return -1\n",
        "    data = self.head.data\n",
        "    return data"
      ],
      "execution_count": 2,
      "outputs": []
    },
    {
      "cell_type": "code",
      "metadata": {
        "id": "IOwrIJdsJ9cM"
      },
      "source": [
        "q = Queue1()\n",
        "q.enque(1)\n",
        "q.enque(2)\n",
        "q.enque(3)\n",
        "q.enque(4)\n",
        "q.enque(5)\n"
      ],
      "execution_count": 4,
      "outputs": []
    },
    {
      "cell_type": "code",
      "metadata": {
        "colab": {
          "base_uri": "https://localhost:8080/"
        },
        "id": "Oywy0u3iK4A1",
        "outputId": "2ac335ab-a482-4eb5-dee1-155b1094da6c"
      },
      "source": [
        "\n",
        "while q.isEmpty() is False:\n",
        "  print (q.deque())"
      ],
      "execution_count": 5,
      "outputs": [
        {
          "output_type": "stream",
          "text": [
            "1\n",
            "2\n",
            "3\n",
            "4\n",
            "5\n"
          ],
          "name": "stdout"
        }
      ]
    },
    {
      "cell_type": "code",
      "metadata": {
        "colab": {
          "base_uri": "https://localhost:8080/"
        },
        "id": "gqKN7sqKLAaV",
        "outputId": "6f6b9307-ba58-40c7-d869-7f4e9482743c"
      },
      "source": [
        "q.front()"
      ],
      "execution_count": 6,
      "outputs": [
        {
          "output_type": "execute_result",
          "data": {
            "text/plain": [
              "-1"
            ]
          },
          "metadata": {
            "tags": []
          },
          "execution_count": 6
        }
      ]
    },
    {
      "cell_type": "markdown",
      "metadata": {
        "id": "Lp4HQYq4LEsw"
      },
      "source": [
        "#inbulit stacks & queues"
      ]
    }
  ]
}