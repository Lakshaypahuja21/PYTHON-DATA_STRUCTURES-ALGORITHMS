{
  "nbformat": 4,
  "nbformat_minor": 0,
  "metadata": {
    "colab": {
      "name": "Recursion",
      "provenance": [],
      "authorship_tag": "ABX9TyPcH/gjImmJJ+CcnMKyPmV4"
    },
    "kernelspec": {
      "name": "python3",
      "display_name": "Python 3"
    }
  },
  "cells": [
    {
      "cell_type": "markdown",
      "metadata": {
        "id": "ciU8q1M5yrla"
      },
      "source": [
        "## recursion- funtion calling itself"
      ]
    },
    {
      "cell_type": "markdown",
      "metadata": {
        "id": "Fs49EbMg0bEW"
      },
      "source": [
        "example - factorial"
      ]
    },
    {
      "cell_type": "code",
      "metadata": {
        "colab": {
          "base_uri": "https://localhost:8080/"
        },
        "id": "BPX_220P6FRG",
        "outputId": "bfdae40b-a0d9-4b12-9669-b616a13c2bfa"
      },
      "source": [
        "n = int(input())\r\n",
        "count = 1\r\n",
        "for i in range(1,n+1):\r\n",
        "  count = count * i\r\n",
        "print(count)\r\n",
        "  "
      ],
      "execution_count": null,
      "outputs": [
        {
          "output_type": "stream",
          "text": [
            "10\n",
            "3628800\n"
          ],
          "name": "stdout"
        }
      ]
    },
    {
      "cell_type": "markdown",
      "metadata": {
        "id": "ycixmeJ4XsY5"
      },
      "source": [
        "using recursion"
      ]
    },
    {
      "cell_type": "code",
      "metadata": {
        "colab": {
          "base_uri": "https://localhost:8080/"
        },
        "id": "QxIPFygRzX3o",
        "outputId": "bef89c85-455e-479b-d819-a236f14bb331"
      },
      "source": [
        "def fact(n):\r\n",
        "  if n==0:\r\n",
        "    return 1\r\n",
        "  return n * fact(n-1)\r\n",
        "n = int(input())\r\n",
        "fact(n)"
      ],
      "execution_count": null,
      "outputs": [
        {
          "output_type": "stream",
          "text": [
            "10\n"
          ],
          "name": "stdout"
        },
        {
          "output_type": "execute_result",
          "data": {
            "text/plain": [
              "3628800"
            ]
          },
          "metadata": {
            "tags": []
          },
          "execution_count": 15
        }
      ]
    },
    {
      "cell_type": "markdown",
      "metadata": {
        "id": "LOXR_ev_Hprl"
      },
      "source": [
        "now, base case is imp inrecursion bcoz recursion as we learnt is function calling function i.e. going in a depth therfore a boundary should be set which we call as a base case, otherwise the code will require infinite memory for infinte depth which is not possible"
      ]
    },
    {
      "cell_type": "markdown",
      "metadata": {
        "id": "b8DKaeeSIBHj"
      },
      "source": [
        "so in above example if n = 0 we return 1 which is 0!"
      ]
    },
    {
      "cell_type": "markdown",
      "metadata": {
        "id": "14LRHvtAIOw5"
      },
      "source": [
        "## Math behind recursion"
      ]
    },
    {
      "cell_type": "markdown",
      "metadata": {
        "id": "og8LgfEwIW2W"
      },
      "source": [
        "its PMI"
      ]
    },
    {
      "cell_type": "markdown",
      "metadata": {
        "id": "xBrkChQqIYfc"
      },
      "source": [
        "proving the function for f(0)orf(1) and assume f(k) is true and then proving f(k+1) is true"
      ]
    },
    {
      "cell_type": "markdown",
      "metadata": {
        "id": "xYKHulGTMvRc"
      },
      "source": [
        "we took general k and then we use k+1 \r\n",
        "taking example for factorial"
      ]
    },
    {
      "cell_type": "markdown",
      "metadata": {
        "id": "BwVBskhXM3Re"
      },
      "source": [
        "we used fact for 0 then fact for n-1 and then we did for fact(n) i.e. if f(n-1) is going to work then we are defintely going to get f(n)"
      ]
    },
    {
      "cell_type": "markdown",
      "metadata": {
        "id": "6WVWwqQENFFd"
      },
      "source": [
        "example 2 - sum of first n natural numbers"
      ]
    },
    {
      "cell_type": "code",
      "metadata": {
        "colab": {
          "base_uri": "https://localhost:8080/"
        },
        "id": "YqCCyK4QHl_p",
        "outputId": "c251134e-e757-410b-da81-01350a87dccf"
      },
      "source": [
        "def sumofn(n):\r\n",
        "  if n == 0:\r\n",
        "    return 0\r\n",
        "  return n + sumofn(n-1)\r\n",
        "n = int(input())\r\n",
        "sumofn(n)"
      ],
      "execution_count": null,
      "outputs": [
        {
          "output_type": "stream",
          "text": [
            "4\n"
          ],
          "name": "stdout"
        },
        {
          "output_type": "execute_result",
          "data": {
            "text/plain": [
              "10"
            ]
          },
          "metadata": {
            "tags": []
          },
          "execution_count": 17
        }
      ]
    },
    {
      "cell_type": "markdown",
      "metadata": {
        "id": "73flPQZiNpyh"
      },
      "source": [
        "### explanation - PMI refernce\r\n",
        " Σn = n +  Σn-1\r\n",
        " here we do check for base case i.e.  Σ0 = 0\r\n",
        " then assuming  Σn-1 is working and then getting desired ans"
      ]
    },
    {
      "cell_type": "markdown",
      "metadata": {
        "id": "clklinA1TcKT"
      },
      "source": [
        "example 3 - \r\n",
        "\r\n",
        "Power Of A Number\r\n",
        "\r\n",
        "Write a program to find x to the power n (i.e. x^n). Take x and n from the user. You need to print the answer.\r\n",
        "\r\n",
        "Note : For this question, you can assume that 0 raised to the power of 0 is 1\r\n",
        "\r\n",
        "Input format :\r\n",
        "\r\n",
        "Two integers x and n (separated by space)\r\n",
        "\r\n",
        "Output Format :\r\n",
        "\r\n",
        "x^n (i.e. x raise to the power n)\r\n",
        "\r\n",
        "Constraints:\r\n",
        "* 0 <= x <= 8 \r\n",
        "* 0 <= n <= 9\r\n",
        "\r\n",
        "Sample Input 1 :\r\n",
        "*  3 4\r\n",
        "\r\n",
        "Sample Output 1 :\r\n",
        "* 81\r\n",
        "\r\n",
        "Sample Input 2 :\r\n",
        "*  2 5\r\n",
        "\r\n",
        "Sample Output 2 :\r\n",
        "* 32"
      ]
    },
    {
      "cell_type": "code",
      "metadata": {
        "colab": {
          "base_uri": "https://localhost:8080/"
        },
        "id": "9zrIMOR9Nets",
        "outputId": "bf62a0cf-1631-4f56-c768-2847cbcc9149"
      },
      "source": [
        "def powerofn(n):\r\n",
        "  X = int(x)\r\n",
        "  N = int(n)\r\n",
        "  if N == 0:\r\n",
        "    return 1\r\n",
        "  return X**N\r\n",
        "x,n = input().split()\r\n",
        "powerofn(n)\r\n"
      ],
      "execution_count": null,
      "outputs": [
        {
          "output_type": "stream",
          "text": [
            "0 1\n"
          ],
          "name": "stdout"
        },
        {
          "output_type": "execute_result",
          "data": {
            "text/plain": [
              "0"
            ]
          },
          "metadata": {
            "tags": []
          },
          "execution_count": 35
        }
      ]
    },
    {
      "cell_type": "markdown",
      "metadata": {
        "id": "6A0Qfa3SX1RQ"
      },
      "source": [
        "example - printing first n numbers3"
      ]
    },
    {
      "cell_type": "code",
      "metadata": {
        "colab": {
          "base_uri": "https://localhost:8080/"
        },
        "id": "8s5ek-azXlsm",
        "outputId": "69eb1c18-ec02-4da3-d07a-861e8b494648"
      },
      "source": [
        "def firstn(n):\r\n",
        "  if n == 0:\r\n",
        "    return\r\n",
        "  firstn(n-1)\r\n",
        "  print(n)\r\n",
        "  return\r\n",
        "n = int(input())\r\n",
        "firstn(n)"
      ],
      "execution_count": null,
      "outputs": [
        {
          "output_type": "stream",
          "text": [
            "5\n",
            "1\n",
            "2\n",
            "3\n",
            "4\n",
            "5\n"
          ],
          "name": "stdout"
        }
      ]
    },
    {
      "cell_type": "markdown",
      "metadata": {
        "id": "LQ9JYjYsnnrt"
      },
      "source": [
        "now if 1 to n"
      ]
    },
    {
      "cell_type": "code",
      "metadata": {
        "colab": {
          "base_uri": "https://localhost:8080/"
        },
        "id": "uMbAn3LLYRyw",
        "outputId": "2c69387e-dd1b-4c54-9212-63034c0f4f86"
      },
      "source": [
        "def firstn(n):\r\n",
        "  if n == 0:\r\n",
        "    return\r\n",
        "  print(n)\r\n",
        "  firstn(n-1)\r\n",
        "  return\r\n",
        "n = int(input())\r\n",
        "firstn(n)"
      ],
      "execution_count": null,
      "outputs": [
        {
          "output_type": "stream",
          "text": [
            "5\n",
            "5\n",
            "4\n",
            "3\n",
            "2\n",
            "1\n"
          ],
          "name": "stdout"
        }
      ]
    },
    {
      "cell_type": "markdown",
      "metadata": {
        "id": "miYG9c03nveV"
      },
      "source": [
        "just changed the place of print function"
      ]
    },
    {
      "cell_type": "markdown",
      "metadata": {
        "id": "bA8P6Rfzn2M9"
      },
      "source": [
        "learning: recursion can be called after or before it"
      ]
    },
    {
      "cell_type": "markdown",
      "metadata": {
        "id": "w67FmKIIn9gg"
      },
      "source": [
        "another example- fibonacci"
      ]
    },
    {
      "cell_type": "code",
      "metadata": {
        "colab": {
          "base_uri": "https://localhost:8080/"
        },
        "id": "9ubbwqSW3Rr9",
        "outputId": "8c789b91-1e27-4d9f-b9ae-0950545a6045"
      },
      "source": [
        "def fibonaci(n):\r\n",
        "  if n == 1 or n == 2:\r\n",
        "    return 1\r\n",
        "  output = fibonaci(n-1) + fibonaci(n-2)\r\n",
        "  return output\r\n",
        "\r\n",
        "n = int(input())\r\n",
        "fibonaci(n)"
      ],
      "execution_count": null,
      "outputs": [
        {
          "output_type": "stream",
          "text": [
            "5\n"
          ],
          "name": "stdout"
        },
        {
          "output_type": "execute_result",
          "data": {
            "text/plain": [
              "5"
            ]
          },
          "metadata": {
            "tags": []
          },
          "execution_count": 55
        }
      ]
    },
    {
      "cell_type": "code",
      "metadata": {
        "colab": {
          "base_uri": "https://localhost:8080/"
        },
        "id": "LhUkBLhK6fdJ",
        "outputId": "a0ac6988-032d-4007-bed2-c47ee5fada4e"
      },
      "source": [
        "def fun(n):\r\n",
        "    if(n == 4):\r\n",
        "        return n\r\n",
        "    else:\r\n",
        "        return 2*fun(n+1)\r\n",
        "\r\n",
        "\r\n",
        "print(fun(2))"
      ],
      "execution_count": null,
      "outputs": [
        {
          "output_type": "stream",
          "text": [
            "16\n"
          ],
          "name": "stdout"
        }
      ]
    },
    {
      "cell_type": "markdown",
      "metadata": {
        "id": "obTpebOtB0DO"
      },
      "source": [
        "example - check list sorted or not"
      ]
    },
    {
      "cell_type": "code",
      "metadata": {
        "id": "47FloTFs8d4y"
      },
      "source": [
        "def issorted(li):\r\n",
        "  l = len(li)\r\n",
        "  if l == 0 or l ==1 :\r\n",
        "    return True\r\n",
        "  if li[0]>li[1]:\r\n",
        "    return False\r\n",
        "  smallli = li[1:]\r\n",
        "  issmallersorted = issorted(smallli)\r\n",
        "  return issmallersorted"
      ],
      "execution_count": null,
      "outputs": []
    },
    {
      "cell_type": "code",
      "metadata": {
        "colab": {
          "base_uri": "https://localhost:8080/"
        },
        "id": "y1IN2H4MDeZV",
        "outputId": "d51488bc-cf64-4e14-bbd6-295b86c12c67"
      },
      "source": [
        "li = [1,6,3,4,5]\r\n",
        "issorted(li)"
      ],
      "execution_count": null,
      "outputs": [
        {
          "output_type": "execute_result",
          "data": {
            "text/plain": [
              "False"
            ]
          },
          "metadata": {
            "tags": []
          },
          "execution_count": 74
        }
      ]
    },
    {
      "cell_type": "markdown",
      "metadata": {
        "id": "E8g9IB-hDeE1"
      },
      "source": [
        "but but but this is not a good method\r\n",
        "why? bcoz it is making copied n-1 times and therdfore consuming a lot of space"
      ]
    },
    {
      "cell_type": "markdown",
      "metadata": {
        "id": "HZ5R4YcrG0Pf"
      },
      "source": [
        "another example\r\n",
        "## Sum Of Array\r\n",
        "\r\n",
        "Given an array of length N, you need to find and return the sum of all elements of the array.\r\n",
        "\r\n",
        "Do this recursively.\r\n",
        "\r\n",
        "Input Format :\r\n",
        "\r\n",
        "Line 1 : An Integer N i.e. size of array\r\n",
        "Line 2 : N integers which are elements of the array, separated by spaces\r\n",
        "\r\n",
        "Output Format :\r\n",
        "\r\n",
        "Sum\r\n",
        "\r\n",
        "Constraints :\r\n",
        "* 1 <= N <= 10^3\r\n",
        "\r\n",
        "Sample Input 1 :\r\n",
        "* 3\r\n",
        "* 9 8 9\r\n",
        "\r\n",
        "Sample Output 1 :\r\n",
        "* 26\r\n",
        "\r\n",
        "Sample Input 2 :\r\n",
        "* 3\r\n",
        "* 4 2 1\r\n",
        "\r\n",
        "Sample Output 2 :\r\n",
        "* 7    "
      ]
    },
    {
      "cell_type": "code",
      "metadata": {
        "colab": {
          "base_uri": "https://localhost:8080/"
        },
        "id": "1035OnaBD4AI",
        "outputId": "979d71a5-f9d0-428b-f34d-cb2c67237fef"
      },
      "source": [
        "def sumArray(arr):\r\n",
        "  n = len(arr)\r\n",
        "  if n == 0:\r\n",
        "    return 0\r\n",
        "  return arr[0] + sumArray(arr[1:])\r\n",
        "    \r\n",
        "    # Please add your code here\r\n",
        "\r\n",
        "# Main\r\n",
        "n=int(input())\r\n",
        "arr=list(int(i) for i in input().split(' '))\r\n",
        "print(sumArray(arr))"
      ],
      "execution_count": null,
      "outputs": [
        {
          "output_type": "stream",
          "text": [
            "4\n",
            "4 5 4 5\n",
            "18\n"
          ],
          "name": "stdout"
        }
      ]
    },
    {
      "cell_type": "markdown",
      "metadata": {
        "id": "36FHAcMJHE1x"
      },
      "source": [
        "another example\r\n",
        "#Check Number in Array\r\n",
        "\r\n",
        "Given an array of length N and an integer x, you need to find if x is present in the array or not. Return true or false.\r\n",
        "Do this recursively.\r\n",
        "\r\n",
        "Input Format :\r\n",
        "\r\n",
        "Line 1 : An Integer N i.e. size of array\r\n",
        "\r\n",
        "Line 2 : N integers which are elements of the array, separated by spaces\r\n",
        "\r\n",
        "Line 3 : Integer x\r\n",
        "\r\n",
        "Output Format :\r\n",
        "* 'true' or 'false'\r\n",
        "\r\n",
        "Constraints :\r\n",
        "* 1 <= N <= 10^3\r\n",
        "\r\n",
        "Sample Input 1 :\r\n",
        "* 3\r\n",
        "* 9 8 10\r\n",
        "* 8\r\n",
        "\r\n",
        "Sample Output 1 :\r\n",
        "* true\r\n",
        "\r\n",
        "Sample Input 2 :\r\n",
        "* 3\r\n",
        "* 9 8 10\r\n",
        "* 2\r\n",
        "\r\n",
        "Sample Output 2 :\r\n",
        "* false"
      ]
    },
    {
      "cell_type": "code",
      "metadata": {
        "id": "op6M7qwvOitO"
      },
      "source": [
        "def checknumber(li,x):\r\n",
        "  l = len(li)\r\n",
        "  if li[0] == x :\r\n",
        "    return True\r\n",
        "  smallli = li[1:]\r\n",
        "  checknumberinsmall = checknumber(smallli,x)\r\n",
        "  return checknumberinsmall\r\n"
      ],
      "execution_count": null,
      "outputs": []
    },
    {
      "cell_type": "code",
      "metadata": {
        "colab": {
          "base_uri": "https://localhost:8080/"
        },
        "id": "t3HXLSF9O7ry",
        "outputId": "b0543e6d-c9ef-41ff-f898-12141c94e392"
      },
      "source": [
        "li = [1,2,3,4,5,6,7]\r\n",
        "x = 2\r\n",
        "checknumber(li,x)"
      ],
      "execution_count": null,
      "outputs": [
        {
          "output_type": "execute_result",
          "data": {
            "text/plain": [
              "True"
            ]
          },
          "metadata": {
            "tags": []
          },
          "execution_count": 114
        }
      ]
    },
    {
      "cell_type": "code",
      "metadata": {
        "id": "5F7UcMbPFNPd"
      },
      "source": [
        "def checkNumber(arr, x):\r\n",
        "    # Please add your code here\r\n",
        "    \r\n",
        "    pass\r\n",
        "\r\n",
        "# Main\r\n",
        "n=int(input())\r\n",
        "arr=list(int(i) for i in input().split(' '))\r\n",
        "x=int(input())\r\n",
        "if checkNumber(arr, x):\r\n",
        "    print('true')\r\n",
        "else:\r\n",
        "    print('false')"
      ],
      "execution_count": null,
      "outputs": []
    },
    {
      "cell_type": "markdown",
      "metadata": {
        "id": "3oneDsk1XHFR"
      },
      "source": [
        "#First Index of Number - Question\r\n",
        "\r\n",
        "Given an array of length N and an integer x, you need to find and return the first index of integer x present in the array. Return -1 if it is not present in the array.\r\n",
        "First index means, the index of first occurrence of x in the input array.\r\n",
        "Do this recursively. Indexing in the array starts from 0.\r\n",
        "\r\n",
        "Input Format :\r\n",
        "\r\n",
        "Line 1 : An Integer N i.e. size of array\r\n",
        "\r\n",
        "Line 2 : N integers which are elements of the array, separated by spaces\r\n",
        "\r\n",
        "Line 3 : Integer x\r\n",
        "Output Format :\r\n",
        "first index or -1\r\n",
        "\r\n",
        "Constraints :\r\n",
        "* 1 <= N <= 10^3\r\n",
        "\r\n",
        "Sample Input :\r\n",
        "* 4\r\n",
        "* 9 8 10 8\r\n",
        "* 8\r\n",
        "\r\n",
        "Sample Output :\r\n",
        "* 1"
      ]
    },
    {
      "cell_type": "code",
      "metadata": {
        "colab": {
          "base_uri": "https://localhost:8080/"
        },
        "id": "4hdaa3xebpMs",
        "outputId": "85d8d4e2-1e2e-4e32-8bb0-0af8f3738833"
      },
      "source": [
        "def firstIndex(arr, x):\r\n",
        "  l = len(arr)\r\n",
        "  if l == 0:\r\n",
        "    return -1\r\n",
        "  if arr[0] == x:\r\n",
        "    return 0\r\n",
        "\r\n",
        "  smallli = arr[1:]\r\n",
        "  checknumberinsmall = firstIndex(smallli,x)\r\n",
        "  if checknumberinsmall == -1:\r\n",
        "    return -1 \r\n",
        "  else:\r\n",
        "    return checknumberinsmall + 1 \r\n",
        "\r\n",
        "n=int(input())\r\n",
        "arr=list(int(i) for i in input().split(' '))\r\n",
        "x=int(input())\r\n",
        "firstIndex(arr, x)\r\n"
      ],
      "execution_count": null,
      "outputs": [
        {
          "output_type": "stream",
          "text": [
            "44\n",
            "34 57 82 41 65 35 82 27 36 12 6 40 66 99 25 29 22 25 12 24 65 15 5 43 28 33 76 32 13 95 22 84 71 23 28 7 65 94 18 47 9 42 61 73\n",
            "61\n"
          ],
          "name": "stdout"
        },
        {
          "output_type": "execute_result",
          "data": {
            "text/plain": [
              "42"
            ]
          },
          "metadata": {
            "tags": []
          },
          "execution_count": 11
        }
      ]
    },
    {
      "cell_type": "markdown",
      "metadata": {
        "id": "EOMcnShSmhy6"
      },
      "source": [
        "# Last Index Of Number Question\r\n",
        "\r\n",
        "Given an array of length N and an integer x, you need to find and return the last index of integer x present in the array. Return -1 if it is not present in the array.\r\n",
        "\r\n",
        "Last index means - if x is present multiple times in the array, return the index at which x comes last in the array.\r\n",
        "You should start traversing your array from 0, not from (N - 1).\r\n",
        "Do this recursively. Indexing in the array starts from 0.\r\n",
        "\r\n",
        "Input Format :\r\n",
        "\r\n",
        "Line 1 : An Integer N i.e. size of array\r\n",
        "\r\n",
        "Line 2 : N integers which are elements of the array, separated by \r\n",
        "spaces\r\n",
        "\r\n",
        "Line 3 : Integer x\r\n",
        "\r\n",
        "Output Format :\r\n",
        "* last index or -1\r\n",
        "\r\n",
        "Constraints :\r\n",
        "* 1 <= N <= 10^3\r\n",
        "\r\n",
        "Sample Input :\r\n",
        "* 4\r\n",
        "* 9 8 10 8\r\n",
        "* 8\r\n",
        "\r\n",
        "Sample Output :\r\n",
        "3"
      ]
    },
    {
      "cell_type": "code",
      "metadata": {
        "colab": {
          "base_uri": "https://localhost:8080/"
        },
        "id": "n8THQbV5cQ_j",
        "outputId": "b44292b9-f384-42f3-956c-823333768810"
      },
      "source": [
        "def lastindex(arr, x):\r\n",
        "  l = len(arr)\r\n",
        "  if l == 0:\r\n",
        "    return -1\r\n",
        "  smallli = arr[1:]\r\n",
        "  checknumberinsmall = lastindex(smallli,x)\r\n",
        "  if checknumberinsmall != -1:\r\n",
        "    return checknumberinsmall + 1 \r\n",
        "  else:\r\n",
        "    if arr[0] == x:\r\n",
        "      return 0\r\n",
        "    else:\r\n",
        "      return -1\r\n",
        "n=int(input())\r\n",
        "arr=list(int(i) for i in input().split(' '))\r\n",
        "x=int(input())\r\n",
        "lastindex(arr, x)\r\n"
      ],
      "execution_count": null,
      "outputs": [
        {
          "output_type": "stream",
          "text": [
            "8\n",
            "1 2 3 4 5 6 4 8\n",
            "4\n"
          ],
          "name": "stdout"
        },
        {
          "output_type": "execute_result",
          "data": {
            "text/plain": [
              "6"
            ]
          },
          "metadata": {
            "tags": []
          },
          "execution_count": 19
        }
      ]
    },
    {
      "cell_type": "markdown",
      "metadata": {
        "id": "L8l5kTLlU8l3"
      },
      "source": [
        "Recursion with strings"
      ]
    },
    {
      "cell_type": "code",
      "metadata": {
        "id": "p5qa2R45l1t6",
        "colab": {
          "base_uri": "https://localhost:8080/",
          "height": 35
        },
        "outputId": "95f64c38-6013-4144-e70d-ce100b4987eb"
      },
      "source": [
        "def changeAbyB(str, A,B):\r\n",
        "  l = len(str)\r\n",
        "  if l == 0:\r\n",
        "    return str\r\n",
        "  smallstr = str[1:]\r\n",
        "  checknumberinsmallstr = changeAbyB(smallstr,A,B)\r\n",
        "  if str[0] == A:\r\n",
        "    return B + checknumberinsmallstr\r\n",
        "  else:\r\n",
        "    return str[0] + checknumberinsmallstr \r\n",
        "str = \"aabbdcfwwr\"\r\n",
        "A = \"c\"\r\n",
        "B = \"z\"\r\n",
        "changeAbyB(str, A,B)"
      ],
      "execution_count": 4,
      "outputs": [
        {
          "output_type": "execute_result",
          "data": {
            "application/vnd.google.colaboratory.intrinsic+json": {
              "type": "string"
            },
            "text/plain": [
              "'aabbdzfwwr'"
            ]
          },
          "metadata": {
            "tags": []
          },
          "execution_count": 4
        }
      ]
    },
    {
      "cell_type": "markdown",
      "metadata": {
        "id": "noEQO6C_y8nW"
      },
      "source": [
        "# Remove X\r\n",
        "\r\n",
        "Given a string, compute recursively a new string where all 'x' chars have been removed.\r\n",
        "\r\n",
        "Input format :\r\n",
        "* String S\r\n",
        "\r\n",
        "Output format :\r\n",
        "* Modified String\r\n",
        "\r\n",
        "Constraints :\r\n",
        "* 1 <= |S| <= 10^3\r\n",
        "* where |S| represents the length of string S. \r\n",
        "\r\n",
        "Sample Input 1 :\r\n",
        "* xaxb\r\n",
        "\r\n",
        "Sample Output 1:\r\n",
        "* ab\r\n",
        "\r\n",
        "Sample Input 2 :\r\n",
        "* abc\r\n",
        "\r\n",
        "Sample Output 2:\r\n",
        "* abc\r\n",
        "\r\n",
        "Sample Input 3 :\r\n",
        "* xx\r\n",
        "\r\n",
        "Sample Output 3:\r\n"
      ]
    },
    {
      "cell_type": "code",
      "metadata": {
        "colab": {
          "base_uri": "https://localhost:8080/",
          "height": 35
        },
        "id": "F5FY64JOuzP0",
        "outputId": "716781a4-51cc-4c16-d82b-0b35a0bdeddb"
      },
      "source": [
        "def RemoveX(str):\r\n",
        "  l = len(str)\r\n",
        "  if l == 0:\r\n",
        "    return str\r\n",
        "  A = \"\"\r\n",
        "  smallstr = str[1:]\r\n",
        "  checknumberinsmallstr = RemoveX(smallstr)\r\n",
        "  if str[0] == \"x\":\r\n",
        "    return A + checknumberinsmallstr\r\n",
        "  else:\r\n",
        "    return str[0] + checknumberinsmallstr \r\n",
        "str = \"aabxdxfxwr\"\r\n",
        "RemoveX(str)"
      ],
      "execution_count": 6,
      "outputs": [
        {
          "output_type": "execute_result",
          "data": {
            "application/vnd.google.colaboratory.intrinsic+json": {
              "type": "string"
            },
            "text/plain": [
              "'aabdfwr'"
            ]
          },
          "metadata": {
            "tags": []
          },
          "execution_count": 6
        }
      ]
    },
    {
      "cell_type": "markdown",
      "metadata": {
        "id": "2v4WP5Ve0ntN"
      },
      "source": [
        "# replace pi 3.14"
      ]
    },
    {
      "cell_type": "code",
      "metadata": {
        "colab": {
          "base_uri": "https://localhost:8080/",
          "height": 35
        },
        "id": "N1hwGTCRzs2A",
        "outputId": "369ff0db-611c-4133-ee34-3a178b0fd13c"
      },
      "source": [
        "def replacePI(str):\r\n",
        "  l = len(str)\r\n",
        "  if l == 0 or l ==1:\r\n",
        "    return str\r\n",
        "  if str[0] == \"p\" and str[1] == \"i\":\r\n",
        "    smallstr = str[2:]\r\n",
        "    checknumberinsmallstr = replacePI(smallstr)\r\n",
        "    return \"3.14\"+ checknumberinsmallstr  \r\n",
        "  else:\r\n",
        "    smallstr = str[1:]\r\n",
        "    checknumberinsmallstr = replacePI(smallstr)\r\n",
        "    return str[0] + checknumberinsmallstr \r\n",
        "str = \"abcpidefpipippi\"\r\n",
        "replacePI(str)"
      ],
      "execution_count": 21,
      "outputs": [
        {
          "output_type": "execute_result",
          "data": {
            "application/vnd.google.colaboratory.intrinsic+json": {
              "type": "string"
            },
            "text/plain": [
              "'abc3.14def3.143.14p3.14'"
            ]
          },
          "metadata": {
            "tags": []
          },
          "execution_count": 21
        }
      ]
    },
    {
      "cell_type": "markdown",
      "metadata": {
        "id": "JgciKt7m3Mai"
      },
      "source": [
        "#Remove Duplicates Recursively\r\n",
        "\r\n",
        "Given a string S, remove consecutive duplicates from it recursively.\r\n",
        "\r\n",
        "Input Format :\r\n",
        "* String S\r\n",
        "\r\n",
        "Output Format :\r\n",
        "* Output string\r\n",
        "\r\n",
        "Constraints :\r\n",
        "* 1 <= |S| <= 10^3\r\n",
        "* where |S| represents the length of string\r\n",
        "\r\n",
        "Sample Input 1 :\r\n",
        "* aabccba\r\n",
        "\r\n",
        "Sample Output 1 :\r\n",
        "* abcba\r\n",
        "\r\n",
        "Sample Input 2 :\r\n",
        "* xxxyyyzwwzzz\r\n",
        "\r\n",
        "Sample Output 2 :\r\n",
        "* xyzwz"
      ]
    },
    {
      "cell_type": "code",
      "metadata": {
        "colab": {
          "base_uri": "https://localhost:8080/",
          "height": 52
        },
        "id": "EnFIqD6l1fVa",
        "outputId": "c1985e03-6c67-4ea0-c968-6fcf1ac54e3a"
      },
      "source": [
        "def removeduplicate(str):\r\n",
        "  l = len(str)\r\n",
        "  if l == 0 or l ==1:\r\n",
        "    return str\r\n",
        "  if str[0] == str[1]:\r\n",
        "    smallstr = str[2:]\r\n",
        "    checknumberinsmallstr = removeduplicate(smallstr)\r\n",
        "    return checknumberinsmallstr  \r\n",
        "  else:\r\n",
        "    smallstr = str[1:]\r\n",
        "    checknumberinsmallstr = removeduplicate(smallstr)\r\n",
        "    return str[0] + checknumberinsmallstr \r\n",
        "str = input().strip()\r\n",
        "removeduplicate(str)"
      ],
      "execution_count": 23,
      "outputs": [
        {
          "output_type": "stream",
          "text": [
            "abcaaabccdbbda\n"
          ],
          "name": "stdout"
        },
        {
          "output_type": "execute_result",
          "data": {
            "application/vnd.google.colaboratory.intrinsic+json": {
              "type": "string"
            },
            "text/plain": [
              "'abcabdda'"
            ]
          },
          "metadata": {
            "tags": []
          },
          "execution_count": 23
        }
      ]
    }
  ]
}