{
  "nbformat": 4,
  "nbformat_minor": 0,
  "metadata": {
    "colab": {
      "name": "Linked List",
      "provenance": [],
      "collapsed_sections": [],
      "authorship_tag": "ABX9TyPGiE/nNW+iVd7jn796ffTD"
    },
    "kernelspec": {
      "name": "python3",
      "display_name": "Python 3"
    }
  },
  "cells": [
    {
      "cell_type": "markdown",
      "metadata": {
        "id": "TANM_1saoYNj"
      },
      "source": [
        "Lists are way of storing data in a unique way. every node has different memory allocation."
      ]
    },
    {
      "cell_type": "markdown",
      "metadata": {
        "id": "xz9SOUYfogWb"
      },
      "source": [
        "starting of LL is head, end is called tail. Each node have data and referece to next node"
      ]
    },
    {
      "cell_type": "markdown",
      "metadata": {
        "id": "T9J52piKo2h9"
      },
      "source": [
        "data stored the value and next stored the referece to the next node"
      ]
    },
    {
      "cell_type": "code",
      "metadata": {
        "colab": {
          "base_uri": "https://localhost:8080/"
        },
        "id": "zrhc4MXui7iS",
        "outputId": "62614668-3f85-4ea4-f7a7-3e9811e57d0c"
      },
      "source": [
        "class Node:                          # every node will have data and next so we'll provide data\r\n",
        "  def __init__(self,data):\r\n",
        "    self.data = data            # data stores the value\r\n",
        "    self.next = None            '''next stores the reference to other values and if no node present\r\n",
        "                                   then next will be none'''\r\n",
        "a = Node(13)                  \r\n",
        "b = Node(15)\r\n",
        "a.next = b                    # linking a next to b that is making a->b\r\n",
        "print(a.data)\r\n",
        "print(b.data)\r\n",
        "print(a.next.data)\r\n",
        "print(a)\r\n",
        "print(b)\r\n",
        "print(a.next)                   # so here a.next is same as b\r\n",
        "#print(b.next.data) #error bcoz its none"
      ],
      "execution_count": null,
      "outputs": [
        {
          "output_type": "stream",
          "text": [
            "13\n",
            "15\n",
            "15\n",
            "<__main__.Node object at 0x7f02477674e0>\n",
            "<__main__.Node object at 0x7f0247767438>\n",
            "<__main__.Node object at 0x7f0247767438>\n"
          ],
          "name": "stdout"
        }
      ]
    },
    {
      "cell_type": "code",
      "metadata": {
        "colab": {
          "base_uri": "https://localhost:8080/"
        },
        "id": "hkNATFpx0wgY",
        "outputId": "b6755728-180e-42b9-d687-b61f02c36e27"
      },
      "source": [
        "class Node:\r\n",
        "    def __init__(self, data):\r\n",
        "        self.data = data\r\n",
        "        self.next = None\r\n",
        "def printLL(head):\r\n",
        "    while head is not None:\r\n",
        "        print(head.data,end=\" \")\r\n",
        "        head = head.next\r\n",
        "\r\n",
        "\r\n",
        "\r\n",
        "node1 = Node(10)\r\n",
        "node2 = Node(20)\r\n",
        "node2.next = node1\r\n",
        "printLL(node2)"
      ],
      "execution_count": null,
      "outputs": [
        {
          "output_type": "stream",
          "text": [
            "20 10 "
          ],
          "name": "stdout"
        }
      ]
    },
    {
      "cell_type": "markdown",
      "metadata": {
        "id": "C7fEQuot3ZxX"
      },
      "source": [
        "#taking input in linked lists"
      ]
    },
    {
      "cell_type": "code",
      "metadata": {
        "id": "Bc07_ZtF2MI5",
        "colab": {
          "base_uri": "https://localhost:8080/"
        },
        "outputId": "31822899-f92c-4e97-aade-b5ed59fb36a9"
      },
      "source": [
        "class Node:                                   #creating a node\r\n",
        "  def __init__(self,data):\r\n",
        "    self.data = data\r\n",
        "    self.next = None\r\n",
        "                                        #space seperated values will create a LL and end -1 where we have to stop\r\n",
        "def takeInput():\r\n",
        "    inputlist = [int(ele) for ele in input().split()]  #list comprehension to get integer part of string \r\n",
        "    head = None                                        #empty list at first so head is initially none\r\n",
        "    for currData in inputlist:              #iteration in the LL\r\n",
        "      if currData == -1:                    #if at end we bread\r\n",
        "        break\r\n",
        "      newNode = Node(currData)             #else we create a new node of the current data\r\n",
        "                                      #for now all nodes have been created but we only have to print heads of the nodes\r\n",
        "\r\n",
        "      if head is None:                     #if head is none we appoint it to the new node we made\r\n",
        "        head = newNode\r\n",
        "      else:                                 #else if its not the first node\r\n",
        "                                                    # we make new current and appoint to head to make connections further\r\n",
        "        curr = head                        # we use curr as head bcoz head we have fixed at first so we move curr\r\n",
        "        while curr.next is not None:\r\n",
        "          curr = curr.next                  #to not loose the reference of prev node we make curr as curr next now we come to end \r\n",
        "        curr.next = newNode                #we join it with next node\r\n",
        "    \r\n",
        "    return head\r\n",
        "head = takeInput()"
      ],
      "execution_count": null,
      "outputs": [
        {
          "output_type": "stream",
          "text": [
            "1 2 3 4 5 6 -1\n"
          ],
          "name": "stdout"
        }
      ]
    },
    {
      "cell_type": "markdown",
      "metadata": {
        "id": "Ts-KDTZ2FPs4"
      },
      "source": [
        "for n ele its traversing n-1 times therefore 0+1+2+3.....+(n-1) = n * (n-1) / 2 i.e. n square"
      ]
    },
    {
      "cell_type": "markdown",
      "metadata": {
        "id": "LIZMmt8w9TsD"
      },
      "source": [
        "how to print the linked list"
      ]
    },
    {
      "cell_type": "code",
      "metadata": {
        "colab": {
          "base_uri": "https://localhost:8080/"
        },
        "id": "PGrcioR39WTw",
        "outputId": "77f59e9e-e07f-45b4-e351-245a252f4f93"
      },
      "source": [
        "class Node:\r\n",
        "  def __init__(self,data):\r\n",
        "    self.data = data\r\n",
        "    self.next = None\r\n",
        "\r\n",
        "def printLL(head): \r\n",
        "  while head is not None:\r\n",
        "    print(str(head.data) +\"->\",end = \"\")\r\n",
        "    head = head.next\r\n",
        "  print(\"none\")\r\n",
        "  return\r\n",
        "\r\n",
        "def takeInput():\r\n",
        "  inputlist = [int(ele) for ele in input().split()]\r\n",
        "  head = None\r\n",
        "  for currData in inputlist:\r\n",
        "    if currData == -1:\r\n",
        "      break\r\n",
        "    newNode = Node(currData)\r\n",
        "    if head is None:\r\n",
        "      head = newNode\r\n",
        "    else:\r\n",
        "      curr = head\r\n",
        "      while curr.next is not None:\r\n",
        "        curr = curr.next\r\n",
        "      curr.next = newNode\r\n",
        "  return head\r\n",
        "head = takeInput()\r\n",
        "printLL(head)"
      ],
      "execution_count": null,
      "outputs": [
        {
          "output_type": "stream",
          "text": [
            "1 2 3 4 5 6 -1\n",
            "1->2->3->4->5->6->none\n"
          ],
          "name": "stdout"
        }
      ]
    },
    {
      "cell_type": "markdown",
      "metadata": {
        "id": "UWFxINkMFLJB"
      },
      "source": [
        "Optimized LL "
      ]
    },
    {
      "cell_type": "markdown",
      "metadata": {
        "id": "8lKiXFLwFeQa"
      },
      "source": [
        "O(n)"
      ]
    },
    {
      "cell_type": "code",
      "metadata": {
        "colab": {
          "base_uri": "https://localhost:8080/"
        },
        "id": "1Zuw9AVFFK8m",
        "outputId": "ecc6f360-25e5-48d7-84e6-cb3000a4f593"
      },
      "source": [
        "class Node:                                  \r\n",
        "  def __init__(self,data):\r\n",
        "    self.data = data\r\n",
        "    self.next = None\r\n",
        "\r\n",
        "def printLL(head): \r\n",
        "  while head is not None:\r\n",
        "    print(str(head.data) +\"->\",end = \"\")\r\n",
        "    head = head.next\r\n",
        "  print(\"none\")\r\n",
        "  return\r\n",
        "def takeInput():\r\n",
        "    inputlist = [int(ele) for ele in input().split()]  \r\n",
        "    head = None             \r\n",
        "    tail = None                           \r\n",
        "    for currData in inputlist:             \r\n",
        "      if currData == -1:                    \r\n",
        "        break\r\n",
        "      newNode = Node(currData)            \r\n",
        "      if head is None:                     \r\n",
        "        head = newNode\r\n",
        "        tail = newNode\r\n",
        "      else:    \r\n",
        "        tail.next = newNode\r\n",
        "        tail = newNode\r\n",
        "    return head\r\n",
        "head = takeInput()\r\n",
        "printLL(head)"
      ],
      "execution_count": null,
      "outputs": [
        {
          "output_type": "stream",
          "text": [
            "1 2 3 4 5 6 -1\n",
            "1->2->3->4->5->6->none\n"
          ],
          "name": "stdout"
        }
      ]
    },
    {
      "cell_type": "markdown",
      "metadata": {
        "id": "4Rink07KDv7q"
      },
      "source": [
        "#Length of LL\r\n",
        "\r\n",
        "For a given singly linked list of integers, find and return its length. Do it using an iterative method.\r\n",
        "\r\n",
        "Input format :\r\n",
        "\r\n",
        "The first line contains an Integer 't' which denotes the number of test cases or queries to be run. Then the test cases follow.\r\n",
        "\r\n",
        "First and the only line of each test case or query contains elements of the singly linked list separated by a single space. \r\n",
        "\r\n",
        "Remember/Consider :\r\n",
        "\r\n",
        "While specifying the list elements for input, -1 indicates the end of the singly linked list and hence, would never be a list element.\r\n",
        "\r\n",
        "Output format :\r\n",
        "\r\n",
        "For each test case, print the length of the linked list.\r\n",
        "\r\n",
        "Output for every test case will be printed in a separate line.\r\n",
        "\r\n",
        "Constraints :\r\n",
        "* 1 <= t <= 10^2\r\n",
        "* 0 <= N <= 10^5\r\n",
        "* Time Limit: 1 sec\r\n",
        "\r\n",
        "Sample Input 1 :\r\n",
        "* 1\r\n",
        "* 3 4 5 2 6 1 9 -1\r\n",
        "\r\n",
        "Sample Output 1 :\r\n",
        "* 7\r\n",
        "\r\n",
        "Sample Input 2 :\r\n",
        "* 2\r\n",
        "* 10 76 39 -3 2 9 -23 9 -1\r\n",
        "* -1\r\n",
        "\r\n",
        "Sample Output 2 :\r\n",
        "* 8\r\n",
        "* 0"
      ]
    },
    {
      "cell_type": "code",
      "metadata": {
        "id": "c4acdvW0DJI7",
        "colab": {
          "base_uri": "https://localhost:8080/"
        },
        "outputId": "82199eaf-c7b7-4278-fe78-293da0433bc5"
      },
      "source": [
        "class Node :\r\n",
        "    def __init__(self, data) :\r\n",
        "        self.data = data\r\n",
        "        self.next = None\r\n",
        "\r\n",
        "def length(head) :\r\n",
        "    #Your code goes here\r\n",
        "    curr = head\r\n",
        "    cnt = 0\r\n",
        "    while curr is not None:\r\n",
        "        cnt += 1\r\n",
        "        curr = curr.next\r\n",
        "    return cnt\r\n",
        "def takeInput() :\r\n",
        "    head = None\r\n",
        "    tail = None\r\n",
        "\r\n",
        "    datas = list(map(int, input().rstrip().split(\" \")))\r\n",
        "\r\n",
        "    i = 0\r\n",
        "    while (i < len(datas)) and (datas[i] != -1) :\r\n",
        "        data = datas[i]\r\n",
        "        newNode = Node(data)\r\n",
        "\r\n",
        "        if head is None :\r\n",
        "            head = newNode\r\n",
        "            tail = newNode\r\n",
        "\r\n",
        "        else :\r\n",
        "            tail.next = newNode\r\n",
        "            tail = newNode\r\n",
        "\r\n",
        "        i += 1\r\n",
        "\r\n",
        "    return head\r\n",
        "#to print the linked list \r\n",
        "def printLinkedList(head) :\r\n",
        "\r\n",
        "    while head is not None :\r\n",
        "        print(str(head.data)+\"->\", end = \" \")\r\n",
        "        head = head.next\r\n",
        "\r\n",
        "    print()\r\n",
        "\r\n",
        "#main\r\n",
        "t = int(input().rstrip())\r\n",
        "\r\n",
        "while t > 0 :\r\n",
        "\r\n",
        "    head = takeInput()\r\n",
        "    print(length(head))\r\n",
        "\r\n",
        "    t -= 1"
      ],
      "execution_count": null,
      "outputs": [
        {
          "output_type": "stream",
          "text": [
            "1\n",
            "1 2 3 4 5 6 11\n",
            "7\n"
          ],
          "name": "stdout"
        }
      ]
    },
    {
      "cell_type": "markdown",
      "metadata": {
        "id": "eKrC6Z0YUTO-"
      },
      "source": [
        "#print ith position"
      ]
    },
    {
      "cell_type": "markdown",
      "metadata": {
        "id": "BRKKGl_fUVOe"
      },
      "source": [
        "For a given a singly linked list of integers and a position 'i', print the node data at the 'i-th' position.\r\n",
        "\r\n",
        "Note :\r\n",
        "    Assume that the Indexing for the singly linked list     always starts from 0.\r\n",
        "\r\n",
        "If the given position 'i',  is greater than the length of the given singly linked list, then don't print anything.\r\n",
        "\r\n",
        "Input format :\r\n",
        "      \r\n",
        "The first line contains an Integer 't' which denotes the number of test cases or queries to be run. Then the test cases follow.\r\n",
        "\r\n",
        "The first line of each test case or query contains the elements of the singly linked list separated by a single space. \r\n",
        "\r\n",
        "\r\n",
        "The second line contains the value of 'i'. It denotes the position in the given singly linked list.\r\n",
        " \r\n",
        "Remember/Consider :\r\n",
        "\r\n",
        "While specifying the list elements for input, -1 indicates the end of the singly linked list and hence, would never be a list element.\r\n",
        "\r\n",
        "Output format :\r\n",
        "\r\n",
        "For each test case, print the node data at the 'i-th' position of the linked list(if exists).\r\n",
        "\r\n",
        "Output for every test case will be printed in a seperate line.\r\n",
        "\r\n",
        "Constraints :\r\n",
        "*     1 <= t <= 10^2\r\n",
        "*    0 <= N <= 10^5\r\n",
        "*   i  >= 0\r\n",
        "*    Time Limit: 1sec\r\n",
        "\r\n",
        "Sample Input 1 :\r\n",
        "\r\n",
        "* 1\r\n",
        "* 3 4 5 2 6 1 9 -1\r\n",
        "* 3\r\n",
        "\r\n",
        "Sample Output 1 :\r\n",
        "* 2\r\n",
        "\r\n",
        "Sample Input 2 :\r\n",
        "* 2\r\n",
        "* 3 4 5 2 6 1 9 -1\r\n",
        "* 0\r\n",
        "* 9 8 4 0 7 8 -1\r\n",
        "* 3\r\n",
        "\r\n",
        "Sample Output 2 :\r\n",
        "* 3\r\n",
        "* 0"
      ]
    },
    {
      "cell_type": "code",
      "metadata": {
        "id": "TjTfev1gXmjP",
        "colab": {
          "base_uri": "https://localhost:8080/"
        },
        "outputId": "4e986387-6f3c-49c1-f7e1-c6f8c17cc05d"
      },
      "source": [
        "from sys import stdin\r\n",
        "class Node :\r\n",
        "    def __init__(self, data) :\r\n",
        "        self.data = data\r\n",
        "        self.next = None\r\n",
        "def printIthNode(head, i):\r\n",
        "    count = 0\r\n",
        "    while head is not None:\r\n",
        "        if count == i:\r\n",
        "            return head\r\n",
        "        head = head.next\r\n",
        "        count = count + 1  \r\n",
        "        #head = head.next\r\n",
        "    \r\n",
        "def takeInput() :\r\n",
        "    head = None\r\n",
        "    tail = None\r\n",
        "    datas = list(map(int, input().rstrip().split(\" \")))\r\n",
        "    i = 0\r\n",
        "    while (i < len(datas)) and (datas[i] != -1) :\r\n",
        "        data = datas[i]\r\n",
        "        newNode = Node(data)\r\n",
        "        if head is None :\r\n",
        "            head = newNode\r\n",
        "            tail = newNode\r\n",
        "        else :\r\n",
        "            tail.next = newNode\r\n",
        "            tail = newNode\r\n",
        "        i += 1\r\n",
        "    return head\r\n",
        "#to print the linked list \r\n",
        "def printLinkedList(head) :\r\n",
        "    while head is not None :\r\n",
        "        print(head.data, end = \" \")\r\n",
        "        head = head.next\r\n",
        "    print()\r\n",
        "#main\r\n",
        "t = int(input().rstrip())\r\n",
        "while t > 0 :\r\n",
        "    head = takeInput()\r\n",
        "    i = int(input().rstrip())\r\n",
        "    printIthNode(head, i)\r\n",
        "    t -= 1"
      ],
      "execution_count": null,
      "outputs": [
        {
          "output_type": "stream",
          "text": [
            "1\n",
            "1 2 4 5 6 -1\n",
            "3\n"
          ],
          "name": "stdout"
        }
      ]
    },
    {
      "cell_type": "markdown",
      "metadata": {
        "id": "0jEJvAaQqlRL"
      },
      "source": [
        "#Insert at ith position\r\n"
      ]
    },
    {
      "cell_type": "markdown",
      "metadata": {
        "id": "n81IOPFz_z1Z"
      },
      "source": [
        "we have to insert a node in linked list and we have to return head bcoz might be head is changing "
      ]
    },
    {
      "cell_type": "code",
      "metadata": {
        "id": "bTLH37r6E3AB",
        "colab": {
          "base_uri": "https://localhost:8080/"
        },
        "outputId": "7a564070-725d-4d73-8f08-cb41b69c4a7f"
      },
      "source": [
        "class Node:\r\n",
        "  def __init__(self,data):\r\n",
        "    self.data = data                            #this is how we create LL and by now this should be by heart (learn)\r\n",
        "    self.next = None\r\n",
        "\r\n",
        "def printLL(head): \r\n",
        "  \r\n",
        "  while head is not None:\r\n",
        "    print(str(head.data) +\"->\",end = \"\")            #this is how we mormally print LL (learn)\r\n",
        "    head = head.next                           \r\n",
        "  print(\"None\")\r\n",
        "  return\r\n",
        "\r\n",
        "def length(head) :                                 #this is how we find the length of LL (learn)\r\n",
        "    \r\n",
        "    cnt = 0\r\n",
        "    while head is not None:\r\n",
        "        cnt = cnt + 1                       #ill keep incrementing count\r\n",
        "        head = head.next                    #till i get head None\r\n",
        "    return cnt\r\n",
        "                                #HERE STARTS THE QUESTION AND THE LOGIC\r\n",
        "def insertatIth(head,i,data):                 #for inserting at ith position we need head & data of the inserting node and index\r\n",
        "  \r\n",
        "  if i<0 or i>length(head):               #this is the case where we can not insert \r\n",
        "    return head                           # so if no insertion then we'll return the LL as it is ........i mean head\r\n",
        "\r\n",
        "  count = 0                               #make a diff counter and make two index movers ..... prev and curr \r\n",
        "  prev = None                         # at i = 0 curr = head and prev should be none\r\n",
        "  curr = head\r\n",
        "  while count < i:                         #as soon as we reach at ith position just make prev to curr\r\n",
        "    prev = curr\r\n",
        "    curr = curr.next\r\n",
        "    count = count + 1                       #after this we make the new node of the data \r\n",
        "  newNode = Node(data)                        #only if prev is not note           \r\n",
        "  if prev is not None:\r\n",
        "    prev.next = newNode\r\n",
        "  else:                                 #otherwise our head is the new node i.e we insert at start\r\n",
        "    head = newNode\r\n",
        "  newNode.next = curr                 #mkig newnode next as curr \r\n",
        "  return head\r\n",
        "\r\n",
        "def takeInput():\r\n",
        "  inputlist = [int(ele) for ele in input().split()]\r\n",
        "  head = None\r\n",
        "  tail = None\r\n",
        "  for currData in inputlist:\r\n",
        "    if currData == -1:\r\n",
        "      break\r\n",
        "    newNode = Node(currData)\r\n",
        "    if head is None:\r\n",
        "      head = newNode\r\n",
        "      tail = newNode\r\n",
        "    else:\r\n",
        "      tail.next = newNode\r\n",
        "      tail = newNode\r\n",
        "  return head\r\n",
        "\r\n",
        "head = takeInput()\r\n",
        "printLL(head)\r\n",
        "head = insertatIth(head,2,6)\r\n",
        "printLL(head)\r\n",
        "  "
      ],
      "execution_count": null,
      "outputs": [
        {
          "output_type": "stream",
          "text": [
            "1 2 3 4 5 6 -1\n",
            "1->2->3->4->5->6->None\n",
            "1->2->6->3->4->5->6->None\n"
          ],
          "name": "stdout"
        }
      ]
    },
    {
      "cell_type": "markdown",
      "metadata": {
        "id": "s12hicZ1Z_CX"
      },
      "source": [
        "#Delete at Ith"
      ]
    },
    {
      "cell_type": "markdown",
      "metadata": {
        "id": "ZHZ9Uo3NdSVj"
      },
      "source": [
        "You have been given a linked list of integers. Your task is to write a function that deletes a node from a given position, 'pos'.\r\n",
        "\r\n",
        "Note :\r\n",
        "Assume that the Indexing for the linked list always starts from 0.\r\n",
        "\r\n",
        "If the position is greater than or equal to the length of the linked list, you should return the same linked list without any change.\r\n",
        "\r\n",
        "Input format :\r\n",
        "The first line contains an Integer 't' which denotes the number of test cases or queries to be run. Then the test cases follow.\r\n",
        "\r\n",
        "The first line of each test case or query contains the elements of the linked list separated by a single space. \r\n",
        "\r\n",
        "The second line of each test case contains the integer value of 'pos'. It denotes the position in the linked list from where the node has to be deleted.\r\n",
        "\r\n",
        "Remember/Consider :\r\n",
        "While specifying the list elements for input, -1 indicates the end of the singly linked list and hence, would never be a list element\r\n",
        "\r\n",
        "Output format :\r\n",
        "For each test case/query, print the resulting linked list of integers in a row, separated by a single space.\r\n",
        "\r\n",
        "Output for every test case will be printed in a separate line.\r\n",
        "You don't need to print explicitly, it has been taken care of.\r\n",
        "\r\n",
        "Constraints :\r\n",
        "* 1 <= t <= 10^2\r\n",
        "* 0 <= N <= 10^5\r\n",
        "* pos >= 0\r\n",
        "* Time Limit: 1sec\r\n",
        "\r\n",
        "Where 'N' is the size of the singly linked list.\r\n",
        "\r\n",
        "Sample Input 1 :\r\n",
        "* 1 \r\n",
        "* 3 4 5 2 6 1 9 -1\r\n",
        "* 3\r\n",
        "\r\n",
        "Sample Output 1 :\r\n",
        "* 3 4 5 6 1 9\r\n",
        "\r\n",
        "Sample Input 2 :\r\n",
        "* 2\r\n",
        "* 3 4 5 2 6 1 9 -1\r\n",
        "* 0\r\n",
        "* 10 20 30 40 50 60 -1\r\n",
        "* 7\r\n",
        "\r\n",
        "Sample Output 2 :\r\n",
        "* 4 5 2 6 1 9\r\n",
        "* 10 20 30 40 50 60"
      ]
    },
    {
      "cell_type": "code",
      "metadata": {
        "id": "3ua1qDIDZ-dO",
        "colab": {
          "base_uri": "https://localhost:8080/"
        },
        "outputId": "6aff802a-b33c-40f8-edab-e05d645d737d"
      },
      "source": [
        "class Node:\r\n",
        "  def __init__(self,data):\r\n",
        "    self.data = data                            #this is how we create LL and by now this should be by heart (learn)\r\n",
        "    self.next = None\r\n",
        "\r\n",
        "def printLL(head): \r\n",
        "  \r\n",
        "  while head is not None:\r\n",
        "    print(str(head.data) +\"->\",end = \"\")            #this is how we mormally print LL (learn)\r\n",
        "    head = head.next                           \r\n",
        "  print(\"None\")\r\n",
        "  return\r\n",
        "\r\n",
        "def length(head) :                                 #this is how we find the length of LL (learn)\r\n",
        "    \r\n",
        "    cnt = 0\r\n",
        "    while head is not None:\r\n",
        "        cnt = cnt + 1                       #ill keep incrementing count\r\n",
        "        head = head.next                    #till i get head None\r\n",
        "    return cnt\r\n",
        "                                #HERE STARTS THE QUESTION AND THE LOGIC\r\n",
        "def deleteatIth(head,i):\r\n",
        "  if i<0 or i>length(head):\r\n",
        "    return head\r\n",
        "  count = 0\r\n",
        "  prev = None\r\n",
        "  curr = head\r\n",
        "  while count<i:\r\n",
        "    prev = curr\r\n",
        "    curr = curr.next \r\n",
        "    count = count + 1\r\n",
        "  if prev is not None:\r\n",
        "    prev.next = curr.next\r\n",
        "  else:\r\n",
        "    head = head.next\r\n",
        "  return head\r\n",
        "def takeInput():\r\n",
        "  inputlist = [int(ele) for ele in input().split()]\r\n",
        "  head = None\r\n",
        "  tail = None\r\n",
        "  for currData in inputlist:\r\n",
        "    if currData == -1:\r\n",
        "      break\r\n",
        "    newNode = Node(currData)\r\n",
        "    if head is None:\r\n",
        "      head = newNode\r\n",
        "      tail = newNode\r\n",
        "    else:\r\n",
        "      tail.next = newNode\r\n",
        "      tail = newNode\r\n",
        "  return head\r\n",
        "\r\n",
        "head = takeInput()\r\n",
        "printLL(head)\r\n",
        "head = deleteatIth(head,2)\r\n",
        "printLL(head)"
      ],
      "execution_count": null,
      "outputs": [
        {
          "output_type": "stream",
          "text": [
            "1 2 3 4 5 6 -1\n",
            "1->2->3->4->5->6->None\n",
            "1->2->4->5->6->None\n"
          ],
          "name": "stdout"
        }
      ]
    },
    {
      "cell_type": "markdown",
      "metadata": {
        "id": "hvsiejdjdobs"
      },
      "source": [
        "#insert at Ith using recursion"
      ]
    },
    {
      "cell_type": "code",
      "metadata": {
        "id": "t7XJJsz62BWK",
        "colab": {
          "base_uri": "https://localhost:8080/"
        },
        "outputId": "23816976-5d84-41e5-803f-fb466f02eafb"
      },
      "source": [
        "class Node:\r\n",
        "  def __init__(self,data):\r\n",
        "    self.data = data                            #this is how we create LL and by now this should be by heart (learn)\r\n",
        "    self.next = None\r\n",
        "\r\n",
        "def printLL(head): \r\n",
        "  \r\n",
        "  while head is not None:\r\n",
        "    print(str(head.data) +\"->\",end = \"\")            #this is how we mormally print LL (learn)\r\n",
        "    head = head.next                           \r\n",
        "  print(\"None\")\r\n",
        "  return\r\n",
        "\r\n",
        "def length(head) :                                 #this is how we find the length of LL (learn)\r\n",
        "    \r\n",
        "    cnt = 0\r\n",
        "    while head is not None:\r\n",
        "        cnt = cnt + 1                       #ill keep incrementing count\r\n",
        "        head = head.next                    #till i get head None\r\n",
        "    return cnt\r\n",
        "def insertatIthR(head,i,data):\r\n",
        "  if i<0:\r\n",
        "    return head\r\n",
        "  if i == 0:\r\n",
        "    newNode = Node(data)\r\n",
        "    newNode.next = head\r\n",
        "    return newNode\r\n",
        "  if head is not None:\r\n",
        "    return head\r\n",
        "  smallHead = insertatIthR(head.next,i-1,data)             #here it is out induction hypothesis\r\n",
        "  head.next = smallHead\r\n",
        "  return head\r\n",
        "  \r\n",
        "                     #HERE STARTS THE QUESTION AND THE LOGIC\r\n",
        "def insertatIth(head,i,data):                 #for inserting at ith position we need head & data of the inserting node and index\r\n",
        "  \r\n",
        "  if i<0 or i>length(head):               #this is the case where we can not insert \r\n",
        "    return head                           # so if no insertion then we'll return the LL as it is ........i mean head\r\n",
        "\r\n",
        "  count = 0                               #make a diff counter and make two index movers ..... prev and curr \r\n",
        "  prev = None                         # at i = 0 curr = head and prev should be none\r\n",
        "  curr = head\r\n",
        "  while count < i:                         #as soon as we reach at ith position just make prev to curr\r\n",
        "    prev = curr\r\n",
        "    curr = curr.next\r\n",
        "    count = count + 1                       #after this we make the new node of the data \r\n",
        "  newNode = Node(data)                        #only if prev is not note           \r\n",
        "  if prev is not None:\r\n",
        "    prev.next = newNode\r\n",
        "  else:                                 #otherwise our head is the new node i.e we insert at start\r\n",
        "    head = newNode\r\n",
        "  newNode.next = curr                 #mkig newnode next as curr \r\n",
        "  return head\r\n",
        "\r\n",
        "def takeInput():\r\n",
        "  inputlist = [int(ele) for ele in input().split()]\r\n",
        "  head = None\r\n",
        "  tail = None\r\n",
        "  for currData in inputlist:\r\n",
        "    if currData == -1:\r\n",
        "      break\r\n",
        "    newNode = Node(currData)\r\n",
        "    if head is None:\r\n",
        "      head = newNode\r\n",
        "      tail = newNode\r\n",
        "    else:\r\n",
        "      tail.next = newNode\r\n",
        "      tail = newNode\r\n",
        "  return head\r\n",
        "\r\n",
        "head = takeInput()\r\n",
        "printLL(head)\r\n",
        "head = insertatIthR(head,2,6)\r\n",
        "printLL(head)\r\n",
        "  "
      ],
      "execution_count": null,
      "outputs": [
        {
          "output_type": "stream",
          "text": [
            "1 2 3 4 5 6 -1\n",
            "1->2->3->4->5->6->None\n",
            "1->2->6->3->4->5->6->None\n"
          ],
          "name": "stdout"
        }
      ]
    },
    {
      "cell_type": "markdown",
      "metadata": {
        "id": "VN23mTZ99XLj"
      },
      "source": [
        "#print index / return node"
      ]
    },
    {
      "cell_type": "code",
      "metadata": {
        "colab": {
          "base_uri": "https://localhost:8080/"
        },
        "id": "L6DcW-IV86Ia",
        "outputId": "67c844ce-89e9-4a90-a8f3-8d13ba86f0a0"
      },
      "source": [
        "class Node:\r\n",
        "  def __init__(self,data):\r\n",
        "    self.data = data                            #this is how we create LL and by now this should be by heart (learn)\r\n",
        "    self.next = None\r\n",
        "\r\n",
        "def length(head) :                                 #this is how we find the length of LL (learn)\r\n",
        "    \r\n",
        "    cnt = 0\r\n",
        "    while head is not None:\r\n",
        "        cnt = cnt + 1                       #ill keep incrementing count\r\n",
        "        head = head.next                    #till i get head None\r\n",
        "    return cnt\r\n",
        "\r\n",
        "def linearSearch(head, n):\r\n",
        "    \r\n",
        "    curr = head\r\n",
        "    cnt = 0\r\n",
        "    while curr is not None:\r\n",
        "        if curr.data == n:\r\n",
        "            return cnt\r\n",
        "        cnt += 1\r\n",
        "        curr = curr.next\r\n",
        "        \r\n",
        "    return -1\r\n",
        "\r\n",
        "\r\n",
        "def takeInput():\r\n",
        "  inputlist = [int(ele) for ele in input().split()]\r\n",
        "  head = None\r\n",
        "  tail = None\r\n",
        "  for currData in inputlist:\r\n",
        "    if currData == -1:\r\n",
        "      break\r\n",
        "    newNode = Node(currData)\r\n",
        "    if head is None:\r\n",
        "      head = newNode\r\n",
        "      tail = newNode\r\n",
        "    else:\r\n",
        "      tail.next = newNode\r\n",
        "      tail = newNode\r\n",
        "  return head\r\n",
        "\r\n",
        "head = takeInput()\r\n",
        "data = int(input())\r\n",
        "index = linearSearch(head,data)\r\n",
        "print(index)"
      ],
      "execution_count": null,
      "outputs": [
        {
          "output_type": "stream",
          "text": [
            "1 2 3 4 5 6 -1\n",
            "5\n",
            "4\n"
          ],
          "name": "stdout"
        }
      ]
    },
    {
      "cell_type": "markdown",
      "metadata": {
        "id": "bM2pIqM4fdf3"
      },
      "source": [
        "#reverse LL O(n2)"
      ]
    },
    {
      "cell_type": "markdown",
      "metadata": {
        "id": "p44bWjVBv485"
      },
      "source": [
        "in this we can use recursion like making the second ele as head then so on till we get last so that we make it head and reverse the list and in end get none\r\n",
        "* 1->->2->3->4->5->None\r\n",
        "* 5->4->3->2->1->None"
      ]
    },
    {
      "cell_type": "markdown",
      "metadata": {
        "id": "9BiUNB1IwRhF"
      },
      "source": [
        "so induction hypothesis will be 1) reverse further linked list \r\n",
        "2) get the new head of reverse linked list"
      ]
    },
    {
      "cell_type": "markdown",
      "metadata": {
        "id": "eAJ3liKewxzW"
      },
      "source": [
        "in this example above (1 to 5) when we use recursion you'll notice that it went like 5->4->3->2->None bcoz 1 was before recursion so here we gonna make tail.next = head and 1.next i.e head.next = None"
      ]
    },
    {
      "cell_type": "markdown",
      "metadata": {
        "id": "1nTAFHkk9sxX"
      },
      "source": [
        "base case = head.next is none then return previous head itself \r\n",
        "\r\n",
        "speacial case = also if head is none then return none\r\n"
      ]
    },
    {
      "cell_type": "code",
      "metadata": {
        "id": "_c7NS0YL_UAC",
        "colab": {
          "base_uri": "https://localhost:8080/"
        },
        "outputId": "df6a94f1-1250-4536-d3fe-c8c88865d508"
      },
      "source": [
        "class Node:\r\n",
        "  def __init__(self,data):\r\n",
        "    self.data = data                            #this is how we create LL and by now this should be by heart (learn)\r\n",
        "    self.next = None\r\n",
        "\r\n",
        "def printLL(head): \r\n",
        "  \r\n",
        "  while head is not None:\r\n",
        "    print(str(head.data) +\"->\",end = \"\")            #this is how we mormally print LL (learn)\r\n",
        "    head = head.next                           \r\n",
        "  print(\"None\")\r\n",
        "  return\r\n",
        "\r\n",
        "def length(head) :                                 #this is how we find the length of LL (learn)\r\n",
        "    \r\n",
        "    cnt = 0\r\n",
        "    while head is not None:\r\n",
        "        cnt = cnt + 1                       #ill keep incrementing count\r\n",
        "        head = head.next                    #till i get head None\r\n",
        "    return cnt\r\n",
        "\r\n",
        "  \r\n",
        "def takeInput():\r\n",
        "  inputlist = [int(ele) for ele in input().split()]\r\n",
        "  head = None\r\n",
        "  tail = None\r\n",
        "  for currData in inputlist:\r\n",
        "    if currData == -1:\r\n",
        "      break\r\n",
        "    newNode = Node(currData)\r\n",
        "    if head is None:\r\n",
        "      head = newNode\r\n",
        "      tail = newNode\r\n",
        "    else:\r\n",
        "      tail.next = newNode\r\n",
        "      tail = newNode\r\n",
        "  return head\r\n",
        "\r\n",
        "def reverse1(head):\r\n",
        "  if head is None or head.next is None:  #here order of statement matters first chech if head is none only then check head.next\r\n",
        "    return head\r\n",
        "\r\n",
        "  smallhead = reverse1(head.next)            \r\n",
        "  curr = smallhead                                          #we have to return smallhead thats why we created curr so to not loose the refercne of smallhead\r\n",
        "  while curr.next is not None:\r\n",
        "    curr = curr.next\r\n",
        "  curr.next = head\r\n",
        "  head.next = None                #abhi head 1 hai to 1.next is none and hence reversed\r\n",
        "  return smallhead\r\n",
        "\r\n",
        "head = takeInput()\r\n",
        "printLL(head)\r\n",
        "head = reverse1(head)\r\n",
        "printLL(head)"
      ],
      "execution_count": null,
      "outputs": [
        {
          "output_type": "stream",
          "text": [
            "1 2 3 4 5 6 -1\n",
            "1->2->3->4->5->6->None\n",
            "6->5->4->3->2->1->None\n"
          ],
          "name": "stdout"
        }
      ]
    },
    {
      "cell_type": "markdown",
      "metadata": {
        "id": "lEr2mWG-Ux04"
      },
      "source": [
        "now this take O(n2) so we should do with O(n) now"
      ]
    },
    {
      "cell_type": "markdown",
      "metadata": {
        "id": "xZezGCIgVjzw"
      },
      "source": [
        "#reverse LL O(n)"
      ]
    },
    {
      "cell_type": "markdown",
      "metadata": {
        "id": "gL2Gp_xuVs6Z"
      },
      "source": [
        "we use head and tail so that we not traverse again to last so as to save time"
      ]
    },
    {
      "cell_type": "code",
      "metadata": {
        "colab": {
          "base_uri": "https://localhost:8080/"
        },
        "id": "Dd_jgHS0N1A5",
        "outputId": "a6e03269-0de0-4dee-a158-bf3804fe134a"
      },
      "source": [
        "class Node:\r\n",
        "  def __init__(self,data):\r\n",
        "    self.data = data                            #this is how we create LL and by now this should be by heart (learn)\r\n",
        "    self.next = None\r\n",
        "\r\n",
        "def printLL(head): \r\n",
        "  \r\n",
        "  while head is not None:\r\n",
        "    print(str(head.data) +\"->\",end = \"\")            #this is how we mormally print LL (learn)\r\n",
        "    head = head.next                           \r\n",
        "  print(\"None\")\r\n",
        "  return\r\n",
        "\r\n",
        "def length(head) :                                 #this is how we find the length of LL (learn)\r\n",
        "    \r\n",
        "    cnt = 0\r\n",
        "    while head is not None:\r\n",
        "        cnt = cnt + 1                       #ill keep incrementing count\r\n",
        "        head = head.next                    #till i get head None\r\n",
        "    return cnt\r\n",
        "\r\n",
        "  \r\n",
        "def takeInput():\r\n",
        "  inputlist = [int(ele) for ele in input().split()]\r\n",
        "  head = None\r\n",
        "  tail = None\r\n",
        "  for currData in inputlist:\r\n",
        "    if currData == -1:\r\n",
        "      break\r\n",
        "    newNode = Node(currData)\r\n",
        "    if head is None:\r\n",
        "      head = newNode\r\n",
        "      tail = newNode\r\n",
        "    else:\r\n",
        "      tail.next = newNode\r\n",
        "      tail = newNode\r\n",
        "  return head\r\n",
        "\r\n",
        "def reverse2(head):\r\n",
        "  if head is None or head.next is None:  #here order of statement matters first chech if head is none only then check head.next\r\n",
        "    return head,head\r\n",
        "\r\n",
        "  smallhead,smalltail = reverse2(head.next)            \r\n",
        "  smalltail.next = head\r\n",
        "  head.next = None\r\n",
        "  return smallhead,head #small tail has become head\r\n",
        "\r\n",
        "head = takeInput()\r\n",
        "printLL(head)\r\n",
        "head,tail = reverse2(head)\r\n",
        "printLL(head)"
      ],
      "execution_count": null,
      "outputs": [
        {
          "output_type": "stream",
          "text": [
            "1 2 3 4 5 6 -1\n",
            "1->2->3->4->5->6->None\n",
            "6->5->4->3->2->1->None\n"
          ],
          "name": "stdout"
        }
      ]
    },
    {
      "cell_type": "markdown",
      "metadata": {
        "id": "KeiQs2lTgREH"
      },
      "source": [
        "#intervieew question imp\r\n",
        "\r\n"
      ]
    },
    {
      "cell_type": "markdown",
      "metadata": {
        "id": "_suxc5p3a7XZ"
      },
      "source": [
        "#reverse LL best solution"
      ]
    },
    {
      "cell_type": "code",
      "metadata": {
        "colab": {
          "base_uri": "https://localhost:8080/"
        },
        "id": "IxJJ588naSZ5",
        "outputId": "6f08f3c2-19cc-40ed-d4d9-14aa3ecb23c8"
      },
      "source": [
        " class Node:\r\n",
        "  def __init__(self,data):\r\n",
        "    self.data = data                            #this is how we create LL and by now this should be by heart (learn)\r\n",
        "    self.next = None\r\n",
        "\r\n",
        "def printLL(head): \r\n",
        "  \r\n",
        "  while head is not None:\r\n",
        "    print(str(head.data) +\"->\",end = \"\")            #this is how we mormally print LL (learn)\r\n",
        "    head = head.next                           \r\n",
        "  print(\"None\")\r\n",
        "  return\r\n",
        "\r\n",
        "def length(head) :                                 #this is how we find the length of LL (learn)\r\n",
        "    \r\n",
        "    cnt = 0\r\n",
        "    while head is not None:\r\n",
        "        cnt = cnt + 1                       #ill keep incrementing count\r\n",
        "        head = head.next                    #till i get head None\r\n",
        "    return cnt\r\n",
        "\r\n",
        "  \r\n",
        "def takeInput():\r\n",
        "  inputlist = [int(ele) for ele in input().split()]\r\n",
        "  head = None\r\n",
        "  tail = None\r\n",
        "  for currData in inputlist:\r\n",
        "    if currData == -1:\r\n",
        "      break\r\n",
        "    newNode = Node(currData)\r\n",
        "    if head is None:\r\n",
        "      head = newNode\r\n",
        "      tail = newNode\r\n",
        "    else:\r\n",
        "      tail.next = newNode\r\n",
        "      tail = newNode\r\n",
        "  return head\r\n",
        "\r\n",
        "def reverse3(head):\r\n",
        "  if head is None or head.next is None:  #here order of statement matters first chech if head is none only then check head.next\r\n",
        "    return head,head\r\n",
        "\r\n",
        "  smallhead = reverse3(head.next)            \r\n",
        "  tail = head.next\r\n",
        "  tail.next = head\r\n",
        "  head.next = None\r\n",
        "  return smallhead #small tail has become head\r\n",
        "\r\n",
        "head = takeInput()\r\n",
        "printLL(head)\r\n",
        "head= reverse3(head)\r\n",
        "printLL(head)"
      ],
      "execution_count": null,
      "outputs": [
        {
          "output_type": "stream",
          "text": [
            "1 2 3 4 5 6 -1\n",
            "1->2->3->4->5->6->None\n",
            "6->5->4->3->2->1->None\n"
          ],
          "name": "stdout"
        }
      ]
    },
    {
      "cell_type": "markdown",
      "metadata": {
        "id": "XFPe93H-gVGA"
      },
      "source": [
        "#reverse LL iteratively"
      ]
    },
    {
      "cell_type": "code",
      "metadata": {
        "id": "FztfRETSgD9K"
      },
      "source": [
        ""
      ],
      "execution_count": null,
      "outputs": []
    },
    {
      "cell_type": "markdown",
      "metadata": {
        "id": "y_woDO4iDexT"
      },
      "source": [
        "#mid point of LL"
      ]
    },
    {
      "cell_type": "code",
      "metadata": {
        "colab": {
          "base_uri": "https://localhost:8080/"
        },
        "id": "RSXVZcAZDgcq",
        "outputId": "4d779a7d-098f-4df6-d03e-6797d18b8830"
      },
      "source": [
        "class Node:\r\n",
        "  def __init__(self,data):\r\n",
        "    self.data = data                            #this is how we create LL and by now this should be by heart (learn)\r\n",
        "    self.next = None\r\n",
        "\r\n",
        "def printLL(head): \r\n",
        "  \r\n",
        "  while head is not None:\r\n",
        "    print(str(head.data) +\"->\",end = \"\")            #this is how we mormally print LL (learn)\r\n",
        "    head = head.next                           \r\n",
        "  print(\"None\")\r\n",
        "  return\r\n",
        "\r\n",
        "def length(head) :                                 #this is how we find the length of LL (learn)\r\n",
        "    \r\n",
        "    cnt = 0\r\n",
        "    while head is not None:\r\n",
        "        cnt = cnt + 1                       #ill keep incrementing count\r\n",
        "        head = head.next                    #till i get head None\r\n",
        "    return cnt\r\n",
        "\r\n",
        "  \r\n",
        "def takeInput():\r\n",
        "  inputlist = [int(ele) for ele in input().split()]\r\n",
        "  head = None\r\n",
        "  tail = None\r\n",
        "  for currData in inputlist:\r\n",
        "    if currData == -1:\r\n",
        "      break\r\n",
        "    newNode = Node(currData)\r\n",
        "    if head is None:\r\n",
        "      head = newNode\r\n",
        "      tail = newNode\r\n",
        "    else:\r\n",
        "      tail.next = newNode\r\n",
        "      tail = newNode\r\n",
        "  return head\r\n",
        "\r\n",
        "def midpoint(head):\r\n",
        "  if head is None or head.next is None:\r\n",
        "    return head\r\n",
        "  slow = head\r\n",
        "  fast = head  #fast will iterate at 2x that is when fast will be at end slow will be at mid and we return it \r\n",
        "  \r\n",
        "  while fast.next != None and fast.next.next != None:\r\n",
        "    slow = slow.next\r\n",
        "    fast = fast.next.next\r\n",
        "  print(slow.data)\r\n",
        "\r\n",
        "head = takeInput()\r\n",
        "printLL(head)\r\n",
        "head = midpoint(head)\r\n"
      ],
      "execution_count": null,
      "outputs": [
        {
          "output_type": "stream",
          "text": [
            "1 2 3 4 5\n",
            "1->2->3->4->5->None\n",
            "3\n"
          ],
          "name": "stdout"
        }
      ]
    },
    {
      "cell_type": "markdown",
      "metadata": {
        "id": "Sy5ZponwHp29"
      },
      "source": [
        "#merge 2 sorted LL"
      ]
    },
    {
      "cell_type": "markdown",
      "metadata": {
        "id": "NhFxWlNkHvRQ"
      },
      "source": [
        "2 linkedlists that means 2 head\r\n",
        "\r\n",
        "but returning single head\r\n",
        "\r\n",
        "dont create new nodes but rearrange them"
      ]
    },
    {
      "cell_type": "code",
      "metadata": {
        "colab": {
          "base_uri": "https://localhost:8080/",
          "height": 396
        },
        "id": "Mio2uNmuE0dw",
        "outputId": "dee1667b-b429-47a2-9e38-91dbd045f432"
      },
      "source": [
        "class Node:\r\n",
        "  def __init__(self,data):\r\n",
        "    self.data = data                            #this is how we create LL and by now this should be by heart (learn)\r\n",
        "    self.next = None\r\n",
        "\r\n",
        "def printLL(head): \r\n",
        "  \r\n",
        "  while head is not None:\r\n",
        "    print(str(head.data) +\"->\",end = \"\")            #this is how we mormally print LL (learn)\r\n",
        "    head = head.next                           \r\n",
        "  print(\"None\")\r\n",
        "  return\r\n",
        "\r\n",
        "def length(head) :                                 #this is how we find the length of LL (learn)\r\n",
        "    \r\n",
        "    cnt = 0\r\n",
        "    while head is not None:\r\n",
        "        cnt = cnt + 1                       #ill keep incrementing count\r\n",
        "        head = head.next                    #till i get head None\r\n",
        "    return cnt\r\n",
        "\r\n",
        "  \r\n",
        "def takeInput():\r\n",
        "  inputlist = [int(ele) for ele in input().split()]\r\n",
        "  head = None\r\n",
        "  tail = None\r\n",
        "  for currData in inputlist:\r\n",
        "    if currData == -1:\r\n",
        "      break\r\n",
        "    newNode = Node(currData)\r\n",
        "    if head is None:\r\n",
        "      head = newNode\r\n",
        "      tail = newNode\r\n",
        "    else:\r\n",
        "      tail.next = newNode\r\n",
        "      tail = newNode\r\n",
        "  return head\r\n",
        "\r\n",
        "def merge(head1,head2):\r\n",
        "  fhead = None\r\n",
        "  ftail = fhead\r\n",
        "  while head1 != None and head1.next != None:\r\n",
        "    if head1.data <= head2.data:\r\n",
        "      fhead \r\n",
        "      ftail.next = head1\r\n",
        "      ftail = ftail.next\r\n",
        "      head1 = head1.next\r\n",
        "    else:\r\n",
        "      ftail.next = head2\r\n",
        "      ftail = ftail.next\r\n",
        "      head2 = head2.next\r\n",
        "\r\n",
        "          \r\n",
        "  while head1 is not None:\r\n",
        "    ftail.next = head1\r\n",
        "    ftail = ftail.next\r\n",
        "    head1 = head1.next\r\n",
        "    \r\n",
        "  while head2 is not None:\r\n",
        "    ftail.next = head2\r\n",
        "    ftail = ftail.next    \r\n",
        "    head2 = head2.next\r\n",
        "    \r\n",
        "  return fhead.next \r\n",
        "head1 = takeInput()\r\n",
        "head2 = takeInput()\r\n",
        "printLL(head1)\r\n",
        "printLL(head2)\r\n",
        "finalhead = merge(head1,head2)\r\n",
        "printLL(finalhead)\r\n"
      ],
      "execution_count": null,
      "outputs": [
        {
          "output_type": "stream",
          "text": [
            "1 3 5 7 9 -1\n",
            "2 4 6 8 -1\n",
            "1->3->5->7->9->None\n",
            "2->4->6->8->None\n"
          ],
          "name": "stdout"
        },
        {
          "output_type": "error",
          "ename": "AttributeError",
          "evalue": "ignored",
          "traceback": [
            "\u001b[0;31m---------------------------------------------------------------------------\u001b[0m",
            "\u001b[0;31mAttributeError\u001b[0m                            Traceback (most recent call last)",
            "\u001b[0;32m<ipython-input-12-3d229627f19b>\u001b[0m in \u001b[0;36m<module>\u001b[0;34m()\u001b[0m\n\u001b[1;32m     66\u001b[0m \u001b[0mprintLL\u001b[0m\u001b[0;34m(\u001b[0m\u001b[0mhead1\u001b[0m\u001b[0;34m)\u001b[0m\u001b[0;34m\u001b[0m\u001b[0;34m\u001b[0m\u001b[0m\n\u001b[1;32m     67\u001b[0m \u001b[0mprintLL\u001b[0m\u001b[0;34m(\u001b[0m\u001b[0mhead2\u001b[0m\u001b[0;34m)\u001b[0m\u001b[0;34m\u001b[0m\u001b[0;34m\u001b[0m\u001b[0m\n\u001b[0;32m---> 68\u001b[0;31m \u001b[0mfinalhead\u001b[0m \u001b[0;34m=\u001b[0m \u001b[0mmerge\u001b[0m\u001b[0;34m(\u001b[0m\u001b[0mhead1\u001b[0m\u001b[0;34m,\u001b[0m\u001b[0mhead2\u001b[0m\u001b[0;34m)\u001b[0m\u001b[0;34m\u001b[0m\u001b[0;34m\u001b[0m\u001b[0m\n\u001b[0m\u001b[1;32m     69\u001b[0m \u001b[0mprintLL\u001b[0m\u001b[0;34m(\u001b[0m\u001b[0mfinalhead\u001b[0m\u001b[0;34m)\u001b[0m\u001b[0;34m\u001b[0m\u001b[0;34m\u001b[0m\u001b[0m\n",
            "\u001b[0;32m<ipython-input-12-3d229627f19b>\u001b[0m in \u001b[0;36mmerge\u001b[0;34m(head1, head2)\u001b[0m\n\u001b[1;32m     42\u001b[0m   \u001b[0;32mwhile\u001b[0m \u001b[0mhead1\u001b[0m \u001b[0;34m!=\u001b[0m \u001b[0;32mNone\u001b[0m \u001b[0;32mand\u001b[0m \u001b[0mhead1\u001b[0m\u001b[0;34m.\u001b[0m\u001b[0mnext\u001b[0m \u001b[0;34m!=\u001b[0m \u001b[0;32mNone\u001b[0m\u001b[0;34m:\u001b[0m\u001b[0;34m\u001b[0m\u001b[0;34m\u001b[0m\u001b[0m\n\u001b[1;32m     43\u001b[0m     \u001b[0;32mif\u001b[0m \u001b[0mhead1\u001b[0m\u001b[0;34m.\u001b[0m\u001b[0mdata\u001b[0m \u001b[0;34m<=\u001b[0m \u001b[0mhead2\u001b[0m\u001b[0;34m.\u001b[0m\u001b[0mdata\u001b[0m\u001b[0;34m:\u001b[0m\u001b[0;34m\u001b[0m\u001b[0;34m\u001b[0m\u001b[0m\n\u001b[0;32m---> 44\u001b[0;31m       \u001b[0mftail\u001b[0m\u001b[0;34m.\u001b[0m\u001b[0mnext\u001b[0m \u001b[0;34m=\u001b[0m \u001b[0mhead1\u001b[0m\u001b[0;34m\u001b[0m\u001b[0;34m\u001b[0m\u001b[0m\n\u001b[0m\u001b[1;32m     45\u001b[0m       \u001b[0mftail\u001b[0m \u001b[0;34m=\u001b[0m \u001b[0mftail\u001b[0m\u001b[0;34m.\u001b[0m\u001b[0mnext\u001b[0m\u001b[0;34m\u001b[0m\u001b[0;34m\u001b[0m\u001b[0m\n\u001b[1;32m     46\u001b[0m       \u001b[0mhead1\u001b[0m \u001b[0;34m=\u001b[0m \u001b[0mhead1\u001b[0m\u001b[0;34m.\u001b[0m\u001b[0mnext\u001b[0m\u001b[0;34m\u001b[0m\u001b[0;34m\u001b[0m\u001b[0m\n",
            "\u001b[0;31mAttributeError\u001b[0m: 'NoneType' object has no attribute 'next'"
          ]
        }
      ]
    },
    {
      "cell_type": "markdown",
      "metadata": {
        "id": "acHFl-yrhBbQ"
      },
      "source": [
        "#Delete every N nodes"
      ]
    },
    {
      "cell_type": "markdown",
      "metadata": {
        "id": "OGKFviGEhJAt"
      },
      "source": [
        "You have been given a singly linked list of integers along with two integers, 'M,' and 'N.' Traverse the linked list such that you retain the 'M' nodes, then delete the next 'N' nodes. Continue the same until the end of the linked list.\r\n",
        "To put it in other words, in the given linked list, you need to delete N nodes after every M nodes.\r\n",
        "\r\n",
        "Note :\r\n",
        "\r\n",
        "No need to print the list, it has already been taken care. Only return the new head to the list.\r\n",
        "\r\n",
        "Input format :\r\n",
        "\r\n",
        "The first line contains an Integer 't' which denotes the number of test cases or queries to be run. Then the test cases follow.\r\n",
        "\r\n",
        "The first line of each test case or query contains the elements of the singly linked list separated by a single space.\r\n",
        "\r\n",
        "The second line of input contains two integer values 'M,' and 'N,' respectively. A single space will separate them.\r\n",
        " \r\n",
        " Remember/Consider :\r\n",
        "\r\n",
        "While specifying the list elements for input, -1 indicates the end of the singly linked list and hence, would never be a list element\r\n",
        "\r\n",
        "Output format :\r\n",
        "\r\n",
        "For each test case/query, print the elements of the updated singly linked list.\r\n",
        "\r\n",
        "Output for every test case will be printed in a seperate line.\r\n",
        "\r\n",
        "Constraints :\r\n",
        "* 1 <= t <= 10^2\r\n",
        "* 0 <= P <= 10^5\r\n",
        "* Where P is the size of the singly linked list.\r\n",
        "* 0 <= M <= 10^5\r\n",
        "* 0 <= N <= 10^5 \r\n",
        "\r\n",
        "Time Limit: 1sec\r\n",
        "\r\n",
        "Sample Input 1 :\r\n",
        "* 1\r\n",
        "* 1 2 3 4 5 6 7 8 -1\r\n",
        "* 2 2\r\n",
        "\r\n",
        "Sample Output 1 :\r\n",
        "* 1 2 5 6\r\n",
        "\r\n",
        "Sample Input 2 :\r\n",
        "* 2\r\n",
        "* 10 20 30 40 50 60 -1\r\n",
        "* 0 1\r\n",
        "* 1 2 3 4 5 6 7 8 -1\r\n",
        "* 2 3\r\n",
        "\r\n",
        "Sample Output 2 :\r\n",
        "* 1 2 6 7\r\n",
        "\r\n",
        "Explanation of Sample Input 2 :\r\n",
        "\r\n",
        "For the first query, we delete one node after every zero elements hence removing all the items of the list. Therefore, nothing got printed.\r\n",
        "\r\n",
        "For the second query, we delete three nodes after every two nodes, resulting in the final list, 1 -> 2 -> 6 -> 7."
      ]
    },
    {
      "cell_type": "code",
      "metadata": {
        "colab": {
          "base_uri": "https://localhost:8080/"
        },
        "id": "38bWIlEKvC6B",
        "outputId": "e5a78483-a5a8-484a-ba73-eaf5429b0725"
      },
      "source": [
        "class Node:\r\n",
        "  def __init__(self,data):\r\n",
        "    self.data = data                            #this is how we create LL and by now this should be by heart (learn)\r\n",
        "    self.next = None\r\n",
        "\r\n",
        "def printLL(head): \r\n",
        "  \r\n",
        "  while head is not None:\r\n",
        "    print(str(head.data) +\"->\",end = \"\")            #this is how we mormally print LL (learn)\r\n",
        "    head = head.next                           \r\n",
        "  print(\"None\")\r\n",
        "  return\r\n",
        "\r\n",
        "def length(head) :                                 #this is how we find the length of LL (learn)\r\n",
        "    \r\n",
        "    cnt = 0\r\n",
        "    while head is not None:\r\n",
        "        cnt = cnt + 1                       #ill keep incrementing count\r\n",
        "        head = head.next                    #till i get head None\r\n",
        "    return cnt\r\n",
        "\r\n",
        "  \r\n",
        "def takeInput():\r\n",
        "  inputlist = [int(ele) for ele in input().split()]\r\n",
        "  head = None\r\n",
        "  tail = None\r\n",
        "  for currData in inputlist:\r\n",
        "    if currData == -1:\r\n",
        "      break\r\n",
        "    newNode = Node(currData)\r\n",
        "    if head is None:\r\n",
        "      head = newNode\r\n",
        "      tail = newNode\r\n",
        "    else:\r\n",
        "      tail.next = newNode\r\n",
        "      tail = newNode\r\n",
        "  return head\r\n",
        "\r\n",
        "def skipMdeleteN(head,M,N):\r\n",
        "  if head is None:\r\n",
        "    return head\r\n",
        "  temp1 = head\r\n",
        "  cnt1 = 1\r\n",
        "  while cnt1 < M:\r\n",
        "    if temp1 is None:\r\n",
        "      break\r\n",
        "    temp1 = temp1.next\r\n",
        "    cnt1 += 1\r\n",
        "    temp2 = temp1.next\r\n",
        "  cnt2 = 1\r\n",
        "  while cnt2 < N:\r\n",
        "    if temp2 is None:\r\n",
        "      break\r\n",
        "    temp2 = temp2.next\r\n",
        "    cnt2 += 1\r\n",
        "  temp2 = temp2.next\r\n",
        "  temp1 = temp2\r\n",
        "  return head\r\n",
        "\r\n",
        "head = takeInput()\r\n",
        "printLL(head)\r\n",
        "head = skipMdeleteN(head,2,3)\r\n",
        "printLL(head)"
      ],
      "execution_count": null,
      "outputs": [
        {
          "output_type": "stream",
          "text": [
            "1 2 3 4 5 6 7 8 9 -1\n",
            "1->2->3->4->5->6->7->8->9->None\n",
            "1->2->3->4->5->6->7->8->9->None\n"
          ],
          "name": "stdout"
        }
      ]
    },
    {
      "cell_type": "markdown",
      "metadata": {
        "id": "WAEWD0o3_6N-"
      },
      "source": [
        "#Even after Odd LinkedList"
      ]
    },
    {
      "cell_type": "markdown",
      "metadata": {
        "id": "oxbRwSjD_9Ub"
      },
      "source": [
        "For a given singly linked list of integers, arrange the elements such that all the even numbers are placed after the odd numbers. The relative order of the odd and even terms should remain unchanged.\r\n",
        "\r\n",
        "Note :\r\n",
        "No need to print the list, it has already been taken care. Only return the new head to the list.\r\n",
        "\r\n",
        "Input format:\r\n",
        "The first line contains an Integer 't' which denotes the number of test cases or queries to be run. Then the test cases follow.\r\n",
        "\r\n",
        "The first line of each test case or query contains the elements of the singly linked list separated by a single space. \r\n",
        "\r\n",
        " Remember/Consider :\r\n",
        "While specifying the list elements for input, -1 indicates the end of the singly linked list and hence, would never be a list element\r\n",
        "\r\n",
        "Output format:\r\n",
        "For each test case/query, print the elements of the updated singly linked list.\r\n",
        "\r\n",
        "Output for every test case will be printed in a seperate line.\r\n",
        "\r\n",
        "Constraints :\r\n",
        "* 1 <= t <= 10^2\r\n",
        "* 0 <= M <= 10^5\r\n",
        "* Where M is the size of the singly linked list.\r\n",
        "\r\n",
        "* Time Limit: 1sec\r\n",
        "\r\n",
        "Sample Input 1 :\r\n",
        "* 1\r\n",
        "* 1 4 5 2 -1\r\n",
        "\r\n",
        "Sample Output 1 :\r\n",
        "* 1 5 4 2 \r\n",
        "\r\n",
        "Sample Input 2 :\r\n",
        "* 2\r\n",
        "* 1 11 3 6 8 0 9 -1\r\n",
        "* 10 20 30 40 -1\r\n",
        "\r\n",
        "Sample Output 2 :\r\n",
        "* 1 11 3 9 6 8 0\r\n",
        "* 10 20 30 40"
      ]
    },
    {
      "cell_type": "code",
      "metadata": {
        "colab": {
          "base_uri": "https://localhost:8080/"
        },
        "id": "nEgdISdU_5pQ",
        "outputId": "417f0444-5810-4979-d3b7-51a132415263"
      },
      "source": [
        "class Node:\r\n",
        "  def __init__(self,data):\r\n",
        "    self.data = data                            #this is how we create LL and by now this should be by heart (learn)\r\n",
        "    self.next = None\r\n",
        "\r\n",
        "def printLL(head): \r\n",
        "  \r\n",
        "  while head is not None:\r\n",
        "    print(str(head.data) +\"->\",end = \"\")            #this is how we mormally print LL (learn)\r\n",
        "    head = head.next                           \r\n",
        "  print(\"None\")\r\n",
        "  return\r\n",
        "\r\n",
        "def length(head) :                                 #this is how we find the length of LL (learn)\r\n",
        "    \r\n",
        "    cnt = 0\r\n",
        "    while head is not None:\r\n",
        "        cnt = cnt + 1                       #ill keep incrementing count\r\n",
        "        head = head.next                    #till i get head None\r\n",
        "    return cnt\r\n",
        "\r\n",
        "  \r\n",
        "def takeInput():\r\n",
        "  inputlist = [int(ele) for ele in input().split()]\r\n",
        "  head = None\r\n",
        "  tail = None\r\n",
        "  for currData in inputlist:\r\n",
        "    if currData == -1:\r\n",
        "      break\r\n",
        "    newNode = Node(currData)\r\n",
        "    if head is None:\r\n",
        "      head = newNode\r\n",
        "      tail = newNode\r\n",
        "    else:\r\n",
        "      tail.next = newNode\r\n",
        "      tail = newNode\r\n",
        "  return head\r\n",
        "\r\n",
        "def evenafterodd(head):\r\n",
        "  if head is None:\r\n",
        "    return head\r\n",
        "  curr = head\r\n",
        "  oddh = None\r\n",
        "  evenh = None\r\n",
        "  while curr is not None:\r\n",
        "    if curr.data &1:\r\n",
        "      if oddh is None:\r\n",
        "        oddh = curr\r\n",
        "        oddt = curr\r\n",
        "      else:\r\n",
        "        oddt.next = curr\r\n",
        "        oddt = oddt.next\r\n",
        "\r\n",
        "    else:\r\n",
        "      if evenh is None:\r\n",
        "        evenh = curr\r\n",
        "        event = curr\r\n",
        "      else:\r\n",
        "        event.next = curr\r\n",
        "        event = event.next\r\n",
        "    curr = curr.next\r\n",
        "\r\n",
        "  if evenh is None or oddh is None:\r\n",
        "    return head\r\n",
        "  event.next = None\r\n",
        "  oddt.next = evenh\r\n",
        "  \r\n",
        "  return oddh\r\n",
        "  \r\n",
        "head = takeInput()\r\n",
        "printLL(head)\r\n",
        "head = evenafterodd(head)\r\n",
        "printLL(head)"
      ],
      "execution_count": 1,
      "outputs": [
        {
          "output_type": "stream",
          "text": [
            "1 2 3 4 5 6 7 8 9 -1\n",
            "1->2->3->4->5->6->7->8->9->None\n",
            "1->3->5->7->9->2->4->6->8->None\n"
          ],
          "name": "stdout"
        }
      ]
    },
    {
      "cell_type": "markdown",
      "metadata": {
        "id": "KEoar2x_4Yvi"
      },
      "source": [
        "#swap two nodes of LL\r\n",
        "You have been given a singly linked list of integers along with two integers, 'i,' and 'j.' Swap the nodes that are present at the 'i-th' and 'j-th' positions.\r\n",
        "\r\n",
        "Note :\r\n",
        "Remember, the nodes themselves must be swapped and not the datas.\r\n",
        "\r\n",
        "No need to print the list, it has already been taken care. Only return the new head to the list.\r\n",
        "\r\n",
        "Input format :\r\n",
        "The first line contains an Integer 't' which denotes the number of test cases or queries to be run. Then the test cases follow.\r\n",
        "\r\n",
        "The first line of each test case or query contains the elements of the singly linked list separated by a single space.\r\n",
        "\r\n",
        "The second line of input contains two integer values 'i,' and 'j,' respectively. A single space will separate them.\r\n",
        " \r\n",
        " Remember/consider :\r\n",
        "While specifying the list elements for input, -1 indicates the end of the singly linked list and hence, would never be a list element\r\n",
        "\r\n",
        "Output format :\r\n",
        "For each test case/query, print the elements of the updated singly linked list.\r\n",
        "\r\n",
        "Output for every test case will be printed in a seperate line.\r\n",
        "\r\n",
        "Constraints :\r\n",
        "* 1 <= t <= 10^2\r\n",
        "* 0 <= M <= 10^5\r\n",
        "* Where M is the size of the singly linked list.\r\n",
        "* 0 <= i < M\r\n",
        "* 0 <= j < M\r\n",
        "\r\n",
        "* Time Limit: 1sec\r\n",
        "\r\n",
        "Sample Input 1 :\r\n",
        "* 1\r\n",
        "* 3 4 5 2 6 1 9 -1\r\n",
        "* 3 4\r\n",
        "\r\n",
        "Sample Output 1 :\r\n",
        "* 3 4 5 6 2 1 9 \r\n",
        " \r\n",
        "Sample Input 2 :\r\n",
        "* 2\r\n",
        "* 10 20 30 40 -1\r\n",
        "* 1 2\r\n",
        "* 70 80 90 25 65 85 90 -1\r\n",
        "* 0 6\r\n",
        " \r\n",
        "Sample Output 2 :\r\n",
        "* 10 30 20 40 \r\n",
        "* 90 80 90 25 65 85 70 "
      ]
    },
    {
      "cell_type": "code",
      "metadata": {
        "id": "1Zr3YFLg7E7Z",
        "colab": {
          "base_uri": "https://localhost:8080/"
        },
        "outputId": "d9a1555d-a39d-4761-d99f-5f5d939e1c23"
      },
      "source": [
        "class Node:\r\n",
        "  def __init__(self,data):\r\n",
        "    self.data = data                            #this is how we create LL and by now this should be by heart (learn)\r\n",
        "    self.next = None\r\n",
        "\r\n",
        "def printLL(head): \r\n",
        "  \r\n",
        "  while head is not None:\r\n",
        "    print(str(head.data) +\"->\",end = \"\")            #this is how we mormally print LL (learn)\r\n",
        "    head = head.next                           \r\n",
        "  print(\"None\")\r\n",
        "  return\r\n",
        "\r\n",
        "def takeInput():\r\n",
        "  inputlist = [int(ele) for ele in input().split()]\r\n",
        "  head = None\r\n",
        "  tail = None\r\n",
        "  for currData in inputlist:\r\n",
        "    if currData == -1:\r\n",
        "      break\r\n",
        "    newNode = Node(currData)\r\n",
        "    if head is None:\r\n",
        "      head = newNode\r\n",
        "      tail = newNode\r\n",
        "    else:\r\n",
        "      tail.next = newNode\r\n",
        "      tail = newNode\r\n",
        "  return head\r\n",
        "\r\n",
        "def swap(head,i,j):\r\n",
        "  if head is None:\r\n",
        "    return head\r\n",
        "  \r\n",
        "  c1 = head\r\n",
        "  c2 = head\r\n",
        "  \r\n",
        "  cnt1 = 0\r\n",
        "  cnt2 = 0\r\n",
        "  while cnt1 < i:\r\n",
        "    cnt1 = cnt1+1\r\n",
        "    c1 = c1.next\r\n",
        "  while cnt2 < j:\r\n",
        "    cnt2 = cnt2 + 1\r\n",
        "    c2 = c2.next\r\n",
        "  curr1 = c1\r\n",
        "  curr2 = c2\r\n",
        "\r\n",
        "  ptr1 = curr1.data\r\n",
        "  ptr2 = curr2.data\r\n",
        "  curr1.data = ptr2\r\n",
        "  curr2.data = ptr1\r\n",
        "  return head\r\n",
        "head = takeInput()\r\n",
        "printLL(head)\r\n",
        "head = swap(head,2,3)\r\n",
        "printLL(head)"
      ],
      "execution_count": 1,
      "outputs": [
        {
          "output_type": "stream",
          "text": [
            "1 2 3 4 5 6 7 8 9 -1\n",
            "1->2->3->4->5->6->7->8->9->None\n",
            "1->2->4->3->5->6->7->8->9->None\n"
          ],
          "name": "stdout"
        }
      ]
    },
    {
      "cell_type": "code",
      "metadata": {
        "id": "7tg2JvPjeNTx"
      },
      "source": [
        ""
      ],
      "execution_count": null,
      "outputs": []
    }
  ]
}