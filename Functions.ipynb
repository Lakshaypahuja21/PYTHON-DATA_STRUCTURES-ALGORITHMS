{
  "nbformat": 4,
  "nbformat_minor": 0,
  "metadata": {
    "colab": {
      "name": "Functions",
      "provenance": [],
      "authorship_tag": "ABX9TyPsHVvuaEYgWDJVzuY5880Z"
    },
    "kernelspec": {
      "name": "python3",
      "display_name": "Python 3"
    }
  },
  "cells": [
    {
      "cell_type": "markdown",
      "metadata": {
        "id": "NF_DwHuIXWcl"
      },
      "source": [
        "#NcR"
      ]
    },
    {
      "cell_type": "code",
      "metadata": {
        "colab": {
          "base_uri": "https://localhost:8080/"
        },
        "id": "mXBQVALvdhTs",
        "outputId": "14ffb9d9-382f-45ac-fd28-dbeeb4645cf3"
      },
      "source": [
        "n = int(input())\r\n",
        "r = int(input())\r\n",
        "\r\n",
        "N_fact = 1\r\n",
        "for i in range(1,n+1):\r\n",
        "  N_fact = N_fact*i\r\n",
        "\r\n",
        "R_fact = 1\r\n",
        "for i in range(1,r+1):\r\n",
        "  R_fact = R_fact*i\r\n",
        "\r\n",
        "N_R_fact = 1\r\n",
        "for i in range(1,n-r+1):\r\n",
        "  N_R_fact = N_R_fact*i\r\n",
        "\r\n",
        "ans = N_fact//(N_R_fact*R_fact)\r\n",
        "print(ans)       "
      ],
      "execution_count": 2,
      "outputs": [
        {
          "output_type": "stream",
          "text": [
            "4\n",
            "3\n",
            "4\n"
          ],
          "name": "stdout"
        }
      ]
    },
    {
      "cell_type": "markdown",
      "metadata": {
        "id": "KoTy5oynYYcR"
      },
      "source": [
        "## Using Functions for NcR"
      ]
    },
    {
      "cell_type": "code",
      "metadata": {
        "id": "qqA__WIEYLaK"
      },
      "source": [
        "def fact(n):\r\n",
        "  N_fact = 1\r\n",
        "  for i in range(1,n+1):\r\n",
        "    N_fact = N_fact*i\r\n",
        "  return N_fact"
      ],
      "execution_count": 3,
      "outputs": []
    },
    {
      "cell_type": "code",
      "metadata": {
        "colab": {
          "base_uri": "https://localhost:8080/"
        },
        "id": "AsoiIOMkaO9x",
        "outputId": "be567ea8-e362-4263-b750-9af3934ad8f5"
      },
      "source": [
        "n = int(input())\r\n",
        "r = int(input())\r\n",
        "N_fact = fact(n)\r\n",
        "R_fact = fact(r)\r\n",
        "N_R_fact = fact(n-r)\r\n",
        "ans = N_fact//(N_R_fact*R_fact)\r\n",
        "print(ans)"
      ],
      "execution_count": 4,
      "outputs": [
        {
          "output_type": "stream",
          "text": [
            "4\n",
            "2\n",
            "6\n"
          ],
          "name": "stdout"
        }
      ]
    },
    {
      "cell_type": "code",
      "metadata": {
        "id": "6iRodAl1fEKn"
      },
      "source": [
        "def ncr(n,r):\r\n",
        "  N_fact = fact(n)\r\n",
        "  R_fact = fact(r)\r\n",
        "  N_R_fact = fact(n-r)\r\n",
        "  ans = N_fact//(N_R_fact*R_fact)\r\n",
        "  return ans"
      ],
      "execution_count": 12,
      "outputs": []
    },
    {
      "cell_type": "code",
      "metadata": {
        "colab": {
          "base_uri": "https://localhost:8080/"
        },
        "id": "1GrECtC1fktJ",
        "outputId": "2ed33104-6481-45d2-c094-92103cfa386c"
      },
      "source": [
        "ncr(5,2)"
      ],
      "execution_count": 13,
      "outputs": [
        {
          "output_type": "execute_result",
          "data": {
            "text/plain": [
              "10"
            ]
          },
          "metadata": {
            "tags": []
          },
          "execution_count": 13
        }
      ]
    },
    {
      "cell_type": "markdown",
      "metadata": {
        "id": "d6TN_3l8b8NF"
      },
      "source": [
        "1.   Readablity increases\r\n",
        "2.   Testing becomes easy\r\n"
      ]
    },
    {
      "cell_type": "markdown",
      "metadata": {
        "id": "WMUa7iyic3uZ"
      },
      "source": [
        "# Prime or not"
      ]
    },
    {
      "cell_type": "code",
      "metadata": {
        "id": "pelTDzVuadqP"
      },
      "source": [
        "def isprime(n):\r\n",
        "  for d in range(2,n):\r\n",
        "    if (n % d == 0):\r\n",
        "      break\r\n",
        "  else:\r\n",
        "    return True\r\n",
        "  return False"
      ],
      "execution_count": 7,
      "outputs": []
    },
    {
      "cell_type": "code",
      "metadata": {
        "colab": {
          "base_uri": "https://localhost:8080/"
        },
        "id": "sop82c3ndrqg",
        "outputId": "15317740-cbc2-4278-ddfb-0f9c232b736b"
      },
      "source": [
        "isprime(9)"
      ],
      "execution_count": 8,
      "outputs": [
        {
          "output_type": "execute_result",
          "data": {
            "text/plain": [
              "False"
            ]
          },
          "metadata": {
            "tags": []
          },
          "execution_count": 8
        }
      ]
    },
    {
      "cell_type": "code",
      "metadata": {
        "colab": {
          "base_uri": "https://localhost:8080/"
        },
        "id": "EMs_qgwIduwY",
        "outputId": "e0f11717-24aa-4997-e9ba-e3fbb6dfef6f"
      },
      "source": [
        "isprime(7)"
      ],
      "execution_count": 9,
      "outputs": [
        {
          "output_type": "execute_result",
          "data": {
            "text/plain": [
              "True"
            ]
          },
          "metadata": {
            "tags": []
          },
          "execution_count": 9
        }
      ]
    },
    {
      "cell_type": "markdown",
      "metadata": {
        "id": "Xn_7zz_-eEIh"
      },
      "source": [
        "## Using nested functions"
      ]
    },
    {
      "cell_type": "code",
      "metadata": {
        "id": "1y2lI9Zjd0aY"
      },
      "source": [
        "def Primefrom2toN(n):\r\n",
        "  for k in range(2,n+1):\r\n",
        "    is_k_prime = isprime(k)\r\n",
        "    if (is_k_prime):\r\n",
        "      print(k)"
      ],
      "execution_count": 10,
      "outputs": []
    },
    {
      "cell_type": "code",
      "metadata": {
        "colab": {
          "base_uri": "https://localhost:8080/"
        },
        "id": "KJmGApbYewcC",
        "outputId": "133536f6-5e5a-4f15-847e-2fc7404a5a1f"
      },
      "source": [
        "Primefrom2toN(30)"
      ],
      "execution_count": 11,
      "outputs": [
        {
          "output_type": "stream",
          "text": [
            "2\n",
            "3\n",
            "5\n",
            "7\n",
            "11\n",
            "13\n",
            "17\n",
            "19\n",
            "23\n",
            "29\n"
          ],
          "name": "stdout"
        }
      ]
    },
    {
      "cell_type": "markdown",
      "metadata": {
        "id": "Zx_FPfxlmACZ"
      },
      "source": [
        "# Local & Global variable "
      ]
    },
    {
      "cell_type": "code",
      "metadata": {
        "colab": {
          "base_uri": "https://localhost:8080/"
        },
        "id": "QbNKAMJweyjY",
        "outputId": "1a7f8b22-a0ac-4671-a603-0f06a5c92cae"
      },
      "source": [
        "def f3():\r\n",
        "  b3 = 12 #local variable\r\n",
        "  print(b3)\r\n",
        "  print(a3)\r\n",
        "  #print(c3)\r\n",
        "a3 = 10  # gloab variable\r\n",
        "print(a3)\r\n",
        "f3()\r\n",
        "c3 = 20"
      ],
      "execution_count": 14,
      "outputs": [
        {
          "output_type": "stream",
          "text": [
            "10\n",
            "12\n",
            "10\n"
          ],
          "name": "stdout"
        }
      ]
    },
    {
      "cell_type": "markdown",
      "metadata": {
        "id": "KF8DzYLnmZqs"
      },
      "source": [
        "\r\n",
        "\r\n",
        "*   global var can be declared anywhere (after function or before function)\r\n",
        "*   global var should be defined before calling functions\r\n",
        "*   global var can also be used with local var in functions\r\n",
        "*   but global var cant be changed inside function bcoz it assumes that we created  local var\r\n",
        "\r\n"
      ]
    },
    {
      "cell_type": "code",
      "metadata": {
        "colab": {
          "base_uri": "https://localhost:8080/"
        },
        "id": "M9JQK2QdmYtK",
        "outputId": "2b64373e-08be-4346-bec8-c85319162705"
      },
      "source": [
        "a4 = 13\r\n",
        "def f4():\r\n",
        "  a4 = 12\r\n",
        "  print(a4)\r\n",
        "  print(id(a4))\r\n",
        "print(a4)\r\n",
        "f4()\r\n",
        "print(a4)\r\n",
        "print(id(a4))"
      ],
      "execution_count": 15,
      "outputs": [
        {
          "output_type": "stream",
          "text": [
            "13\n",
            "12\n",
            "10914848\n",
            "13\n",
            "10914880\n"
          ],
          "name": "stdout"
        }
      ]
    },
    {
      "cell_type": "markdown",
      "metadata": {
        "id": "aVIT-BcXxYWU"
      },
      "source": [
        "to make it global write golab a4 in f4()"
      ]
    },
    {
      "cell_type": "code",
      "metadata": {
        "colab": {
          "base_uri": "https://localhost:8080/"
        },
        "id": "mw7FIIAYpKyG",
        "outputId": "a22b60e0-ca53-44cf-eb3f-712316d6d79a"
      },
      "source": [
        "a4 = 13\r\n",
        "def f4():\r\n",
        "  global a4\r\n",
        "  a4 = 12\r\n",
        "  print(a4)\r\n",
        "  print(id(a4))\r\n",
        "print(a4)\r\n",
        "f4()\r\n",
        "print(a4)\r\n",
        "print(id(a4))"
      ],
      "execution_count": 16,
      "outputs": [
        {
          "output_type": "stream",
          "text": [
            "13\n",
            "12\n",
            "10914848\n",
            "12\n",
            "10914848\n"
          ],
          "name": "stdout"
        }
      ]
    },
    {
      "cell_type": "markdown",
      "metadata": {
        "id": "2orePxErEpwe"
      },
      "source": [
        "# Fahrenheit to Celsius Function"
      ]
    },
    {
      "cell_type": "code",
      "metadata": {
        "colab": {
          "base_uri": "https://localhost:8080/"
        },
        "id": "m4gsc0Joxh1a",
        "outputId": "ee3f1d5a-f9e2-400e-d73a-a67eee914f26"
      },
      "source": [
        "def printTable(start,end,step):\r\n",
        "  while(start <= end):\r\n",
        "        C = (start - 32) * (5/9)\r\n",
        "        print(start,\"\\t\",int( C))\r\n",
        "        start = start + step    \r\n",
        "        pass \r\n",
        "\t\t   \r\n",
        "s = int(input())\r\n",
        "e = int(input())\r\n",
        "step = int(input())\r\n",
        "printTable(s,e,step)"
      ],
      "execution_count": 19,
      "outputs": [
        {
          "output_type": "stream",
          "text": [
            "0\n",
            "100\n",
            "20\n",
            "0 \t -17\n",
            "20 \t -6\n",
            "40 \t 4\n",
            "60 \t 15\n",
            "80 \t 26\n",
            "100 \t 37\n"
          ],
          "name": "stdout"
        }
      ]
    },
    {
      "cell_type": "markdown",
      "metadata": {
        "id": "X6we52bPGjeb"
      },
      "source": [
        "#Fibonacci member"
      ]
    },
    {
      "cell_type": "code",
      "metadata": {
        "colab": {
          "base_uri": "https://localhost:8080/"
        },
        "id": "b2G2YZQuGFPM",
        "outputId": "53a5dd71-4eaf-4202-cd83-ec8d426d06a3"
      },
      "source": [
        "f = 0\r\n",
        "s = 1\r\n",
        "t = 1\r\n",
        "def checkMember(n):\r\n",
        "    global f\r\n",
        "    global s\r\n",
        "    global t\r\n",
        "    while t <= n:\r\n",
        "      t = f + s\r\n",
        "      f = s\r\n",
        "      s = t\r\n",
        "      if f == n:\r\n",
        "        return 1\r\n",
        "    pass\r\n",
        "n=int(input())\r\n",
        "if(checkMember(n)):\r\n",
        "    print(\"true\")\r\n",
        "else:\r\n",
        "    print(\"false\")"
      ],
      "execution_count": 21,
      "outputs": [
        {
          "output_type": "stream",
          "text": [
            "10\n",
            "false\n"
          ],
          "name": "stdout"
        }
      ]
    },
    {
      "cell_type": "markdown",
      "metadata": {
        "id": "eviR2CpkHK8F"
      },
      "source": [
        "# Palindrome"
      ]
    },
    {
      "cell_type": "code",
      "metadata": {
        "colab": {
          "base_uri": "https://localhost:8080/"
        },
        "id": "OmdXJf3YGxUJ",
        "outputId": "ba525bee-f43f-4e1a-c01e-f8ee06857142"
      },
      "source": [
        "def reverse(n):\r\n",
        "    rev = 0\r\n",
        "    while(n >0):\r\n",
        "        rem = n % 10\r\n",
        "        rev = (rev * 10) + rem\r\n",
        "        n = n//10\r\n",
        "    return rev \r\n",
        "\r\n",
        "def checkPalindrome(num):\r\n",
        "    rev = reverse(num)\r\n",
        "    if rev == num:\r\n",
        "        return 1\r\n",
        "    else:\r\n",
        "        return 0\r\n",
        "    \r\n",
        "\t\t\r\n",
        "num = int(input())\r\n",
        "isPalindrome = checkPalindrome(num)\r\n",
        "if(isPalindrome):\r\n",
        "\tprint('true')\r\n",
        "else:\r\n",
        "\tprint('false')"
      ],
      "execution_count": 23,
      "outputs": [
        {
          "output_type": "stream",
          "text": [
            "7\n",
            "true\n"
          ],
          "name": "stdout"
        }
      ]
    },
    {
      "cell_type": "markdown",
      "metadata": {
        "id": "D3mYzy3lJ98y"
      },
      "source": [
        "# Armstrong number"
      ]
    },
    {
      "cell_type": "code",
      "metadata": {
        "colab": {
          "base_uri": "https://localhost:8080/"
        },
        "id": "sJTuxEDyJ9vs",
        "outputId": "a16150f2-58b9-44b9-c236-910ae5e1e1b1"
      },
      "source": [
        "def armstrong(n):\r\n",
        "    d = 0\r\n",
        "    temp = n\r\n",
        "    while temp > 0:\r\n",
        "        temp = temp // 10\r\n",
        "        d = d + 1\r\n",
        "    arm = 0\r\n",
        "    while n > 0:\r\n",
        "        rem = n % 10\r\n",
        "        arm = arm + rem ** d \r\n",
        "        n = n // 10\r\n",
        "    return arm\r\n",
        "\r\n",
        "n = int(input())\r\n",
        "temp = n\r\n",
        "x = armstrong(n)\r\n",
        "if temp == x:\r\n",
        "    print(\"true\")\r\n",
        "else:\r\n",
        "    print(\"false\")"
      ],
      "execution_count": 22,
      "outputs": [
        {
          "output_type": "stream",
          "text": [
            "6\n",
            "true\n"
          ],
          "name": "stdout"
        }
      ]
    }
  ]
}