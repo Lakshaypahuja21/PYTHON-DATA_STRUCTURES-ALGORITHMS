{
  "nbformat": 4,
  "nbformat_minor": 0,
  "metadata": {
    "colab": {
      "name": "Arrays & list problems",
      "provenance": [],
      "authorship_tag": "ABX9TyNOK3F+uh3sNwu4sa3845Lg"
    },
    "kernelspec": {
      "name": "python3",
      "display_name": "Python 3"
    }
  },
  "cells": [
    {
      "cell_type": "markdown",
      "metadata": {
        "id": "_03c5PwxaSud"
      },
      "source": [
        "#PROBLEM 1 -Swap Alternate"
      ]
    },
    {
      "cell_type": "markdown",
      "metadata": {
        "id": "eIZdHLorZkV6"
      },
      "source": [
        "You have been given an array/list(ARR) of size N. You need to swap every pair of alternate elements in the array/list.\r\n",
        "You don't need to print or return anything, just change in the input array itself."
      ]
    },
    {
      "cell_type": "markdown",
      "metadata": {
        "id": "BCnbFBeEZlzK"
      },
      "source": [
        "Input Format :"
      ]
    },
    {
      "cell_type": "markdown",
      "metadata": {
        "id": "qCdhGgj-Zntk"
      },
      "source": [
        "The first line contains an Integer 't' which denotes the number of test cases or queries to be run. Then the test cases follow.\r\n",
        "\r\n",
        "First line of each test case or query contains an integer 'N' representing the size of the array/list.\r\n",
        "\r\n",
        "Second line contains 'N' single space separated integers representing the elements in the array/list."
      ]
    },
    {
      "cell_type": "markdown",
      "metadata": {
        "id": "2M4pY7trZpVM"
      },
      "source": [
        "Output Format :"
      ]
    },
    {
      "cell_type": "markdown",
      "metadata": {
        "id": "P_AgecfgZr2Z"
      },
      "source": [
        "For each test case, print the elements of the resulting array in a single row separated by a single space.\r\n",
        "\r\n",
        "Output for every test case will be printed in a separate line."
      ]
    },
    {
      "cell_type": "markdown",
      "metadata": {
        "id": "WTv5STbZZtyl"
      },
      "source": [
        "Constraints :\r\n",
        "* 1 <= t <= 10^2\r\n",
        "* 0 <= N <= 10^5\r\n",
        "* Time Limit: 1sec"
      ]
    },
    {
      "cell_type": "markdown",
      "metadata": {
        "id": "tZCqgEwyZ3_X"
      },
      "source": [
        "Sample Input 1:\r\n",
        "* 1\r\n",
        "* 6\r\n",
        "* 9 3 6 12 4 32\r\n"
      ]
    },
    {
      "cell_type": "markdown",
      "metadata": {
        "id": "-K0IHWeWaJJp"
      },
      "source": [
        "Sample Output 1 :\r\n",
        "* 3 9 12 6 32 4\r\n"
      ]
    },
    {
      "cell_type": "markdown",
      "metadata": {
        "id": "5qsmZ-BJaL5x"
      },
      "source": [
        "Sample Input 2:\r\n",
        "* 2\r\n",
        "* 9\r\n",
        "* 9 3 6 12 4 32 5 11 19\r\n",
        "* 4\r\n",
        "* 1 2 3 4\r\n"
      ]
    },
    {
      "cell_type": "markdown",
      "metadata": {
        "id": "K7RIPQduaPAr"
      },
      "source": [
        "Sample Output 2 :\r\n",
        "* 3 9 12 6 32 4 11 5 19 \r\n",
        "* 2 1 4 3 "
      ]
    },
    {
      "cell_type": "code",
      "metadata": {
        "id": "-u89WejVZaOa"
      },
      "source": [
        ""
      ],
      "execution_count": null,
      "outputs": []
    },
    {
      "cell_type": "markdown",
      "metadata": {
        "id": "yROTbKmXl3Ss"
      },
      "source": [
        "#PROBLEM 2 -Find Unique"
      ]
    },
    {
      "cell_type": "markdown",
      "metadata": {
        "id": "5jsO0ap2mEY0"
      },
      "source": [
        "You have been given an integer array/list(ARR) of size N. Where N is equal to [2M + 1].\r\n",
        "Now, in the given array/list, 'M' numbers are present twice and one number is present only once.\r\n",
        "You need to find and return that number which is unique in the array/list."
      ]
    },
    {
      "cell_type": "markdown",
      "metadata": {
        "id": "pEHQ0k_AmH4O"
      },
      "source": [
        "Note:\r\n",
        "\r\n",
        "Unique element is always present in the array/list according to the given condition.\r\n",
        "\r\n",
        "Input format :\r\n",
        "\r\n",
        "The first line contains an Integer 't' which denotes the number of test cases or queries to be run. Then the test cases follow.\r\n",
        "\r\n",
        "First line of each test case or query contains an integer 'N' representing the size of the array/list.\r\n",
        "\r\n",
        "Second line contains 'N' single space separated integers representing the elements in the array/list."
      ]
    },
    {
      "cell_type": "markdown",
      "metadata": {
        "id": "zV84dgwsmPKl"
      },
      "source": [
        "Output Format :\r\n",
        "\r\n",
        "For each test case, print the unique element present in the array.\r\n",
        "\r\n",
        "Output for every test case will be printed in a separate line."
      ]
    },
    {
      "cell_type": "markdown",
      "metadata": {
        "id": "8xfCmGhcmS-C"
      },
      "source": [
        "Constraints :\r\n",
        "* 1 <= t <= 10^2\r\n",
        "* 0 <= N <= 10^3\r\n",
        "* Time Limit: 1 sec\r\n"
      ]
    },
    {
      "cell_type": "markdown",
      "metadata": {
        "id": "kZQq0pKPmZd-"
      },
      "source": [
        "Sample Input 1:\r\n",
        "\r\n",
        "* 1\r\n",
        "* 7\r\n",
        "* 2 3 1 6 3 6 2\r\n",
        "\r\n",
        "Sample Output 1:\r\n",
        "\r\n",
        "* 1\r\n",
        "\r\n",
        "Sample Input 2:\r\n",
        "\r\n",
        "* 2\r\n",
        "* 5\r\n",
        "* 2 4 7 2 7\r\n",
        "* 9\r\n",
        "* 1 3 1 3 6 6 7 10 7\r\n",
        "\r\n",
        "Sample Output 2:\r\n",
        "\r\n",
        "* 4\r\n",
        "* 10"
      ]
    },
    {
      "cell_type": "code",
      "metadata": {
        "colab": {
          "base_uri": "https://localhost:8080/"
        },
        "id": "ifotPRIil5TJ",
        "outputId": "5c639cfe-fda4-4c82-aaef-66f3ab842e4a"
      },
      "source": [
        "import sys\r\n",
        "\r\n",
        "def findUnique(arr, n) :\r\n",
        "    #Your code goes here\r\n",
        "    for i in range(n) :\r\n",
        "        j = 0\r\n",
        "        while j < n :\r\n",
        "            if i != j :\r\n",
        "                if arr[i] == arr[j] :\r\n",
        "                    break\r\n",
        "            j += 1\r\n",
        "        if j == n : \r\n",
        "            return arr[i]#Taking Input Using Fast I/O\r\n",
        "def takeInput() :\r\n",
        "    n = int(input())\r\n",
        "\r\n",
        "    if n == 0 :\r\n",
        "        return list(), 0\r\n",
        "\r\n",
        "    arr = list(map(int, input().split(\" \")))\r\n",
        "    return arr, n\r\n",
        "\r\n",
        "\r\n",
        "#main\r\n",
        "t = int(input())\r\n",
        "\r\n",
        "while t > 0 :\r\n",
        "\r\n",
        "    arr, n = takeInput()\r\n",
        "    print(findUnique(arr, n))\r\n",
        "\r\n",
        "    t -= 1\r\n"
      ],
      "execution_count": null,
      "outputs": [
        {
          "output_type": "stream",
          "text": [
            "1 \n",
            "5 \n",
            "1 2 2 4 4\n",
            "1\n"
          ],
          "name": "stdout"
        }
      ]
    },
    {
      "cell_type": "markdown",
      "metadata": {
        "id": "MgbfaIBMc4Cg"
      },
      "source": [
        "#PROBELM 2(ii)-Find Single"
      ]
    },
    {
      "cell_type": "code",
      "metadata": {
        "colab": {
          "base_uri": "https://localhost:8080/"
        },
        "id": "WtETyOVnc9AC",
        "outputId": "f62271af-3269-48d5-c031-8e140d64e5b6"
      },
      "source": [
        "def findSingle( ar, n): \r\n",
        "      \r\n",
        "    res = ar[0] \r\n",
        "    for i in range(1,n): \r\n",
        "        res = res ^ ar[i] \r\n",
        "      \r\n",
        "    return res \r\n",
        "  \r\n",
        "n=int(input())\r\n",
        "ar = [int(x) for x in input().split()] \r\n",
        "print(findSingle(ar, len(ar)))"
      ],
      "execution_count": null,
      "outputs": [
        {
          "output_type": "stream",
          "text": [
            "1\n",
            "1 1 2 2 3 3 5\n",
            "5\n"
          ],
          "name": "stdout"
        }
      ]
    },
    {
      "cell_type": "markdown",
      "metadata": {
        "id": "xAuELKYzmuE2"
      },
      "source": [
        "#PROBLEM 3 -Find Duplicate"
      ]
    },
    {
      "cell_type": "markdown",
      "metadata": {
        "id": "Tjx0CYXcm8m1"
      },
      "source": [
        "You have been given an integer array/list(ARR) of size N which contains numbers from 0 to (N - 2). Each number is present at least once. That is, if N = 5, the array/list constitutes values ranging from 0 to 3 and among these, there is a single integer value that is present twice. You need to find and return that duplicate number present in the array."
      ]
    },
    {
      "cell_type": "markdown",
      "metadata": {
        "id": "By1zFRFQm9WJ"
      },
      "source": [
        "Note :\r\n",
        "\r\n",
        "Duplicate number is always present in the given array/list.\r\n",
        "\r\n",
        "Input format :\r\n",
        "\r\n",
        "The first line contains an Integer 't' which denotes the number of test cases or queries to be run. Then the test cases follow.\r\n",
        "\r\n",
        "First line of each test case or query contains an integer 'N' representing the size of the array/list.\r\n",
        "\r\n",
        "Second line contains 'N' single space separated integers representing the elements in the array/list."
      ]
    },
    {
      "cell_type": "markdown",
      "metadata": {
        "id": "Kb_Eom6hnEev"
      },
      "source": [
        "Output Format :\r\n",
        "\r\n",
        "For each test case, print the duplicate element in the array/list.\r\n",
        "\r\n",
        "Output for every test case will be printed in a separate line."
      ]
    },
    {
      "cell_type": "markdown",
      "metadata": {
        "id": "KqO14f_nnHtZ"
      },
      "source": [
        "Constraints :\r\n",
        "* 1 <= t <= 10^2\r\n",
        "* 0 <= N <= 10^3\r\n",
        "* Time Limit: 1 sec\r\n"
      ]
    },
    {
      "cell_type": "markdown",
      "metadata": {
        "id": "CkOX1AwfnLTe"
      },
      "source": [
        "Sample Input 1:\r\n",
        "\r\n",
        "* 1\r\n",
        "* 9\r\n",
        "* 0 7 2 5 4 7 1 3 6\r\n",
        "\r\n",
        "Sample Output 1:\r\n",
        "\r\n",
        "* 7\r\n",
        "\r\n",
        "Sample Input 2:\r\n",
        "\r\n",
        "* 2\r\n",
        "* 5\r\n",
        "* 0 2 1 3 1\r\n",
        "* 7\r\n",
        "* 0 3 1 5 4 3 2\r\n",
        "\r\n",
        "Sample Output 2:\r\n",
        "\r\n",
        "* 1\r\n",
        "* 3"
      ]
    },
    {
      "cell_type": "code",
      "metadata": {
        "colab": {
          "base_uri": "https://localhost:8080/"
        },
        "id": "A39Sf8Jpt9BS",
        "outputId": "ec13deb6-43ea-4b3b-987d-d2ea2bfa0800"
      },
      "source": [
        "\r\n",
        "import sys\r\n",
        "\r\n",
        "def duplicateNumber(arr, n) :\r\n",
        "    #Your code goes here\r\n",
        "    for i in range(n):\r\n",
        "      j = 0\r\n",
        "      while j<n:\r\n",
        "        if i!=j:\r\n",
        "          if arr[i]!=arr[j]:\r\n",
        "            break\r\n",
        "          j = j+1\r\n",
        "        return arr[j]\r\n",
        "\r\n",
        "#Taking Input Using Fast I/O\r\n",
        "def takeInput() :\r\n",
        "    n = int(input())\r\n",
        "\r\n",
        "    if n == 0 :\r\n",
        "        return list(), 0\r\n",
        "\r\n",
        "    arr = list(map(int, input().strip().split()))\r\n",
        "    return arr, n\r\n",
        "#main\r\n",
        "t = int(input())\r\n",
        "\r\n",
        "while t > 0 :\r\n",
        "    \r\n",
        "    arr, n = takeInput()\r\n",
        "    print(duplicateNumber(arr, n))\r\n",
        "\r\n",
        "    t -= 1\r\n",
        "    "
      ],
      "execution_count": null,
      "outputs": [
        {
          "output_type": "stream",
          "text": [
            "1\n",
            "7\n",
            "1 2 3 4 5 6 6\n",
            "1\n"
          ],
          "name": "stdout"
        }
      ]
    },
    {
      "cell_type": "markdown",
      "metadata": {
        "id": "Ff9eL9HGnYd5"
      },
      "source": [
        "#PROBLEM4 -Array Intersection"
      ]
    },
    {
      "cell_type": "markdown",
      "metadata": {
        "id": "9vK3dMkFnhaT"
      },
      "source": [
        "You have been given two integer arrays/list(ARR1 and ARR2) of size M and N, respectively. You need to print their intersection; An intersection for this problem can be defined when both the arrays/lists contain a particular value or to put it in other words, when there is a common value that exists in both the arrays/lists.\r\n",
        "\r\n",
        "Note :\r\n",
        "\r\n",
        "Input arrays/lists can contain duplicate elements.\r\n",
        "\r\n",
        "The intersection elements printed would be in the order they appear in the first array/list(ARR1)"
      ]
    },
    {
      "cell_type": "markdown",
      "metadata": {
        "id": "hLelK9UknmZ-"
      },
      "source": [
        "Input format :\r\n",
        "\r\n",
        "The first line contains an Integer 't' which denotes the number of test cases or queries to be run. Then the test cases follow.\r\n",
        "\r\n",
        "First line of each test case or query contains an integer 'N' representing the size of the first array/list.\r\n",
        "\r\n",
        "Second line contains 'N' single space separated integers representing the elements of the first the array/list.\r\n",
        "\r\n",
        "Third line contains an integer 'M' representing the size of the second array/list.\r\n",
        "\r\n",
        "Fourth line contains 'M' single space separated integers representing the elements of the second array/list.\r\n",
        "\r\n",
        "Output format :\r\n",
        "\r\n",
        "For each test case, print the intersection elements in a row, separated by a single space.\r\n",
        "\r\n",
        "Output for every test case will be printed in a separate line."
      ]
    },
    {
      "cell_type": "markdown",
      "metadata": {
        "id": "Js82mPMvnqoe"
      },
      "source": [
        "Constraints :\r\n",
        "* 1 <= t <= 10^2\r\n",
        "* 0 <= N <= 10^5\r\n",
        "* 0 <= M <= 10^5\r\n",
        "* Time Limit: 1 sec "
      ]
    },
    {
      "cell_type": "markdown",
      "metadata": {
        "id": "EZPxcm4Invq5"
      },
      "source": [
        "Sample Input 1 :\r\n",
        "\r\n",
        "* 2\r\n",
        "* 6\r\n",
        "* 2 6 8 5 4 3\r\n",
        "* 4\r\n",
        "* 2 3 4 7 \r\n",
        "* 2\r\n",
        "* 10 10\r\n",
        "* 1\r\n",
        "* 10\r\n",
        "\r\n",
        "Sample Output 1 :\r\n",
        "\r\n",
        "* 2 4 3\r\n",
        "* 10\r\n",
        "\r\n",
        "Sample Input 2 :\r\n",
        "\r\n",
        "* 1\r\n",
        "* 4\r\n",
        "* 2 6 1 2\r\n",
        "* 5\r\n",
        "* 1 2 3 4 2\r\n",
        "\r\n",
        "Sample Output 2 :\r\n",
        "\r\n",
        "* 2 1 2\r\n",
        "\r\n",
        "Explanation for Sample Output 2 :\r\n",
        "\r\n",
        "Since, both input arrays have two '2's, the intersection of the arrays also have two '2's. The first '2' of first array matches with the first '2' of the second array. Similarly, the second '2' of the first array matches with the second '2' if the second array."
      ]
    },
    {
      "cell_type": "code",
      "metadata": {
        "id": "daa8MQHknmIG",
        "colab": {
          "base_uri": "https://localhost:8080/"
        },
        "outputId": "6dd0ae99-0918-4e07-fa9d-b983ce6198d5"
      },
      "source": [
        "\r\n",
        "import sys\r\n",
        "\r\n",
        "def intersections(arr1, n, arr2, m) :\r\n",
        "    #Your code goes here\r\n",
        "    for i in range(n):\r\n",
        "      for j in range(m):\r\n",
        "        if i!=j:\r\n",
        "          if arr1[i] != arr2[j]:\r\n",
        "            break\r\n",
        "          return arr1[i]\r\n",
        "          \r\n",
        "#Taking Input Using Fast I/O\r\n",
        "def takeInput() :\r\n",
        "    n = int(input())\r\n",
        "    if n == 0:\r\n",
        "        return list(), 0\r\n",
        "\r\n",
        "    arr = list(map(int, input().strip().split(\" \")))\r\n",
        "    return arr, n\r\n",
        "\r\n",
        "\r\n",
        "#main\r\n",
        "t = int(input())\r\n",
        "\r\n",
        "while t > 0 :\r\n",
        "    arr1, n = takeInput()\r\n",
        "    arr2, m = takeInput()\r\n",
        "\r\n",
        "    intersections(arr1, n, arr2, m)\r\n",
        "    print()\r\n",
        "\r\n",
        "    t -= 1"
      ],
      "execution_count": null,
      "outputs": [
        {
          "output_type": "stream",
          "text": [
            "1\n",
            "5\n",
            "1 2 3 4 5\n",
            "5 \n",
            "9 8 7 6 5\n",
            "\n"
          ],
          "name": "stdout"
        }
      ]
    },
    {
      "cell_type": "markdown",
      "metadata": {
        "id": "eek-luSMoCDD"
      },
      "source": [
        "#PROBLEM4- Pair Sum"
      ]
    },
    {
      "cell_type": "markdown",
      "metadata": {
        "id": "OLH8P7A7oK3e"
      },
      "source": [
        "You have been given an integer array/list(ARR) and a number X. Find and return the total number of pairs in the array/list which sum to X.\r\n",
        "\r\n",
        "Note:\r\n",
        "\r\n",
        "Given array/list can contain duplicate elements. \r\n",
        "\r\n",
        "Input format :\r\n",
        "\r\n",
        "The first line contains an Integer 't' which denotes the number of test cases or queries to be run. Then the test cases follow.\r\n",
        "\r\n",
        "First line of each test case or query contains an integer 'N' representing the size of the first array/list.\r\n",
        "\r\n",
        "Second line contains 'N' single space separated integers representing the elements in the array/list.\r\n",
        "\r\n",
        "Third line contains an integer 'X'.\r\n",
        "\r\n",
        "Output format :\r\n",
        "\r\n",
        "For each test case, print the total number of pairs present in the array/list.\r\n",
        "\r\n",
        "Output for every test case will be printed in a separate line."
      ]
    },
    {
      "cell_type": "markdown",
      "metadata": {
        "id": "6borbkKIoRbX"
      },
      "source": [
        "Constraints :\r\n",
        "* 1 <= t <= 10^2\r\n",
        "* 0 <= N <= 10^3\r\n",
        "* 0 <= X <= 10^9\r\n",
        "* Time Limit: 1 sec"
      ]
    },
    {
      "cell_type": "markdown",
      "metadata": {
        "id": "N3OSIXJGoWqC"
      },
      "source": [
        "Sample Input 1:\r\n",
        "\r\n",
        "1\r\n",
        "\r\n",
        "9\r\n",
        "\r\n",
        "1 3 6 2 5 4 3 2 4\r\n",
        "\r\n",
        "7\r\n",
        "\r\n",
        "Sample Output 1:\r\n",
        "\r\n",
        "7\r\n",
        "\r\n",
        "Sample Input 2:\r\n",
        "\r\n",
        "2\r\n",
        "\r\n",
        "9\r\n",
        "\r\n",
        "1 3 6 2 5 4 3 2 4\r\n",
        "\r\n",
        "12\r\n",
        "\r\n",
        "6\r\n",
        "\r\n",
        "2 8 10 5 -2 5\r\n",
        "\r\n",
        "10\r\n",
        "\r\n",
        "Sample Output 2:\r\n",
        "\r\n",
        "0\r\n",
        "\r\n",
        "2\r\n",
        "\r\n",
        "\r\n",
        "\r\n",
        "Explanation for Input 2:\r\n",
        "\r\n",
        "Since there doesn't exist any pair with sum equal to 12 for the first query, we print 0.\r\n",
        "\r\n",
        "For the second query, we have 2 pairs in total that sum up to 10. They are, (2, 8) and (5, 5)."
      ]
    },
    {
      "cell_type": "code",
      "metadata": {
        "id": "TQGkCzEVoIm3"
      },
      "source": [
        "\r\n",
        "from sys import stdin\r\n",
        "\r\n",
        "\r\n",
        "def pairSum(arr, n, x) :\r\n",
        "    #Your code goes here\r\n",
        "\r\n",
        "\r\n",
        "\r\n",
        "\r\n",
        "\r\n",
        "\r\n",
        "\r\n",
        "\r\n",
        "\r\n",
        "\r\n",
        "\r\n",
        "\r\n",
        "\r\n",
        "\r\n",
        "\r\n",
        "\r\n",
        "\r\n",
        "\r\n",
        "\r\n",
        "\r\n",
        "\r\n",
        "\r\n",
        "\r\n",
        "\r\n",
        "\r\n",
        "#Taking Input Using Fast I/O\r\n",
        "def takeInput() :\r\n",
        "    n = int(stdin.readline().strip())\r\n",
        "    if n == 0 :\r\n",
        "        return list(), 0\r\n",
        "\r\n",
        "    arr = list(map(int, stdin.readline().strip().split(\" \")))\r\n",
        "    return arr, n\r\n",
        "\r\n",
        "\r\n",
        "#main\r\n",
        "t = int(stdin.readline().strip())\r\n",
        "\r\n",
        "while t > 0 :\r\n",
        "    \r\n",
        "    arr, n = takeInput()\r\n",
        "    x = int(stdin.readline().strip())\r\n",
        "    print(pairSum(arr, n, x))\r\n",
        "\r\n",
        "    t -= 1"
      ],
      "execution_count": null,
      "outputs": []
    },
    {
      "cell_type": "markdown",
      "metadata": {
        "id": "tzib9eEDoicS"
      },
      "source": [
        "#PROBLEM6- Triplet Sum"
      ]
    },
    {
      "cell_type": "markdown",
      "metadata": {
        "id": "u4kOelRooqb_"
      },
      "source": [
        "You have been given a random integer array/list(ARR) and a number X. Find and return the number of triplets in the array/list which sum to X.\r\n",
        "\r\n",
        "Note :\r\n",
        "\r\n",
        "Given array/list can contain duplicate elements.\r\n",
        "\r\n",
        "Input format :\r\n",
        "\r\n",
        "The first line contains an Integer 't' which denotes the number of test cases or queries to be run. Then the test cases follow.\r\n",
        "\r\n",
        "First line of each test case or query contains an integer 'N' representing the size of the first array/list.\r\n",
        "\r\n",
        "Second line contains 'N' single space separated integers representing the elements in the array/list.\r\n",
        "\r\n",
        "Third line contains an integer 'X'.\r\n",
        "\r\n",
        "Output format :\r\n",
        "\r\n",
        "For each test case, print the total number of triplets present in the array/list.\r\n",
        "\r\n",
        "Output for every test case will be printed in a separate line."
      ]
    },
    {
      "cell_type": "markdown",
      "metadata": {
        "id": "_i1-vFIXoxK0"
      },
      "source": [
        "Constraints :\r\n",
        "\r\n",
        "1 <= t <= 50\r\n",
        "\r\n",
        "0 <= N <= 10^2\r\n",
        "\r\n",
        "0 <= X <= 10^9\r\n",
        "\r\n",
        "Time Limit: 1 sec"
      ]
    },
    {
      "cell_type": "markdown",
      "metadata": {
        "id": "C6sfLUmroxDc"
      },
      "source": [
        "Sample Input 1:\r\n",
        "\r\n",
        "1\r\n",
        "\r\n",
        "7\r\n",
        "\r\n",
        "1 2 3 4 5 6 7 \r\n",
        "\r\n",
        "12\r\n",
        "\r\n",
        "Sample Output 1:\r\n",
        "\r\n",
        "5\r\n",
        "\r\n",
        "Sample Input 2:\r\n",
        "\r\n",
        "2\r\n",
        "\r\n",
        "7\r\n",
        "\r\n",
        "1 2 3 4 5 6 7 \r\n",
        "\r\n",
        "19\r\n",
        "\r\n",
        "9\r\n",
        "\r\n",
        "2 -5 8 -6 0 5 10 11 -3\r\n",
        "\r\n",
        "10\r\n",
        "\r\n",
        "Sample Output 2:\r\n",
        "\r\n",
        "0\r\n",
        "\r\n",
        "5\r\n",
        "\r\n",
        "Explanation for Input 2:\r\n",
        "\r\n",
        "Since there doesn't exist any triplet with sum equal to 19 for the first query, we print 0.\r\n",
        "\r\n",
        "For the second query, we have 5 triplets in total that sum up to 10. They are, (2, 8, 0), (2, 11, -3), (-5, 5, 10), (8, 5, -3) and (-6, 5, 11)"
      ]
    },
    {
      "cell_type": "code",
      "metadata": {
        "id": "924zm37hop--"
      },
      "source": [
        "\r\n",
        "from sys import stdin\r\n",
        "\r\n",
        "def findTriplet(arr, n, x) :\r\n",
        "    #Your code goes here\r\n",
        "    #return your answer\r\n",
        "\r\n",
        "\r\n",
        "\r\n",
        "\r\n",
        "\r\n",
        "\r\n",
        "\r\n",
        "\r\n",
        "\r\n",
        "\r\n",
        "\r\n",
        "\r\n",
        "\r\n",
        "\r\n",
        "\r\n",
        "\r\n",
        "\r\n",
        "\r\n",
        "\r\n",
        "\r\n",
        "\r\n",
        "#Taking Input Using Fast I/O\r\n",
        "def takeInput() :\r\n",
        "    n = int(stdin.readline().strip())\r\n",
        "\r\n",
        "    if n == 0 :\r\n",
        "        return list(), 0\r\n",
        "\r\n",
        "    arr = list(map(int, stdin.readline().strip().split(\" \")))\r\n",
        "    return arr, n\r\n",
        "\r\n",
        "\r\n",
        "\r\n",
        "#main\r\n",
        "t = int(stdin.readline().strip())\r\n",
        "\r\n",
        "while t > 0 :\r\n",
        "\r\n",
        "    arr, n = takeInput()\r\n",
        "    x = int(stdin.readline().strip())\r\n",
        "    print(findTriplet(arr, n, x))\r\n",
        "    t -= 1"
      ],
      "execution_count": null,
      "outputs": []
    },
    {
      "cell_type": "markdown",
      "metadata": {
        "id": "Mw6ndurdo886"
      },
      "source": [
        "#PROBLEM7- Sort 0 1"
      ]
    },
    {
      "cell_type": "markdown",
      "metadata": {
        "id": "uTY_j7GFpFti"
      },
      "source": [
        "You have been given an integer array/list(ARR) of size N that contains only integers, 0 and 1. Write a function to sort this array/list. Think of a solution which scans the array/list only once and don't require use of an extra array/list.\r\n",
        "\r\n",
        "Note:\r\n",
        "\r\n",
        "You need to change in the given array/list itself. Hence, no need to return or print anything. \r\n",
        "\r\n",
        "Input format :\r\n",
        "\r\n",
        "The first line contains an Integer 't' which denotes the number of test cases or queries to be run. Then the test cases follow.\r\n",
        "\r\n",
        "First line of each test case or query contains an integer 'N' representing the size of the array/list.\r\n",
        "\r\n",
        "Second line contains 'N' single space separated integers(all 0s and 1s) representing the elements in the array/list.\r\n",
        "\r\n",
        "Output format :\r\n",
        "\r\n",
        "For each test case, print the sorted array/list elements in a row separated by a single space.\r\n",
        "\r\n",
        "Output for every test case will be printed in a separate line."
      ]
    },
    {
      "cell_type": "markdown",
      "metadata": {
        "id": "LhcIS1TLpKh7"
      },
      "source": [
        "Constraints :\r\n",
        "\r\n",
        "1 <= t <= 10^2\r\n",
        "\r\n",
        "0 <= N <= 10^5\r\n",
        "\r\n",
        "Time Limit: 1 sec\r\n",
        "\r\n",
        "Sample Input 1:\r\n",
        "\r\n",
        "1\r\n",
        "\r\n",
        "7\r\n",
        "\r\n",
        "0 1 1 0 1 0 1\r\n",
        "\r\n",
        "Sample Output 1:\r\n",
        "\r\n",
        "0 0 0 1 1 1 1\r\n",
        "\r\n",
        "Sample Input 2:\r\n",
        "\r\n",
        "2\r\n",
        "\r\n",
        "8\r\n",
        "\r\n",
        "1 0 1 1 0 1 0 1\r\n",
        "\r\n",
        "5\r\n",
        "\r\n",
        "0 1 0 1 0\r\n",
        "\r\n",
        "Sample Output 2:\r\n",
        "\r\n",
        "0 0 0 1 1 1 1 1\r\n",
        "\r\n",
        "0 0 0 1 1 "
      ]
    },
    {
      "cell_type": "code",
      "metadata": {
        "id": "x9x5vuBapDcE"
      },
      "source": [
        "from sys import stdin\r\n",
        "\r\n",
        "def sortZeroesAndOne(arr, n) :\r\n",
        "    #Your code goes here \r\n",
        "\r\n",
        "\r\n",
        "\r\n",
        "\r\n",
        "\r\n",
        "\r\n",
        "\r\n",
        "\r\n",
        "\r\n",
        "\r\n",
        "\r\n",
        "\r\n",
        "\r\n",
        "\r\n",
        "\r\n",
        "\r\n",
        "\r\n",
        "\r\n",
        "\r\n",
        "\r\n",
        "\r\n",
        "\r\n",
        "\r\n",
        "\r\n",
        "\r\n",
        "#Taking Input Using Fast I/O\r\n",
        "def takeInput() :\r\n",
        "    n = int(stdin.readline().strip())\r\n",
        "\r\n",
        "    if n == 0 :\r\n",
        "        return list(), 0\r\n",
        "\r\n",
        "    \r\n",
        "    arr = list(map(int, stdin.readline().strip().split(\" \")))\r\n",
        "    return arr, n\r\n",
        "\r\n",
        "\r\n",
        "def printList(arr, n) :\r\n",
        "    for i in range(n) :\r\n",
        "        print(arr[i], end = ' ')\r\n",
        "    print()\r\n",
        "\r\n",
        "\r\n",
        "#main\r\n",
        "t = int(stdin.readline().strip())\r\n",
        "\r\n",
        "while t > 0 :\r\n",
        "    \r\n",
        "    arr, n = takeInput()\r\n",
        "    sortZeroesAndOne(arr, n)\r\n",
        "    printList(arr, n)\r\n",
        "    print()\r\n",
        "\r\n",
        "    t -= 1"
      ],
      "execution_count": null,
      "outputs": []
    }
  ]
}