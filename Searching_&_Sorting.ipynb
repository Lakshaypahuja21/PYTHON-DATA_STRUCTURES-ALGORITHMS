{
  "nbformat": 4,
  "nbformat_minor": 0,
  "metadata": {
    "colab": {
      "name": "Searching & Sorting",
      "provenance": [],
      "authorship_tag": "ABX9TyN8EtG9c63gMHC0cPyULOKN"
    },
    "kernelspec": {
      "name": "python3",
      "display_name": "Python 3"
    }
  },
  "cells": [
    {
      "cell_type": "markdown",
      "metadata": {
        "id": "rGvSgXaSuKUm"
      },
      "source": [
        "#Binary Search "
      ]
    },
    {
      "cell_type": "markdown",
      "metadata": {
        "id": "PSdHIaC5uOYj"
      },
      "source": [
        "works on sorted array/list"
      ]
    },
    {
      "cell_type": "markdown",
      "metadata": {
        "id": "VFTz0vDmRSI7"
      },
      "source": [
        "You have been given a sorted(in ascending order) integer array/list(ARR) of size N and an element X. Write a function to search this element in the given input array/list using 'Binary Search'. Return the index of the element in the input array/list. In case the element is not present in the array/list, then return -1.\r\n",
        "\r\n",
        "Input format :\r\n",
        "\r\n",
        "The first line contains an Integer 'N' which denotes the size of the array/list.\r\n",
        "\r\n",
        "Second line contains 'N' single space separated integers representing the elements in the array/list.\r\n",
        "\r\n",
        "Third line contains an Integer 't' which denotes the number of test cases or queries to be run. Then the test cases follow..\r\n",
        "\r\n",
        "All the 't' lines henceforth, will take the value of X to be searched for in the array/list.\r\n",
        "\r\n",
        "Output Format :\r\n",
        "\r\n",
        "For each test case, print the index at which X is present, -1 otherwise.\r\n",
        "\r\n",
        "Output for every test case will be printed in a separate line."
      ]
    },
    {
      "cell_type": "markdown",
      "metadata": {
        "id": "tzolvjtbRcRy"
      },
      "source": [
        "Constraints :\r\n",
        "\r\n",
        "* 1 <= t <= 10^4\r\n",
        "* 0 <= N <= 10^6\r\n",
        "* 0 <= X <= 10^9\r\n",
        "* Time Limit: 1 sec\r\n",
        "\r\n",
        "Sample Input 1:\r\n",
        "\r\n",
        "* 7\r\n",
        "* 1 3 7 9 11 12 45\r\n",
        "* 1\r\n",
        "* 3\r\n",
        "\r\n",
        "Sample Output 1:\r\n",
        "\r\n",
        "* 1\r\n",
        "\r\n",
        "Sample Input 2:\r\n",
        "\r\n",
        "* 7\r\n",
        "* 1 2 3 4 5 6 7\r\n",
        "* 2\r\n",
        "* 9\r\n",
        "* 7\r\n",
        "\r\n",
        "Sample Output 2:\r\n",
        "\r\n",
        "* -1\r\n",
        "* 6"
      ]
    },
    {
      "cell_type": "code",
      "metadata": {
        "colab": {
          "base_uri": "https://localhost:8080/"
        },
        "id": "CNFw5cDWH6w0",
        "outputId": "c2d0ae73-806b-475e-cb65-a6ad20937349"
      },
      "source": [
        "\r\n",
        "from sys import stdin\r\n",
        "\r\n",
        "\r\n",
        "def binarySearch(arr, n, element) :\r\n",
        "    #Your code goes here\r\n",
        "  start = 0\r\n",
        "  end = len(arr)-1\r\n",
        "  while(start<=end):\r\n",
        "    mid = (start+end)//2\r\n",
        "    if (arr[mid] == element):\r\n",
        "      return mid\r\n",
        "    elif (arr[mid]<element):\r\n",
        "      start = mid + 1\r\n",
        "    else:\r\n",
        "      end = mid-1\r\n",
        "  return -1\r\n",
        "#Taking Input Using Fast I/O\r\n",
        "def takeInput() :\r\n",
        "    n = int(input())\r\n",
        "    \r\n",
        "    if n == 0 :\r\n",
        "        return list(), 0\r\n",
        "\r\n",
        "    arr = list(map(int, input().strip().split(\" \")))\r\n",
        "    return arr, n\r\n",
        "\r\n",
        "\r\n",
        "#main\r\n",
        "arr, n = takeInput()\r\n",
        "t = int(input())\r\n",
        "\r\n",
        "while t > 0 :\r\n",
        "    \r\n",
        "    element = int(input().strip())    \r\n",
        "    print(binarySearch(arr, n, element))\r\n",
        "\r\n",
        "    t -= 1"
      ],
      "execution_count": null,
      "outputs": [
        {
          "output_type": "stream",
          "text": [
            "7\n",
            "1 2 3 4 5 6 7\n",
            "2\n",
            "9\n",
            "-1\n",
            "7\n",
            "6\n"
          ],
          "name": "stdout"
        }
      ]
    },
    {
      "cell_type": "markdown",
      "metadata": {
        "id": "a4ePS8UBIsg_"
      },
      "source": [
        "main algo"
      ]
    },
    {
      "cell_type": "code",
      "metadata": {
        "colab": {
          "base_uri": "https://localhost:8080/"
        },
        "id": "WvsIC_zFsg53",
        "outputId": "6d84fb9f-252b-4dfd-e5ed-8708096d1d66"
      },
      "source": [
        "def binarysearch(arr,element):\r\n",
        "  start = 0\r\n",
        "  end = len(arr)-1\r\n",
        "  while(start<=end):\r\n",
        "    mid = (start+end)//2\r\n",
        "    if (arr[mid] == element):\r\n",
        "      return mid\r\n",
        "    elif (arr[mid]<element):\r\n",
        "      start = mid + 1\r\n",
        "    else:\r\n",
        "      end = mid-1\r\n",
        "  return -1\r\n",
        "arr = [1,23,34,43,56,64,76,86,94]\r\n",
        "index = binarysearch(arr,99)\r\n",
        "print(index)\r\n"
      ],
      "execution_count": null,
      "outputs": [
        {
          "output_type": "stream",
          "text": [
            "-1\n"
          ],
          "name": "stdout"
        }
      ]
    },
    {
      "cell_type": "markdown",
      "metadata": {
        "id": "CV_PfA-LZ9eZ"
      },
      "source": [
        "#Selection Sort"
      ]
    },
    {
      "cell_type": "markdown",
      "metadata": {
        "id": "tdLOu1wDZ_4u"
      },
      "source": [
        "n-1 rounds"
      ]
    },
    {
      "cell_type": "code",
      "metadata": {
        "colab": {
          "base_uri": "https://localhost:8080/"
        },
        "id": "WUjzZ7iQW4AI",
        "outputId": "46bf3974-012e-4193-f1df-dfcee5686f06"
      },
      "source": [
        "def SelectionSort(arr):\r\n",
        "  length = len(arr)\r\n",
        "  for i in range(length - 1):\r\n",
        "    minIndex = i\r\n",
        "    for j in range(i+1,length):\r\n",
        "      if(arr[j]<arr[minIndex]):\r\n",
        "        minIndex = j\r\n",
        "    arr[i],arr[minIndex] = arr[minIndex],arr[i]\r\n",
        "arr = [11,3,44,36,56,5,16,4]\r\n",
        "SelectionSort(arr)\r\n",
        "print(arr)"
      ],
      "execution_count": null,
      "outputs": [
        {
          "output_type": "stream",
          "text": [
            "[3, 4, 5, 11, 16, 36, 44, 56]\n"
          ],
          "name": "stdout"
        }
      ]
    },
    {
      "cell_type": "markdown",
      "metadata": {
        "id": "YQqTYv3mdoQY"
      },
      "source": [
        "#Bubble Sort"
      ]
    },
    {
      "cell_type": "markdown",
      "metadata": {
        "id": "iYtsOMClQb9E"
      },
      "source": [
        "Provided with a random integer array/list(ARR) of size N, you have been required to sort this array using 'Bubble Sort'.\r\n",
        "\r\n",
        "Note:\r\n",
        "\r\n",
        "Change in the input array/list itself. You don't need to return or print the elements.\r\n",
        "\r\n",
        "Input format :\r\n",
        "\r\n",
        "The first line contains an Integer 't' which denotes the number of test cases or queries to be run. Then the test cases follow.\r\n",
        "\r\n",
        "First line of each test case or query contains an integer 'N' representing the size of the array/list.\r\n",
        "\r\n",
        "Second line contains 'N' single space separated integers representing the elements in the array/list.\r\n",
        "\r\n",
        "Output format :\r\n",
        "\r\n",
        "For each test case, print the elements of the array/list in sorted order separated by a single space.\r\n",
        "\r\n",
        "Output for every test case will be printed in a separate line."
      ]
    },
    {
      "cell_type": "markdown",
      "metadata": {
        "id": "v6sqQDjBQhR6"
      },
      "source": [
        "Constraints :\r\n",
        "\r\n",
        "* 1 <= t <= 10^2\r\n",
        "* 0 <= N <= 10^3\r\n",
        "* Time Limit: 1 sec"
      ]
    },
    {
      "cell_type": "markdown",
      "metadata": {
        "id": "mONhGGm-QmNN"
      },
      "source": [
        "Sample Input 1:\r\n",
        "\r\n",
        "* 1\r\n",
        "* 7\r\n",
        "* 2 13 4 1 3 6 28\r\n",
        "\r\n",
        "Sample Output 1:\r\n",
        "\r\n",
        "* 1 2 3 4 6 13 28\r\n",
        "\r\n",
        "Sample Input 2:\r\n",
        "\r\n",
        "* 2\r\n",
        "* 5\r\n",
        "* 9 3 6 2 0\r\n",
        "* 4\r\n",
        "* 4 3 2 1\r\n",
        "\r\n",
        "Sample Output 2:\r\n",
        "\r\n",
        "* 0 2 3 6 9\r\n",
        "* 1 2 3 4"
      ]
    },
    {
      "cell_type": "markdown",
      "metadata": {
        "id": "1AFun7FgsZ7b"
      },
      "source": [
        "n-1 rounds"
      ]
    },
    {
      "cell_type": "code",
      "metadata": {
        "colab": {
          "base_uri": "https://localhost:8080/"
        },
        "id": "hUUeLwU8QxJB",
        "outputId": "47442c16-a441-4b58-9ba8-6bea8ef4f11e"
      },
      "source": [
        "from sys import stdin\r\n",
        "\r\n",
        "def bubbleSort(arr, n) :\r\n",
        "    #Your code goes here\r\n",
        "    length = len(arr)\r\n",
        "    for i in range(length - 1):\r\n",
        "      for j in range(length-1-i):\r\n",
        "        if(arr[j]>arr[j+1]):\r\n",
        "          arr[j],arr[j+1] = arr[j+1],arr[j]\r\n",
        "#Taking Input Using Fast I/O\r\n",
        "def takeInput() :\r\n",
        "    n = int(input())\r\n",
        "    if n == 0 :\r\n",
        "        return list(), 0\r\n",
        "\r\n",
        "    arr = list(map(int, input().strip().split(\" \")))\r\n",
        "    return arr, n\r\n",
        "\r\n",
        "\r\n",
        "#to print the array/list\r\n",
        "def printList(arr, n) : \r\n",
        "    for i in range(n) :\r\n",
        "        print(arr[i], end = \" \")\r\n",
        "    print()\r\n",
        "\r\n",
        "\r\n",
        "#main\r\n",
        "t = int(input())\r\n",
        "\r\n",
        "while t > 0 :\r\n",
        "    \r\n",
        "    arr, n = takeInput()\r\n",
        "    bubbleSort(arr, n)\r\n",
        "    printList(arr, n)\r\n",
        "\r\n",
        "    t-= 1"
      ],
      "execution_count": null,
      "outputs": [
        {
          "output_type": "stream",
          "text": [
            "1\n",
            "7\n",
            "12 4 54 75 11 55 98\n",
            "4 11 12 54 55 75 98 \n"
          ],
          "name": "stdout"
        }
      ]
    },
    {
      "cell_type": "markdown",
      "metadata": {
        "id": "r0CVw3TQQv_E"
      },
      "source": [
        "algo"
      ]
    },
    {
      "cell_type": "code",
      "metadata": {
        "id": "hVLdRsCjb1Bl",
        "colab": {
          "base_uri": "https://localhost:8080/"
        },
        "outputId": "a8527cc0-951d-4604-a90e-e28e00a76419"
      },
      "source": [
        "def BubbleSort(arr):\r\n",
        "  length = len(arr)\r\n",
        "  for i in range(length - 1):\r\n",
        "    for j in range(length-1-i):\r\n",
        "      if(arr[j]>arr[j+1]):\r\n",
        "        arr[j],arr[j+1] = arr[j+1],arr[j]\r\n",
        "arr = [11,3,44,36,56,5,16,4]\r\n",
        "BubbleSort(arr)\r\n",
        "print(arr)"
      ],
      "execution_count": null,
      "outputs": [
        {
          "output_type": "stream",
          "text": [
            "[3, 4, 5, 11, 16, 36, 44, 56]\n"
          ],
          "name": "stdout"
        }
      ]
    },
    {
      "cell_type": "markdown",
      "metadata": {
        "id": "Tn8mud4rElKC"
      },
      "source": [
        "#Insertion Sort"
      ]
    },
    {
      "cell_type": "markdown",
      "metadata": {
        "id": "Q4llkPTJRXr_"
      },
      "source": [
        "Provided with a random integer array/list(ARR) of size N, you have been required to sort this array using 'Insertion Sort'.\r\n",
        "\r\n",
        "Note:\r\n",
        "\r\n",
        "Change in the input array/list itself. You don't need to return or print the elements.\r\n",
        "\r\n",
        "Input format :\r\n",
        "\r\n",
        "The first line contains an Integer 't' which denotes the number of test cases or queries to be run. Then the test cases follow.\r\n",
        "\r\n",
        "First line of each test case or query contains an integer 'N' representing the size of the array/list.\r\n",
        "\r\n",
        "Second line contains 'N' single space separated integers representing the elements in the array/list.\r\n",
        "\r\n",
        "Output Format :\r\n",
        "\r\n",
        "For each test case, print the elements of the array/list in sorted order separated by a single space.\r\n",
        "\r\n",
        "Output for every test case will be printed in a separate line."
      ]
    },
    {
      "cell_type": "markdown",
      "metadata": {
        "id": "TwBhxKPdRcs9"
      },
      "source": [
        "Constraints :\r\n",
        "\r\n",
        "* 1 <= t <= 10^2\r\n",
        "* 0 <= N <= 10^3\r\n",
        "* Time Limit: 1 sec"
      ]
    },
    {
      "cell_type": "markdown",
      "metadata": {
        "id": "gSp-Uy0LRg86"
      },
      "source": [
        "Sample Input 1:\r\n",
        "\r\n",
        "* 1\r\n",
        "* 7\r\n",
        "* 2 13 4 1 3 6 28\r\n",
        "\r\n",
        "Sample Output 1:\r\n",
        "\r\n",
        "* 1 2 3 4 6 13 28\r\n",
        "\r\n",
        "Sample Input 2:\r\n",
        "\r\n",
        "* 2\r\n",
        "* 5\r\n",
        "* 9 3 6 2 0\r\n",
        "* 4\r\n",
        "* 4 3 2 1\r\n",
        "\r\n",
        "Sample Output 2:\r\n",
        "\r\n",
        "* 0 2 3 6 9\r\n",
        "* 1 2 3 4 "
      ]
    },
    {
      "cell_type": "code",
      "metadata": {
        "colab": {
          "base_uri": "https://localhost:8080/"
        },
        "id": "x0G6P3bVRqKa",
        "outputId": "d393f74e-5a8d-42cb-80b7-4717eda7fc74"
      },
      "source": [
        "from sys import stdin\r\n",
        "\r\n",
        "def insertionSort(arr, n) :  \r\n",
        "    #Your code goes here\r\n",
        "    length = len(arr)\r\n",
        "    for i in range(1,length):\r\n",
        "      j = i-1\r\n",
        "      temp = arr[i]\r\n",
        "      while(j>=0 and arr[j]>temp):\r\n",
        "        arr[j+1] = arr[j]\r\n",
        "        j = j-1\r\n",
        "        arr[j+1] = temp\r\n",
        "\r\n",
        "#Taking Input Using Fast I/O\r\n",
        "def takeInput() :\r\n",
        "    n = int(input())\r\n",
        "    if n == 0 :\r\n",
        "        return list(), 0\r\n",
        "\r\n",
        "    arr = list(map(int, input().strip().split(\" \")))\r\n",
        "    return arr, n\r\n",
        "\r\n",
        "\r\n",
        "#to print the array/list\r\n",
        "def printList(arr, n) : \r\n",
        "    for i in range(n) :\r\n",
        "        print(arr[i], end = \" \")\r\n",
        "        \r\n",
        "    print()\r\n",
        "\r\n",
        "\r\n",
        "#main\r\n",
        "t = int(input())\r\n",
        "\r\n",
        "while t > 0 :\r\n",
        "    \r\n",
        "    arr, n = takeInput()\r\n",
        "    insertionSort(arr, n)\r\n",
        "    printList(arr, n)\r\n",
        "\r\n",
        "    t-= 1"
      ],
      "execution_count": null,
      "outputs": [
        {
          "output_type": "stream",
          "text": [
            "1\n",
            "7\n",
            "12 45 78 98 65 32 01\n",
            "1 12 32 45 65 78 98 \n"
          ],
          "name": "stdout"
        }
      ]
    },
    {
      "cell_type": "markdown",
      "metadata": {
        "id": "_e4kjtisRuQH"
      },
      "source": [
        "algo"
      ]
    },
    {
      "cell_type": "code",
      "metadata": {
        "colab": {
          "base_uri": "https://localhost:8080/"
        },
        "id": "EeW_KrLaswu_",
        "outputId": "2062fe1f-6541-4961-f124-95214fa320ce"
      },
      "source": [
        "def InsertionSort(arr):\r\n",
        "  length = len(arr)\r\n",
        "  for i in range(1,length):\r\n",
        "    j = i-1\r\n",
        "    temp = arr[i]\r\n",
        "    while(j>=0 and arr[j]>temp):\r\n",
        "      arr[j+1] = arr[j]\r\n",
        "      j = j-1\r\n",
        "      arr[j+1] = temp\r\n",
        "arr = [11,3,44,36,56,5,16,4]\r\n",
        "InsertionSort(arr)\r\n",
        "print(arr)"
      ],
      "execution_count": null,
      "outputs": [
        {
          "output_type": "stream",
          "text": [
            "[3, 4, 5, 11, 16, 36, 44, 56]\n"
          ],
          "name": "stdout"
        }
      ]
    },
    {
      "cell_type": "markdown",
      "metadata": {
        "id": "oZ8shHObSRt6"
      },
      "source": [
        "#Code Merge Two Sorted Arrays"
      ]
    },
    {
      "cell_type": "markdown",
      "metadata": {
        "id": "mi9u6I3ZSUjs"
      },
      "source": [
        "You have been given two sorted arrays/lists(ARR1 and ARR2) of size N and M respectively, merge them into a third array/list such that the third array is also sorted.\r\n",
        "\r\n",
        "Input Format :\r\n",
        "\r\n",
        "The first line contains an Integer 't' which denotes the number of test cases or queries to be run. Then the test cases follow.\r\n",
        "\r\n",
        "First line of each test case or query contains an integer 'N' representing the size of the first array/list.\r\n",
        "\r\n",
        "Second line contains 'N' single space separated integers representing the elements of the first array/list.\r\n",
        "\r\n",
        "Third line contains an integer 'M' representing the size of the second array/list.\r\n",
        "\r\n",
        "Fourth line contains 'M' single space separated integers representing the elements of the second array/list.\r\n",
        "\r\n",
        "Output Format :\r\n",
        "\r\n",
        "For each test case, print the sorted array/list(of size N + M) in a single row, separated by a single space.\r\n",
        "\r\n",
        "Output for every test case will be printed in a separate line."
      ]
    },
    {
      "cell_type": "markdown",
      "metadata": {
        "id": "OmycIA6_SZPL"
      },
      "source": [
        "Constraints :\r\n",
        "\r\n",
        "* 1 <= t <= 10^2\r\n",
        "* 0 <= N <= 10^5\r\n",
        "* 0 <= M <= 10^5\r\n",
        "* Time Limit: 1 sec "
      ]
    },
    {
      "cell_type": "markdown",
      "metadata": {
        "id": "KoyNiimtSe-m"
      },
      "source": [
        "Sample Input 1 :\r\n",
        "* 1\r\n",
        "* 5\r\n",
        "* 1 3 4 7 11\r\n",
        "* 4\r\n",
        "* 2 4 6 13\r\n",
        "\r\n",
        "Sample Output 1 :\r\n",
        "* 1 2 3 4 4 6 7 11 13 \r\n",
        "\r\n",
        "Sample Input 2 :\r\n",
        "* 2\r\n",
        "* 3\r\n",
        "* 10 100 500\r\n",
        "* 7\r\n",
        "* 4 7 9 25 30 300 450\r\n",
        "* 4\r\n",
        "* 7 45 89 90\r\n",
        "* 0\r\n",
        "\r\n",
        "Sample Output 2 :\r\n",
        "* 4 7 9 10 25 30 100 300 450 500\r\n",
        "* 7 45 89 90"
      ]
    },
    {
      "cell_type": "code",
      "metadata": {
        "id": "5_DVnMZCJoAo",
        "colab": {
          "base_uri": "https://localhost:8080/"
        },
        "outputId": "b2fe0a1c-920e-4bcd-c44f-494f0fe85c0c"
      },
      "source": [
        "from sys import stdin\r\n",
        "\r\n",
        "def merge(arr1, n, arr2, m) : \r\n",
        "    #Your code goes here\r\n",
        "    i = 0\r\n",
        "    j = 0\r\n",
        "    length1 = len(arr1)\r\n",
        "    length2 = len(arr2)\r\n",
        "    arr = []\r\n",
        "    while ((i<length1) and (j<length2)):\r\n",
        "      if (arr1[i]<arr2[j]):\r\n",
        "        arr.append(arr1[i])\r\n",
        "        i = i+1\r\n",
        "      else:\r\n",
        "        arr.append(arr2[j])\r\n",
        "        j = j+1\r\n",
        "    while (i<length1):\r\n",
        "      arr.append(arr1[i])\r\n",
        "      i = i+1\r\n",
        "    while (j<length2):\r\n",
        "      arr.append(arr2[j])\r\n",
        "      j = j+1\r\n",
        "    return arr\r\n",
        "#Taking Input Using Fast I/O\r\n",
        "def takeInput() :\r\n",
        "    n = int(input())\r\n",
        "    if n != 0:\r\n",
        "        arr = list(map(int, input().rstrip().split(\" \")))\r\n",
        "        return arr, n\r\n",
        "\r\n",
        "    return list(), 0\r\n",
        "\r\n",
        "\r\n",
        "#to print the array/list\r\n",
        "def printList(arr, n) : \r\n",
        "    for i in range(n) :\r\n",
        "        print(arr[i], end = \" \")\r\n",
        "        \r\n",
        "    print()\r\n",
        "\r\n",
        "\r\n",
        "#main\r\n",
        "t = int(input())\r\n",
        "\r\n",
        "while t > 0 :\r\n",
        "\r\n",
        "    arr1, n = takeInput()\r\n",
        "    arr2, m = takeInput()\r\n",
        "\r\n",
        "    ans = merge(arr1, n, arr2, m)\r\n",
        "    printList(ans, (n + m))\r\n",
        "\r\n",
        "    t -= 1"
      ],
      "execution_count": 10,
      "outputs": [
        {
          "output_type": "stream",
          "text": [
            "1\n",
            "5\n",
            "1 3 4 7 11\n",
            "4\n",
            "2 4 6 13\n",
            "1 2 3 4 4 6 7 11 13 \n"
          ],
          "name": "stdout"
        }
      ]
    },
    {
      "cell_type": "markdown",
      "metadata": {
        "id": "GMOT-6pUSvsO"
      },
      "source": [
        "algo"
      ]
    },
    {
      "cell_type": "code",
      "metadata": {
        "id": "DBqTay7sSwVZ",
        "colab": {
          "base_uri": "https://localhost:8080/"
        },
        "outputId": "9cff8113-3cc8-4847-d15a-98185474f812"
      },
      "source": [
        "def MergeSortedArrays(arr1,arr2):\r\n",
        "  i = 0\r\n",
        "  j = 0\r\n",
        "  length1 = len(arr1)\r\n",
        "  length2 = len(arr2)\r\n",
        "  arr = []\r\n",
        "  while ((i<length1) and (j<length2)):\r\n",
        "    if (arr1[i]<arr2[j]):\r\n",
        "      arr.append(arr1[i])\r\n",
        "      i = i+1\r\n",
        "    else:\r\n",
        "      arr.append(arr2[j])\r\n",
        "      j = j+1\r\n",
        "  while (i<length1):\r\n",
        "    arr.append(arr1[i])\r\n",
        "    i = i+1\r\n",
        "  while (j<length2):\r\n",
        "    arr.append(arr2[j])\r\n",
        "    j = j+1\r\n",
        "  return arr\r\n",
        "\r\n",
        "arr1 = [1,2,4,11,44,55]\r\n",
        "arr2 = [6,8,11,23,66,77]\r\n",
        "arr = MergeSortedArrays(arr1,arr2)\r\n",
        "print(arr)"
      ],
      "execution_count": 9,
      "outputs": [
        {
          "output_type": "stream",
          "text": [
            "[1, 2, 4, 6, 8, 11, 11, 23, 44, 55, 66, 77]\n"
          ],
          "name": "stdout"
        }
      ]
    }
  ]
}