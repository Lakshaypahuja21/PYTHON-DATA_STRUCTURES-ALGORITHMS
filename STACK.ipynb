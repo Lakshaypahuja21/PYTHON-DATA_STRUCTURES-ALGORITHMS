{
  "nbformat": 4,
  "nbformat_minor": 0,
  "metadata": {
    "colab": {
      "name": "STACK",
      "provenance": [],
      "authorship_tag": "ABX9TyMo2C9fEZOXIDWDlNUoDNKj"
    },
    "kernelspec": {
      "name": "python3",
      "display_name": "Python 3"
    }
  },
  "cells": [
    {
      "cell_type": "markdown",
      "metadata": {
        "id": "sYe9w_doC6sr"
      },
      "source": [
        "A stack is a linear data structure that stores items in a Last-In/First-Out (LIFO) or First-In/Last-Out (FILO) manner. In stack, a new element is added at one end and an element is removed from that end only. The insert and delete operations are often called push and pop."
      ]
    },
    {
      "cell_type": "code",
      "metadata": {
        "id": "cN6TfW8BtyFh"
      },
      "source": [
        "class stack:\n",
        "  def __init__(self):            #empty stack created\n",
        "    self.arr = []               \n",
        "  def __len__(self):                #return number of elements\n",
        "    return len(self.arr)\n",
        "  "
      ],
      "execution_count": 2,
      "outputs": []
    },
    {
      "cell_type": "markdown",
      "metadata": {
        "id": "NAA7S5GwFH6s"
      },
      "source": [
        "## PUSH"
      ]
    },
    {
      "cell_type": "code",
      "metadata": {
        "id": "eOzdbmB9HtWW",
        "outputId": "f583efa8-6bb1-434d-e43e-be6ba12b9974",
        "colab": {
          "base_uri": "https://localhost:8080/"
        }
      },
      "source": [
        "class Stack:\n",
        "\n",
        "    def __init__(self):\n",
        "        self.stack = []\n",
        "\n",
        "    def add(self, dataval):\n",
        "# Use list append method to add element\n",
        "        if dataval not in self.stack:\n",
        "            self.stack.append(dataval)\n",
        "            return True\n",
        "        else:\n",
        "            return False\n",
        "# Use peek to look at the top of the stack\n",
        "\n",
        "    def peek(self):     \n",
        "\t    return self.stack[-1]\n",
        "\n",
        "AStack = Stack()\n",
        "AStack.add(\"Mon\")\n",
        "AStack.add(\"Tue\")\n",
        "AStack.peek()\n",
        "print(AStack.peek())\n",
        "AStack.add(\"Wed\")\n",
        "AStack.add(\"Thu\")\n",
        "print(AStack.peek())"
      ],
      "execution_count": 1,
      "outputs": [
        {
          "output_type": "stream",
          "text": [
            "Tue\n",
            "Thu\n"
          ],
          "name": "stdout"
        }
      ]
    },
    {
      "cell_type": "markdown",
      "metadata": {
        "id": "DfHyHBMFFKLj"
      },
      "source": [
        "## POP"
      ]
    },
    {
      "cell_type": "code",
      "metadata": {
        "id": "M5LmT3I0FFuL",
        "outputId": "c19b3212-5e45-429f-f2a1-ee151e33d90d",
        "colab": {
          "base_uri": "https://localhost:8080/"
        }
      },
      "source": [
        "class Stack:\n",
        "\n",
        "    def __init__(self):\n",
        "        self.stack = []\n",
        "\n",
        "    def add(self, dataval):\n",
        "# Use list append method to add element\n",
        "        if dataval not in self.stack:\n",
        "            self.stack.append(dataval)\n",
        "            return True\n",
        "        else:\n",
        "            return False\n",
        "        \n",
        "# Use list pop method to remove element\n",
        "    def remove(self):\n",
        "        if len(self.stack) <= 0:\n",
        "            return (\"No element in the Stack\")\n",
        "        else:\n",
        "            return self.stack.pop()\n",
        "\n",
        "AStack = Stack()\n",
        "AStack.add(\"Mon\")\n",
        "AStack.add(\"Tue\")\n",
        "AStack.add(\"Wed\")\n",
        "AStack.add(\"Thu\")\n",
        "print(AStack.remove())\n",
        "print(AStack.remove())"
      ],
      "execution_count": 2,
      "outputs": [
        {
          "output_type": "stream",
          "text": [
            "Thu\n",
            "Wed\n"
          ],
          "name": "stdout"
        }
      ]
    },
    {
      "cell_type": "markdown",
      "metadata": {
        "id": "bkOa6uZFDQEN"
      },
      "source": [
        "# STACK IMPLEMENTATION USING ARRAY"
      ]
    },
    {
      "cell_type": "code",
      "metadata": {
        "id": "E7XeqywyG8fj",
        "outputId": "57915ef8-4799-49d7-c9c1-81dce1a157e7",
        "colab": {
          "base_uri": "https://localhost:8080/"
        }
      },
      "source": [
        "stack = []\n",
        "stack.append('a')\n",
        "stack.append('b')\n",
        "stack.append('c')\n",
        "print('Initial stack')\n",
        "print(stack)\n",
        "print('\\nElements poped from stack:')\n",
        "print(stack.pop())\n",
        "print(stack.pop())\n",
        "print(stack.pop())\n",
        "print('\\nStack after elements are poped:')\n",
        "print(stack)"
      ],
      "execution_count": 4,
      "outputs": [
        {
          "output_type": "stream",
          "text": [
            "Initial stack\n",
            "['a', 'b', 'c']\n",
            "\n",
            "Elements poped from stack:\n",
            "c\n",
            "b\n",
            "a\n",
            "\n",
            "Stack after elements are poped:\n",
            "[]\n"
          ],
          "name": "stdout"
        }
      ]
    },
    {
      "cell_type": "markdown",
      "metadata": {
        "id": "k81uW7NUDUkZ"
      },
      "source": [
        "# STACK IMPLEMENTATION USING LINKED LIST"
      ]
    },
    {
      "cell_type": "code",
      "metadata": {
        "id": "_bo3LOSGDXyu",
        "outputId": "515b67dd-04e8-44ad-e02d-1a71b2028193",
        "colab": {
          "base_uri": "https://localhost:8080/"
        }
      },
      "source": [
        "class Node:\n",
        "   def __init__(self, value):\n",
        "      self.value = value\n",
        "      self.next = None\n",
        " \n",
        "class Stack:\n",
        "    \n",
        "   # Initializing a stack. \n",
        "   # Use a dummy node, which is \n",
        "   # easier for handling edge cases. \n",
        "   def __init__(self):\n",
        "      self.head = Node(\"head\")\n",
        "      self.size = 0\n",
        " \n",
        "   # String representation of the stack\n",
        "   def __str__(self):\n",
        "      cur = self.head.next\n",
        "      out = \"\"\n",
        "      while cur:\n",
        "         out += str(cur.value) + \"->\"\n",
        "         cur = cur.next\n",
        "      return out[:-3]   \n",
        " \n",
        "   # Get the current size of the stack\n",
        "   def getSize(self):\n",
        "      return self.size\n",
        "    \n",
        "   # Check if the stack is empty\n",
        "   def isEmpty(self):\n",
        "      return self.size == 0\n",
        "    \n",
        "   # Get the top item of the stack\n",
        "   def peek(self):\n",
        "       \n",
        "      # Sanitary check to see if we \n",
        "      # are peeking an empty stack. \n",
        "      if self.isEmpty():\n",
        "         raise Exception(\"Peeking from an empty stack\")\n",
        "      return self.head.next.value\n",
        " \n",
        "   # Push a value into the stack. \n",
        "   def push(self, value):\n",
        "      node = Node(value)\n",
        "      node.next = self.head.next\n",
        "      self.head.next = node\n",
        "      self.size += 1\n",
        "      \n",
        "   # Remove a value from the stack and return. \n",
        "   def pop(self):\n",
        "      if self.isEmpty():\n",
        "         raise Exception(\"Popping from an empty stack\")\n",
        "      remove = self.head.next\n",
        "      self.head.next = self.head.next.next\n",
        "      self.size -= 1\n",
        "      return remove.value\n",
        " \n",
        "# Driver Code\n",
        "if __name__ == \"__main__\":\n",
        "   stack = Stack()\n",
        "   for i in range(1, 11):\n",
        "      stack.push(i)\n",
        "   print(f\"Stack: {stack}\")\n",
        " \n",
        "   for _ in range(1, 6):\n",
        "      remove = stack.pop()\n",
        "      print(f\"Pop: {remove}\")\n",
        "   print(f\"Stack: {stack}\")"
      ],
      "execution_count": 1,
      "outputs": [
        {
          "output_type": "stream",
          "text": [
            "Stack: 10->9->8->7->6->5->4->3->2->\n",
            "Pop: 10\n",
            "Pop: 9\n",
            "Pop: 8\n",
            "Pop: 7\n",
            "Pop: 6\n",
            "Stack: 5->4->3->2->\n"
          ],
          "name": "stdout"
        }
      ]
    }
  ]
}